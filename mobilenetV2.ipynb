{
 "cells": [
  {
   "cell_type": "code",
   "execution_count": 1,
   "id": "efb15497-d7cb-47a2-9e71-8c50ce0773f5",
   "metadata": {},
   "outputs": [],
   "source": [
    "TRAIN_PATH = \"CovidDataset/Train\"\n",
    "VAL_PATH = \"CovidDataset/Val\"\n",
    "TEST_PATH = \"CovidDataset/test\""
   ]
  },
  {
   "cell_type": "code",
   "execution_count": 2,
   "id": "d513b993-c38f-4cf0-8d8c-c1070472e687",
   "metadata": {},
   "outputs": [],
   "source": [
    "import numpy as np\n",
    "import matplotlib.pyplot as plt\n",
    "import keras\n",
    "from keras.layers import *\n",
    "from keras.models import * \n",
    "from keras.preprocessing import image\n",
    "import tensorflow as tf\n",
    "from keras.callbacks import ModelCheckpoint,EarlyStopping, CSVLogger"
   ]
  },
  {
   "cell_type": "code",
   "execution_count": 3,
   "id": "6027daea-01e0-4fe2-b37d-e6aa26c91d5e",
   "metadata": {},
   "outputs": [],
   "source": [
    "from keras.metrics import *\n",
    "\n",
    "METRICS = [\n",
    "      TruePositives(name='tp'),\n",
    "      FalsePositives(name='fp'),\n",
    "      TrueNegatives(name='tn'),\n",
    "      FalseNegatives(name='fn'), \n",
    "      BinaryAccuracy(name='accuracy'),\n",
    "      Precision(name='precision'),\n",
    "      Recall(name='recall'),\n",
    "]"
   ]
  },
  {
   "cell_type": "code",
   "execution_count": 4,
   "id": "c881d071-5e07-4a1c-baf1-c358a68eb023",
   "metadata": {},
   "outputs": [],
   "source": [
    "# Train from scratch\n",
    "train_datagen = image.ImageDataGenerator(\n",
    "    rescale = 1./255,\n",
    "    rotation_range=45,\n",
    "    shear_range = 0.2,\n",
    "    zoom_range = 0.2,\n",
    "    horizontal_flip = True,\n",
    ")\n",
    "\n",
    "test_dataset = image.ImageDataGenerator(rescale=1./255)"
   ]
  },
  {
   "cell_type": "code",
   "execution_count": 5,
   "id": "d0842253-677b-4894-a7bf-9c23182aadf5",
   "metadata": {},
   "outputs": [
    {
     "name": "stdout",
     "output_type": "stream",
     "text": [
      "Found 8764 images belonging to 2 classes.\n"
     ]
    }
   ],
   "source": [
    "train_generator = train_datagen.flow_from_directory(\n",
    "    TRAIN_PATH,\n",
    "    target_size = (224,224),\n",
    "    batch_size = 32,\n",
    "    class_mode = 'binary')"
   ]
  },
  {
   "cell_type": "code",
   "execution_count": 6,
   "id": "b856d2e2-3363-42f0-be75-30d7655e94d1",
   "metadata": {},
   "outputs": [
    {
     "name": "stdout",
     "output_type": "stream",
     "text": [
      "Found 2150 images belonging to 2 classes.\n"
     ]
    }
   ],
   "source": [
    "validation_generator = test_dataset.flow_from_directory(\n",
    "    VAL_PATH,\n",
    "    target_size = (224,224),\n",
    "    batch_size = 32,\n",
    "    class_mode = 'binary')"
   ]
  },
  {
   "cell_type": "code",
   "execution_count": 7,
   "id": "e3497102",
   "metadata": {},
   "outputs": [
    {
     "name": "stdout",
     "output_type": "stream",
     "text": [
      "Found 800 images belonging to 2 classes.\n"
     ]
    }
   ],
   "source": [
    "test_generator = test_dataset.flow_from_directory(\n",
    "    TEST_PATH,\n",
    "    target_size = (224,224),\n",
    "    batch_size = 32,\n",
    "    class_mode = 'binary')"
   ]
  },
  {
   "cell_type": "code",
   "execution_count": 8,
   "id": "518ef958-b12f-464a-ba60-4a3f5413624c",
   "metadata": {},
   "outputs": [
    {
     "data": {
      "text/plain": [
       "{'Covid': 0, 'Negative': 1}"
      ]
     },
     "execution_count": 8,
     "metadata": {},
     "output_type": "execute_result"
    }
   ],
   "source": [
    "train_generator.class_indices"
   ]
  },
  {
   "cell_type": "code",
   "execution_count": 9,
   "id": "cd5d52c5-1691-449b-ab4d-a393fb2680c9",
   "metadata": {},
   "outputs": [],
   "source": [
    "import os\n",
    "from keras.callbacks import ModelCheckpoint,EarlyStopping, CSVLogger\n",
    "checkpoint_path = \"mobilenetV2checkpoints/cp-{epoch:04d}.ckpt\"\n",
    "checkpoint_dir = os.path.dirname(checkpoint_path)\n",
    "checkpoint = ModelCheckpoint(filepath=checkpoint_path, monitor='loss', verbose=1,save_weights_only=True,save_best_only=True, mode='auto')\n",
    "early_stop = EarlyStopping(monitor='loss', patience=10, verbose=1)\n",
    "log_csv = CSVLogger('mobilenetv2.csv', separator=',', append=False)\n",
    "reduce_lr = keras.callbacks.ReduceLROnPlateau(monitor='val_loss', factor=0.5,\n",
    "                              patience=5)\n",
    "\n",
    "callbacks_list = [checkpoint,log_csv]\n"
   ]
  },
  {
   "cell_type": "code",
   "execution_count": 10,
   "id": "5440ba9c-836a-4f58-a631-4648e1f14c58",
   "metadata": {},
   "outputs": [],
   "source": [
    "from tensorflow.keras.optimizers import Adam\n",
    "opt= Adam()"
   ]
  },
  {
   "cell_type": "code",
   "execution_count": 11,
   "id": "74ef98a4-86d3-4093-986e-368cc1306a4b",
   "metadata": {},
   "outputs": [],
   "source": [
    "def create_model():\n",
    "\n",
    "    base_model = tf.keras.applications.MobileNetV2(\n",
    "        include_top=False, \n",
    "        pooling = 'avg', \n",
    "        weights='imagenet',\n",
    "        input_shape=(224, 224, 3), \n",
    "        classes=1000)\n",
    "    \n",
    "    for layer in base_model.layers:\n",
    "      layer.trainable = False\n",
    "    \n",
    "    model = Sequential()\n",
    "    model.add(base_model)\n",
    "    \n",
    "    model.add(BatchNormalization())\n",
    "    model.add(Activation('relu'))\n",
    "    model.add(Flatten())\n",
    "    model.add(Dense(256))\n",
    "#     model.add(Dropout(0.1))\n",
    "    \n",
    "    model.add(Dense(128))\n",
    "    model.add(Dropout(0.2))\n",
    "    \n",
    "    model.add(BatchNormalization())\n",
    "    model.add(Activation('relu'))\n",
    "    model.add(Dense(32))\n",
    "#     model.add(Dropout(0.1))\n",
    "    \n",
    "    model.add(Dense(1, activation='sigmoid'))\n",
    "    \n",
    "    #model.layers[0].trainable = False\n",
    "    model.compile(optimizer=opt, loss='binary_crossentropy', metrics=METRICS)\n",
    "    return model"
   ]
  },
  {
   "cell_type": "code",
   "execution_count": 12,
   "id": "0baab6e4-fff4-493c-a1d0-1ad60b9cba91",
   "metadata": {},
   "outputs": [
    {
     "name": "stdout",
     "output_type": "stream",
     "text": [
      "Model: \"sequential\"\n",
      "_________________________________________________________________\n",
      "Layer (type)                 Output Shape              Param #   \n",
      "=================================================================\n",
      "mobilenetv2_1.00_224 (Functi (None, 1280)              2257984   \n",
      "_________________________________________________________________\n",
      "batch_normalization (BatchNo (None, 1280)              5120      \n",
      "_________________________________________________________________\n",
      "activation (Activation)      (None, 1280)              0         \n",
      "_________________________________________________________________\n",
      "flatten (Flatten)            (None, 1280)              0         \n",
      "_________________________________________________________________\n",
      "dense (Dense)                (None, 256)               327936    \n",
      "_________________________________________________________________\n",
      "dense_1 (Dense)              (None, 128)               32896     \n",
      "_________________________________________________________________\n",
      "dropout (Dropout)            (None, 128)               0         \n",
      "_________________________________________________________________\n",
      "batch_normalization_1 (Batch (None, 128)               512       \n",
      "_________________________________________________________________\n",
      "activation_1 (Activation)    (None, 128)               0         \n",
      "_________________________________________________________________\n",
      "dense_2 (Dense)              (None, 32)                4128      \n",
      "_________________________________________________________________\n",
      "dense_3 (Dense)              (None, 1)                 33        \n",
      "=================================================================\n",
      "Total params: 2,628,609\n",
      "Trainable params: 367,809\n",
      "Non-trainable params: 2,260,800\n",
      "_________________________________________________________________\n"
     ]
    }
   ],
   "source": [
    "model = create_model()\n",
    "model.summary()"
   ]
  },
  {
   "cell_type": "code",
   "execution_count": 13,
   "id": "43ad76e8-c8e7-4df4-bdd7-bed5908c88e3",
   "metadata": {
    "scrolled": true
   },
   "outputs": [
    {
     "name": "stderr",
     "output_type": "stream",
     "text": [
      "C:\\Users\\User\\anaconda3\\envs\\TF-Gpu\\lib\\site-packages\\keras\\engine\\training.py:1972: UserWarning: `Model.fit_generator` is deprecated and will be removed in a future version. Please use `Model.fit`, which supports generators.\n",
      "  warnings.warn('`Model.fit_generator` is deprecated and '\n"
     ]
    },
    {
     "name": "stdout",
     "output_type": "stream",
     "text": [
      "Epoch 1/100\n",
      "274/274 [==============================] - 109s 371ms/step - loss: 0.3416 - tp: 4515.0000 - fp: 719.0000 - tn: 2962.0000 - fn: 568.0000 - accuracy: 0.8531 - precision: 0.8626 - recall: 0.8883 - val_loss: 0.1817 - val_tp: 1721.0000 - val_fp: 104.0000 - val_tn: 310.0000 - val_fn: 15.0000 - val_accuracy: 0.9447 - val_precision: 0.9430 - val_recall: 0.9914\n",
      "\n",
      "Epoch 00001: loss improved from inf to 0.34163, saving model to mobilenetV2checkpoints\\cp-0001.ckpt\n",
      "Epoch 2/100\n",
      "274/274 [==============================] - 99s 361ms/step - loss: 0.2750 - tp: 4657.0000 - fp: 586.0000 - tn: 3095.0000 - fn: 426.0000 - accuracy: 0.8845 - precision: 0.8882 - recall: 0.9162 - val_loss: 0.1884 - val_tp: 1669.0000 - val_fp: 95.0000 - val_tn: 319.0000 - val_fn: 67.0000 - val_accuracy: 0.9247 - val_precision: 0.9461 - val_recall: 0.9614\n",
      "\n",
      "Epoch 00002: loss improved from 0.34163 to 0.27505, saving model to mobilenetV2checkpoints\\cp-0002.ckpt\n",
      "Epoch 3/100\n",
      "274/274 [==============================] - 97s 355ms/step - loss: 0.2624 - tp: 4676.0000 - fp: 527.0000 - tn: 3154.0000 - fn: 407.0000 - accuracy: 0.8934 - precision: 0.8987 - recall: 0.9199 - val_loss: 0.2115 - val_tp: 1632.0000 - val_fp: 72.0000 - val_tn: 342.0000 - val_fn: 104.0000 - val_accuracy: 0.9181 - val_precision: 0.9577 - val_recall: 0.9401\n",
      "\n",
      "Epoch 00003: loss improved from 0.27505 to 0.26236, saving model to mobilenetV2checkpoints\\cp-0003.ckpt\n",
      "Epoch 4/100\n",
      "274/274 [==============================] - 97s 354ms/step - loss: 0.2526 - tp: 4662.0000 - fp: 473.0000 - tn: 3208.0000 - fn: 421.0000 - accuracy: 0.8980 - precision: 0.9079 - recall: 0.9172 - val_loss: 0.2035 - val_tp: 1656.0000 - val_fp: 75.0000 - val_tn: 339.0000 - val_fn: 80.0000 - val_accuracy: 0.9279 - val_precision: 0.9567 - val_recall: 0.9539\n",
      "\n",
      "Epoch 00004: loss improved from 0.26236 to 0.25263, saving model to mobilenetV2checkpoints\\cp-0004.ckpt\n",
      "Epoch 5/100\n",
      "274/274 [==============================] - 97s 353ms/step - loss: 0.2371 - tp: 4708.0000 - fp: 468.0000 - tn: 3213.0000 - fn: 375.0000 - accuracy: 0.9038 - precision: 0.9096 - recall: 0.9262 - val_loss: 0.1991 - val_tp: 1661.0000 - val_fp: 84.0000 - val_tn: 330.0000 - val_fn: 75.0000 - val_accuracy: 0.9260 - val_precision: 0.9519 - val_recall: 0.9568\n",
      "\n",
      "Epoch 00005: loss improved from 0.25263 to 0.23715, saving model to mobilenetV2checkpoints\\cp-0005.ckpt\n",
      "Epoch 6/100\n",
      "274/274 [==============================] - 98s 357ms/step - loss: 0.2189 - tp: 4725.0000 - fp: 425.0000 - tn: 3256.0000 - fn: 358.0000 - accuracy: 0.9107 - precision: 0.9175 - recall: 0.9296 - val_loss: 0.1841 - val_tp: 1676.0000 - val_fp: 88.0000 - val_tn: 326.0000 - val_fn: 60.0000 - val_accuracy: 0.9312 - val_precision: 0.9501 - val_recall: 0.9654\n",
      "\n",
      "Epoch 00006: loss improved from 0.23715 to 0.21890, saving model to mobilenetV2checkpoints\\cp-0006.ckpt\n",
      "Epoch 7/100\n",
      "274/274 [==============================] - 97s 355ms/step - loss: 0.2151 - tp: 4738.0000 - fp: 396.0000 - tn: 3285.0000 - fn: 345.0000 - accuracy: 0.9154 - precision: 0.9229 - recall: 0.9321 - val_loss: 0.2169 - val_tp: 1612.0000 - val_fp: 72.0000 - val_tn: 342.0000 - val_fn: 124.0000 - val_accuracy: 0.9088 - val_precision: 0.9572 - val_recall: 0.9286\n",
      "\n",
      "Epoch 00007: loss improved from 0.21890 to 0.21514, saving model to mobilenetV2checkpoints\\cp-0007.ckpt\n",
      "Epoch 8/100\n",
      "274/274 [==============================] - 98s 357ms/step - loss: 0.2059 - tp: 4755.0000 - fp: 382.0000 - tn: 3299.0000 - fn: 328.0000 - accuracy: 0.9190 - precision: 0.9256 - recall: 0.9355 - val_loss: 0.2312 - val_tp: 1646.0000 - val_fp: 95.0000 - val_tn: 319.0000 - val_fn: 90.0000 - val_accuracy: 0.9140 - val_precision: 0.9454 - val_recall: 0.9482\n",
      "\n",
      "Epoch 00008: loss improved from 0.21514 to 0.20589, saving model to mobilenetV2checkpoints\\cp-0008.ckpt\n",
      "Epoch 9/100\n",
      "274/274 [==============================] - 97s 355ms/step - loss: 0.2041 - tp: 4756.0000 - fp: 369.0000 - tn: 3312.0000 - fn: 327.0000 - accuracy: 0.9206 - precision: 0.9280 - recall: 0.9357 - val_loss: 0.1946 - val_tp: 1621.0000 - val_fp: 53.0000 - val_tn: 361.0000 - val_fn: 115.0000 - val_accuracy: 0.9219 - val_precision: 0.9683 - val_recall: 0.9338\n",
      "\n",
      "Epoch 00009: loss improved from 0.20589 to 0.20411, saving model to mobilenetV2checkpoints\\cp-0009.ckpt\n",
      "Epoch 10/100\n",
      "274/274 [==============================] - 97s 356ms/step - loss: 0.2078 - tp: 4751.0000 - fp: 386.0000 - tn: 3295.0000 - fn: 332.0000 - accuracy: 0.9181 - precision: 0.9249 - recall: 0.9347 - val_loss: 0.2460 - val_tp: 1605.0000 - val_fp: 72.0000 - val_tn: 342.0000 - val_fn: 131.0000 - val_accuracy: 0.9056 - val_precision: 0.9571 - val_recall: 0.9245\n",
      "\n",
      "Epoch 00010: loss did not improve from 0.20411\n",
      "Epoch 11/100\n",
      "274/274 [==============================] - 98s 356ms/step - loss: 0.2007 - tp: 4749.0000 - fp: 376.0000 - tn: 3305.0000 - fn: 334.0000 - accuracy: 0.9190 - precision: 0.9266 - recall: 0.9343 - val_loss: 0.3087 - val_tp: 1486.0000 - val_fp: 40.0000 - val_tn: 374.0000 - val_fn: 250.0000 - val_accuracy: 0.8651 - val_precision: 0.9738 - val_recall: 0.8560\n",
      "\n",
      "Epoch 00011: loss improved from 0.20411 to 0.20070, saving model to mobilenetV2checkpoints\\cp-0011.ckpt\n",
      "Epoch 12/100\n",
      "274/274 [==============================] - 98s 357ms/step - loss: 0.1973 - tp: 4759.0000 - fp: 365.0000 - tn: 3316.0000 - fn: 324.0000 - accuracy: 0.9214 - precision: 0.9288 - recall: 0.9363 - val_loss: 0.2402 - val_tp: 1575.0000 - val_fp: 50.0000 - val_tn: 364.0000 - val_fn: 161.0000 - val_accuracy: 0.9019 - val_precision: 0.9692 - val_recall: 0.9073\n",
      "\n",
      "Epoch 00012: loss improved from 0.20070 to 0.19733, saving model to mobilenetV2checkpoints\\cp-0012.ckpt\n",
      "Epoch 13/100\n",
      "274/274 [==============================] - 98s 358ms/step - loss: 0.1904 - tp: 4744.0000 - fp: 356.0000 - tn: 3325.0000 - fn: 339.0000 - accuracy: 0.9207 - precision: 0.9302 - recall: 0.9333 - val_loss: 0.2435 - val_tp: 1555.0000 - val_fp: 46.0000 - val_tn: 368.0000 - val_fn: 181.0000 - val_accuracy: 0.8944 - val_precision: 0.9713 - val_recall: 0.8957\n",
      "\n",
      "Epoch 00013: loss improved from 0.19733 to 0.19044, saving model to mobilenetV2checkpoints\\cp-0013.ckpt\n",
      "Epoch 14/100\n",
      "274/274 [==============================] - 98s 357ms/step - loss: 0.1892 - tp: 4777.0000 - fp: 349.0000 - tn: 3332.0000 - fn: 306.0000 - accuracy: 0.9253 - precision: 0.9319 - recall: 0.9398 - val_loss: 0.1720 - val_tp: 1663.0000 - val_fp: 66.0000 - val_tn: 348.0000 - val_fn: 73.0000 - val_accuracy: 0.9353 - val_precision: 0.9618 - val_recall: 0.9579\n",
      "\n",
      "Epoch 00014: loss improved from 0.19044 to 0.18915, saving model to mobilenetV2checkpoints\\cp-0014.ckpt\n",
      "Epoch 15/100\n",
      "274/274 [==============================] - 98s 358ms/step - loss: 0.1781 - tp: 4786.0000 - fp: 337.0000 - tn: 3344.0000 - fn: 297.0000 - accuracy: 0.9277 - precision: 0.9342 - recall: 0.9416 - val_loss: 0.2126 - val_tp: 1663.0000 - val_fp: 114.0000 - val_tn: 300.0000 - val_fn: 73.0000 - val_accuracy: 0.9130 - val_precision: 0.9358 - val_recall: 0.9579\n",
      "\n",
      "Epoch 00015: loss improved from 0.18915 to 0.17812, saving model to mobilenetV2checkpoints\\cp-0015.ckpt\n",
      "Epoch 16/100\n",
      "274/274 [==============================] - 97s 356ms/step - loss: 0.1863 - tp: 4767.0000 - fp: 349.0000 - tn: 3332.0000 - fn: 316.0000 - accuracy: 0.9241 - precision: 0.9318 - recall: 0.9378 - val_loss: 0.2241 - val_tp: 1637.0000 - val_fp: 91.0000 - val_tn: 323.0000 - val_fn: 99.0000 - val_accuracy: 0.9116 - val_precision: 0.9473 - val_recall: 0.9430\n",
      "\n",
      "Epoch 00016: loss did not improve from 0.17812\n",
      "Epoch 17/100\n",
      "274/274 [==============================] - 98s 356ms/step - loss: 0.1792 - tp: 4792.0000 - fp: 332.0000 - tn: 3349.0000 - fn: 291.0000 - accuracy: 0.9289 - precision: 0.9352 - recall: 0.9428 - val_loss: 0.2821 - val_tp: 1534.0000 - val_fp: 53.0000 - val_tn: 361.0000 - val_fn: 202.0000 - val_accuracy: 0.8814 - val_precision: 0.9666 - val_recall: 0.8836\n",
      "\n",
      "Epoch 00017: loss did not improve from 0.17812\n",
      "Epoch 18/100\n",
      "274/274 [==============================] - 99s 360ms/step - loss: 0.1823 - tp: 4788.0000 - fp: 343.0000 - tn: 3338.0000 - fn: 295.0000 - accuracy: 0.9272 - precision: 0.9332 - recall: 0.9420 - val_loss: 0.2900 - val_tp: 1537.0000 - val_fp: 94.0000 - val_tn: 320.0000 - val_fn: 199.0000 - val_accuracy: 0.8637 - val_precision: 0.9424 - val_recall: 0.8854\n"
     ]
    },
    {
     "name": "stdout",
     "output_type": "stream",
     "text": [
      "\n",
      "Epoch 00018: loss did not improve from 0.17812\n",
      "Epoch 19/100\n",
      "274/274 [==============================] - 101s 370ms/step - loss: 0.1802 - tp: 4805.0000 - fp: 318.0000 - tn: 3363.0000 - fn: 278.0000 - accuracy: 0.9320 - precision: 0.9379 - recall: 0.9453 - val_loss: 0.1637 - val_tp: 1696.0000 - val_fp: 90.0000 - val_tn: 324.0000 - val_fn: 40.0000 - val_accuracy: 0.9395 - val_precision: 0.9496 - val_recall: 0.9770\n",
      "\n",
      "Epoch 00019: loss did not improve from 0.17812\n",
      "Epoch 20/100\n",
      "274/274 [==============================] - 100s 366ms/step - loss: 0.1700 - tp: 4815.0000 - fp: 315.0000 - tn: 3366.0000 - fn: 268.0000 - accuracy: 0.9335 - precision: 0.9386 - recall: 0.9473 - val_loss: 0.2635 - val_tp: 1542.0000 - val_fp: 48.0000 - val_tn: 366.0000 - val_fn: 194.0000 - val_accuracy: 0.8874 - val_precision: 0.9698 - val_recall: 0.8882\n",
      "\n",
      "Epoch 00020: loss improved from 0.17812 to 0.17002, saving model to mobilenetV2checkpoints\\cp-0020.ckpt\n",
      "Epoch 21/100\n",
      "274/274 [==============================] - 98s 357ms/step - loss: 0.1700 - tp: 4808.0000 - fp: 315.0000 - tn: 3366.0000 - fn: 275.0000 - accuracy: 0.9327 - precision: 0.9385 - recall: 0.9459 - val_loss: 0.2344 - val_tp: 1606.0000 - val_fp: 73.0000 - val_tn: 341.0000 - val_fn: 130.0000 - val_accuracy: 0.9056 - val_precision: 0.9565 - val_recall: 0.9251\n",
      "\n",
      "Epoch 00021: loss improved from 0.17002 to 0.16997, saving model to mobilenetV2checkpoints\\cp-0021.ckpt\n",
      "Epoch 22/100\n",
      "274/274 [==============================] - 99s 362ms/step - loss: 0.1724 - tp: 4804.0000 - fp: 302.0000 - tn: 3379.0000 - fn: 279.0000 - accuracy: 0.9337 - precision: 0.9409 - recall: 0.9451 - val_loss: 0.2618 - val_tp: 1558.0000 - val_fp: 62.0000 - val_tn: 352.0000 - val_fn: 178.0000 - val_accuracy: 0.8884 - val_precision: 0.9617 - val_recall: 0.8975\n",
      "\n",
      "Epoch 00022: loss did not improve from 0.16997\n",
      "Epoch 23/100\n",
      "274/274 [==============================] - 98s 356ms/step - loss: 0.1764 - tp: 4815.0000 - fp: 325.0000 - tn: 3356.0000 - fn: 268.0000 - accuracy: 0.9323 - precision: 0.9368 - recall: 0.9473 - val_loss: 0.1743 - val_tp: 1654.0000 - val_fp: 51.0000 - val_tn: 363.0000 - val_fn: 82.0000 - val_accuracy: 0.9381 - val_precision: 0.9701 - val_recall: 0.9528\n",
      "\n",
      "Epoch 00023: loss did not improve from 0.16997\n",
      "Epoch 24/100\n",
      "274/274 [==============================] - 99s 360ms/step - loss: 0.1684 - tp: 4793.0000 - fp: 300.0000 - tn: 3381.0000 - fn: 290.0000 - accuracy: 0.9327 - precision: 0.9411 - recall: 0.9429 - val_loss: 0.1796 - val_tp: 1678.0000 - val_fp: 84.0000 - val_tn: 330.0000 - val_fn: 58.0000 - val_accuracy: 0.9340 - val_precision: 0.9523 - val_recall: 0.9666\n",
      "\n",
      "Epoch 00024: loss improved from 0.16997 to 0.16838, saving model to mobilenetV2checkpoints\\cp-0024.ckpt\n",
      "Epoch 25/100\n",
      "274/274 [==============================] - 98s 356ms/step - loss: 0.1704 - tp: 4813.0000 - fp: 311.0000 - tn: 3370.0000 - fn: 270.0000 - accuracy: 0.9337 - precision: 0.9393 - recall: 0.9469 - val_loss: 0.2379 - val_tp: 1571.0000 - val_fp: 45.0000 - val_tn: 369.0000 - val_fn: 165.0000 - val_accuracy: 0.9023 - val_precision: 0.9722 - val_recall: 0.9050\n",
      "\n",
      "Epoch 00025: loss did not improve from 0.16838\n",
      "Epoch 26/100\n",
      "274/274 [==============================] - 98s 357ms/step - loss: 0.1633 - tp: 4800.0000 - fp: 308.0000 - tn: 3373.0000 - fn: 283.0000 - accuracy: 0.9326 - precision: 0.9397 - recall: 0.9443 - val_loss: 0.1858 - val_tp: 1653.0000 - val_fp: 71.0000 - val_tn: 343.0000 - val_fn: 83.0000 - val_accuracy: 0.9284 - val_precision: 0.9588 - val_recall: 0.9522\n",
      "\n",
      "Epoch 00026: loss improved from 0.16838 to 0.16328, saving model to mobilenetV2checkpoints\\cp-0026.ckpt\n",
      "Epoch 27/100\n",
      "274/274 [==============================] - 99s 360ms/step - loss: 0.1644 - tp: 4824.0000 - fp: 295.0000 - tn: 3386.0000 - fn: 259.0000 - accuracy: 0.9368 - precision: 0.9424 - recall: 0.9490 - val_loss: 0.1972 - val_tp: 1630.0000 - val_fp: 58.0000 - val_tn: 356.0000 - val_fn: 106.0000 - val_accuracy: 0.9237 - val_precision: 0.9656 - val_recall: 0.9389\n",
      "\n",
      "Epoch 00027: loss did not improve from 0.16328\n",
      "Epoch 28/100\n",
      "274/274 [==============================] - 98s 356ms/step - loss: 0.1587 - tp: 4826.0000 - fp: 283.0000 - tn: 3398.0000 - fn: 257.0000 - accuracy: 0.9384 - precision: 0.9446 - recall: 0.9494 - val_loss: 0.2943 - val_tp: 1528.0000 - val_fp: 62.0000 - val_tn: 352.0000 - val_fn: 208.0000 - val_accuracy: 0.8744 - val_precision: 0.9610 - val_recall: 0.8802\n",
      "\n",
      "Epoch 00028: loss improved from 0.16328 to 0.15872, saving model to mobilenetV2checkpoints\\cp-0028.ckpt\n",
      "Epoch 29/100\n",
      "274/274 [==============================] - 97s 354ms/step - loss: 0.1704 - tp: 4815.0000 - fp: 316.0000 - tn: 3365.0000 - fn: 268.0000 - accuracy: 0.9334 - precision: 0.9384 - recall: 0.9473 - val_loss: 0.2309 - val_tp: 1587.0000 - val_fp: 67.0000 - val_tn: 347.0000 - val_fn: 149.0000 - val_accuracy: 0.8995 - val_precision: 0.9595 - val_recall: 0.9142\n",
      "\n",
      "Epoch 00029: loss did not improve from 0.15872\n",
      "Epoch 30/100\n",
      "274/274 [==============================] - 98s 356ms/step - loss: 0.1597 - tp: 4829.0000 - fp: 277.0000 - tn: 3404.0000 - fn: 254.0000 - accuracy: 0.9394 - precision: 0.9458 - recall: 0.9500 - val_loss: 0.2175 - val_tp: 1593.0000 - val_fp: 50.0000 - val_tn: 364.0000 - val_fn: 143.0000 - val_accuracy: 0.9102 - val_precision: 0.9696 - val_recall: 0.9176\n",
      "\n",
      "Epoch 00030: loss did not improve from 0.15872\n",
      "Epoch 31/100\n",
      "274/274 [==============================] - 98s 356ms/step - loss: 0.1581 - tp: 4840.0000 - fp: 280.0000 - tn: 3401.0000 - fn: 243.0000 - accuracy: 0.9403 - precision: 0.9453 - recall: 0.9522 - val_loss: 0.1960 - val_tp: 1649.0000 - val_fp: 71.0000 - val_tn: 343.0000 - val_fn: 87.0000 - val_accuracy: 0.9265 - val_precision: 0.9587 - val_recall: 0.9499\n",
      "\n",
      "Epoch 00031: loss improved from 0.15872 to 0.15813, saving model to mobilenetV2checkpoints\\cp-0031.ckpt\n",
      "Epoch 32/100\n",
      "274/274 [==============================] - 98s 356ms/step - loss: 0.1647 - tp: 4823.0000 - fp: 284.0000 - tn: 3397.0000 - fn: 260.0000 - accuracy: 0.9379 - precision: 0.9444 - recall: 0.9488 - val_loss: 0.2350 - val_tp: 1636.0000 - val_fp: 106.0000 - val_tn: 308.0000 - val_fn: 100.0000 - val_accuracy: 0.9042 - val_precision: 0.9392 - val_recall: 0.9424\n",
      "\n",
      "Epoch 00032: loss did not improve from 0.15813\n",
      "Epoch 33/100\n",
      "274/274 [==============================] - 97s 355ms/step - loss: 0.1597 - tp: 4829.0000 - fp: 280.0000 - tn: 3401.0000 - fn: 254.0000 - accuracy: 0.9391 - precision: 0.9452 - recall: 0.9500 - val_loss: 0.4083 - val_tp: 1401.0000 - val_fp: 63.0000 - val_tn: 351.0000 - val_fn: 335.0000 - val_accuracy: 0.8149 - val_precision: 0.9570 - val_recall: 0.8070\n",
      "\n",
      "Epoch 00033: loss did not improve from 0.15813\n",
      "Epoch 34/100\n",
      "274/274 [==============================] - 97s 355ms/step - loss: 0.1636 - tp: 4811.0000 - fp: 288.0000 - tn: 3393.0000 - fn: 272.0000 - accuracy: 0.9361 - precision: 0.9435 - recall: 0.9465 - val_loss: 0.2672 - val_tp: 1525.0000 - val_fp: 41.0000 - val_tn: 373.0000 - val_fn: 211.0000 - val_accuracy: 0.8828 - val_precision: 0.9738 - val_recall: 0.8785\n",
      "\n",
      "Epoch 00034: loss did not improve from 0.15813\n",
      "Epoch 35/100\n",
      "274/274 [==============================] - 98s 356ms/step - loss: 0.1578 - tp: 4843.0000 - fp: 268.0000 - tn: 3413.0000 - fn: 240.0000 - accuracy: 0.9420 - precision: 0.9476 - recall: 0.9528 - val_loss: 0.3482 - val_tp: 1483.0000 - val_fp: 71.0000 - val_tn: 343.0000 - val_fn: 253.0000 - val_accuracy: 0.8493 - val_precision: 0.9543 - val_recall: 0.8543\n",
      "\n",
      "Epoch 00035: loss improved from 0.15813 to 0.15779, saving model to mobilenetV2checkpoints\\cp-0035.ckpt\n",
      "Epoch 36/100\n",
      "274/274 [==============================] - 97s 355ms/step - loss: 0.1538 - tp: 4819.0000 - fp: 279.0000 - tn: 3402.0000 - fn: 264.0000 - accuracy: 0.9380 - precision: 0.9453 - recall: 0.9481 - val_loss: 0.1870 - val_tp: 1642.0000 - val_fp: 59.0000 - val_tn: 355.0000 - val_fn: 94.0000 - val_accuracy: 0.9288 - val_precision: 0.9653 - val_recall: 0.9459\n",
      "\n",
      "Epoch 00036: loss improved from 0.15779 to 0.15375, saving model to mobilenetV2checkpoints\\cp-0036.ckpt\n",
      "Epoch 37/100\n",
      "274/274 [==============================] - 99s 360ms/step - loss: 0.1565 - tp: 4841.0000 - fp: 295.0000 - tn: 3386.0000 - fn: 242.0000 - accuracy: 0.9387 - precision: 0.9426 - recall: 0.9524 - val_loss: 0.2450 - val_tp: 1565.0000 - val_fp: 46.0000 - val_tn: 368.0000 - val_fn: 171.0000 - val_accuracy: 0.8991 - val_precision: 0.9714 - val_recall: 0.9015\n"
     ]
    },
    {
     "name": "stdout",
     "output_type": "stream",
     "text": [
      "\n",
      "Epoch 00037: loss did not improve from 0.15375\n",
      "Epoch 38/100\n",
      "274/274 [==============================] - 97s 354ms/step - loss: 0.1555 - tp: 4837.0000 - fp: 274.0000 - tn: 3407.0000 - fn: 246.0000 - accuracy: 0.9407 - precision: 0.9464 - recall: 0.9516 - val_loss: 0.2843 - val_tp: 1517.0000 - val_fp: 53.0000 - val_tn: 361.0000 - val_fn: 219.0000 - val_accuracy: 0.8735 - val_precision: 0.9662 - val_recall: 0.8738\n",
      "\n",
      "Epoch 00038: loss did not improve from 0.15375\n",
      "Epoch 39/100\n",
      "274/274 [==============================] - 100s 367ms/step - loss: 0.1515 - tp: 4844.0000 - fp: 259.0000 - tn: 3422.0000 - fn: 239.0000 - accuracy: 0.9432 - precision: 0.9492 - recall: 0.9530 - val_loss: 0.2972 - val_tp: 1499.0000 - val_fp: 41.0000 - val_tn: 373.0000 - val_fn: 237.0000 - val_accuracy: 0.8707 - val_precision: 0.9734 - val_recall: 0.8635\n",
      "\n",
      "Epoch 00039: loss improved from 0.15375 to 0.15146, saving model to mobilenetV2checkpoints\\cp-0039.ckpt\n",
      "Epoch 40/100\n",
      "274/274 [==============================] - 99s 360ms/step - loss: 0.1493 - tp: 4853.0000 - fp: 262.0000 - tn: 3419.0000 - fn: 230.0000 - accuracy: 0.9439 - precision: 0.9488 - recall: 0.9548 - val_loss: 0.2623 - val_tp: 1569.0000 - val_fp: 56.0000 - val_tn: 358.0000 - val_fn: 167.0000 - val_accuracy: 0.8963 - val_precision: 0.9655 - val_recall: 0.9038\n",
      "\n",
      "Epoch 00040: loss improved from 0.15146 to 0.14927, saving model to mobilenetV2checkpoints\\cp-0040.ckpt\n",
      "Epoch 41/100\n",
      "274/274 [==============================] - 97s 355ms/step - loss: 0.1461 - tp: 4836.0000 - fp: 261.0000 - tn: 3420.0000 - fn: 247.0000 - accuracy: 0.9420 - precision: 0.9488 - recall: 0.9514 - val_loss: 0.2431 - val_tp: 1577.0000 - val_fp: 64.0000 - val_tn: 350.0000 - val_fn: 159.0000 - val_accuracy: 0.8963 - val_precision: 0.9610 - val_recall: 0.9084\n",
      "\n",
      "Epoch 00041: loss improved from 0.14927 to 0.14608, saving model to mobilenetV2checkpoints\\cp-0041.ckpt\n",
      "Epoch 42/100\n",
      "274/274 [==============================] - 97s 355ms/step - loss: 0.1525 - tp: 4842.0000 - fp: 283.0000 - tn: 3398.0000 - fn: 241.0000 - accuracy: 0.9402 - precision: 0.9448 - recall: 0.9526 - val_loss: 0.2070 - val_tp: 1640.0000 - val_fp: 77.0000 - val_tn: 337.0000 - val_fn: 96.0000 - val_accuracy: 0.9195 - val_precision: 0.9552 - val_recall: 0.9447\n",
      "\n",
      "Epoch 00042: loss did not improve from 0.14608\n",
      "Epoch 43/100\n",
      "274/274 [==============================] - 98s 356ms/step - loss: 0.1501 - tp: 4842.0000 - fp: 258.0000 - tn: 3423.0000 - fn: 241.0000 - accuracy: 0.9431 - precision: 0.9494 - recall: 0.9526 - val_loss: 0.2137 - val_tp: 1600.0000 - val_fp: 61.0000 - val_tn: 353.0000 - val_fn: 136.0000 - val_accuracy: 0.9084 - val_precision: 0.9633 - val_recall: 0.9217\n",
      "\n",
      "Epoch 00043: loss did not improve from 0.14608\n",
      "Epoch 44/100\n",
      "274/274 [==============================] - 97s 355ms/step - loss: 0.1524 - tp: 4839.0000 - fp: 264.0000 - tn: 3417.0000 - fn: 244.0000 - accuracy: 0.9420 - precision: 0.9483 - recall: 0.9520 - val_loss: 0.3013 - val_tp: 1524.0000 - val_fp: 51.0000 - val_tn: 363.0000 - val_fn: 212.0000 - val_accuracy: 0.8777 - val_precision: 0.9676 - val_recall: 0.8779\n",
      "\n",
      "Epoch 00044: loss did not improve from 0.14608\n",
      "Epoch 45/100\n",
      "274/274 [==============================] - 98s 358ms/step - loss: 0.1487 - tp: 4849.0000 - fp: 267.0000 - tn: 3414.0000 - fn: 234.0000 - accuracy: 0.9428 - precision: 0.9478 - recall: 0.9540 - val_loss: 0.2481 - val_tp: 1607.0000 - val_fp: 75.0000 - val_tn: 339.0000 - val_fn: 129.0000 - val_accuracy: 0.9051 - val_precision: 0.9554 - val_recall: 0.9257\n",
      "\n",
      "Epoch 00045: loss did not improve from 0.14608\n",
      "Epoch 46/100\n",
      "274/274 [==============================] - 98s 359ms/step - loss: 0.1453 - tp: 4836.0000 - fp: 280.0000 - tn: 3401.0000 - fn: 247.0000 - accuracy: 0.9399 - precision: 0.9453 - recall: 0.9514 - val_loss: 0.3055 - val_tp: 1532.0000 - val_fp: 73.0000 - val_tn: 341.0000 - val_fn: 204.0000 - val_accuracy: 0.8712 - val_precision: 0.9545 - val_recall: 0.8825\n",
      "\n",
      "Epoch 00046: loss improved from 0.14608 to 0.14531, saving model to mobilenetV2checkpoints\\cp-0046.ckpt\n",
      "Epoch 47/100\n",
      "274/274 [==============================] - 98s 356ms/step - loss: 0.1490 - tp: 4824.0000 - fp: 273.0000 - tn: 3408.0000 - fn: 259.0000 - accuracy: 0.9393 - precision: 0.9464 - recall: 0.9490 - val_loss: 0.2590 - val_tp: 1664.0000 - val_fp: 116.0000 - val_tn: 298.0000 - val_fn: 72.0000 - val_accuracy: 0.9126 - val_precision: 0.9348 - val_recall: 0.9585\n",
      "\n",
      "Epoch 00047: loss did not improve from 0.14531\n",
      "Epoch 48/100\n",
      "274/274 [==============================] - 98s 356ms/step - loss: 0.1443 - tp: 4859.0000 - fp: 247.0000 - tn: 3434.0000 - fn: 224.0000 - accuracy: 0.9463 - precision: 0.9516 - recall: 0.9559 - val_loss: 0.3568 - val_tp: 1481.0000 - val_fp: 54.0000 - val_tn: 360.0000 - val_fn: 255.0000 - val_accuracy: 0.8563 - val_precision: 0.9648 - val_recall: 0.8531\n",
      "\n",
      "Epoch 00048: loss improved from 0.14531 to 0.14432, saving model to mobilenetV2checkpoints\\cp-0048.ckpt\n",
      "Epoch 49/100\n",
      "274/274 [==============================] - 98s 356ms/step - loss: 0.1414 - tp: 4861.0000 - fp: 247.0000 - tn: 3434.0000 - fn: 222.0000 - accuracy: 0.9465 - precision: 0.9516 - recall: 0.9563 - val_loss: 0.2823 - val_tp: 1554.0000 - val_fp: 80.0000 - val_tn: 334.0000 - val_fn: 182.0000 - val_accuracy: 0.8781 - val_precision: 0.9510 - val_recall: 0.8952\n",
      "\n",
      "Epoch 00049: loss improved from 0.14432 to 0.14138, saving model to mobilenetV2checkpoints\\cp-0049.ckpt\n",
      "Epoch 50/100\n",
      "274/274 [==============================] - 98s 356ms/step - loss: 0.1445 - tp: 4856.0000 - fp: 246.0000 - tn: 3435.0000 - fn: 227.0000 - accuracy: 0.9460 - precision: 0.9518 - recall: 0.9553 - val_loss: 0.2195 - val_tp: 1620.0000 - val_fp: 66.0000 - val_tn: 348.0000 - val_fn: 116.0000 - val_accuracy: 0.9153 - val_precision: 0.9609 - val_recall: 0.9332\n",
      "\n",
      "Epoch 00050: loss did not improve from 0.14138\n",
      "Epoch 51/100\n",
      "274/274 [==============================] - 97s 354ms/step - loss: 0.1459 - tp: 4833.0000 - fp: 272.0000 - tn: 3409.0000 - fn: 250.0000 - accuracy: 0.9404 - precision: 0.9467 - recall: 0.9508 - val_loss: 0.3601 - val_tp: 1495.0000 - val_fp: 58.0000 - val_tn: 356.0000 - val_fn: 241.0000 - val_accuracy: 0.8609 - val_precision: 0.9627 - val_recall: 0.8612\n",
      "\n",
      "Epoch 00051: loss did not improve from 0.14138\n",
      "Epoch 52/100\n",
      "274/274 [==============================] - 98s 359ms/step - loss: 0.1391 - tp: 4850.0000 - fp: 245.0000 - tn: 3436.0000 - fn: 233.0000 - accuracy: 0.9455 - precision: 0.9519 - recall: 0.9542 - val_loss: 0.2654 - val_tp: 1603.0000 - val_fp: 81.0000 - val_tn: 333.0000 - val_fn: 133.0000 - val_accuracy: 0.9005 - val_precision: 0.9519 - val_recall: 0.9234\n",
      "\n",
      "Epoch 00052: loss improved from 0.14138 to 0.13908, saving model to mobilenetV2checkpoints\\cp-0052.ckpt\n",
      "Epoch 53/100\n",
      "274/274 [==============================] - 97s 356ms/step - loss: 0.1339 - tp: 4863.0000 - fp: 202.0000 - tn: 3479.0000 - fn: 220.0000 - accuracy: 0.9518 - precision: 0.9601 - recall: 0.9567 - val_loss: 0.3219 - val_tp: 1509.0000 - val_fp: 55.0000 - val_tn: 359.0000 - val_fn: 227.0000 - val_accuracy: 0.8688 - val_precision: 0.9648 - val_recall: 0.8692\n",
      "\n",
      "Epoch 00053: loss improved from 0.13908 to 0.13387, saving model to mobilenetV2checkpoints\\cp-0053.ckpt\n",
      "Epoch 54/100\n",
      "274/274 [==============================] - 98s 356ms/step - loss: 0.1429 - tp: 4836.0000 - fp: 247.0000 - tn: 3434.0000 - fn: 247.0000 - accuracy: 0.9436 - precision: 0.9514 - recall: 0.9514 - val_loss: 0.1911 - val_tp: 1644.0000 - val_fp: 56.0000 - val_tn: 358.0000 - val_fn: 92.0000 - val_accuracy: 0.9312 - val_precision: 0.9671 - val_recall: 0.9470\n",
      "\n",
      "Epoch 00054: loss did not improve from 0.13387\n",
      "Epoch 55/100\n",
      "274/274 [==============================] - 98s 357ms/step - loss: 0.1419 - tp: 4858.0000 - fp: 253.0000 - tn: 3428.0000 - fn: 225.0000 - accuracy: 0.9455 - precision: 0.9505 - recall: 0.9557 - val_loss: 0.2575 - val_tp: 1591.0000 - val_fp: 66.0000 - val_tn: 348.0000 - val_fn: 145.0000 - val_accuracy: 0.9019 - val_precision: 0.9602 - val_recall: 0.9165\n",
      "\n",
      "Epoch 00055: loss did not improve from 0.13387\n",
      "Epoch 56/100\n",
      "274/274 [==============================] - 98s 356ms/step - loss: 0.1447 - tp: 4850.0000 - fp: 255.0000 - tn: 3426.0000 - fn: 233.0000 - accuracy: 0.9443 - precision: 0.9500 - recall: 0.9542 - val_loss: 0.1958 - val_tp: 1638.0000 - val_fp: 62.0000 - val_tn: 352.0000 - val_fn: 98.0000 - val_accuracy: 0.9256 - val_precision: 0.9635 - val_recall: 0.9435\n"
     ]
    },
    {
     "name": "stdout",
     "output_type": "stream",
     "text": [
      "\n",
      "Epoch 00056: loss did not improve from 0.13387\n",
      "Epoch 57/100\n",
      "274/274 [==============================] - 98s 357ms/step - loss: 0.1340 - tp: 4859.0000 - fp: 231.0000 - tn: 3450.0000 - fn: 224.0000 - accuracy: 0.9481 - precision: 0.9546 - recall: 0.9559 - val_loss: 0.2506 - val_tp: 1614.0000 - val_fp: 71.0000 - val_tn: 343.0000 - val_fn: 122.0000 - val_accuracy: 0.9102 - val_precision: 0.9579 - val_recall: 0.9297\n",
      "\n",
      "Epoch 00057: loss did not improve from 0.13387\n",
      "Epoch 58/100\n",
      "274/274 [==============================] - 97s 356ms/step - loss: 0.1388 - tp: 4865.0000 - fp: 243.0000 - tn: 3438.0000 - fn: 218.0000 - accuracy: 0.9474 - precision: 0.9524 - recall: 0.9571 - val_loss: 0.2695 - val_tp: 1573.0000 - val_fp: 57.0000 - val_tn: 357.0000 - val_fn: 163.0000 - val_accuracy: 0.8977 - val_precision: 0.9650 - val_recall: 0.9061\n",
      "\n",
      "Epoch 00058: loss did not improve from 0.13387\n",
      "Epoch 59/100\n",
      "274/274 [==============================] - 97s 355ms/step - loss: 0.1411 - tp: 4840.0000 - fp: 243.0000 - tn: 3438.0000 - fn: 243.0000 - accuracy: 0.9445 - precision: 0.9522 - recall: 0.9522 - val_loss: 0.2638 - val_tp: 1570.0000 - val_fp: 48.0000 - val_tn: 366.0000 - val_fn: 166.0000 - val_accuracy: 0.9005 - val_precision: 0.9703 - val_recall: 0.9044\n",
      "\n",
      "Epoch 00059: loss did not improve from 0.13387\n",
      "Epoch 60/100\n",
      "274/274 [==============================] - 97s 355ms/step - loss: 0.1400 - tp: 4856.0000 - fp: 248.0000 - tn: 3433.0000 - fn: 227.0000 - accuracy: 0.9458 - precision: 0.9514 - recall: 0.9553 - val_loss: 0.2106 - val_tp: 1653.0000 - val_fp: 69.0000 - val_tn: 345.0000 - val_fn: 83.0000 - val_accuracy: 0.9293 - val_precision: 0.9599 - val_recall: 0.9522\n",
      "\n",
      "Epoch 00060: loss did not improve from 0.13387\n",
      "Epoch 61/100\n",
      "274/274 [==============================] - 97s 355ms/step - loss: 0.1344 - tp: 4865.0000 - fp: 235.0000 - tn: 3446.0000 - fn: 218.0000 - accuracy: 0.9483 - precision: 0.9539 - recall: 0.9571 - val_loss: 0.2587 - val_tp: 1618.0000 - val_fp: 86.0000 - val_tn: 328.0000 - val_fn: 118.0000 - val_accuracy: 0.9051 - val_precision: 0.9495 - val_recall: 0.9320\n",
      "\n",
      "Epoch 00061: loss did not improve from 0.13387\n",
      "Epoch 62/100\n",
      "274/274 [==============================] - 98s 356ms/step - loss: 0.1397 - tp: 4854.0000 - fp: 236.0000 - tn: 3445.0000 - fn: 229.0000 - accuracy: 0.9469 - precision: 0.9536 - recall: 0.9549 - val_loss: 0.2527 - val_tp: 1579.0000 - val_fp: 52.0000 - val_tn: 362.0000 - val_fn: 157.0000 - val_accuracy: 0.9028 - val_precision: 0.9681 - val_recall: 0.9096\n",
      "\n",
      "Epoch 00062: loss did not improve from 0.13387\n",
      "Epoch 63/100\n",
      "274/274 [==============================] - 98s 356ms/step - loss: 0.1421 - tp: 4852.0000 - fp: 223.0000 - tn: 3458.0000 - fn: 231.0000 - accuracy: 0.9482 - precision: 0.9561 - recall: 0.9546 - val_loss: 0.1986 - val_tp: 1652.0000 - val_fp: 63.0000 - val_tn: 351.0000 - val_fn: 84.0000 - val_accuracy: 0.9316 - val_precision: 0.9633 - val_recall: 0.9516\n",
      "\n",
      "Epoch 00063: loss did not improve from 0.13387\n",
      "Epoch 64/100\n",
      "274/274 [==============================] - 98s 358ms/step - loss: 0.1323 - tp: 4883.0000 - fp: 226.0000 - tn: 3455.0000 - fn: 200.0000 - accuracy: 0.9514 - precision: 0.9558 - recall: 0.9607 - val_loss: 0.2303 - val_tp: 1582.0000 - val_fp: 48.0000 - val_tn: 366.0000 - val_fn: 154.0000 - val_accuracy: 0.9060 - val_precision: 0.9706 - val_recall: 0.9113\n",
      "\n",
      "Epoch 00064: loss improved from 0.13387 to 0.13231, saving model to mobilenetV2checkpoints\\cp-0064.ckpt\n",
      "Epoch 65/100\n",
      "274/274 [==============================] - 99s 360ms/step - loss: 0.1338 - tp: 4885.0000 - fp: 230.0000 - tn: 3451.0000 - fn: 198.0000 - accuracy: 0.9512 - precision: 0.9550 - recall: 0.9610 - val_loss: 0.2769 - val_tp: 1555.0000 - val_fp: 51.0000 - val_tn: 363.0000 - val_fn: 181.0000 - val_accuracy: 0.8921 - val_precision: 0.9682 - val_recall: 0.8957\n",
      "\n",
      "Epoch 00065: loss did not improve from 0.13231\n",
      "Epoch 66/100\n",
      "274/274 [==============================] - 99s 363ms/step - loss: 0.1295 - tp: 4877.0000 - fp: 225.0000 - tn: 3456.0000 - fn: 206.0000 - accuracy: 0.9508 - precision: 0.9559 - recall: 0.9595 - val_loss: 0.2646 - val_tp: 1668.0000 - val_fp: 120.0000 - val_tn: 294.0000 - val_fn: 68.0000 - val_accuracy: 0.9126 - val_precision: 0.9329 - val_recall: 0.9608\n",
      "\n",
      "Epoch 00066: loss improved from 0.13231 to 0.12953, saving model to mobilenetV2checkpoints\\cp-0066.ckpt\n",
      "Epoch 67/100\n",
      "274/274 [==============================] - 99s 361ms/step - loss: 0.1361 - tp: 4861.0000 - fp: 233.0000 - tn: 3448.0000 - fn: 222.0000 - accuracy: 0.9481 - precision: 0.9543 - recall: 0.9563 - val_loss: 0.2456 - val_tp: 1605.0000 - val_fp: 58.0000 - val_tn: 356.0000 - val_fn: 131.0000 - val_accuracy: 0.9121 - val_precision: 0.9651 - val_recall: 0.9245\n",
      "\n",
      "Epoch 00067: loss did not improve from 0.12953\n",
      "Epoch 68/100\n",
      "274/274 [==============================] - 99s 362ms/step - loss: 0.1289 - tp: 4866.0000 - fp: 225.0000 - tn: 3456.0000 - fn: 217.0000 - accuracy: 0.9496 - precision: 0.9558 - recall: 0.9573 - val_loss: 0.2524 - val_tp: 1650.0000 - val_fp: 124.0000 - val_tn: 290.0000 - val_fn: 86.0000 - val_accuracy: 0.9023 - val_precision: 0.9301 - val_recall: 0.9505\n",
      "\n",
      "Epoch 00068: loss improved from 0.12953 to 0.12894, saving model to mobilenetV2checkpoints\\cp-0068.ckpt\n",
      "Epoch 69/100\n",
      "274/274 [==============================] - 99s 360ms/step - loss: 0.1277 - tp: 4873.0000 - fp: 217.0000 - tn: 3464.0000 - fn: 210.0000 - accuracy: 0.9513 - precision: 0.9574 - recall: 0.9587 - val_loss: 0.3746 - val_tp: 1509.0000 - val_fp: 89.0000 - val_tn: 325.0000 - val_fn: 227.0000 - val_accuracy: 0.8530 - val_precision: 0.9443 - val_recall: 0.8692\n",
      "\n",
      "Epoch 00069: loss improved from 0.12894 to 0.12768, saving model to mobilenetV2checkpoints\\cp-0069.ckpt\n",
      "Epoch 70/100\n",
      "274/274 [==============================] - 99s 360ms/step - loss: 0.1415 - tp: 4851.0000 - fp: 247.0000 - tn: 3434.0000 - fn: 232.0000 - accuracy: 0.9453 - precision: 0.9515 - recall: 0.9544 - val_loss: 0.2486 - val_tp: 1589.0000 - val_fp: 67.0000 - val_tn: 347.0000 - val_fn: 147.0000 - val_accuracy: 0.9005 - val_precision: 0.9595 - val_recall: 0.9153\n",
      "\n",
      "Epoch 00070: loss did not improve from 0.12768\n",
      "Epoch 71/100\n",
      "274/274 [==============================] - 98s 357ms/step - loss: 0.1285 - tp: 4865.0000 - fp: 230.0000 - tn: 3451.0000 - fn: 218.0000 - accuracy: 0.9489 - precision: 0.9549 - recall: 0.9571 - val_loss: 0.2519 - val_tp: 1605.0000 - val_fp: 70.0000 - val_tn: 344.0000 - val_fn: 131.0000 - val_accuracy: 0.9065 - val_precision: 0.9582 - val_recall: 0.9245\n",
      "\n",
      "Epoch 00071: loss did not improve from 0.12768\n",
      "Epoch 72/100\n",
      "274/274 [==============================] - 101s 367ms/step - loss: 0.1269 - tp: 4875.0000 - fp: 212.0000 - tn: 3469.0000 - fn: 208.0000 - accuracy: 0.9521 - precision: 0.9583 - recall: 0.9591 - val_loss: 0.2487 - val_tp: 1612.0000 - val_fp: 68.0000 - val_tn: 346.0000 - val_fn: 124.0000 - val_accuracy: 0.9107 - val_precision: 0.9595 - val_recall: 0.9286\n",
      "\n",
      "Epoch 00072: loss improved from 0.12768 to 0.12691, saving model to mobilenetV2checkpoints\\cp-0072.ckpt\n",
      "Epoch 73/100\n",
      "274/274 [==============================] - 95s 347ms/step - loss: 0.1261 - tp: 4881.0000 - fp: 222.0000 - tn: 3459.0000 - fn: 202.0000 - accuracy: 0.9516 - precision: 0.9565 - recall: 0.9603 - val_loss: 0.2506 - val_tp: 1593.0000 - val_fp: 52.0000 - val_tn: 362.0000 - val_fn: 143.0000 - val_accuracy: 0.9093 - val_precision: 0.9684 - val_recall: 0.9176\n",
      "\n",
      "Epoch 00073: loss improved from 0.12691 to 0.12607, saving model to mobilenetV2checkpoints\\cp-0073.ckpt\n",
      "Epoch 74/100\n",
      "274/274 [==============================] - 99s 362ms/step - loss: 0.1218 - tp: 4891.0000 - fp: 218.0000 - tn: 3463.0000 - fn: 192.0000 - accuracy: 0.9532 - precision: 0.9573 - recall: 0.9622 - val_loss: 0.3153 - val_tp: 1529.0000 - val_fp: 57.0000 - val_tn: 357.0000 - val_fn: 207.0000 - val_accuracy: 0.8772 - val_precision: 0.9641 - val_recall: 0.8808\n",
      "\n",
      "Epoch 00074: loss improved from 0.12607 to 0.12181, saving model to mobilenetV2checkpoints\\cp-0074.ckpt\n",
      "Epoch 75/100\n",
      "274/274 [==============================] - 98s 356ms/step - loss: 0.1269 - tp: 4871.0000 - fp: 223.0000 - tn: 3458.0000 - fn: 212.0000 - accuracy: 0.9504 - precision: 0.9562 - recall: 0.9583 - val_loss: 0.2174 - val_tp: 1611.0000 - val_fp: 44.0000 - val_tn: 370.0000 - val_fn: 125.0000 - val_accuracy: 0.9214 - val_precision: 0.9734 - val_recall: 0.9280\n"
     ]
    },
    {
     "name": "stdout",
     "output_type": "stream",
     "text": [
      "\n",
      "Epoch 00075: loss did not improve from 0.12181\n",
      "Epoch 76/100\n",
      "274/274 [==============================] - 95s 346ms/step - loss: 0.1236 - tp: 4874.0000 - fp: 220.0000 - tn: 3461.0000 - fn: 209.0000 - accuracy: 0.9510 - precision: 0.9568 - recall: 0.9589 - val_loss: 0.3174 - val_tp: 1542.0000 - val_fp: 62.0000 - val_tn: 352.0000 - val_fn: 194.0000 - val_accuracy: 0.8809 - val_precision: 0.9613 - val_recall: 0.8882\n",
      "\n",
      "Epoch 00076: loss did not improve from 0.12181\n",
      "Epoch 77/100\n",
      "274/274 [==============================] - 95s 346ms/step - loss: 0.1275 - tp: 4869.0000 - fp: 230.0000 - tn: 3451.0000 - fn: 214.0000 - accuracy: 0.9493 - precision: 0.9549 - recall: 0.9579 - val_loss: 0.2772 - val_tp: 1616.0000 - val_fp: 101.0000 - val_tn: 313.0000 - val_fn: 120.0000 - val_accuracy: 0.8972 - val_precision: 0.9412 - val_recall: 0.9309\n",
      "\n",
      "Epoch 00077: loss did not improve from 0.12181\n",
      "Epoch 78/100\n",
      "274/274 [==============================] - 95s 345ms/step - loss: 0.1236 - tp: 4882.0000 - fp: 198.0000 - tn: 3483.0000 - fn: 201.0000 - accuracy: 0.9545 - precision: 0.9610 - recall: 0.9605 - val_loss: 0.2867 - val_tp: 1566.0000 - val_fp: 67.0000 - val_tn: 347.0000 - val_fn: 170.0000 - val_accuracy: 0.8898 - val_precision: 0.9590 - val_recall: 0.9021\n",
      "\n",
      "Epoch 00078: loss did not improve from 0.12181\n",
      "Epoch 79/100\n",
      "274/274 [==============================] - 95s 345ms/step - loss: 0.1334 - tp: 4872.0000 - fp: 234.0000 - tn: 3447.0000 - fn: 211.0000 - accuracy: 0.9492 - precision: 0.9542 - recall: 0.9585 - val_loss: 0.2564 - val_tp: 1583.0000 - val_fp: 56.0000 - val_tn: 358.0000 - val_fn: 153.0000 - val_accuracy: 0.9028 - val_precision: 0.9658 - val_recall: 0.9119\n",
      "\n",
      "Epoch 00079: loss did not improve from 0.12181\n",
      "Epoch 80/100\n",
      "274/274 [==============================] - 95s 345ms/step - loss: 0.1235 - tp: 4882.0000 - fp: 195.0000 - tn: 3486.0000 - fn: 201.0000 - accuracy: 0.9548 - precision: 0.9616 - recall: 0.9605 - val_loss: 0.2316 - val_tp: 1651.0000 - val_fp: 105.0000 - val_tn: 309.0000 - val_fn: 85.0000 - val_accuracy: 0.9116 - val_precision: 0.9402 - val_recall: 0.9510\n",
      "\n",
      "Epoch 00080: loss did not improve from 0.12181\n",
      "Epoch 81/100\n",
      "274/274 [==============================] - 95s 345ms/step - loss: 0.1333 - tp: 4866.0000 - fp: 239.0000 - tn: 3442.0000 - fn: 217.0000 - accuracy: 0.9480 - precision: 0.9532 - recall: 0.9573 - val_loss: 0.2909 - val_tp: 1574.0000 - val_fp: 78.0000 - val_tn: 336.0000 - val_fn: 162.0000 - val_accuracy: 0.8884 - val_precision: 0.9528 - val_recall: 0.9067\n",
      "\n",
      "Epoch 00081: loss did not improve from 0.12181\n",
      "Epoch 82/100\n",
      "274/274 [==============================] - 95s 345ms/step - loss: 0.1273 - tp: 4866.0000 - fp: 213.0000 - tn: 3468.0000 - fn: 217.0000 - accuracy: 0.9509 - precision: 0.9581 - recall: 0.9573 - val_loss: 0.3319 - val_tp: 1522.0000 - val_fp: 55.0000 - val_tn: 359.0000 - val_fn: 214.0000 - val_accuracy: 0.8749 - val_precision: 0.9651 - val_recall: 0.8767\n",
      "\n",
      "Epoch 00082: loss did not improve from 0.12181\n",
      "Epoch 83/100\n",
      "274/274 [==============================] - 94s 344ms/step - loss: 0.1231 - tp: 4887.0000 - fp: 217.0000 - tn: 3464.0000 - fn: 196.0000 - accuracy: 0.9529 - precision: 0.9575 - recall: 0.9614 - val_loss: 0.2934 - val_tp: 1564.0000 - val_fp: 61.0000 - val_tn: 353.0000 - val_fn: 172.0000 - val_accuracy: 0.8916 - val_precision: 0.9625 - val_recall: 0.9009\n",
      "\n",
      "Epoch 00083: loss did not improve from 0.12181\n",
      "Epoch 84/100\n",
      "274/274 [==============================] - 94s 345ms/step - loss: 0.1281 - tp: 4867.0000 - fp: 202.0000 - tn: 3479.0000 - fn: 216.0000 - accuracy: 0.9523 - precision: 0.9601 - recall: 0.9575 - val_loss: 0.2079 - val_tp: 1656.0000 - val_fp: 90.0000 - val_tn: 324.0000 - val_fn: 80.0000 - val_accuracy: 0.9209 - val_precision: 0.9485 - val_recall: 0.9539\n",
      "\n",
      "Epoch 00084: loss did not improve from 0.12181\n",
      "Epoch 85/100\n",
      "274/274 [==============================] - 95s 345ms/step - loss: 0.1299 - tp: 4851.0000 - fp: 224.0000 - tn: 3457.0000 - fn: 232.0000 - accuracy: 0.9480 - precision: 0.9559 - recall: 0.9544 - val_loss: 0.2340 - val_tp: 1640.0000 - val_fp: 97.0000 - val_tn: 317.0000 - val_fn: 96.0000 - val_accuracy: 0.9102 - val_precision: 0.9442 - val_recall: 0.9447\n",
      "\n",
      "Epoch 00085: loss did not improve from 0.12181\n",
      "Epoch 86/100\n",
      "274/274 [==============================] - 95s 345ms/step - loss: 0.1244 - tp: 4878.0000 - fp: 222.0000 - tn: 3459.0000 - fn: 205.0000 - accuracy: 0.9513 - precision: 0.9565 - recall: 0.9597 - val_loss: 0.2374 - val_tp: 1620.0000 - val_fp: 75.0000 - val_tn: 339.0000 - val_fn: 116.0000 - val_accuracy: 0.9112 - val_precision: 0.9558 - val_recall: 0.9332\n",
      "\n",
      "Epoch 00086: loss did not improve from 0.12181\n",
      "Epoch 87/100\n",
      "274/274 [==============================] - 95s 345ms/step - loss: 0.1249 - tp: 4893.0000 - fp: 218.0000 - tn: 3463.0000 - fn: 190.0000 - accuracy: 0.9534 - precision: 0.9573 - recall: 0.9626 - val_loss: 0.2576 - val_tp: 1583.0000 - val_fp: 62.0000 - val_tn: 352.0000 - val_fn: 153.0000 - val_accuracy: 0.9000 - val_precision: 0.9623 - val_recall: 0.9119\n",
      "\n",
      "Epoch 00087: loss did not improve from 0.12181\n",
      "Epoch 88/100\n",
      "274/274 [==============================] - 94s 344ms/step - loss: 0.1211 - tp: 4882.0000 - fp: 190.0000 - tn: 3491.0000 - fn: 201.0000 - accuracy: 0.9554 - precision: 0.9625 - recall: 0.9605 - val_loss: 0.2382 - val_tp: 1636.0000 - val_fp: 79.0000 - val_tn: 335.0000 - val_fn: 100.0000 - val_accuracy: 0.9167 - val_precision: 0.9539 - val_recall: 0.9424\n",
      "\n",
      "Epoch 00088: loss improved from 0.12181 to 0.12114, saving model to mobilenetV2checkpoints\\cp-0088.ckpt\n",
      "Epoch 89/100\n",
      "274/274 [==============================] - 95s 345ms/step - loss: 0.1179 - tp: 4886.0000 - fp: 203.0000 - tn: 3478.0000 - fn: 197.0000 - accuracy: 0.9544 - precision: 0.9601 - recall: 0.9612 - val_loss: 0.2742 - val_tp: 1608.0000 - val_fp: 87.0000 - val_tn: 327.0000 - val_fn: 128.0000 - val_accuracy: 0.9000 - val_precision: 0.9487 - val_recall: 0.9263\n",
      "\n",
      "Epoch 00089: loss improved from 0.12114 to 0.11792, saving model to mobilenetV2checkpoints\\cp-0089.ckpt\n",
      "Epoch 90/100\n",
      "274/274 [==============================] - 95s 346ms/step - loss: 0.1317 - tp: 4877.0000 - fp: 232.0000 - tn: 3449.0000 - fn: 206.0000 - accuracy: 0.9500 - precision: 0.9546 - recall: 0.9595 - val_loss: 0.2635 - val_tp: 1588.0000 - val_fp: 61.0000 - val_tn: 353.0000 - val_fn: 148.0000 - val_accuracy: 0.9028 - val_precision: 0.9630 - val_recall: 0.9147\n",
      "\n",
      "Epoch 00090: loss did not improve from 0.11792\n",
      "Epoch 91/100\n",
      "274/274 [==============================] - 95s 346ms/step - loss: 0.1166 - tp: 4893.0000 - fp: 188.0000 - tn: 3493.0000 - fn: 190.0000 - accuracy: 0.9569 - precision: 0.9630 - recall: 0.9626 - val_loss: 0.2843 - val_tp: 1559.0000 - val_fp: 65.0000 - val_tn: 349.0000 - val_fn: 177.0000 - val_accuracy: 0.8874 - val_precision: 0.9600 - val_recall: 0.8980\n",
      "\n",
      "Epoch 00091: loss improved from 0.11792 to 0.11660, saving model to mobilenetV2checkpoints\\cp-0091.ckpt\n",
      "Epoch 92/100\n",
      "274/274 [==============================] - 95s 345ms/step - loss: 0.1239 - tp: 4881.0000 - fp: 218.0000 - tn: 3463.0000 - fn: 202.0000 - accuracy: 0.9521 - precision: 0.9572 - recall: 0.9603 - val_loss: 0.3227 - val_tp: 1498.0000 - val_fp: 53.0000 - val_tn: 361.0000 - val_fn: 238.0000 - val_accuracy: 0.8647 - val_precision: 0.9658 - val_recall: 0.8629\n",
      "\n",
      "Epoch 00092: loss did not improve from 0.11660\n",
      "Epoch 93/100\n",
      "274/274 [==============================] - 95s 345ms/step - loss: 0.1325 - tp: 4852.0000 - fp: 218.0000 - tn: 3463.0000 - fn: 231.0000 - accuracy: 0.9488 - precision: 0.9570 - recall: 0.9546 - val_loss: 0.3069 - val_tp: 1565.0000 - val_fp: 90.0000 - val_tn: 324.0000 - val_fn: 171.0000 - val_accuracy: 0.8786 - val_precision: 0.9456 - val_recall: 0.9015\n",
      "\n",
      "Epoch 00093: loss did not improve from 0.11660\n",
      "Epoch 94/100\n",
      "274/274 [==============================] - 95s 346ms/step - loss: 0.1261 - tp: 4881.0000 - fp: 223.0000 - tn: 3458.0000 - fn: 202.0000 - accuracy: 0.9515 - precision: 0.9563 - recall: 0.9603 - val_loss: 0.2756 - val_tp: 1567.0000 - val_fp: 50.0000 - val_tn: 364.0000 - val_fn: 169.0000 - val_accuracy: 0.8981 - val_precision: 0.9691 - val_recall: 0.9026\n",
      "\n",
      "Epoch 00094: loss did not improve from 0.11660\n",
      "Epoch 95/100\n",
      "274/274 [==============================] - 95s 345ms/step - loss: 0.1200 - tp: 4881.0000 - fp: 227.0000 - tn: 3454.0000 - fn: 202.0000 - accuracy: 0.9510 - precision: 0.9556 - recall: 0.9603 - val_loss: 0.2085 - val_tp: 1630.0000 - val_fp: 59.0000 - val_tn: 355.0000 - val_fn: 106.0000 - val_accuracy: 0.9233 - val_precision: 0.9651 - val_recall: 0.9389\n",
      "\n",
      "Epoch 00095: loss did not improve from 0.11660\n",
      "Epoch 96/100\n",
      "274/274 [==============================] - 95s 345ms/step - loss: 0.1250 - tp: 4873.0000 - fp: 205.0000 - tn: 3476.0000 - fn: 210.0000 - accuracy: 0.9526 - precision: 0.9596 - recall: 0.9587 - val_loss: 0.2798 - val_tp: 1590.0000 - val_fp: 91.0000 - val_tn: 323.0000 - val_fn: 146.0000 - val_accuracy: 0.8898 - val_precision: 0.9459 - val_recall: 0.9159\n",
      "\n",
      "Epoch 00096: loss did not improve from 0.11660\n",
      "Epoch 97/100\n",
      "274/274 [==============================] - 95s 345ms/step - loss: 0.1188 - tp: 4888.0000 - fp: 210.0000 - tn: 3471.0000 - fn: 195.0000 - accuracy: 0.9538 - precision: 0.9588 - recall: 0.9616 - val_loss: 0.2066 - val_tp: 1637.0000 - val_fp: 83.0000 - val_tn: 331.0000 - val_fn: 99.0000 - val_accuracy: 0.9153 - val_precision: 0.9517 - val_recall: 0.9430\n",
      "\n",
      "Epoch 00097: loss did not improve from 0.11660\n",
      "Epoch 98/100\n",
      "274/274 [==============================] - 95s 345ms/step - loss: 0.1158 - tp: 4887.0000 - fp: 211.0000 - tn: 3470.0000 - fn: 196.0000 - accuracy: 0.9536 - precision: 0.9586 - recall: 0.9614 - val_loss: 0.2106 - val_tp: 1636.0000 - val_fp: 74.0000 - val_tn: 340.0000 - val_fn: 100.0000 - val_accuracy: 0.9191 - val_precision: 0.9567 - val_recall: 0.9424\n",
      "\n",
      "Epoch 00098: loss improved from 0.11660 to 0.11581, saving model to mobilenetV2checkpoints\\cp-0098.ckpt\n",
      "Epoch 99/100\n",
      "274/274 [==============================] - 95s 346ms/step - loss: 0.1194 - tp: 4896.0000 - fp: 212.0000 - tn: 3469.0000 - fn: 187.0000 - accuracy: 0.9545 - precision: 0.9585 - recall: 0.9632 - val_loss: 0.2062 - val_tp: 1644.0000 - val_fp: 60.0000 - val_tn: 354.0000 - val_fn: 92.0000 - val_accuracy: 0.9293 - val_precision: 0.9648 - val_recall: 0.9470\n",
      "\n",
      "Epoch 00099: loss did not improve from 0.11581\n",
      "Epoch 100/100\n",
      "274/274 [==============================] - 95s 345ms/step - loss: 0.1241 - tp: 4900.0000 - fp: 198.0000 - tn: 3483.0000 - fn: 183.0000 - accuracy: 0.9565 - precision: 0.9612 - recall: 0.9640 - val_loss: 0.2332 - val_tp: 1615.0000 - val_fp: 53.0000 - val_tn: 361.0000 - val_fn: 121.0000 - val_accuracy: 0.9191 - val_precision: 0.9682 - val_recall: 0.9303\n",
      "\n",
      "Epoch 00100: loss did not improve from 0.11581\n"
     ]
    }
   ],
   "source": [
    "\n",
    "hist = model.fit_generator(\n",
    "          train_generator,\n",
    "          steps_per_epoch = len(train_generator),\n",
    "          validation_data=validation_generator,\n",
    "          epochs=100,\n",
    "          validation_steps=len(validation_generator),\n",
    "          callbacks=callbacks_list\n",
    "                 )"
   ]
  },
  {
   "cell_type": "code",
   "execution_count": 14,
   "id": "ff6708a1-eed5-47ae-b4ae-104d69aa152f",
   "metadata": {},
   "outputs": [
    {
     "name": "stderr",
     "output_type": "stream",
     "text": [
      "C:\\Users\\User\\anaconda3\\envs\\TF-Gpu\\lib\\site-packages\\keras\\engine\\training.py:2006: UserWarning: `Model.evaluate_generator` is deprecated and will be removed in a future version. Please use `Model.evaluate`, which supports generators.\n",
      "  warnings.warn('`Model.evaluate_generator` is deprecated and '\n"
     ]
    },
    {
     "data": {
      "text/plain": [
       "[0.08187834918498993,\n",
       " 4970.0,\n",
       " 134.0,\n",
       " 3547.0,\n",
       " 113.0,\n",
       " 0.9718165397644043,\n",
       " 0.9737460613250732,\n",
       " 0.9777690172195435]"
      ]
     },
     "execution_count": 14,
     "metadata": {},
     "output_type": "execute_result"
    }
   ],
   "source": [
    "model.evaluate_generator(train_generator)"
   ]
  },
  {
   "cell_type": "code",
   "execution_count": 15,
   "id": "f2dc689a-6d6f-4492-8274-884f888c8a0d",
   "metadata": {},
   "outputs": [
    {
     "data": {
      "text/plain": [
       "[0.23316438496112823,\n",
       " 1615.0,\n",
       " 53.0,\n",
       " 361.0,\n",
       " 121.0,\n",
       " 0.919069766998291,\n",
       " 0.9682254195213318,\n",
       " 0.9302995204925537]"
      ]
     },
     "execution_count": 15,
     "metadata": {},
     "output_type": "execute_result"
    }
   ],
   "source": [
    "model.evaluate_generator(validation_generator)"
   ]
  },
  {
   "cell_type": "code",
   "execution_count": 16,
   "id": "3e6b75b2-d1f3-4d88-8807-5a2887ee4b50",
   "metadata": {},
   "outputs": [
    {
     "data": {
      "text/plain": [
       "['checkpoint',\n",
       " 'cp-0001.ckpt.data-00000-of-00001',\n",
       " 'cp-0001.ckpt.index',\n",
       " 'cp-0002.ckpt.data-00000-of-00001',\n",
       " 'cp-0002.ckpt.index',\n",
       " 'cp-0003.ckpt.data-00000-of-00001',\n",
       " 'cp-0003.ckpt.index',\n",
       " 'cp-0004.ckpt.data-00000-of-00001',\n",
       " 'cp-0004.ckpt.index',\n",
       " 'cp-0005.ckpt.data-00000-of-00001',\n",
       " 'cp-0005.ckpt.index',\n",
       " 'cp-0006.ckpt.data-00000-of-00001',\n",
       " 'cp-0006.ckpt.index',\n",
       " 'cp-0007.ckpt.data-00000-of-00001',\n",
       " 'cp-0007.ckpt.index',\n",
       " 'cp-0008.ckpt.data-00000-of-00001',\n",
       " 'cp-0008.ckpt.index',\n",
       " 'cp-0009.ckpt.data-00000-of-00001',\n",
       " 'cp-0009.ckpt.index',\n",
       " 'cp-0010.ckpt.data-00000-of-00001',\n",
       " 'cp-0010.ckpt.index',\n",
       " 'cp-0011.ckpt.data-00000-of-00001',\n",
       " 'cp-0011.ckpt.index',\n",
       " 'cp-0012.ckpt.data-00000-of-00001',\n",
       " 'cp-0012.ckpt.index',\n",
       " 'cp-0013.ckpt.data-00000-of-00001',\n",
       " 'cp-0013.ckpt.index',\n",
       " 'cp-0014.ckpt.data-00000-of-00001',\n",
       " 'cp-0014.ckpt.index',\n",
       " 'cp-0015.ckpt.data-00000-of-00001',\n",
       " 'cp-0015.ckpt.index',\n",
       " 'cp-0016.ckpt.data-00000-of-00001',\n",
       " 'cp-0016.ckpt.index',\n",
       " 'cp-0017.ckpt.data-00000-of-00001',\n",
       " 'cp-0017.ckpt.index',\n",
       " 'cp-0018.ckpt.data-00000-of-00001',\n",
       " 'cp-0018.ckpt.index',\n",
       " 'cp-0019.ckpt.data-00000-of-00001',\n",
       " 'cp-0019.ckpt.index',\n",
       " 'cp-0020.ckpt.data-00000-of-00001',\n",
       " 'cp-0020.ckpt.index',\n",
       " 'cp-0021.ckpt.data-00000-of-00001',\n",
       " 'cp-0021.ckpt.index',\n",
       " 'cp-0022.ckpt.data-00000-of-00001',\n",
       " 'cp-0022.ckpt.index',\n",
       " 'cp-0023.ckpt.data-00000-of-00001',\n",
       " 'cp-0023.ckpt.index',\n",
       " 'cp-0024.ckpt.data-00000-of-00001',\n",
       " 'cp-0024.ckpt.index',\n",
       " 'cp-0025.ckpt.data-00000-of-00001',\n",
       " 'cp-0025.ckpt.index',\n",
       " 'cp-0026.ckpt.data-00000-of-00001',\n",
       " 'cp-0026.ckpt.index',\n",
       " 'cp-0027.ckpt.data-00000-of-00001',\n",
       " 'cp-0027.ckpt.index',\n",
       " 'cp-0028.ckpt.data-00000-of-00001',\n",
       " 'cp-0028.ckpt.index',\n",
       " 'cp-0029.ckpt.data-00000-of-00001',\n",
       " 'cp-0029.ckpt.index',\n",
       " 'cp-0030.ckpt.data-00000-of-00001',\n",
       " 'cp-0030.ckpt.index',\n",
       " 'cp-0031.ckpt.data-00000-of-00001',\n",
       " 'cp-0031.ckpt.index',\n",
       " 'cp-0032.ckpt.data-00000-of-00001',\n",
       " 'cp-0032.ckpt.index',\n",
       " 'cp-0033.ckpt.data-00000-of-00001',\n",
       " 'cp-0033.ckpt.index',\n",
       " 'cp-0034.ckpt.data-00000-of-00001',\n",
       " 'cp-0034.ckpt.index',\n",
       " 'cp-0035.ckpt.data-00000-of-00001',\n",
       " 'cp-0035.ckpt.index',\n",
       " 'cp-0036.ckpt.data-00000-of-00001',\n",
       " 'cp-0036.ckpt.index',\n",
       " 'cp-0037.ckpt.data-00000-of-00001',\n",
       " 'cp-0037.ckpt.index',\n",
       " 'cp-0039.ckpt.data-00000-of-00001',\n",
       " 'cp-0039.ckpt.index',\n",
       " 'cp-0040.ckpt.data-00000-of-00001',\n",
       " 'cp-0040.ckpt.index',\n",
       " 'cp-0041.ckpt.data-00000-of-00001',\n",
       " 'cp-0041.ckpt.index',\n",
       " 'cp-0042.ckpt.data-00000-of-00001',\n",
       " 'cp-0042.ckpt.index',\n",
       " 'cp-0044.ckpt.data-00000-of-00001',\n",
       " 'cp-0044.ckpt.index',\n",
       " 'cp-0045.ckpt.data-00000-of-00001',\n",
       " 'cp-0045.ckpt.index',\n",
       " 'cp-0046.ckpt.data-00000-of-00001',\n",
       " 'cp-0046.ckpt.index',\n",
       " 'cp-0047.ckpt.data-00000-of-00001',\n",
       " 'cp-0047.ckpt.index',\n",
       " 'cp-0048.ckpt.data-00000-of-00001',\n",
       " 'cp-0048.ckpt.index',\n",
       " 'cp-0049.ckpt.data-00000-of-00001',\n",
       " 'cp-0049.ckpt.index',\n",
       " 'cp-0050.ckpt.data-00000-of-00001',\n",
       " 'cp-0050.ckpt.index',\n",
       " 'cp-0051.ckpt.data-00000-of-00001',\n",
       " 'cp-0051.ckpt.index',\n",
       " 'cp-0052.ckpt.data-00000-of-00001',\n",
       " 'cp-0052.ckpt.index',\n",
       " 'cp-0053.ckpt.data-00000-of-00001',\n",
       " 'cp-0053.ckpt.index',\n",
       " 'cp-0054.ckpt.data-00000-of-00001',\n",
       " 'cp-0054.ckpt.index',\n",
       " 'cp-0055.ckpt.data-00000-of-00001',\n",
       " 'cp-0055.ckpt.index',\n",
       " 'cp-0056.ckpt.data-00000-of-00001',\n",
       " 'cp-0056.ckpt.index',\n",
       " 'cp-0057.ckpt.data-00000-of-00001',\n",
       " 'cp-0057.ckpt.index',\n",
       " 'cp-0058.ckpt.data-00000-of-00001',\n",
       " 'cp-0058.ckpt.index',\n",
       " 'cp-0059.ckpt.data-00000-of-00001',\n",
       " 'cp-0059.ckpt.index',\n",
       " 'cp-0060.ckpt.data-00000-of-00001',\n",
       " 'cp-0060.ckpt.index',\n",
       " 'cp-0061.ckpt.data-00000-of-00001',\n",
       " 'cp-0061.ckpt.index',\n",
       " 'cp-0063.ckpt.data-00000-of-00001',\n",
       " 'cp-0063.ckpt.index',\n",
       " 'cp-0064.ckpt.data-00000-of-00001',\n",
       " 'cp-0064.ckpt.index',\n",
       " 'cp-0065.ckpt.data-00000-of-00001',\n",
       " 'cp-0065.ckpt.index',\n",
       " 'cp-0066.ckpt.data-00000-of-00001',\n",
       " 'cp-0066.ckpt.index',\n",
       " 'cp-0067.ckpt.data-00000-of-00001',\n",
       " 'cp-0067.ckpt.index',\n",
       " 'cp-0068.ckpt.data-00000-of-00001',\n",
       " 'cp-0068.ckpt.index',\n",
       " 'cp-0069.ckpt.data-00000-of-00001',\n",
       " 'cp-0069.ckpt.index',\n",
       " 'cp-0070.ckpt.data-00000-of-00001',\n",
       " 'cp-0070.ckpt.index',\n",
       " 'cp-0072.ckpt.data-00000-of-00001',\n",
       " 'cp-0072.ckpt.index',\n",
       " 'cp-0073.ckpt.data-00000-of-00001',\n",
       " 'cp-0073.ckpt.index',\n",
       " 'cp-0074.ckpt.data-00000-of-00001',\n",
       " 'cp-0074.ckpt.index',\n",
       " 'cp-0075.ckpt.data-00000-of-00001',\n",
       " 'cp-0075.ckpt.index',\n",
       " 'cp-0076.ckpt.data-00000-of-00001',\n",
       " 'cp-0076.ckpt.index',\n",
       " 'cp-0077.ckpt.data-00000-of-00001',\n",
       " 'cp-0077.ckpt.index',\n",
       " 'cp-0078.ckpt.data-00000-of-00001',\n",
       " 'cp-0078.ckpt.index',\n",
       " 'cp-0079.ckpt.data-00000-of-00001',\n",
       " 'cp-0079.ckpt.index',\n",
       " 'cp-0080.ckpt.data-00000-of-00001',\n",
       " 'cp-0080.ckpt.index',\n",
       " 'cp-0081.ckpt.data-00000-of-00001',\n",
       " 'cp-0081.ckpt.index',\n",
       " 'cp-0083.ckpt.data-00000-of-00001',\n",
       " 'cp-0083.ckpt.index',\n",
       " 'cp-0084.ckpt.data-00000-of-00001',\n",
       " 'cp-0084.ckpt.index',\n",
       " 'cp-0085.ckpt.data-00000-of-00001',\n",
       " 'cp-0085.ckpt.index',\n",
       " 'cp-0086.ckpt.data-00000-of-00001',\n",
       " 'cp-0086.ckpt.index',\n",
       " 'cp-0087.ckpt.data-00000-of-00001',\n",
       " 'cp-0087.ckpt.index',\n",
       " 'cp-0088.ckpt.data-00000-of-00001',\n",
       " 'cp-0088.ckpt.index',\n",
       " 'cp-0089.ckpt.data-00000-of-00001',\n",
       " 'cp-0089.ckpt.index',\n",
       " 'cp-0091.ckpt.data-00000-of-00001',\n",
       " 'cp-0091.ckpt.index',\n",
       " 'cp-0092.ckpt.data-00000-of-00001',\n",
       " 'cp-0092.ckpt.index',\n",
       " 'cp-0094.ckpt.data-00000-of-00001',\n",
       " 'cp-0094.ckpt.index',\n",
       " 'cp-0095.ckpt.data-00000-of-00001',\n",
       " 'cp-0095.ckpt.index',\n",
       " 'cp-0097.ckpt.data-00000-of-00001',\n",
       " 'cp-0097.ckpt.index',\n",
       " 'cp-0098.ckpt.data-00000-of-00001',\n",
       " 'cp-0098.ckpt.index',\n",
       " 'cp-0099.ckpt.data-00000-of-00001',\n",
       " 'cp-0099.ckpt.index',\n",
       " 'cp-0100.ckpt.data-00000-of-00001',\n",
       " 'cp-0100.ckpt.index']"
      ]
     },
     "execution_count": 16,
     "metadata": {},
     "output_type": "execute_result"
    }
   ],
   "source": [
    "os.listdir(checkpoint_dir)"
   ]
  },
  {
   "cell_type": "code",
   "execution_count": 17,
   "id": "f190963e-beff-4c90-87be-f17e21c13b4f",
   "metadata": {},
   "outputs": [
    {
     "data": {
      "text/plain": [
       "'mobilenetV2checkpoints\\\\cp-0098.ckpt'"
      ]
     },
     "execution_count": 17,
     "metadata": {},
     "output_type": "execute_result"
    }
   ],
   "source": [
    "import tensorflow\n",
    "latest = tensorflow.train.latest_checkpoint(checkpoint_dir)\n",
    "latest"
   ]
  },
  {
   "cell_type": "code",
   "execution_count": 18,
   "id": "9f55cd56",
   "metadata": {},
   "outputs": [
    {
     "data": {
      "text/plain": [
       "[0.23316438496112823,\n",
       " 1615.0,\n",
       " 53.0,\n",
       " 361.0,\n",
       " 121.0,\n",
       " 0.919069766998291,\n",
       " 0.9682254195213318,\n",
       " 0.9302995204925537]"
      ]
     },
     "execution_count": 18,
     "metadata": {},
     "output_type": "execute_result"
    }
   ],
   "source": [
    "model.evaluate_generator(validation_generator)"
   ]
  },
  {
   "cell_type": "code",
   "execution_count": 19,
   "id": "affbbbf4-078d-45b3-896a-92b3988a5c89",
   "metadata": {},
   "outputs": [],
   "source": [
    "# model.evaluate_generator(validation_generator)"
   ]
  },
  {
   "cell_type": "code",
   "execution_count": 20,
   "id": "48c909e3",
   "metadata": {},
   "outputs": [
    {
     "data": {
      "text/plain": [
       "[0.32694417238235474,\n",
       " 345.0,\n",
       " 51.0,\n",
       " 349.0,\n",
       " 55.0,\n",
       " 0.8675000071525574,\n",
       " 0.8712121248245239,\n",
       " 0.862500011920929]"
      ]
     },
     "execution_count": 20,
     "metadata": {},
     "output_type": "execute_result"
    }
   ],
   "source": [
    "model.evaluate_generator(test_generator)"
   ]
  },
  {
   "cell_type": "code",
   "execution_count": 21,
   "id": "0a32e86f-408e-4b25-b5f0-2be8fd7847ea",
   "metadata": {},
   "outputs": [
    {
     "name": "stdout",
     "output_type": "stream",
     "text": [
      "The model has a 85.9375% accuracy, with a loss of 0.622771143913269.\n"
     ]
    }
   ],
   "source": [
    "# Create a basic model instance\n",
    "model = create_model()\n",
    "\n",
    "# Evaluate the model\n",
    "results = model.evaluate_generator(validation_generator, 1)\n",
    "print(\"The model has a {}% accuracy, with a loss of {}.\".format(results[5]*100, results[0])) \n"
   ]
  },
  {
   "cell_type": "code",
   "execution_count": 22,
   "id": "414b0eaf-d85a-45c8-9405-142b8e8380e8",
   "metadata": {},
   "outputs": [
    {
     "name": "stdout",
     "output_type": "stream",
     "text": [
      "The model has a 86.11111044883728% accuracy, with a loss of 0.39513063430786133.\n"
     ]
    }
   ],
   "source": [
    "# Create a new model instance\n",
    "model = create_model()\n",
    "\n",
    "# Load the previously saved weights\n",
    "model.load_weights(latest)\n",
    "\n",
    "results = model.evaluate_generator(validation_generator, 1)\n",
    "print(\"The model has a {}% accuracy, with a loss of {}.\".format(results[5]*100, results[0])) \n"
   ]
  },
  {
   "cell_type": "code",
   "execution_count": 23,
   "id": "004597f6-ebbd-4f99-9a8c-5e7ff78443e7",
   "metadata": {
    "scrolled": true
   },
   "outputs": [
    {
     "data": {
      "image/png": "[encoded data removed]",
      "text/plain": [
       "<Figure size 432x288 with 1 Axes>"
      ]
     },
     "metadata": {
      "needs_background": "light"
     },
     "output_type": "display_data"
    },
    {
     "data": {
      "text/plain": [
       "<Figure size 432x288 with 0 Axes>"
      ]
     },
     "metadata": {},
     "output_type": "display_data"
    }
   ],
   "source": [
    "# accuracies\n",
    "plt.plot(hist.history['accuracy'], label='train acc')\n",
    "plt.plot(hist.history['val_accuracy'], label='val acc')\n",
    "plt.legend()\n",
    "plt.show()\n",
    "plt.savefig('AccVal_acc')"
   ]
  },
  {
   "cell_type": "code",
   "execution_count": 24,
   "id": "9785e822-08ae-4967-ab9b-e528db98eafe",
   "metadata": {},
   "outputs": [
    {
     "data": {
      "image/png": "[encoded data removed]",
      "text/plain": [
       "<Figure size 432x288 with 1 Axes>"
      ]
     },
     "metadata": {
      "needs_background": "light"
     },
     "output_type": "display_data"
    },
    {
     "data": {
      "text/plain": [
       "<Figure size 432x288 with 0 Axes>"
      ]
     },
     "metadata": {},
     "output_type": "display_data"
    }
   ],
   "source": [
    "# loss\n",
    "plt.plot(hist.history['loss'], label='train loss')\n",
    "plt.plot(hist.history['val_loss'], label='val loss')\n",
    "plt.legend()\n",
    "plt.show()\n",
    "plt.savefig('LossVal_loss')"
   ]
  },
  {
   "cell_type": "code",
   "execution_count": 25,
   "id": "6c1c33bf-fde4-48b2-b3b6-e7dec601a8e1",
   "metadata": {},
   "outputs": [],
   "source": [
    "y_actual = []\n",
    "y_test = []"
   ]
  },
  {
   "cell_type": "code",
   "execution_count": 26,
   "id": "8fe8f372-980d-4db0-bf26-126671dfd835",
   "metadata": {},
   "outputs": [],
   "source": [
    "import os\n",
    "from keras.preprocessing import image\n",
    "import numpy as np\n",
    "for i in os.listdir(\"CovidData/Val/negative/\"):\n",
    "   img = image.load_img(\"CovidData/Val/negative/\"+i, target_size= (224, 224));\n",
    "   img = image.img_to_array(img)\n",
    "   img = np.expand_dims(img, axis = 0)\n",
    "   p = model.predict(img)\n",
    "   classes_x=np.argmax(p,axis=0)\n",
    "   y_test.append(p[0,0])\n",
    "   y_actual.append(1)\n"
   ]
  },
  {
   "cell_type": "code",
   "execution_count": 27,
   "id": "e9412a23-4e32-4713-9a92-6ed3b0228d60",
   "metadata": {},
   "outputs": [],
   "source": [
    "for i in os.listdir(\"CovidData/val/covid/\"):\n",
    "   img = image.load_img(\"CovidData/Val/covid/\"+i, target_size= (224, 224));\n",
    "   img = image.img_to_array(img)\n",
    "   img = np.expand_dims(img, axis = 0)\n",
    "   p = model.predict(img)\n",
    "   classes_x=np.argmax(p,axis=0)\n",
    "   y_test.append(p[0,0])\n",
    "   y_actual.append(0)\n"
   ]
  },
  {
   "cell_type": "code",
   "execution_count": 28,
   "id": "54d58999-fc75-4007-8edf-c53e64445f29",
   "metadata": {},
   "outputs": [],
   "source": [
    "y_actual = np.array(y_actual)\n",
    "y_test = np.array(y_test)"
   ]
  },
  {
   "cell_type": "code",
   "execution_count": 29,
   "id": "4fe6fc04-93ff-46bd-966b-b95cd958841a",
   "metadata": {},
   "outputs": [
    {
     "name": "stdout",
     "output_type": "stream",
     "text": [
      "[1 1 1 1 1 1 1 1 1 1 1 1 1 1 1 1 1 1 1 1 1 1 1 1 1 1 1 1 1 1 0 0 0 0 0 0 0\n",
      " 0 0 0 0 0 0 0 0 0 0 0 0 0 0 0 0 0 0 0 0 0 0 0]\n"
     ]
    }
   ],
   "source": [
    "print(y_actual)\n"
   ]
  },
  {
   "cell_type": "code",
   "execution_count": 30,
   "id": "020a65d4-56cd-4741-bbdf-74886953efc3",
   "metadata": {},
   "outputs": [
    {
     "name": "stdout",
     "output_type": "stream",
     "text": [
      "[7.8550019e-13 4.2577382e-15 4.8359933e-14 2.3195894e-12 4.6629471e-12\n",
      " 7.5269203e-15 2.9188755e-13 3.7790587e-12 6.8136261e-11 3.5254948e-12\n",
      " 1.0570082e-12 1.1412383e-16 6.2741723e-14 3.4782843e-13 3.2756217e-16\n",
      " 1.0218314e-12 5.9675247e-13 6.6823786e-17 2.8175196e-10 8.7045562e-12\n",
      " 1.6667853e-11 3.5529696e-12 2.0658359e-14 4.8053656e-14 2.0381261e-18\n",
      " 1.1034510e-14 7.4791150e-17 5.7089404e-18 1.2332153e-16 1.2525199e-10\n",
      " 2.9069226e-11 7.5699885e-10 4.7172648e-12 3.8887071e-10 1.0501908e-10\n",
      " 1.1132532e-11 1.5914862e-15 1.6880885e-07 3.5364100e-13 7.2570519e-11\n",
      " 6.5735919e-15 2.1226368e-11 1.4149566e-12 3.1121075e-14 8.7450197e-10\n",
      " 6.0315287e-08 1.6512448e-08 6.7314104e-10 6.3819387e-11 2.9081978e-11\n",
      " 8.3215130e-13 3.1603251e-11 1.2847709e-10 6.1168314e-12 2.8615410e-09\n",
      " 2.5557815e-08 9.2564223e-10 1.0996439e-14 8.2515754e-09 2.4122099e-14]\n"
     ]
    }
   ],
   "source": [
    "print(y_test)"
   ]
  },
  {
   "cell_type": "code",
   "execution_count": 31,
   "id": "b33ccc36-1bd7-4de6-814b-8a0a53bf0a3e",
   "metadata": {},
   "outputs": [],
   "source": [
    "import seaborn as sns"
   ]
  },
  {
   "cell_type": "code",
   "execution_count": 32,
   "id": "e63d0bd8-54e2-43b0-8682-42cee0790bd2",
   "metadata": {},
   "outputs": [
    {
     "name": "stdout",
     "output_type": "stream",
     "text": [
      "              precision    recall  f1-score   support\n",
      "\n",
      "           0       0.50      1.00      0.67        30\n",
      "           1       0.00      0.00      0.00        30\n",
      "\n",
      "    accuracy                           0.50        60\n",
      "   macro avg       0.25      0.50      0.33        60\n",
      "weighted avg       0.25      0.50      0.33        60\n",
      "\n"
     ]
    },
    {
     "name": "stderr",
     "output_type": "stream",
     "text": [
      "C:\\Users\\User\\anaconda3\\envs\\TF-Gpu\\lib\\site-packages\\sklearn\\metrics\\_classification.py:1327: UndefinedMetricWarning: Precision and F-score are ill-defined and being set to 0.0 in labels with no predicted samples. Use `zero_division` parameter to control this behavior.\n",
      "  _warn_prf(average, modifier, msg_start, len(result))\n",
      "C:\\Users\\User\\anaconda3\\envs\\TF-Gpu\\lib\\site-packages\\sklearn\\metrics\\_classification.py:1327: UndefinedMetricWarning: Precision and F-score are ill-defined and being set to 0.0 in labels with no predicted samples. Use `zero_division` parameter to control this behavior.\n",
      "  _warn_prf(average, modifier, msg_start, len(result))\n",
      "C:\\Users\\User\\anaconda3\\envs\\TF-Gpu\\lib\\site-packages\\sklearn\\metrics\\_classification.py:1327: UndefinedMetricWarning: Precision and F-score are ill-defined and being set to 0.0 in labels with no predicted samples. Use `zero_division` parameter to control this behavior.\n",
      "  _warn_prf(average, modifier, msg_start, len(result))\n"
     ]
    }
   ],
   "source": [
    "from sklearn.metrics import classification_report\n",
    "\n",
    "print(classification_report(y_actual, np.round(abs(y_test))))\n"
   ]
  },
  {
   "cell_type": "code",
   "execution_count": 33,
   "id": "e833021c-0914-4303-8ac9-45a0080db06f",
   "metadata": {},
   "outputs": [
    {
     "data": {
      "text/plain": [
       "0.5"
      ]
     },
     "execution_count": 33,
     "metadata": {},
     "output_type": "execute_result"
    }
   ],
   "source": [
    "from sklearn.metrics import roc_auc_score,auc\n",
    "roc_auc = roc_auc_score(y_actual, np.round(abs(y_test)))\n",
    "\n",
    "roc_auc"
   ]
  },
  {
   "cell_type": "code",
   "execution_count": 34,
   "id": "7390fee5-007b-4259-91d1-ef5aeb45705d",
   "metadata": {},
   "outputs": [
    {
     "data": {
      "image/png": "[encoded data removed]",
      "text/plain": [
       "<Figure size 432x288 with 2 Axes>"
      ]
     },
     "metadata": {
      "needs_background": "light"
     },
     "output_type": "display_data"
    }
   ],
   "source": [
    "cm=[[406, 110],\n",
    "     [ 8, 1626]]\n",
    "\n",
    "import seaborn as sns\n",
    "\n",
    "ax = sns.heatmap(cm/np.sum(cm), cmap = \"Blues\", fmt='.2%', annot=True)\n",
    "\n",
    "ax.set_ylabel('\\nPredicted Values')\n",
    "ax.set_xlabel('Actual Values ');\n",
    "\n",
    "## Ticket labels - List must be in alphabetical order\n",
    "ax.yaxis.set_ticklabels(['Positive(0)','Negative(1)'])\n",
    "ax.xaxis.set_ticklabels(['Positive(0)','Negative(1)'])\n",
    "\n",
    "## Display the visualization of the Confusion Matrix.\n",
    "plt.show()"
   ]
  },
  {
   "cell_type": "code",
   "execution_count": 35,
   "id": "0513d739-c374-4531-a3dd-e9573b017617",
   "metadata": {},
   "outputs": [
    {
     "data": {
      "image/png": "[encoded data removed]",
      "text/plain": [
       "<Figure size 432x288 with 2 Axes>"
      ]
     },
     "metadata": {
      "needs_background": "light"
     },
     "output_type": "display_data"
    }
   ],
   "source": [
    "from numpy import *\n",
    "cm=[[406, 110],\n",
    "     [ 8, 1626]]\n",
    "\n",
    "import seaborn as sns\n",
    "\n",
    "ax = sns.heatmap(cm, cmap = \"Blues\", annot=True, fmt=\".0f\")\n",
    "\n",
    "ax.set_ylabel('\\nPredicted Values')\n",
    "ax.set_xlabel('Actual Values ');\n",
    "\n",
    "## Ticket labels - List must be in alphabetical order\n",
    "ax.yaxis.set_ticklabels(['Positive(0)','Negative(1)'])\n",
    "ax.xaxis.set_ticklabels(['Positive(0)','Negative(1)'])\n",
    "\n",
    "## Display the visualization of the Confusion Matrix.\n",
    "plt.show()"
   ]
  },
  {
   "cell_type": "code",
   "execution_count": 36,
   "id": "a921d2e1",
   "metadata": {},
   "outputs": [
    {
     "name": "stdout",
     "output_type": "stream",
     "text": [
      "              precision    recall  f1-score   support\n",
      "\n",
      "           0       0.50      1.00      0.67        30\n",
      "           1       0.00      0.00      0.00        30\n",
      "\n",
      "    accuracy                           0.50        60\n",
      "   macro avg       0.25      0.50      0.33        60\n",
      "weighted avg       0.25      0.50      0.33        60\n",
      "\n"
     ]
    },
    {
     "name": "stderr",
     "output_type": "stream",
     "text": [
      "C:\\Users\\User\\anaconda3\\envs\\TF-Gpu\\lib\\site-packages\\sklearn\\metrics\\_classification.py:1327: UndefinedMetricWarning: Precision and F-score are ill-defined and being set to 0.0 in labels with no predicted samples. Use `zero_division` parameter to control this behavior.\n",
      "  _warn_prf(average, modifier, msg_start, len(result))\n",
      "C:\\Users\\User\\anaconda3\\envs\\TF-Gpu\\lib\\site-packages\\sklearn\\metrics\\_classification.py:1327: UndefinedMetricWarning: Precision and F-score are ill-defined and being set to 0.0 in labels with no predicted samples. Use `zero_division` parameter to control this behavior.\n",
      "  _warn_prf(average, modifier, msg_start, len(result))\n",
      "C:\\Users\\User\\anaconda3\\envs\\TF-Gpu\\lib\\site-packages\\sklearn\\metrics\\_classification.py:1327: UndefinedMetricWarning: Precision and F-score are ill-defined and being set to 0.0 in labels with no predicted samples. Use `zero_division` parameter to control this behavior.\n",
      "  _warn_prf(average, modifier, msg_start, len(result))\n"
     ]
    }
   ],
   "source": [
    "from sklearn.metrics import classification_report\n",
    "\n",
    "print(classification_report(y_actual, np.round(abs(y_test))))"
   ]
  },
  {
   "cell_type": "code",
   "execution_count": null,
   "id": "7d8a14c1",
   "metadata": {},
   "outputs": [],
   "source": []
  }
 ],
 "metadata": {
  "kernelspec": {
   "display_name": "Python 3 (ipykernel)",
   "language": "python",
   "name": "python3"
  },
  "language_info": {
   "codemirror_mode": {
    "name": "ipython",
    "version": 3
   },
   "file_extension": ".py",
   "mimetype": "text/x-python",
   "name": "python",
   "nbconvert_exporter": "python",
   "pygments_lexer": "ipython3",
   "version": "3.9.7"
  }
 },
 "nbformat": 4,
 "nbformat_minor": 5
}
