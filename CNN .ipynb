{
 "cells": [
  {
   "cell_type": "code",
   "execution_count": 1,
   "id": "84f37612-c6c8-4287-97ed-c5b0070a59b9",
   "metadata": {},
   "outputs": [],
   "source": [
    "TRAIN_PATH = \"CovidDataset1/Train\"\n",
    "VAL_PATH = \"CovidDataset1/Val\"\n",
    "TEST_PATH = \"CovidDataset1/test\""
   ]
  },
  {
   "cell_type": "code",
   "execution_count": 2,
   "id": "511daa5f-2226-4373-b320-255134fe2264",
   "metadata": {},
   "outputs": [],
   "source": [
    "import numpy as np\n",
    "import matplotlib.pyplot as plt\n",
    "import keras\n",
    "from keras.layers import *\n",
    "from keras.models import * \n",
    "from keras.preprocessing import image"
   ]
  },
  {
   "cell_type": "code",
   "execution_count": 3,
   "id": "989a3a0f",
   "metadata": {},
   "outputs": [],
   "source": [
    "from keras.metrics import *\n",
    "\n",
    "METRICS = [\n",
    "      TruePositives(name='tp'),\n",
    "      FalsePositives(name='fp'),\n",
    "      TrueNegatives(name='tn'),\n",
    "      FalseNegatives(name='fn'), \n",
    "      BinaryAccuracy(name='accuracy'),\n",
    "      Precision(name='precision'),\n",
    "      Recall(name='recall'),\n",
    "]"
   ]
  },
  {
   "cell_type": "code",
   "execution_count": 4,
   "id": "c0986fb8-48ea-4cd5-a556-9def8379e5da",
   "metadata": {},
   "outputs": [],
   "source": [
    "# CNN Based Model in Keras\n",
    "def create_model():\n",
    "\n",
    "    model= Sequential()\n",
    "    \n",
    "    model.add(Conv2D(32,kernel_size=(3,3),activation='relu',input_shape=(224,224,3)))\n",
    "    model.add(Conv2D(64,(3,3),activation='relu'))\n",
    "    model.add(MaxPooling2D(pool_size=(2,2)))\n",
    "    model.add(Dropout(0.25))\n",
    "    \n",
    "    model.add(Conv2D(64,(3,3),activation='relu'))\n",
    "    model.add(MaxPooling2D(pool_size=(2,2)))\n",
    "    model.add(Dropout(0.25))\n",
    "    \n",
    "    model.add(Conv2D(128,(3,3),activation='relu'))\n",
    "    model.add(MaxPooling2D(pool_size=(2,2)))\n",
    "    model.add(Dropout(0.25))\n",
    "    \n",
    "    model.add(Flatten())\n",
    "    model.add(Dense(64,activation='relu'))\n",
    "    model.add(Dropout(0.5))\n",
    "    \n",
    "    model.add(Dense(1,activation='sigmoid'))\n",
    "\n",
    "    model.compile(loss=keras.losses.binary_crossentropy,optimizer='adam',metrics=METRICS)\n",
    "    return model\n"
   ]
  },
  {
   "cell_type": "code",
   "execution_count": 5,
   "id": "5c4381ef-e045-4af4-b9d1-bc46e7f03bdf",
   "metadata": {},
   "outputs": [
    {
     "name": "stdout",
     "output_type": "stream",
     "text": [
      "Model: \"sequential\"\n",
      "_________________________________________________________________\n",
      "Layer (type)                 Output Shape              Param #   \n",
      "=================================================================\n",
      "conv2d (Conv2D)              (None, 222, 222, 32)      896       \n",
      "_________________________________________________________________\n",
      "conv2d_1 (Conv2D)            (None, 220, 220, 64)      18496     \n",
      "_________________________________________________________________\n",
      "max_pooling2d (MaxPooling2D) (None, 110, 110, 64)      0         \n",
      "_________________________________________________________________\n",
      "dropout (Dropout)            (None, 110, 110, 64)      0         \n",
      "_________________________________________________________________\n",
      "conv2d_2 (Conv2D)            (None, 108, 108, 64)      36928     \n",
      "_________________________________________________________________\n",
      "max_pooling2d_1 (MaxPooling2 (None, 54, 54, 64)        0         \n",
      "_________________________________________________________________\n",
      "dropout_1 (Dropout)          (None, 54, 54, 64)        0         \n",
      "_________________________________________________________________\n",
      "conv2d_3 (Conv2D)            (None, 52, 52, 128)       73856     \n",
      "_________________________________________________________________\n",
      "max_pooling2d_2 (MaxPooling2 (None, 26, 26, 128)       0         \n",
      "_________________________________________________________________\n",
      "dropout_2 (Dropout)          (None, 26, 26, 128)       0         \n",
      "_________________________________________________________________\n",
      "flatten (Flatten)            (None, 86528)             0         \n",
      "_________________________________________________________________\n",
      "dense (Dense)                (None, 64)                5537856   \n",
      "_________________________________________________________________\n",
      "dropout_3 (Dropout)          (None, 64)                0         \n",
      "_________________________________________________________________\n",
      "dense_1 (Dense)              (None, 1)                 65        \n",
      "=================================================================\n",
      "Total params: 5,668,097\n",
      "Trainable params: 5,668,097\n",
      "Non-trainable params: 0\n",
      "_________________________________________________________________\n"
     ]
    }
   ],
   "source": [
    "model = create_model()\n",
    "model.summary()"
   ]
  },
  {
   "cell_type": "code",
   "execution_count": 6,
   "id": "80ae6bb5-38cf-419d-bf6f-4cf924f21c24",
   "metadata": {},
   "outputs": [],
   "source": [
    "# Train from scratch\n",
    "train_datagen = image.ImageDataGenerator(\n",
    "    rescale = 1./255,\n",
    "    shear_range = 0.2,\n",
    "    zoom_range = 0.2,\n",
    "    horizontal_flip = True,\n",
    ")\n",
    "\n",
    "test_dataset = image.ImageDataGenerator(\n",
    "    rescale=1./255\n",
    ")"
   ]
  },
  {
   "cell_type": "code",
   "execution_count": 7,
   "id": "0590866e-bddb-4f48-8b97-bf1e0ef9d735",
   "metadata": {},
   "outputs": [
    {
     "name": "stdout",
     "output_type": "stream",
     "text": [
      "Found 8764 images belonging to 2 classes.\n"
     ]
    }
   ],
   "source": [
    "train_generator = train_datagen.flow_from_directory(\n",
    "    TRAIN_PATH,\n",
    "    target_size = (224,224),\n",
    "    batch_size = 32,\n",
    "    class_mode = 'binary')"
   ]
  },
  {
   "cell_type": "code",
   "execution_count": 8,
   "id": "034890a8-858a-4e61-bb60-74886a666af7",
   "metadata": {},
   "outputs": [
    {
     "name": "stdout",
     "output_type": "stream",
     "text": [
      "Found 2150 images belonging to 2 classes.\n"
     ]
    }
   ],
   "source": [
    "validation_generator = test_dataset.flow_from_directory(\n",
    "    VAL_PATH,\n",
    "    target_size = (224,224),\n",
    "    batch_size = 32,\n",
    "    class_mode = 'binary')"
   ]
  },
  {
   "cell_type": "code",
   "execution_count": 9,
   "id": "d7fb4c34",
   "metadata": {},
   "outputs": [
    {
     "name": "stdout",
     "output_type": "stream",
     "text": [
      "Found 800 images belonging to 2 classes.\n"
     ]
    }
   ],
   "source": [
    "test_generator = test_dataset.flow_from_directory(\n",
    "    TEST_PATH,\n",
    "    target_size = (224,224),\n",
    "    batch_size = 32,\n",
    "    class_mode = 'binary')"
   ]
  },
  {
   "cell_type": "code",
   "execution_count": 10,
   "id": "f9545627-4453-4bba-a156-b5cc5310f5a2",
   "metadata": {},
   "outputs": [
    {
     "data": {
      "text/plain": [
       "{'Covid': 0, 'Negative': 1}"
      ]
     },
     "execution_count": 10,
     "metadata": {},
     "output_type": "execute_result"
    }
   ],
   "source": [
    "train_generator.class_indices"
   ]
  },
  {
   "cell_type": "code",
   "execution_count": 11,
   "id": "05c9b90d-0843-4135-b72d-e6620aaf1767",
   "metadata": {},
   "outputs": [],
   "source": [
    "import os\n",
    "from keras.callbacks import ModelCheckpoint,EarlyStopping, CSVLogger\n",
    "checkpoint_path = \"CNN/cp-{epoch:04d}.ckpt\"\n",
    "checkpoint_dir = os.path.dirname(checkpoint_path)\n",
    "checkpoint = ModelCheckpoint(filepath=checkpoint_path, monitor='loss', verbose=1,save_weights_only=True,save_best_only=True, mode='auto')\n",
    "early_stop = EarlyStopping(monitor='loss', patience=20, verbose=1)\n",
    "log_csv = CSVLogger('CNN.csv', separator=',', append=False)\n",
    "reduce_lr = keras.callbacks.ReduceLROnPlateau(monitor='loss', factor=0.5,\n",
    "                              patience=5)\n",
    "\n",
    "callbacks_list = [checkpoint,reduce_lr, log_csv]\n"
   ]
  },
  {
   "cell_type": "code",
   "execution_count": 12,
   "id": "3db930d5-7f30-4e67-9864-febbdb7fe29d",
   "metadata": {
    "scrolled": true
   },
   "outputs": [
    {
     "name": "stdout",
     "output_type": "stream",
     "text": [
      "Epoch 1/120\n",
      "274/274 [==============================] - 61s 184ms/step - loss: 5.0276 - tp: 4211.0000 - fp: 1578.0000 - tn: 2103.0000 - fn: 872.0000 - accuracy: 0.7204 - precision: 0.7274 - recall: 0.8284 - val_loss: 0.3673 - val_tp: 1546.0000 - val_fp: 125.0000 - val_tn: 289.0000 - val_fn: 190.0000 - val_accuracy: 0.8535 - val_precision: 0.9252 - val_recall: 0.8906\n",
      "\n",
      "Epoch 00001: loss improved from inf to 5.02757, saving model to CNN\\cp-0001.ckpt\n",
      "Epoch 2/120\n",
      "274/274 [==============================] - 43s 156ms/step - loss: 0.3576 - tp: 4349.0000 - fp: 557.0000 - tn: 3124.0000 - fn: 734.0000 - accuracy: 0.8527 - precision: 0.8865 - recall: 0.8556 - val_loss: 0.2568 - val_tp: 1612.0000 - val_fp: 109.0000 - val_tn: 305.0000 - val_fn: 124.0000 - val_accuracy: 0.8916 - val_precision: 0.9367 - val_recall: 0.9286\n",
      "\n",
      "Epoch 00002: loss improved from 5.02757 to 0.35760, saving model to CNN\\cp-0002.ckpt\n",
      "Epoch 3/120\n",
      "274/274 [==============================] - 43s 155ms/step - loss: 0.2823 - tp: 4523.0000 - fp: 427.0000 - tn: 3254.0000 - fn: 560.0000 - accuracy: 0.8874 - precision: 0.9137 - recall: 0.8898 - val_loss: 0.3301 - val_tp: 1660.0000 - val_fp: 160.0000 - val_tn: 254.0000 - val_fn: 76.0000 - val_accuracy: 0.8902 - val_precision: 0.9121 - val_recall: 0.9562\n",
      "\n",
      "Epoch 00003: loss improved from 0.35760 to 0.28225, saving model to CNN\\cp-0003.ckpt\n",
      "Epoch 4/120\n",
      "274/274 [==============================] - 42s 154ms/step - loss: 0.2612 - tp: 4595.0000 - fp: 406.0000 - tn: 3275.0000 - fn: 488.0000 - accuracy: 0.8980 - precision: 0.9188 - recall: 0.9040 - val_loss: 0.3214 - val_tp: 1525.0000 - val_fp: 70.0000 - val_tn: 344.0000 - val_fn: 211.0000 - val_accuracy: 0.8693 - val_precision: 0.9561 - val_recall: 0.8785\n",
      "\n",
      "Epoch 00004: loss improved from 0.28225 to 0.26120, saving model to CNN\\cp-0004.ckpt\n",
      "Epoch 5/120\n",
      "274/274 [==============================] - 42s 155ms/step - loss: 0.2110 - tp: 4695.0000 - fp: 313.0000 - tn: 3368.0000 - fn: 388.0000 - accuracy: 0.9200 - precision: 0.9375 - recall: 0.9237 - val_loss: 0.2408 - val_tp: 1659.0000 - val_fp: 119.0000 - val_tn: 295.0000 - val_fn: 77.0000 - val_accuracy: 0.9088 - val_precision: 0.9331 - val_recall: 0.9556\n",
      "\n",
      "Epoch 00005: loss improved from 0.26120 to 0.21104, saving model to CNN\\cp-0005.ckpt\n",
      "Epoch 6/120\n",
      "274/274 [==============================] - 44s 160ms/step - loss: 0.1847 - tp: 4719.0000 - fp: 283.0000 - tn: 3398.0000 - fn: 364.0000 - accuracy: 0.9262 - precision: 0.9434 - recall: 0.9284 - val_loss: 0.2484 - val_tp: 1617.0000 - val_fp: 91.0000 - val_tn: 323.0000 - val_fn: 119.0000 - val_accuracy: 0.9023 - val_precision: 0.9467 - val_recall: 0.9315\n",
      "\n",
      "Epoch 00006: loss improved from 0.21104 to 0.18472, saving model to CNN\\cp-0006.ckpt\n",
      "Epoch 7/120\n",
      "274/274 [==============================] - 43s 156ms/step - loss: 0.1550 - tp: 4799.0000 - fp: 235.0000 - tn: 3446.0000 - fn: 284.0000 - accuracy: 0.9408 - precision: 0.9533 - recall: 0.9441 - val_loss: 0.2693 - val_tp: 1647.0000 - val_fp: 103.0000 - val_tn: 311.0000 - val_fn: 89.0000 - val_accuracy: 0.9107 - val_precision: 0.9411 - val_recall: 0.9487\n",
      "\n",
      "Epoch 00007: loss improved from 0.18472 to 0.15498, saving model to CNN\\cp-0007.ckpt\n",
      "Epoch 8/120\n",
      "274/274 [==============================] - 42s 154ms/step - loss: 0.1667 - tp: 4804.0000 - fp: 247.0000 - tn: 3434.0000 - fn: 279.0000 - accuracy: 0.9400 - precision: 0.9511 - recall: 0.9451 - val_loss: 0.2975 - val_tp: 1614.0000 - val_fp: 102.0000 - val_tn: 312.0000 - val_fn: 122.0000 - val_accuracy: 0.8958 - val_precision: 0.9406 - val_recall: 0.9297\n",
      "\n",
      "Epoch 00008: loss did not improve from 0.15498\n",
      "Epoch 9/120\n",
      "274/274 [==============================] - 42s 154ms/step - loss: 0.1450 - tp: 4816.0000 - fp: 230.0000 - tn: 3451.0000 - fn: 267.0000 - accuracy: 0.9433 - precision: 0.9544 - recall: 0.9475 - val_loss: 0.3181 - val_tp: 1655.0000 - val_fp: 118.0000 - val_tn: 296.0000 - val_fn: 81.0000 - val_accuracy: 0.9074 - val_precision: 0.9334 - val_recall: 0.9533\n",
      "\n",
      "Epoch 00009: loss improved from 0.15498 to 0.14497, saving model to CNN\\cp-0009.ckpt\n",
      "Epoch 10/120\n",
      "274/274 [==============================] - 42s 154ms/step - loss: 0.1176 - tp: 4887.0000 - fp: 170.0000 - tn: 3511.0000 - fn: 196.0000 - accuracy: 0.9582 - precision: 0.9664 - recall: 0.9614 - val_loss: 0.2860 - val_tp: 1641.0000 - val_fp: 96.0000 - val_tn: 318.0000 - val_fn: 95.0000 - val_accuracy: 0.9112 - val_precision: 0.9447 - val_recall: 0.9453\n",
      "\n",
      "Epoch 00010: loss improved from 0.14497 to 0.11760, saving model to CNN\\cp-0010.ckpt\n",
      "Epoch 11/120\n",
      "274/274 [==============================] - 42s 154ms/step - loss: 0.1064 - tp: 4897.0000 - fp: 184.0000 - tn: 3497.0000 - fn: 186.0000 - accuracy: 0.9578 - precision: 0.9638 - recall: 0.9634 - val_loss: 0.3371 - val_tp: 1627.0000 - val_fp: 82.0000 - val_tn: 332.0000 - val_fn: 109.0000 - val_accuracy: 0.9112 - val_precision: 0.9520 - val_recall: 0.9372\n",
      "\n",
      "Epoch 00011: loss improved from 0.11760 to 0.10643, saving model to CNN\\cp-0011.ckpt\n",
      "Epoch 12/120\n",
      "274/274 [==============================] - 42s 154ms/step - loss: 0.1039 - tp: 4910.0000 - fp: 140.0000 - tn: 3541.0000 - fn: 173.0000 - accuracy: 0.9643 - precision: 0.9723 - recall: 0.9660 - val_loss: 0.2457 - val_tp: 1639.0000 - val_fp: 82.0000 - val_tn: 332.0000 - val_fn: 97.0000 - val_accuracy: 0.9167 - val_precision: 0.9524 - val_recall: 0.9441\n",
      "\n",
      "Epoch 00012: loss improved from 0.10643 to 0.10391, saving model to CNN\\cp-0012.ckpt\n",
      "Epoch 13/120\n",
      "274/274 [==============================] - 42s 154ms/step - loss: 0.0886 - tp: 4920.0000 - fp: 143.0000 - tn: 3538.0000 - fn: 163.0000 - accuracy: 0.9651 - precision: 0.9718 - recall: 0.9679 - val_loss: 0.2764 - val_tp: 1621.0000 - val_fp: 71.0000 - val_tn: 343.0000 - val_fn: 115.0000 - val_accuracy: 0.9135 - val_precision: 0.9580 - val_recall: 0.9338\n",
      "\n",
      "Epoch 00013: loss improved from 0.10391 to 0.08860, saving model to CNN\\cp-0013.ckpt\n",
      "Epoch 14/120\n",
      "274/274 [==============================] - 42s 154ms/step - loss: 0.0853 - tp: 4937.0000 - fp: 132.0000 - tn: 3549.0000 - fn: 146.0000 - accuracy: 0.9683 - precision: 0.9740 - recall: 0.9713 - val_loss: 0.3103 - val_tp: 1669.0000 - val_fp: 110.0000 - val_tn: 304.0000 - val_fn: 67.0000 - val_accuracy: 0.9177 - val_precision: 0.9382 - val_recall: 0.9614\n",
      "\n",
      "Epoch 00014: loss improved from 0.08860 to 0.08529, saving model to CNN\\cp-0014.ckpt\n",
      "Epoch 15/120\n",
      "274/274 [==============================] - 42s 154ms/step - loss: 0.0815 - tp: 4933.0000 - fp: 116.0000 - tn: 3565.0000 - fn: 150.0000 - accuracy: 0.9696 - precision: 0.9770 - recall: 0.9705 - val_loss: 0.2376 - val_tp: 1624.0000 - val_fp: 68.0000 - val_tn: 346.0000 - val_fn: 112.0000 - val_accuracy: 0.9163 - val_precision: 0.9598 - val_recall: 0.9355\n",
      "\n",
      "Epoch 00015: loss improved from 0.08529 to 0.08149, saving model to CNN\\cp-0015.ckpt\n",
      "Epoch 16/120\n",
      "274/274 [==============================] - 42s 154ms/step - loss: 0.0759 - tp: 4961.0000 - fp: 121.0000 - tn: 3560.0000 - fn: 122.0000 - accuracy: 0.9723 - precision: 0.9762 - recall: 0.9760 - val_loss: 0.2555 - val_tp: 1673.0000 - val_fp: 97.0000 - val_tn: 317.0000 - val_fn: 63.0000 - val_accuracy: 0.9256 - val_precision: 0.9452 - val_recall: 0.9637\n",
      "\n",
      "Epoch 00016: loss improved from 0.08149 to 0.07588, saving model to CNN\\cp-0016.ckpt\n",
      "Epoch 17/120\n",
      "274/274 [==============================] - 42s 154ms/step - loss: 0.0829 - tp: 4948.0000 - fp: 121.0000 - tn: 3560.0000 - fn: 135.0000 - accuracy: 0.9708 - precision: 0.9761 - recall: 0.9734 - val_loss: 0.2811 - val_tp: 1648.0000 - val_fp: 89.0000 - val_tn: 325.0000 - val_fn: 88.0000 - val_accuracy: 0.9177 - val_precision: 0.9488 - val_recall: 0.9493\n",
      "\n",
      "Epoch 00017: loss did not improve from 0.07588\n",
      "Epoch 18/120\n",
      "274/274 [==============================] - 42s 154ms/step - loss: 0.0619 - tp: 4974.0000 - fp: 103.0000 - tn: 3578.0000 - fn: 109.0000 - accuracy: 0.9758 - precision: 0.9797 - recall: 0.9786 - val_loss: 0.3185 - val_tp: 1610.0000 - val_fp: 76.0000 - val_tn: 338.0000 - val_fn: 126.0000 - val_accuracy: 0.9060 - val_precision: 0.9549 - val_recall: 0.9274\n",
      "\n",
      "Epoch 00018: loss improved from 0.07588 to 0.06188, saving model to CNN\\cp-0018.ckpt\n",
      "Epoch 19/120\n",
      "274/274 [==============================] - 42s 154ms/step - loss: 0.0754 - tp: 4956.0000 - fp: 115.0000 - tn: 3566.0000 - fn: 127.0000 - accuracy: 0.9724 - precision: 0.9773 - recall: 0.9750 - val_loss: 0.4377 - val_tp: 1578.0000 - val_fp: 78.0000 - val_tn: 336.0000 - val_fn: 158.0000 - val_accuracy: 0.8902 - val_precision: 0.9529 - val_recall: 0.9090\n",
      "\n",
      "Epoch 00019: loss did not improve from 0.06188\n",
      "Epoch 20/120\n",
      "274/274 [==============================] - 42s 155ms/step - loss: 0.0678 - tp: 4968.0000 - fp: 104.0000 - tn: 3577.0000 - fn: 115.0000 - accuracy: 0.9750 - precision: 0.9795 - recall: 0.9774 - val_loss: 0.7146 - val_tp: 1671.0000 - val_fp: 138.0000 - val_tn: 276.0000 - val_fn: 65.0000 - val_accuracy: 0.9056 - val_precision: 0.9237 - val_recall: 0.9626\n",
      "\n",
      "Epoch 00020: loss did not improve from 0.06188\n",
      "Epoch 21/120\n",
      "274/274 [==============================] - 42s 153ms/step - loss: 0.0652 - tp: 4989.0000 - fp: 97.0000 - tn: 3584.0000 - fn: 94.0000 - accuracy: 0.9782 - precision: 0.9809 - recall: 0.9815 - val_loss: 0.4818 - val_tp: 1612.0000 - val_fp: 87.0000 - val_tn: 327.0000 - val_fn: 124.0000 - val_accuracy: 0.9019 - val_precision: 0.9488 - val_recall: 0.9286\n",
      "\n",
      "Epoch 00021: loss did not improve from 0.06188\n",
      "Epoch 22/120\n",
      "274/274 [==============================] - 42s 153ms/step - loss: 0.0916 - tp: 4946.0000 - fp: 130.0000 - tn: 3551.0000 - fn: 137.0000 - accuracy: 0.9695 - precision: 0.9744 - recall: 0.9730 - val_loss: 0.4787 - val_tp: 1591.0000 - val_fp: 92.0000 - val_tn: 322.0000 - val_fn: 145.0000 - val_accuracy: 0.8898 - val_precision: 0.9453 - val_recall: 0.9165\n",
      "\n",
      "Epoch 00022: loss did not improve from 0.06188\n",
      "Epoch 23/120\n",
      "274/274 [==============================] - 42s 153ms/step - loss: 0.0730 - tp: 4961.0000 - fp: 102.0000 - tn: 3579.0000 - fn: 122.0000 - accuracy: 0.9744 - precision: 0.9799 - recall: 0.9760 - val_loss: 0.3232 - val_tp: 1676.0000 - val_fp: 101.0000 - val_tn: 313.0000 - val_fn: 60.0000 - val_accuracy: 0.9251 - val_precision: 0.9432 - val_recall: 0.9654\n",
      "\n",
      "Epoch 00023: loss did not improve from 0.06188\n",
      "Epoch 24/120\n",
      "274/274 [==============================] - 42s 153ms/step - loss: 0.0397 - tp: 5014.0000 - fp: 61.0000 - tn: 3620.0000 - fn: 69.0000 - accuracy: 0.9852 - precision: 0.9880 - recall: 0.9864 - val_loss: 0.4110 - val_tp: 1671.0000 - val_fp: 101.0000 - val_tn: 313.0000 - val_fn: 65.0000 - val_accuracy: 0.9228 - val_precision: 0.9430 - val_recall: 0.9626\n",
      "\n",
      "Epoch 00024: loss improved from 0.06188 to 0.03970, saving model to CNN\\cp-0024.ckpt\n",
      "Epoch 25/120\n",
      "274/274 [==============================] - 43s 155ms/step - loss: 0.0326 - tp: 5028.0000 - fp: 41.0000 - tn: 3640.0000 - fn: 55.0000 - accuracy: 0.9890 - precision: 0.9919 - recall: 0.9892 - val_loss: 0.4917 - val_tp: 1660.0000 - val_fp: 106.0000 - val_tn: 308.0000 - val_fn: 76.0000 - val_accuracy: 0.9153 - val_precision: 0.9400 - val_recall: 0.9562\n",
      "\n",
      "Epoch 00025: loss improved from 0.03970 to 0.03261, saving model to CNN\\cp-0025.ckpt\n",
      "Epoch 26/120\n",
      "274/274 [==============================] - 43s 155ms/step - loss: 0.0291 - tp: 5037.0000 - fp: 37.0000 - tn: 3644.0000 - fn: 46.0000 - accuracy: 0.9905 - precision: 0.9927 - recall: 0.9910 - val_loss: 0.3766 - val_tp: 1657.0000 - val_fp: 89.0000 - val_tn: 325.0000 - val_fn: 79.0000 - val_accuracy: 0.9219 - val_precision: 0.9490 - val_recall: 0.9545\n",
      "\n",
      "Epoch 00026: loss improved from 0.03261 to 0.02906, saving model to CNN\\cp-0026.ckpt\n",
      "Epoch 27/120\n",
      "274/274 [==============================] - 43s 156ms/step - loss: 0.0316 - tp: 5023.0000 - fp: 33.0000 - tn: 3648.0000 - fn: 60.0000 - accuracy: 0.9894 - precision: 0.9935 - recall: 0.9882 - val_loss: 0.3984 - val_tp: 1662.0000 - val_fp: 88.0000 - val_tn: 326.0000 - val_fn: 74.0000 - val_accuracy: 0.9247 - val_precision: 0.9497 - val_recall: 0.9574\n",
      "\n",
      "Epoch 00027: loss did not improve from 0.02906\n",
      "Epoch 28/120\n",
      "274/274 [==============================] - 43s 157ms/step - loss: 0.0276 - tp: 5037.0000 - fp: 44.0000 - tn: 3637.0000 - fn: 46.0000 - accuracy: 0.9897 - precision: 0.9913 - recall: 0.9910 - val_loss: 0.4518 - val_tp: 1668.0000 - val_fp: 100.0000 - val_tn: 314.0000 - val_fn: 68.0000 - val_accuracy: 0.9219 - val_precision: 0.9434 - val_recall: 0.9608\n",
      "\n",
      "Epoch 00028: loss improved from 0.02906 to 0.02758, saving model to CNN\\cp-0028.ckpt\n",
      "Epoch 29/120\n",
      "274/274 [==============================] - 43s 155ms/step - loss: 0.0248 - tp: 5031.0000 - fp: 33.0000 - tn: 3648.0000 - fn: 52.0000 - accuracy: 0.9903 - precision: 0.9935 - recall: 0.9898 - val_loss: 0.4723 - val_tp: 1661.0000 - val_fp: 101.0000 - val_tn: 313.0000 - val_fn: 75.0000 - val_accuracy: 0.9181 - val_precision: 0.9427 - val_recall: 0.9568\n",
      "\n",
      "Epoch 00029: loss improved from 0.02758 to 0.02482, saving model to CNN\\cp-0029.ckpt\n",
      "Epoch 30/120\n",
      "274/274 [==============================] - 43s 156ms/step - loss: 0.0355 - tp: 5029.0000 - fp: 46.0000 - tn: 3635.0000 - fn: 54.0000 - accuracy: 0.9886 - precision: 0.9909 - recall: 0.9894 - val_loss: 0.4223 - val_tp: 1661.0000 - val_fp: 83.0000 - val_tn: 331.0000 - val_fn: 75.0000 - val_accuracy: 0.9265 - val_precision: 0.9524 - val_recall: 0.9568\n",
      "\n",
      "Epoch 00030: loss did not improve from 0.02482\n",
      "Epoch 31/120\n",
      "274/274 [==============================] - 43s 156ms/step - loss: 0.0232 - tp: 5051.0000 - fp: 32.0000 - tn: 3649.0000 - fn: 32.0000 - accuracy: 0.9927 - precision: 0.9937 - recall: 0.9937 - val_loss: 0.5072 - val_tp: 1656.0000 - val_fp: 85.0000 - val_tn: 329.0000 - val_fn: 80.0000 - val_accuracy: 0.9233 - val_precision: 0.9512 - val_recall: 0.9539\n",
      "\n",
      "Epoch 00031: loss improved from 0.02482 to 0.02323, saving model to CNN\\cp-0031.ckpt\n",
      "Epoch 32/120\n",
      "274/274 [==============================] - 43s 156ms/step - loss: 0.0334 - tp: 5028.0000 - fp: 46.0000 - tn: 3635.0000 - fn: 55.0000 - accuracy: 0.9885 - precision: 0.9909 - recall: 0.9892 - val_loss: 0.4777 - val_tp: 1652.0000 - val_fp: 84.0000 - val_tn: 330.0000 - val_fn: 84.0000 - val_accuracy: 0.9219 - val_precision: 0.9516 - val_recall: 0.9516\n",
      "\n",
      "Epoch 00032: loss did not improve from 0.02323\n",
      "Epoch 33/120\n",
      "274/274 [==============================] - 43s 156ms/step - loss: 0.0283 - tp: 5033.0000 - fp: 35.0000 - tn: 3646.0000 - fn: 50.0000 - accuracy: 0.9903 - precision: 0.9931 - recall: 0.9902 - val_loss: 0.3921 - val_tp: 1667.0000 - val_fp: 70.0000 - val_tn: 344.0000 - val_fn: 69.0000 - val_accuracy: 0.9353 - val_precision: 0.9597 - val_recall: 0.9603\n",
      "\n",
      "Epoch 00033: loss did not improve from 0.02323\n",
      "Epoch 34/120\n",
      "274/274 [==============================] - 43s 156ms/step - loss: 0.0269 - tp: 5039.0000 - fp: 29.0000 - tn: 3652.0000 - fn: 44.0000 - accuracy: 0.9917 - precision: 0.9943 - recall: 0.9913 - val_loss: 0.4192 - val_tp: 1656.0000 - val_fp: 83.0000 - val_tn: 331.0000 - val_fn: 80.0000 - val_accuracy: 0.9242 - val_precision: 0.9523 - val_recall: 0.9539\n",
      "\n",
      "Epoch 00034: loss did not improve from 0.02323\n",
      "Epoch 35/120\n",
      "274/274 [==============================] - 43s 157ms/step - loss: 0.0233 - tp: 5046.0000 - fp: 38.0000 - tn: 3643.0000 - fn: 37.0000 - accuracy: 0.9914 - precision: 0.9925 - recall: 0.9927 - val_loss: 0.5963 - val_tp: 1687.0000 - val_fp: 111.0000 - val_tn: 303.0000 - val_fn: 49.0000 - val_accuracy: 0.9256 - val_precision: 0.9383 - val_recall: 0.9718\n",
      "\n",
      "Epoch 00035: loss did not improve from 0.02323\n",
      "Epoch 36/120\n",
      "274/274 [==============================] - 42s 155ms/step - loss: 0.0282 - tp: 5034.0000 - fp: 38.0000 - tn: 3643.0000 - fn: 49.0000 - accuracy: 0.9901 - precision: 0.9925 - recall: 0.9904 - val_loss: 0.5205 - val_tp: 1664.0000 - val_fp: 88.0000 - val_tn: 326.0000 - val_fn: 72.0000 - val_accuracy: 0.9256 - val_precision: 0.9498 - val_recall: 0.9585\n",
      "\n",
      "Epoch 00036: loss did not improve from 0.02323\n",
      "Epoch 37/120\n",
      "274/274 [==============================] - 44s 159ms/step - loss: 0.0223 - tp: 5042.0000 - fp: 28.0000 - tn: 3653.0000 - fn: 41.0000 - accuracy: 0.9921 - precision: 0.9945 - recall: 0.9919 - val_loss: 0.6501 - val_tp: 1671.0000 - val_fp: 102.0000 - val_tn: 312.0000 - val_fn: 65.0000 - val_accuracy: 0.9223 - val_precision: 0.9425 - val_recall: 0.9626\n",
      "\n",
      "Epoch 00037: loss improved from 0.02323 to 0.02235, saving model to CNN\\cp-0037.ckpt\n",
      "Epoch 38/120\n"
     ]
    },
    {
     "name": "stdout",
     "output_type": "stream",
     "text": [
      "274/274 [==============================] - 43s 156ms/step - loss: 0.0166 - tp: 5057.0000 - fp: 26.0000 - tn: 3655.0000 - fn: 26.0000 - accuracy: 0.9941 - precision: 0.9949 - recall: 0.9949 - val_loss: 0.6288 - val_tp: 1665.0000 - val_fp: 94.0000 - val_tn: 320.0000 - val_fn: 71.0000 - val_accuracy: 0.9233 - val_precision: 0.9466 - val_recall: 0.9591\n",
      "\n",
      "Epoch 00038: loss improved from 0.02235 to 0.01658, saving model to CNN\\cp-0038.ckpt\n",
      "Epoch 39/120\n",
      "274/274 [==============================] - 43s 157ms/step - loss: 0.0125 - tp: 5065.0000 - fp: 18.0000 - tn: 3663.0000 - fn: 18.0000 - accuracy: 0.9959 - precision: 0.9965 - recall: 0.9965 - val_loss: 0.5782 - val_tp: 1674.0000 - val_fp: 92.0000 - val_tn: 322.0000 - val_fn: 62.0000 - val_accuracy: 0.9284 - val_precision: 0.9479 - val_recall: 0.9643\n",
      "\n",
      "Epoch 00039: loss improved from 0.01658 to 0.01247, saving model to CNN\\cp-0039.ckpt\n",
      "Epoch 40/120\n",
      "274/274 [==============================] - 44s 159ms/step - loss: 0.0143 - tp: 5062.0000 - fp: 22.0000 - tn: 3659.0000 - fn: 21.0000 - accuracy: 0.9951 - precision: 0.9957 - recall: 0.9959 - val_loss: 0.6612 - val_tp: 1675.0000 - val_fp: 102.0000 - val_tn: 312.0000 - val_fn: 61.0000 - val_accuracy: 0.9242 - val_precision: 0.9426 - val_recall: 0.9649\n",
      "\n",
      "Epoch 00040: loss did not improve from 0.01247\n",
      "Epoch 41/120\n",
      "274/274 [==============================] - 44s 160ms/step - loss: 0.0129 - tp: 5056.0000 - fp: 21.0000 - tn: 3660.0000 - fn: 27.0000 - accuracy: 0.9945 - precision: 0.9959 - recall: 0.9947 - val_loss: 0.7978 - val_tp: 1673.0000 - val_fp: 110.0000 - val_tn: 304.0000 - val_fn: 63.0000 - val_accuracy: 0.9195 - val_precision: 0.9383 - val_recall: 0.9637\n",
      "\n",
      "Epoch 00041: loss did not improve from 0.01247\n",
      "Epoch 42/120\n",
      "274/274 [==============================] - 43s 156ms/step - loss: 0.0139 - tp: 5050.0000 - fp: 15.0000 - tn: 3666.0000 - fn: 33.0000 - accuracy: 0.9945 - precision: 0.9970 - recall: 0.9935 - val_loss: 0.6783 - val_tp: 1678.0000 - val_fp: 109.0000 - val_tn: 305.0000 - val_fn: 58.0000 - val_accuracy: 0.9223 - val_precision: 0.9390 - val_recall: 0.9666\n",
      "\n",
      "Epoch 00042: loss did not improve from 0.01247\n",
      "Epoch 43/120\n",
      "274/274 [==============================] - 43s 156ms/step - loss: 0.0112 - tp: 5061.0000 - fp: 14.0000 - tn: 3667.0000 - fn: 22.0000 - accuracy: 0.9959 - precision: 0.9972 - recall: 0.9957 - val_loss: 0.6623 - val_tp: 1674.0000 - val_fp: 106.0000 - val_tn: 308.0000 - val_fn: 62.0000 - val_accuracy: 0.9219 - val_precision: 0.9404 - val_recall: 0.9643\n",
      "\n",
      "Epoch 00043: loss improved from 0.01247 to 0.01122, saving model to CNN\\cp-0043.ckpt\n",
      "Epoch 44/120\n",
      "274/274 [==============================] - 43s 157ms/step - loss: 0.0104 - tp: 5057.0000 - fp: 14.0000 - tn: 3667.0000 - fn: 26.0000 - accuracy: 0.9954 - precision: 0.9972 - recall: 0.9949 - val_loss: 0.6632 - val_tp: 1665.0000 - val_fp: 98.0000 - val_tn: 316.0000 - val_fn: 71.0000 - val_accuracy: 0.9214 - val_precision: 0.9444 - val_recall: 0.9591\n",
      "\n",
      "Epoch 00044: loss improved from 0.01122 to 0.01045, saving model to CNN\\cp-0044.ckpt\n",
      "Epoch 45/120\n",
      "274/274 [==============================] - 43s 155ms/step - loss: 0.0123 - tp: 5057.0000 - fp: 18.0000 - tn: 3663.0000 - fn: 26.0000 - accuracy: 0.9950 - precision: 0.9965 - recall: 0.9949 - val_loss: 0.6429 - val_tp: 1657.0000 - val_fp: 88.0000 - val_tn: 326.0000 - val_fn: 79.0000 - val_accuracy: 0.9223 - val_precision: 0.9496 - val_recall: 0.9545\n",
      "\n",
      "Epoch 00045: loss did not improve from 0.01045\n",
      "Epoch 46/120\n",
      "274/274 [==============================] - 43s 156ms/step - loss: 0.0098 - tp: 5058.0000 - fp: 11.0000 - tn: 3670.0000 - fn: 25.0000 - accuracy: 0.9959 - precision: 0.9978 - recall: 0.9951 - val_loss: 0.8272 - val_tp: 1670.0000 - val_fp: 97.0000 - val_tn: 317.0000 - val_fn: 66.0000 - val_accuracy: 0.9242 - val_precision: 0.9451 - val_recall: 0.9620\n",
      "\n",
      "Epoch 00046: loss improved from 0.01045 to 0.00982, saving model to CNN\\cp-0046.ckpt\n",
      "Epoch 47/120\n",
      "274/274 [==============================] - 42s 154ms/step - loss: 0.0155 - tp: 5057.0000 - fp: 16.0000 - tn: 3665.0000 - fn: 26.0000 - accuracy: 0.9952 - precision: 0.9968 - recall: 0.9949 - val_loss: 0.7852 - val_tp: 1672.0000 - val_fp: 102.0000 - val_tn: 312.0000 - val_fn: 64.0000 - val_accuracy: 0.9228 - val_precision: 0.9425 - val_recall: 0.9631\n",
      "\n",
      "Epoch 00047: loss did not improve from 0.00982\n",
      "Epoch 48/120\n",
      "274/274 [==============================] - 43s 156ms/step - loss: 0.0088 - tp: 5063.0000 - fp: 10.0000 - tn: 3671.0000 - fn: 20.0000 - accuracy: 0.9966 - precision: 0.9980 - recall: 0.9961 - val_loss: 0.8502 - val_tp: 1661.0000 - val_fp: 95.0000 - val_tn: 319.0000 - val_fn: 75.0000 - val_accuracy: 0.9209 - val_precision: 0.9459 - val_recall: 0.9568\n",
      "\n",
      "Epoch 00048: loss improved from 0.00982 to 0.00882, saving model to CNN\\cp-0048.ckpt\n",
      "Epoch 49/120\n",
      "274/274 [==============================] - 43s 155ms/step - loss: 0.0127 - tp: 5063.0000 - fp: 13.0000 - tn: 3668.0000 - fn: 20.0000 - accuracy: 0.9962 - precision: 0.9974 - recall: 0.9961 - val_loss: 0.7690 - val_tp: 1664.0000 - val_fp: 92.0000 - val_tn: 322.0000 - val_fn: 72.0000 - val_accuracy: 0.9237 - val_precision: 0.9476 - val_recall: 0.9585\n",
      "\n",
      "Epoch 00049: loss did not improve from 0.00882\n",
      "Epoch 50/120\n",
      "274/274 [==============================] - 43s 158ms/step - loss: 0.0139 - tp: 5053.0000 - fp: 20.0000 - tn: 3661.0000 - fn: 30.0000 - accuracy: 0.9943 - precision: 0.9961 - recall: 0.9941 - val_loss: 0.7675 - val_tp: 1663.0000 - val_fp: 95.0000 - val_tn: 319.0000 - val_fn: 73.0000 - val_accuracy: 0.9219 - val_precision: 0.9460 - val_recall: 0.9579\n",
      "\n",
      "Epoch 00050: loss did not improve from 0.00882\n",
      "Epoch 51/120\n",
      "274/274 [==============================] - 43s 158ms/step - loss: 0.0145 - tp: 5060.0000 - fp: 18.0000 - tn: 3663.0000 - fn: 23.0000 - accuracy: 0.9953 - precision: 0.9965 - recall: 0.9955 - val_loss: 0.8196 - val_tp: 1673.0000 - val_fp: 106.0000 - val_tn: 308.0000 - val_fn: 63.0000 - val_accuracy: 0.9214 - val_precision: 0.9404 - val_recall: 0.9637\n",
      "\n",
      "Epoch 00051: loss did not improve from 0.00882\n",
      "Epoch 52/120\n",
      "274/274 [==============================] - 44s 159ms/step - loss: 0.0111 - tp: 5059.0000 - fp: 15.0000 - tn: 3666.0000 - fn: 24.0000 - accuracy: 0.9955 - precision: 0.9970 - recall: 0.9953 - val_loss: 0.7774 - val_tp: 1672.0000 - val_fp: 103.0000 - val_tn: 311.0000 - val_fn: 64.0000 - val_accuracy: 0.9223 - val_precision: 0.9420 - val_recall: 0.9631\n",
      "\n",
      "Epoch 00052: loss did not improve from 0.00882\n",
      "Epoch 53/120\n",
      "274/274 [==============================] - 43s 157ms/step - loss: 0.0112 - tp: 5063.0000 - fp: 13.0000 - tn: 3668.0000 - fn: 20.0000 - accuracy: 0.9962 - precision: 0.9974 - recall: 0.9961 - val_loss: 0.9890 - val_tp: 1672.0000 - val_fp: 115.0000 - val_tn: 299.0000 - val_fn: 64.0000 - val_accuracy: 0.9167 - val_precision: 0.9356 - val_recall: 0.9631\n",
      "\n",
      "Epoch 00053: loss did not improve from 0.00882\n",
      "Epoch 54/120\n",
      "274/274 [==============================] - 42s 153ms/step - loss: 0.0116 - tp: 5064.0000 - fp: 15.0000 - tn: 3666.0000 - fn: 19.0000 - accuracy: 0.9961 - precision: 0.9970 - recall: 0.9963 - val_loss: 0.7894 - val_tp: 1671.0000 - val_fp: 103.0000 - val_tn: 311.0000 - val_fn: 65.0000 - val_accuracy: 0.9219 - val_precision: 0.9419 - val_recall: 0.9626\n",
      "\n",
      "Epoch 00054: loss did not improve from 0.00882\n",
      "Epoch 55/120\n",
      "274/274 [==============================] - 42s 152ms/step - loss: 0.0060 - tp: 5072.0000 - fp: 4.0000 - tn: 3677.0000 - fn: 11.0000 - accuracy: 0.9983 - precision: 0.9992 - recall: 0.9978 - val_loss: 0.8313 - val_tp: 1673.0000 - val_fp: 101.0000 - val_tn: 313.0000 - val_fn: 63.0000 - val_accuracy: 0.9237 - val_precision: 0.9431 - val_recall: 0.9637\n",
      "\n",
      "Epoch 00055: loss improved from 0.00882 to 0.00601, saving model to CNN\\cp-0055.ckpt\n",
      "Epoch 56/120\n",
      "274/274 [==============================] - 42s 153ms/step - loss: 0.0088 - tp: 5066.0000 - fp: 10.0000 - tn: 3671.0000 - fn: 17.0000 - accuracy: 0.9969 - precision: 0.9980 - recall: 0.9967 - val_loss: 0.8192 - val_tp: 1675.0000 - val_fp: 101.0000 - val_tn: 313.0000 - val_fn: 61.0000 - val_accuracy: 0.9247 - val_precision: 0.9431 - val_recall: 0.9649\n",
      "\n",
      "Epoch 00056: loss did not improve from 0.00601\n",
      "Epoch 57/120\n",
      "274/274 [==============================] - 42s 153ms/step - loss: 0.0063 - tp: 5074.0000 - fp: 5.0000 - tn: 3676.0000 - fn: 9.0000 - accuracy: 0.9984 - precision: 0.9990 - recall: 0.9982 - val_loss: 0.7603 - val_tp: 1675.0000 - val_fp: 98.0000 - val_tn: 316.0000 - val_fn: 61.0000 - val_accuracy: 0.9260 - val_precision: 0.9447 - val_recall: 0.9649\n",
      "\n",
      "Epoch 00057: loss did not improve from 0.00601\n",
      "Epoch 58/120\n",
      "274/274 [==============================] - 42s 152ms/step - loss: 0.0090 - tp: 5068.0000 - fp: 13.0000 - tn: 3668.0000 - fn: 15.0000 - accuracy: 0.9968 - precision: 0.9974 - recall: 0.9970 - val_loss: 0.6936 - val_tp: 1669.0000 - val_fp: 96.0000 - val_tn: 318.0000 - val_fn: 67.0000 - val_accuracy: 0.9242 - val_precision: 0.9456 - val_recall: 0.9614\n",
      "\n",
      "Epoch 00058: loss did not improve from 0.00601\n",
      "Epoch 59/120\n",
      "274/274 [==============================] - 42s 153ms/step - loss: 0.0068 - tp: 5070.0000 - fp: 9.0000 - tn: 3672.0000 - fn: 13.0000 - accuracy: 0.9975 - precision: 0.9982 - recall: 0.9974 - val_loss: 0.7867 - val_tp: 1670.0000 - val_fp: 99.0000 - val_tn: 315.0000 - val_fn: 66.0000 - val_accuracy: 0.9233 - val_precision: 0.9440 - val_recall: 0.9620\n",
      "\n",
      "Epoch 00059: loss did not improve from 0.00601\n",
      "Epoch 60/120\n",
      "274/274 [==============================] - 42s 155ms/step - loss: 0.0072 - tp: 5067.0000 - fp: 9.0000 - tn: 3672.0000 - fn: 16.0000 - accuracy: 0.9971 - precision: 0.9982 - recall: 0.9969 - val_loss: 0.8378 - val_tp: 1685.0000 - val_fp: 108.0000 - val_tn: 306.0000 - val_fn: 51.0000 - val_accuracy: 0.9260 - val_precision: 0.9398 - val_recall: 0.9706\n",
      "\n",
      "Epoch 00060: loss did not improve from 0.00601\n",
      "Epoch 61/120\n",
      "274/274 [==============================] - 42s 153ms/step - loss: 0.0100 - tp: 5066.0000 - fp: 13.0000 - tn: 3668.0000 - fn: 17.0000 - accuracy: 0.9966 - precision: 0.9974 - recall: 0.9967 - val_loss: 0.8022 - val_tp: 1671.0000 - val_fp: 100.0000 - val_tn: 314.0000 - val_fn: 65.0000 - val_accuracy: 0.9233 - val_precision: 0.9435 - val_recall: 0.9626\n",
      "\n",
      "Epoch 00061: loss did not improve from 0.00601\n",
      "Epoch 62/120\n",
      "274/274 [==============================] - 42s 153ms/step - loss: 0.0071 - tp: 5067.0000 - fp: 7.0000 - tn: 3674.0000 - fn: 16.0000 - accuracy: 0.9974 - precision: 0.9986 - recall: 0.9969 - val_loss: 0.8514 - val_tp: 1684.0000 - val_fp: 105.0000 - val_tn: 309.0000 - val_fn: 52.0000 - val_accuracy: 0.9270 - val_precision: 0.9413 - val_recall: 0.9700\n",
      "\n",
      "Epoch 00062: loss did not improve from 0.00601\n",
      "Epoch 63/120\n",
      "274/274 [==============================] - 42s 153ms/step - loss: 0.0072 - tp: 5065.0000 - fp: 8.0000 - tn: 3673.0000 - fn: 18.0000 - accuracy: 0.9970 - precision: 0.9984 - recall: 0.9965 - val_loss: 0.8582 - val_tp: 1678.0000 - val_fp: 102.0000 - val_tn: 312.0000 - val_fn: 58.0000 - val_accuracy: 0.9256 - val_precision: 0.9427 - val_recall: 0.9666\n",
      "\n",
      "Epoch 00063: loss did not improve from 0.00601\n",
      "Epoch 64/120\n",
      "274/274 [==============================] - 42s 153ms/step - loss: 0.0060 - tp: 5070.0000 - fp: 10.0000 - tn: 3671.0000 - fn: 13.0000 - accuracy: 0.9974 - precision: 0.9980 - recall: 0.9974 - val_loss: 0.8584 - val_tp: 1679.0000 - val_fp: 104.0000 - val_tn: 310.0000 - val_fn: 57.0000 - val_accuracy: 0.9251 - val_precision: 0.9417 - val_recall: 0.9672\n",
      "\n",
      "Epoch 00064: loss improved from 0.00601 to 0.00599, saving model to CNN\\cp-0064.ckpt\n",
      "Epoch 65/120\n",
      "274/274 [==============================] - 42s 153ms/step - loss: 0.0055 - tp: 5070.0000 - fp: 6.0000 - tn: 3675.0000 - fn: 13.0000 - accuracy: 0.9978 - precision: 0.9988 - recall: 0.9974 - val_loss: 0.8293 - val_tp: 1672.0000 - val_fp: 100.0000 - val_tn: 314.0000 - val_fn: 64.0000 - val_accuracy: 0.9237 - val_precision: 0.9436 - val_recall: 0.9631\n",
      "\n",
      "Epoch 00065: loss improved from 0.00599 to 0.00552, saving model to CNN\\cp-0065.ckpt\n",
      "Epoch 66/120\n",
      "274/274 [==============================] - 42s 153ms/step - loss: 0.0061 - tp: 5072.0000 - fp: 9.0000 - tn: 3672.0000 - fn: 11.0000 - accuracy: 0.9977 - precision: 0.9982 - recall: 0.9978 - val_loss: 0.8312 - val_tp: 1670.0000 - val_fp: 97.0000 - val_tn: 317.0000 - val_fn: 66.0000 - val_accuracy: 0.9242 - val_precision: 0.9451 - val_recall: 0.9620\n",
      "\n",
      "Epoch 00066: loss did not improve from 0.00552\n",
      "Epoch 67/120\n",
      "274/274 [==============================] - 42s 153ms/step - loss: 0.0054 - tp: 5071.0000 - fp: 4.0000 - tn: 3677.0000 - fn: 12.0000 - accuracy: 0.9982 - precision: 0.9992 - recall: 0.9976 - val_loss: 0.8105 - val_tp: 1673.0000 - val_fp: 101.0000 - val_tn: 313.0000 - val_fn: 63.0000 - val_accuracy: 0.9237 - val_precision: 0.9431 - val_recall: 0.9637\n",
      "\n",
      "Epoch 00067: loss improved from 0.00552 to 0.00535, saving model to CNN\\cp-0067.ckpt\n",
      "Epoch 68/120\n",
      "274/274 [==============================] - 42s 153ms/step - loss: 0.0044 - tp: 5073.0000 - fp: 4.0000 - tn: 3677.0000 - fn: 10.0000 - accuracy: 0.9984 - precision: 0.9992 - recall: 0.9980 - val_loss: 0.9169 - val_tp: 1676.0000 - val_fp: 107.0000 - val_tn: 307.0000 - val_fn: 60.0000 - val_accuracy: 0.9223 - val_precision: 0.9400 - val_recall: 0.9654\n",
      "\n",
      "Epoch 00068: loss improved from 0.00535 to 0.00443, saving model to CNN\\cp-0068.ckpt\n",
      "Epoch 69/120\n",
      "274/274 [==============================] - 42s 153ms/step - loss: 0.0050 - tp: 5069.0000 - fp: 3.0000 - tn: 3678.0000 - fn: 14.0000 - accuracy: 0.9981 - precision: 0.9994 - recall: 0.9972 - val_loss: 0.9512 - val_tp: 1679.0000 - val_fp: 108.0000 - val_tn: 306.0000 - val_fn: 57.0000 - val_accuracy: 0.9233 - val_precision: 0.9396 - val_recall: 0.9672\n",
      "\n",
      "Epoch 00069: loss did not improve from 0.00443\n",
      "Epoch 70/120\n",
      "274/274 [==============================] - 42s 152ms/step - loss: 0.0044 - tp: 5075.0000 - fp: 4.0000 - tn: 3677.0000 - fn: 8.0000 - accuracy: 0.9986 - precision: 0.9992 - recall: 0.9984 - val_loss: 0.8164 - val_tp: 1675.0000 - val_fp: 98.0000 - val_tn: 316.0000 - val_fn: 61.0000 - val_accuracy: 0.9260 - val_precision: 0.9447 - val_recall: 0.9649\n",
      "\n",
      "Epoch 00070: loss improved from 0.00443 to 0.00436, saving model to CNN\\cp-0070.ckpt\n",
      "Epoch 71/120\n",
      "274/274 [==============================] - 42s 153ms/step - loss: 0.0066 - tp: 5069.0000 - fp: 10.0000 - tn: 3671.0000 - fn: 14.0000 - accuracy: 0.9973 - precision: 0.9980 - recall: 0.9972 - val_loss: 0.8469 - val_tp: 1674.0000 - val_fp: 99.0000 - val_tn: 315.0000 - val_fn: 62.0000 - val_accuracy: 0.9251 - val_precision: 0.9442 - val_recall: 0.9643\n",
      "\n",
      "Epoch 00071: loss did not improve from 0.00436\n",
      "Epoch 72/120\n",
      "274/274 [==============================] - 42s 153ms/step - loss: 0.0072 - tp: 5069.0000 - fp: 6.0000 - tn: 3675.0000 - fn: 14.0000 - accuracy: 0.9977 - precision: 0.9988 - recall: 0.9972 - val_loss: 0.8461 - val_tp: 1683.0000 - val_fp: 98.0000 - val_tn: 316.0000 - val_fn: 53.0000 - val_accuracy: 0.9298 - val_precision: 0.9450 - val_recall: 0.9695\n",
      "\n",
      "Epoch 00072: loss did not improve from 0.00436\n",
      "Epoch 73/120\n",
      "274/274 [==============================] - 42s 153ms/step - loss: 0.0044 - tp: 5072.0000 - fp: 8.0000 - tn: 3673.0000 - fn: 11.0000 - accuracy: 0.9978 - precision: 0.9984 - recall: 0.9978 - val_loss: 0.8011 - val_tp: 1676.0000 - val_fp: 97.0000 - val_tn: 317.0000 - val_fn: 60.0000 - val_accuracy: 0.9270 - val_precision: 0.9453 - val_recall: 0.9654\n",
      "\n",
      "Epoch 00073: loss did not improve from 0.00436\n",
      "Epoch 74/120\n",
      "274/274 [==============================] - 42s 153ms/step - loss: 0.0053 - tp: 5066.0000 - fp: 5.0000 - tn: 3676.0000 - fn: 17.0000 - accuracy: 0.9975 - precision: 0.9990 - recall: 0.9967 - val_loss: 0.8470 - val_tp: 1677.0000 - val_fp: 97.0000 - val_tn: 317.0000 - val_fn: 59.0000 - val_accuracy: 0.9274 - val_precision: 0.9453 - val_recall: 0.9660\n",
      "\n",
      "Epoch 00074: loss did not improve from 0.00436\n",
      "Epoch 75/120\n",
      "274/274 [==============================] - 44s 160ms/step - loss: 0.0053 - tp: 5073.0000 - fp: 11.0000 - tn: 3670.0000 - fn: 10.0000 - accuracy: 0.9976 - precision: 0.9978 - recall: 0.9980 - val_loss: 0.8483 - val_tp: 1676.0000 - val_fp: 95.0000 - val_tn: 319.0000 - val_fn: 60.0000 - val_accuracy: 0.9279 - val_precision: 0.9464 - val_recall: 0.9654\n",
      "\n",
      "Epoch 00075: loss did not improve from 0.00436\n",
      "Epoch 76/120\n"
     ]
    },
    {
     "name": "stdout",
     "output_type": "stream",
     "text": [
      "274/274 [==============================] - 42s 153ms/step - loss: 0.0043 - tp: 5067.0000 - fp: 4.0000 - tn: 3677.0000 - fn: 16.0000 - accuracy: 0.9977 - precision: 0.9992 - recall: 0.9969 - val_loss: 0.8497 - val_tp: 1677.0000 - val_fp: 99.0000 - val_tn: 315.0000 - val_fn: 59.0000 - val_accuracy: 0.9265 - val_precision: 0.9443 - val_recall: 0.9660\n",
      "\n",
      "Epoch 00076: loss improved from 0.00436 to 0.00432, saving model to CNN\\cp-0076.ckpt\n",
      "Epoch 77/120\n",
      "274/274 [==============================] - 43s 155ms/step - loss: 0.0034 - tp: 5075.0000 - fp: 4.0000 - tn: 3677.0000 - fn: 8.0000 - accuracy: 0.9986 - precision: 0.9992 - recall: 0.9984 - val_loss: 0.8270 - val_tp: 1669.0000 - val_fp: 95.0000 - val_tn: 319.0000 - val_fn: 67.0000 - val_accuracy: 0.9247 - val_precision: 0.9461 - val_recall: 0.9614\n",
      "\n",
      "Epoch 00077: loss improved from 0.00432 to 0.00338, saving model to CNN\\cp-0077.ckpt\n",
      "Epoch 78/120\n",
      "274/274 [==============================] - 43s 155ms/step - loss: 0.0028 - tp: 5073.0000 - fp: 2.0000 - tn: 3679.0000 - fn: 10.0000 - accuracy: 0.9986 - precision: 0.9996 - recall: 0.9980 - val_loss: 0.8562 - val_tp: 1673.0000 - val_fp: 98.0000 - val_tn: 316.0000 - val_fn: 63.0000 - val_accuracy: 0.9251 - val_precision: 0.9447 - val_recall: 0.9637\n",
      "\n",
      "Epoch 00078: loss improved from 0.00338 to 0.00276, saving model to CNN\\cp-0078.ckpt\n",
      "Epoch 79/120\n",
      "274/274 [==============================] - 43s 156ms/step - loss: 0.0057 - tp: 5067.0000 - fp: 8.0000 - tn: 3673.0000 - fn: 16.0000 - accuracy: 0.9973 - precision: 0.9984 - recall: 0.9969 - val_loss: 0.9129 - val_tp: 1672.0000 - val_fp: 101.0000 - val_tn: 313.0000 - val_fn: 64.0000 - val_accuracy: 0.9233 - val_precision: 0.9430 - val_recall: 0.9631\n",
      "\n",
      "Epoch 00079: loss did not improve from 0.00276\n",
      "Epoch 80/120\n",
      "274/274 [==============================] - 42s 152ms/step - loss: 0.0048 - tp: 5073.0000 - fp: 5.0000 - tn: 3676.0000 - fn: 10.0000 - accuracy: 0.9983 - precision: 0.9990 - recall: 0.9980 - val_loss: 0.8630 - val_tp: 1673.0000 - val_fp: 97.0000 - val_tn: 317.0000 - val_fn: 63.0000 - val_accuracy: 0.9256 - val_precision: 0.9452 - val_recall: 0.9637\n",
      "\n",
      "Epoch 00080: loss did not improve from 0.00276\n",
      "Epoch 81/120\n",
      "274/274 [==============================] - 42s 152ms/step - loss: 0.0044 - tp: 5076.0000 - fp: 9.0000 - tn: 3672.0000 - fn: 7.0000 - accuracy: 0.9982 - precision: 0.9982 - recall: 0.9986 - val_loss: 0.8508 - val_tp: 1669.0000 - val_fp: 93.0000 - val_tn: 321.0000 - val_fn: 67.0000 - val_accuracy: 0.9256 - val_precision: 0.9472 - val_recall: 0.9614\n",
      "\n",
      "Epoch 00081: loss did not improve from 0.00276\n",
      "Epoch 82/120\n",
      "274/274 [==============================] - 43s 155ms/step - loss: 0.0040 - tp: 5072.0000 - fp: 5.0000 - tn: 3676.0000 - fn: 11.0000 - accuracy: 0.9982 - precision: 0.9990 - recall: 0.9978 - val_loss: 0.8505 - val_tp: 1677.0000 - val_fp: 98.0000 - val_tn: 316.0000 - val_fn: 59.0000 - val_accuracy: 0.9270 - val_precision: 0.9448 - val_recall: 0.9660\n",
      "\n",
      "Epoch 00082: loss did not improve from 0.00276\n",
      "Epoch 83/120\n",
      "274/274 [==============================] - 43s 155ms/step - loss: 0.0049 - tp: 5070.0000 - fp: 5.0000 - tn: 3676.0000 - fn: 13.0000 - accuracy: 0.9979 - precision: 0.9990 - recall: 0.9974 - val_loss: 0.8214 - val_tp: 1674.0000 - val_fp: 96.0000 - val_tn: 318.0000 - val_fn: 62.0000 - val_accuracy: 0.9265 - val_precision: 0.9458 - val_recall: 0.9643\n",
      "\n",
      "Epoch 00083: loss did not improve from 0.00276\n",
      "Epoch 84/120\n",
      "274/274 [==============================] - 43s 155ms/step - loss: 0.0038 - tp: 5071.0000 - fp: 4.0000 - tn: 3677.0000 - fn: 12.0000 - accuracy: 0.9982 - precision: 0.9992 - recall: 0.9976 - val_loss: 0.8479 - val_tp: 1674.0000 - val_fp: 96.0000 - val_tn: 318.0000 - val_fn: 62.0000 - val_accuracy: 0.9265 - val_precision: 0.9458 - val_recall: 0.9643\n",
      "\n",
      "Epoch 00084: loss did not improve from 0.00276\n",
      "Epoch 85/120\n",
      "274/274 [==============================] - 42s 155ms/step - loss: 0.0060 - tp: 5069.0000 - fp: 6.0000 - tn: 3675.0000 - fn: 14.0000 - accuracy: 0.9977 - precision: 0.9988 - recall: 0.9972 - val_loss: 0.8403 - val_tp: 1674.0000 - val_fp: 99.0000 - val_tn: 315.0000 - val_fn: 62.0000 - val_accuracy: 0.9251 - val_precision: 0.9442 - val_recall: 0.9643\n",
      "\n",
      "Epoch 00085: loss did not improve from 0.00276\n",
      "Epoch 86/120\n",
      "274/274 [==============================] - 43s 155ms/step - loss: 0.0051 - tp: 5074.0000 - fp: 7.0000 - tn: 3674.0000 - fn: 9.0000 - accuracy: 0.9982 - precision: 0.9986 - recall: 0.9982 - val_loss: 0.8964 - val_tp: 1678.0000 - val_fp: 101.0000 - val_tn: 313.0000 - val_fn: 58.0000 - val_accuracy: 0.9260 - val_precision: 0.9432 - val_recall: 0.9666\n",
      "\n",
      "Epoch 00086: loss did not improve from 0.00276\n",
      "Epoch 87/120\n",
      "274/274 [==============================] - 43s 155ms/step - loss: 0.0062 - tp: 5072.0000 - fp: 14.0000 - tn: 3667.0000 - fn: 11.0000 - accuracy: 0.9971 - precision: 0.9972 - recall: 0.9978 - val_loss: 0.8676 - val_tp: 1674.0000 - val_fp: 97.0000 - val_tn: 317.0000 - val_fn: 62.0000 - val_accuracy: 0.9260 - val_precision: 0.9452 - val_recall: 0.9643\n",
      "\n",
      "Epoch 00087: loss did not improve from 0.00276\n",
      "Epoch 88/120\n",
      "274/274 [==============================] - 43s 155ms/step - loss: 0.0041 - tp: 5073.0000 - fp: 4.0000 - tn: 3677.0000 - fn: 10.0000 - accuracy: 0.9984 - precision: 0.9992 - recall: 0.9980 - val_loss: 0.8585 - val_tp: 1674.0000 - val_fp: 96.0000 - val_tn: 318.0000 - val_fn: 62.0000 - val_accuracy: 0.9265 - val_precision: 0.9458 - val_recall: 0.9643\n",
      "\n",
      "Epoch 00088: loss did not improve from 0.00276\n",
      "Epoch 89/120\n",
      "274/274 [==============================] - 43s 155ms/step - loss: 0.0055 - tp: 5070.0000 - fp: 9.0000 - tn: 3672.0000 - fn: 13.0000 - accuracy: 0.9975 - precision: 0.9982 - recall: 0.9974 - val_loss: 0.8507 - val_tp: 1672.0000 - val_fp: 98.0000 - val_tn: 316.0000 - val_fn: 64.0000 - val_accuracy: 0.9247 - val_precision: 0.9446 - val_recall: 0.9631\n",
      "\n",
      "Epoch 00089: loss did not improve from 0.00276\n",
      "Epoch 90/120\n",
      "274/274 [==============================] - 43s 155ms/step - loss: 0.0056 - tp: 5069.0000 - fp: 6.0000 - tn: 3675.0000 - fn: 14.0000 - accuracy: 0.9977 - precision: 0.9988 - recall: 0.9972 - val_loss: 0.8539 - val_tp: 1672.0000 - val_fp: 97.0000 - val_tn: 317.0000 - val_fn: 64.0000 - val_accuracy: 0.9251 - val_precision: 0.9452 - val_recall: 0.9631\n",
      "\n",
      "Epoch 00090: loss did not improve from 0.00276\n",
      "Epoch 91/120\n",
      "274/274 [==============================] - 42s 155ms/step - loss: 0.0032 - tp: 5074.0000 - fp: 3.0000 - tn: 3678.0000 - fn: 9.0000 - accuracy: 0.9986 - precision: 0.9994 - recall: 0.9982 - val_loss: 0.8680 - val_tp: 1672.0000 - val_fp: 100.0000 - val_tn: 314.0000 - val_fn: 64.0000 - val_accuracy: 0.9237 - val_precision: 0.9436 - val_recall: 0.9631\n",
      "\n",
      "Epoch 00091: loss did not improve from 0.00276\n",
      "Epoch 92/120\n",
      "274/274 [==============================] - 43s 157ms/step - loss: 0.0029 - tp: 5077.0000 - fp: 5.0000 - tn: 3676.0000 - fn: 6.0000 - accuracy: 0.9987 - precision: 0.9990 - recall: 0.9988 - val_loss: 0.8664 - val_tp: 1672.0000 - val_fp: 99.0000 - val_tn: 315.0000 - val_fn: 64.0000 - val_accuracy: 0.9242 - val_precision: 0.9441 - val_recall: 0.9631\n",
      "\n",
      "Epoch 00092: loss did not improve from 0.00276\n",
      "Epoch 93/120\n",
      "274/274 [==============================] - 42s 155ms/step - loss: 0.0039 - tp: 5071.0000 - fp: 5.0000 - tn: 3676.0000 - fn: 12.0000 - accuracy: 0.9981 - precision: 0.9990 - recall: 0.9976 - val_loss: 0.8837 - val_tp: 1673.0000 - val_fp: 102.0000 - val_tn: 312.0000 - val_fn: 63.0000 - val_accuracy: 0.9233 - val_precision: 0.9425 - val_recall: 0.9637\n",
      "\n",
      "Epoch 00093: loss did not improve from 0.00276\n",
      "Epoch 94/120\n",
      "274/274 [==============================] - 42s 152ms/step - loss: 0.0042 - tp: 5076.0000 - fp: 8.0000 - tn: 3673.0000 - fn: 7.0000 - accuracy: 0.9983 - precision: 0.9984 - recall: 0.9986 - val_loss: 0.8850 - val_tp: 1673.0000 - val_fp: 99.0000 - val_tn: 315.0000 - val_fn: 63.0000 - val_accuracy: 0.9247 - val_precision: 0.9441 - val_recall: 0.9637\n",
      "\n",
      "Epoch 00094: loss did not improve from 0.00276\n",
      "Epoch 95/120\n",
      "274/274 [==============================] - 42s 152ms/step - loss: 0.0034 - tp: 5072.0000 - fp: 6.0000 - tn: 3675.0000 - fn: 11.0000 - accuracy: 0.9981 - precision: 0.9988 - recall: 0.9978 - val_loss: 0.8794 - val_tp: 1673.0000 - val_fp: 99.0000 - val_tn: 315.0000 - val_fn: 63.0000 - val_accuracy: 0.9247 - val_precision: 0.9441 - val_recall: 0.9637\n"
     ]
    },
    {
     "name": "stdout",
     "output_type": "stream",
     "text": [
      "\n",
      "Epoch 00095: loss did not improve from 0.00276\n",
      "Epoch 96/120\n",
      "274/274 [==============================] - 42s 153ms/step - loss: 0.0046 - tp: 5073.0000 - fp: 6.0000 - tn: 3675.0000 - fn: 10.0000 - accuracy: 0.9982 - precision: 0.9988 - recall: 0.9980 - val_loss: 0.8816 - val_tp: 1673.0000 - val_fp: 98.0000 - val_tn: 316.0000 - val_fn: 63.0000 - val_accuracy: 0.9251 - val_precision: 0.9447 - val_recall: 0.9637\n",
      "\n",
      "Epoch 00096: loss did not improve from 0.00276\n",
      "Epoch 97/120\n",
      "274/274 [==============================] - 42s 153ms/step - loss: 0.0040 - tp: 5068.0000 - fp: 4.0000 - tn: 3677.0000 - fn: 15.0000 - accuracy: 0.9978 - precision: 0.9992 - recall: 0.9970 - val_loss: 0.8744 - val_tp: 1672.0000 - val_fp: 97.0000 - val_tn: 317.0000 - val_fn: 64.0000 - val_accuracy: 0.9251 - val_precision: 0.9452 - val_recall: 0.9631\n",
      "\n",
      "Epoch 00097: loss did not improve from 0.00276\n",
      "Epoch 98/120\n",
      "274/274 [==============================] - 42s 152ms/step - loss: 0.0050 - tp: 5073.0000 - fp: 5.0000 - tn: 3676.0000 - fn: 10.0000 - accuracy: 0.9983 - precision: 0.9990 - recall: 0.9980 - val_loss: 0.8749 - val_tp: 1672.0000 - val_fp: 100.0000 - val_tn: 314.0000 - val_fn: 64.0000 - val_accuracy: 0.9237 - val_precision: 0.9436 - val_recall: 0.9631\n",
      "\n",
      "Epoch 00098: loss did not improve from 0.00276\n",
      "Epoch 99/120\n",
      "274/274 [==============================] - 42s 152ms/step - loss: 0.0048 - tp: 5074.0000 - fp: 6.0000 - tn: 3675.0000 - fn: 9.0000 - accuracy: 0.9983 - precision: 0.9988 - recall: 0.9982 - val_loss: 0.8787 - val_tp: 1672.0000 - val_fp: 101.0000 - val_tn: 313.0000 - val_fn: 64.0000 - val_accuracy: 0.9233 - val_precision: 0.9430 - val_recall: 0.9631\n",
      "\n",
      "Epoch 00099: loss did not improve from 0.00276\n",
      "Epoch 100/120\n",
      "274/274 [==============================] - 42s 152ms/step - loss: 0.0047 - tp: 5073.0000 - fp: 5.0000 - tn: 3676.0000 - fn: 10.0000 - accuracy: 0.9983 - precision: 0.9990 - recall: 0.9980 - val_loss: 0.8803 - val_tp: 1672.0000 - val_fp: 101.0000 - val_tn: 313.0000 - val_fn: 64.0000 - val_accuracy: 0.9233 - val_precision: 0.9430 - val_recall: 0.9631\n",
      "\n",
      "Epoch 00100: loss did not improve from 0.00276\n",
      "Epoch 101/120\n",
      "274/274 [==============================] - 42s 152ms/step - loss: 0.0038 - tp: 5073.0000 - fp: 3.0000 - tn: 3678.0000 - fn: 10.0000 - accuracy: 0.9985 - precision: 0.9994 - recall: 0.9980 - val_loss: 0.8831 - val_tp: 1672.0000 - val_fp: 100.0000 - val_tn: 314.0000 - val_fn: 64.0000 - val_accuracy: 0.9237 - val_precision: 0.9436 - val_recall: 0.9631\n",
      "\n",
      "Epoch 00101: loss did not improve from 0.00276\n",
      "Epoch 102/120\n",
      "274/274 [==============================] - 42s 153ms/step - loss: 0.0035 - tp: 5070.0000 - fp: 3.0000 - tn: 3678.0000 - fn: 13.0000 - accuracy: 0.9982 - precision: 0.9994 - recall: 0.9974 - val_loss: 0.8868 - val_tp: 1672.0000 - val_fp: 101.0000 - val_tn: 313.0000 - val_fn: 64.0000 - val_accuracy: 0.9233 - val_precision: 0.9430 - val_recall: 0.9631\n",
      "\n",
      "Epoch 00102: loss did not improve from 0.00276\n",
      "Epoch 103/120\n",
      "274/274 [==============================] - 42s 153ms/step - loss: 0.0029 - tp: 5079.0000 - fp: 4.0000 - tn: 3677.0000 - fn: 4.0000 - accuracy: 0.9991 - precision: 0.9992 - recall: 0.9992 - val_loss: 0.8867 - val_tp: 1672.0000 - val_fp: 101.0000 - val_tn: 313.0000 - val_fn: 64.0000 - val_accuracy: 0.9233 - val_precision: 0.9430 - val_recall: 0.9631\n",
      "\n",
      "Epoch 00103: loss did not improve from 0.00276\n",
      "Epoch 104/120\n",
      "274/274 [==============================] - 42s 153ms/step - loss: 0.0042 - tp: 5076.0000 - fp: 2.0000 - tn: 3679.0000 - fn: 7.0000 - accuracy: 0.9990 - precision: 0.9996 - recall: 0.9986 - val_loss: 0.8855 - val_tp: 1672.0000 - val_fp: 101.0000 - val_tn: 313.0000 - val_fn: 64.0000 - val_accuracy: 0.9233 - val_precision: 0.9430 - val_recall: 0.9631\n",
      "\n",
      "Epoch 00104: loss did not improve from 0.00276\n",
      "Epoch 105/120\n",
      "274/274 [==============================] - 42s 152ms/step - loss: 0.0033 - tp: 5075.0000 - fp: 4.0000 - tn: 3677.0000 - fn: 8.0000 - accuracy: 0.9986 - precision: 0.9992 - recall: 0.9984 - val_loss: 0.8847 - val_tp: 1672.0000 - val_fp: 101.0000 - val_tn: 313.0000 - val_fn: 64.0000 - val_accuracy: 0.9233 - val_precision: 0.9430 - val_recall: 0.9631\n",
      "\n",
      "Epoch 00105: loss did not improve from 0.00276\n",
      "Epoch 106/120\n",
      "274/274 [==============================] - 42s 153ms/step - loss: 0.0043 - tp: 5072.0000 - fp: 3.0000 - tn: 3678.0000 - fn: 11.0000 - accuracy: 0.9984 - precision: 0.9994 - recall: 0.9978 - val_loss: 0.8844 - val_tp: 1672.0000 - val_fp: 101.0000 - val_tn: 313.0000 - val_fn: 64.0000 - val_accuracy: 0.9233 - val_precision: 0.9430 - val_recall: 0.9631\n",
      "\n",
      "Epoch 00106: loss did not improve from 0.00276\n",
      "Epoch 107/120\n",
      "274/274 [==============================] - 42s 153ms/step - loss: 0.0040 - tp: 5071.0000 - fp: 5.0000 - tn: 3676.0000 - fn: 12.0000 - accuracy: 0.9981 - precision: 0.9990 - recall: 0.9976 - val_loss: 0.8847 - val_tp: 1672.0000 - val_fp: 101.0000 - val_tn: 313.0000 - val_fn: 64.0000 - val_accuracy: 0.9233 - val_precision: 0.9430 - val_recall: 0.9631\n",
      "\n",
      "Epoch 00107: loss did not improve from 0.00276\n",
      "Epoch 108/120\n",
      "274/274 [==============================] - 42s 152ms/step - loss: 0.0056 - tp: 5074.0000 - fp: 3.0000 - tn: 3678.0000 - fn: 9.0000 - accuracy: 0.9986 - precision: 0.9994 - recall: 0.9982 - val_loss: 0.8868 - val_tp: 1672.0000 - val_fp: 101.0000 - val_tn: 313.0000 - val_fn: 64.0000 - val_accuracy: 0.9233 - val_precision: 0.9430 - val_recall: 0.9631\n",
      "\n",
      "Epoch 00108: loss did not improve from 0.00276\n",
      "Epoch 109/120\n",
      "274/274 [==============================] - 42s 152ms/step - loss: 0.0039 - tp: 5068.0000 - fp: 9.0000 - tn: 3672.0000 - fn: 15.0000 - accuracy: 0.9973 - precision: 0.9982 - recall: 0.9970 - val_loss: 0.8875 - val_tp: 1672.0000 - val_fp: 101.0000 - val_tn: 313.0000 - val_fn: 64.0000 - val_accuracy: 0.9233 - val_precision: 0.9430 - val_recall: 0.9631\n",
      "\n",
      "Epoch 00109: loss did not improve from 0.00276\n",
      "Epoch 110/120\n",
      "274/274 [==============================] - 42s 152ms/step - loss: 0.0073 - tp: 5073.0000 - fp: 8.0000 - tn: 3673.0000 - fn: 10.0000 - accuracy: 0.9979 - precision: 0.9984 - recall: 0.9980 - val_loss: 0.8872 - val_tp: 1672.0000 - val_fp: 101.0000 - val_tn: 313.0000 - val_fn: 64.0000 - val_accuracy: 0.9233 - val_precision: 0.9430 - val_recall: 0.9631\n",
      "\n",
      "Epoch 00110: loss did not improve from 0.00276\n",
      "Epoch 111/120\n",
      "274/274 [==============================] - 42s 152ms/step - loss: 0.0059 - tp: 5070.0000 - fp: 7.0000 - tn: 3674.0000 - fn: 13.0000 - accuracy: 0.9977 - precision: 0.9986 - recall: 0.9974 - val_loss: 0.8856 - val_tp: 1672.0000 - val_fp: 101.0000 - val_tn: 313.0000 - val_fn: 64.0000 - val_accuracy: 0.9233 - val_precision: 0.9430 - val_recall: 0.9631\n",
      "\n",
      "Epoch 00111: loss did not improve from 0.00276\n",
      "Epoch 112/120\n",
      "274/274 [==============================] - 42s 152ms/step - loss: 0.0039 - tp: 5071.0000 - fp: 5.0000 - tn: 3676.0000 - fn: 12.0000 - accuracy: 0.9981 - precision: 0.9990 - recall: 0.9976 - val_loss: 0.8850 - val_tp: 1672.0000 - val_fp: 101.0000 - val_tn: 313.0000 - val_fn: 64.0000 - val_accuracy: 0.9233 - val_precision: 0.9430 - val_recall: 0.9631\n",
      "\n",
      "Epoch 00112: loss did not improve from 0.00276\n",
      "Epoch 113/120\n",
      "274/274 [==============================] - 42s 152ms/step - loss: 0.0051 - tp: 5068.0000 - fp: 7.0000 - tn: 3674.0000 - fn: 15.0000 - accuracy: 0.9975 - precision: 0.9986 - recall: 0.9970 - val_loss: 0.8852 - val_tp: 1672.0000 - val_fp: 101.0000 - val_tn: 313.0000 - val_fn: 64.0000 - val_accuracy: 0.9233 - val_precision: 0.9430 - val_recall: 0.9631\n",
      "\n",
      "Epoch 00113: loss did not improve from 0.00276\n",
      "Epoch 114/120\n",
      "274/274 [==============================] - 42s 152ms/step - loss: 0.0035 - tp: 5075.0000 - fp: 1.0000 - tn: 3680.0000 - fn: 8.0000 - accuracy: 0.9990 - precision: 0.9998 - recall: 0.9984 - val_loss: 0.8852 - val_tp: 1672.0000 - val_fp: 101.0000 - val_tn: 313.0000 - val_fn: 64.0000 - val_accuracy: 0.9233 - val_precision: 0.9430 - val_recall: 0.9631\n",
      "\n",
      "Epoch 00114: loss did not improve from 0.00276\n",
      "Epoch 115/120\n",
      "274/274 [==============================] - 42s 152ms/step - loss: 0.0041 - tp: 5068.0000 - fp: 4.0000 - tn: 3677.0000 - fn: 15.0000 - accuracy: 0.9978 - precision: 0.9992 - recall: 0.9970 - val_loss: 0.8855 - val_tp: 1672.0000 - val_fp: 101.0000 - val_tn: 313.0000 - val_fn: 64.0000 - val_accuracy: 0.9233 - val_precision: 0.9430 - val_recall: 0.9631\n"
     ]
    },
    {
     "name": "stdout",
     "output_type": "stream",
     "text": [
      "\n",
      "Epoch 00115: loss did not improve from 0.00276\n",
      "Epoch 116/120\n",
      "274/274 [==============================] - 42s 152ms/step - loss: 0.0035 - tp: 5072.0000 - fp: 3.0000 - tn: 3678.0000 - fn: 11.0000 - accuracy: 0.9984 - precision: 0.9994 - recall: 0.9978 - val_loss: 0.8859 - val_tp: 1672.0000 - val_fp: 101.0000 - val_tn: 313.0000 - val_fn: 64.0000 - val_accuracy: 0.9233 - val_precision: 0.9430 - val_recall: 0.9631\n",
      "\n",
      "Epoch 00116: loss did not improve from 0.00276\n",
      "Epoch 117/120\n",
      "274/274 [==============================] - 42s 152ms/step - loss: 0.0029 - tp: 5073.0000 - fp: 2.0000 - tn: 3679.0000 - fn: 10.0000 - accuracy: 0.9986 - precision: 0.9996 - recall: 0.9980 - val_loss: 0.8860 - val_tp: 1672.0000 - val_fp: 101.0000 - val_tn: 313.0000 - val_fn: 64.0000 - val_accuracy: 0.9233 - val_precision: 0.9430 - val_recall: 0.9631\n",
      "\n",
      "Epoch 00117: loss did not improve from 0.00276\n",
      "Epoch 118/120\n",
      "274/274 [==============================] - 42s 152ms/step - loss: 0.0048 - tp: 5071.0000 - fp: 4.0000 - tn: 3677.0000 - fn: 12.0000 - accuracy: 0.9982 - precision: 0.9992 - recall: 0.9976 - val_loss: 0.8863 - val_tp: 1672.0000 - val_fp: 101.0000 - val_tn: 313.0000 - val_fn: 64.0000 - val_accuracy: 0.9233 - val_precision: 0.9430 - val_recall: 0.9631\n",
      "\n",
      "Epoch 00118: loss did not improve from 0.00276\n",
      "Epoch 119/120\n",
      "274/274 [==============================] - 42s 152ms/step - loss: 0.0038 - tp: 5075.0000 - fp: 4.0000 - tn: 3677.0000 - fn: 8.0000 - accuracy: 0.9986 - precision: 0.9992 - recall: 0.9984 - val_loss: 0.8860 - val_tp: 1672.0000 - val_fp: 101.0000 - val_tn: 313.0000 - val_fn: 64.0000 - val_accuracy: 0.9233 - val_precision: 0.9430 - val_recall: 0.9631\n",
      "\n",
      "Epoch 00119: loss did not improve from 0.00276\n",
      "Epoch 120/120\n",
      "274/274 [==============================] - 42s 152ms/step - loss: 0.0046 - tp: 5070.0000 - fp: 4.0000 - tn: 3677.0000 - fn: 13.0000 - accuracy: 0.9981 - precision: 0.9992 - recall: 0.9974 - val_loss: 0.8862 - val_tp: 1672.0000 - val_fp: 101.0000 - val_tn: 313.0000 - val_fn: 64.0000 - val_accuracy: 0.9233 - val_precision: 0.9430 - val_recall: 0.9631\n",
      "\n",
      "Epoch 00120: loss did not improve from 0.00276\n"
     ]
    }
   ],
   "source": [
    "hist = model.fit(\n",
    "    train_generator,\n",
    "   steps_per_epoch=len(train_generator),\n",
    "    epochs = 120,\n",
    "    validation_data = validation_generator,\n",
    "    validation_steps=len(validation_generator),\n",
    "    callbacks=callbacks_list\n",
    ")"
   ]
  },
  {
   "cell_type": "code",
   "execution_count": 13,
   "id": "9d7eeb2e-cdd7-4981-a126-7a68856bbe4e",
   "metadata": {},
   "outputs": [
    {
     "data": {
      "text/plain": [
       "['checkpoint',\n",
       " 'cp-0001.ckpt.data-00000-of-00001',\n",
       " 'cp-0001.ckpt.index',\n",
       " 'cp-0002.ckpt.data-00000-of-00001',\n",
       " 'cp-0002.ckpt.index',\n",
       " 'cp-0003.ckpt.data-00000-of-00001',\n",
       " 'cp-0003.ckpt.index',\n",
       " 'cp-0004.ckpt.data-00000-of-00001',\n",
       " 'cp-0004.ckpt.index',\n",
       " 'cp-0005.ckpt.data-00000-of-00001',\n",
       " 'cp-0005.ckpt.index',\n",
       " 'cp-0006.ckpt.data-00000-of-00001',\n",
       " 'cp-0006.ckpt.index',\n",
       " 'cp-0007.ckpt.data-00000-of-00001',\n",
       " 'cp-0007.ckpt.index',\n",
       " 'cp-0008.ckpt.data-00000-of-00001',\n",
       " 'cp-0008.ckpt.index',\n",
       " 'cp-0009.ckpt.data-00000-of-00001',\n",
       " 'cp-0009.ckpt.index',\n",
       " 'cp-0010.ckpt.data-00000-of-00001',\n",
       " 'cp-0010.ckpt.index',\n",
       " 'cp-0011.ckpt.data-00000-of-00001',\n",
       " 'cp-0011.ckpt.index',\n",
       " 'cp-0012.ckpt.data-00000-of-00001',\n",
       " 'cp-0012.ckpt.index',\n",
       " 'cp-0013.ckpt.data-00000-of-00001',\n",
       " 'cp-0013.ckpt.index',\n",
       " 'cp-0014.ckpt.data-00000-of-00001',\n",
       " 'cp-0014.ckpt.index',\n",
       " 'cp-0015.ckpt.data-00000-of-00001',\n",
       " 'cp-0015.ckpt.index',\n",
       " 'cp-0016.ckpt.data-00000-of-00001',\n",
       " 'cp-0016.ckpt.index',\n",
       " 'cp-0017.ckpt.data-00000-of-00001',\n",
       " 'cp-0017.ckpt.index',\n",
       " 'cp-0018.ckpt.data-00000-of-00001',\n",
       " 'cp-0018.ckpt.index',\n",
       " 'cp-0019.ckpt.data-00000-of-00001',\n",
       " 'cp-0019.ckpt.index',\n",
       " 'cp-0020.ckpt.data-00000-of-00001',\n",
       " 'cp-0020.ckpt.index',\n",
       " 'cp-0021.ckpt.data-00000-of-00001',\n",
       " 'cp-0021.ckpt.index',\n",
       " 'cp-0022.ckpt.data-00000-of-00001',\n",
       " 'cp-0022.ckpt.index',\n",
       " 'cp-0023.ckpt.data-00000-of-00001',\n",
       " 'cp-0023.ckpt.index',\n",
       " 'cp-0024.ckpt.data-00000-of-00001',\n",
       " 'cp-0024.ckpt.index',\n",
       " 'cp-0025.ckpt.data-00000-of-00001',\n",
       " 'cp-0025.ckpt.index',\n",
       " 'cp-0026.ckpt.data-00000-of-00001',\n",
       " 'cp-0026.ckpt.index',\n",
       " 'cp-0027.ckpt.data-00000-of-00001',\n",
       " 'cp-0027.ckpt.index',\n",
       " 'cp-0028.ckpt.data-00000-of-00001',\n",
       " 'cp-0028.ckpt.index',\n",
       " 'cp-0029.ckpt.data-00000-of-00001',\n",
       " 'cp-0029.ckpt.index',\n",
       " 'cp-0030.ckpt.data-00000-of-00001',\n",
       " 'cp-0030.ckpt.index',\n",
       " 'cp-0031.ckpt.data-00000-of-00001',\n",
       " 'cp-0031.ckpt.index',\n",
       " 'cp-0032.ckpt.data-00000-of-00001',\n",
       " 'cp-0032.ckpt.index',\n",
       " 'cp-0033.ckpt.data-00000-of-00001',\n",
       " 'cp-0033.ckpt.index',\n",
       " 'cp-0034.ckpt.data-00000-of-00001',\n",
       " 'cp-0034.ckpt.index',\n",
       " 'cp-0035.ckpt.data-00000-of-00001',\n",
       " 'cp-0035.ckpt.index',\n",
       " 'cp-0036.ckpt.data-00000-of-00001',\n",
       " 'cp-0036.ckpt.index',\n",
       " 'cp-0037.ckpt.data-00000-of-00001',\n",
       " 'cp-0037.ckpt.index',\n",
       " 'cp-0038.ckpt.data-00000-of-00001',\n",
       " 'cp-0038.ckpt.index',\n",
       " 'cp-0039.ckpt.data-00000-of-00001',\n",
       " 'cp-0039.ckpt.index',\n",
       " 'cp-0040.ckpt.data-00000-of-00001',\n",
       " 'cp-0040.ckpt.index',\n",
       " 'cp-0041.ckpt.data-00000-of-00001',\n",
       " 'cp-0041.ckpt.index',\n",
       " 'cp-0042.ckpt.data-00000-of-00001',\n",
       " 'cp-0042.ckpt.index',\n",
       " 'cp-0043.ckpt.data-00000-of-00001',\n",
       " 'cp-0043.ckpt.index',\n",
       " 'cp-0044.ckpt.data-00000-of-00001',\n",
       " 'cp-0044.ckpt.index',\n",
       " 'cp-0045.ckpt.data-00000-of-00001',\n",
       " 'cp-0045.ckpt.index',\n",
       " 'cp-0046.ckpt.data-00000-of-00001',\n",
       " 'cp-0046.ckpt.index',\n",
       " 'cp-0047.ckpt.data-00000-of-00001',\n",
       " 'cp-0047.ckpt.index',\n",
       " 'cp-0048.ckpt.data-00000-of-00001',\n",
       " 'cp-0048.ckpt.index',\n",
       " 'cp-0049.ckpt.data-00000-of-00001',\n",
       " 'cp-0049.ckpt.index',\n",
       " 'cp-0050.ckpt.data-00000-of-00001',\n",
       " 'cp-0050.ckpt.index',\n",
       " 'cp-0051.ckpt.data-00000-of-00001',\n",
       " 'cp-0051.ckpt.index',\n",
       " 'cp-0052.ckpt.data-00000-of-00001',\n",
       " 'cp-0052.ckpt.index',\n",
       " 'cp-0053.ckpt.data-00000-of-00001',\n",
       " 'cp-0053.ckpt.index',\n",
       " 'cp-0054.ckpt.data-00000-of-00001',\n",
       " 'cp-0054.ckpt.index',\n",
       " 'cp-0055.ckpt.data-00000-of-00001',\n",
       " 'cp-0055.ckpt.index',\n",
       " 'cp-0056.ckpt.data-00000-of-00001',\n",
       " 'cp-0056.ckpt.index',\n",
       " 'cp-0057.ckpt.data-00000-of-00001',\n",
       " 'cp-0057.ckpt.index',\n",
       " 'cp-0058.ckpt.data-00000-of-00001',\n",
       " 'cp-0058.ckpt.index',\n",
       " 'cp-0059.ckpt.data-00000-of-00001',\n",
       " 'cp-0059.ckpt.index',\n",
       " 'cp-0060.ckpt.data-00000-of-00001',\n",
       " 'cp-0060.ckpt.index',\n",
       " 'cp-0061.ckpt.data-00000-of-00001',\n",
       " 'cp-0061.ckpt.index',\n",
       " 'cp-0062.ckpt.data-00000-of-00001',\n",
       " 'cp-0062.ckpt.index',\n",
       " 'cp-0063.ckpt.data-00000-of-00001',\n",
       " 'cp-0063.ckpt.index',\n",
       " 'cp-0064.ckpt.data-00000-of-00001',\n",
       " 'cp-0064.ckpt.index',\n",
       " 'cp-0065.ckpt.data-00000-of-00001',\n",
       " 'cp-0065.ckpt.index',\n",
       " 'cp-0066.ckpt.data-00000-of-00001',\n",
       " 'cp-0066.ckpt.index',\n",
       " 'cp-0067.ckpt.data-00000-of-00001',\n",
       " 'cp-0067.ckpt.index',\n",
       " 'cp-0068.ckpt.data-00000-of-00001',\n",
       " 'cp-0068.ckpt.index',\n",
       " 'cp-0069.ckpt.data-00000-of-00001',\n",
       " 'cp-0069.ckpt.index',\n",
       " 'cp-0070.ckpt.data-00000-of-00001',\n",
       " 'cp-0070.ckpt.index',\n",
       " 'cp-0071.ckpt.data-00000-of-00001',\n",
       " 'cp-0071.ckpt.index',\n",
       " 'cp-0072.ckpt.data-00000-of-00001',\n",
       " 'cp-0072.ckpt.index',\n",
       " 'cp-0073.ckpt.data-00000-of-00001',\n",
       " 'cp-0073.ckpt.index',\n",
       " 'cp-0074.ckpt.data-00000-of-00001',\n",
       " 'cp-0074.ckpt.index',\n",
       " 'cp-0075.ckpt.data-00000-of-00001',\n",
       " 'cp-0075.ckpt.index',\n",
       " 'cp-0076.ckpt.data-00000-of-00001',\n",
       " 'cp-0076.ckpt.index',\n",
       " 'cp-0077.ckpt.data-00000-of-00001',\n",
       " 'cp-0077.ckpt.index',\n",
       " 'cp-0078.ckpt.data-00000-of-00001',\n",
       " 'cp-0078.ckpt.index',\n",
       " 'cp-0079.ckpt.data-00000-of-00001',\n",
       " 'cp-0079.ckpt.index',\n",
       " 'cp-0080.ckpt.data-00000-of-00001',\n",
       " 'cp-0080.ckpt.index',\n",
       " 'cp-0081.ckpt.data-00000-of-00001',\n",
       " 'cp-0081.ckpt.index',\n",
       " 'cp-0082.ckpt.data-00000-of-00001',\n",
       " 'cp-0082.ckpt.index',\n",
       " 'cp-0083.ckpt.data-00000-of-00001',\n",
       " 'cp-0083.ckpt.index',\n",
       " 'cp-0084.ckpt.data-00000-of-00001',\n",
       " 'cp-0084.ckpt.index',\n",
       " 'cp-0085.ckpt.data-00000-of-00001',\n",
       " 'cp-0085.ckpt.index',\n",
       " 'cp-0086.ckpt.data-00000-of-00001',\n",
       " 'cp-0086.ckpt.index',\n",
       " 'cp-0087.ckpt.data-00000-of-00001',\n",
       " 'cp-0087.ckpt.index',\n",
       " 'cp-0088.ckpt.data-00000-of-00001',\n",
       " 'cp-0088.ckpt.index',\n",
       " 'cp-0089.ckpt.data-00000-of-00001',\n",
       " 'cp-0089.ckpt.index',\n",
       " 'cp-0090.ckpt.data-00000-of-00001',\n",
       " 'cp-0090.ckpt.index',\n",
       " 'cp-0091.ckpt.data-00000-of-00001',\n",
       " 'cp-0091.ckpt.index',\n",
       " 'cp-0092.ckpt.data-00000-of-00001',\n",
       " 'cp-0092.ckpt.index',\n",
       " 'cp-0093.ckpt.data-00000-of-00001',\n",
       " 'cp-0093.ckpt.index',\n",
       " 'cp-0094.ckpt.data-00000-of-00001',\n",
       " 'cp-0094.ckpt.index',\n",
       " 'cp-0095.ckpt.data-00000-of-00001',\n",
       " 'cp-0095.ckpt.index',\n",
       " 'cp-0097.ckpt.data-00000-of-00001',\n",
       " 'cp-0097.ckpt.index',\n",
       " 'cp-0098.ckpt.data-00000-of-00001',\n",
       " 'cp-0098.ckpt.index',\n",
       " 'cp-0099.ckpt.data-00000-of-00001',\n",
       " 'cp-0099.ckpt.index',\n",
       " 'cp-0100.ckpt.data-00000-of-00001',\n",
       " 'cp-0100.ckpt.index',\n",
       " 'cp-0101.ckpt.data-00000-of-00001',\n",
       " 'cp-0101.ckpt.index',\n",
       " 'cp-0102.ckpt.data-00000-of-00001',\n",
       " 'cp-0102.ckpt.index',\n",
       " 'cp-0103.ckpt.data-00000-of-00001',\n",
       " 'cp-0103.ckpt.index',\n",
       " 'cp-0107.ckpt.data-00000-of-00001',\n",
       " 'cp-0107.ckpt.index',\n",
       " 'cp-0109.ckpt.data-00000-of-00001',\n",
       " 'cp-0109.ckpt.index',\n",
       " 'cp-0111.ckpt.data-00000-of-00001',\n",
       " 'cp-0111.ckpt.index',\n",
       " 'cp-0116.ckpt.data-00000-of-00001',\n",
       " 'cp-0116.ckpt.index',\n",
       " 'cp-0140.ckpt.data-00000-of-00001',\n",
       " 'cp-0140.ckpt.index',\n",
       " 'cp-0150.ckpt.data-00000-of-00001',\n",
       " 'cp-0150.ckpt.index']"
      ]
     },
     "execution_count": 13,
     "metadata": {},
     "output_type": "execute_result"
    }
   ],
   "source": [
    "os.listdir(checkpoint_dir)"
   ]
  },
  {
   "cell_type": "code",
   "execution_count": 14,
   "id": "fc7fbd63-3356-4077-85f9-3b5408afbc5a",
   "metadata": {},
   "outputs": [
    {
     "data": {
      "text/plain": [
       "'CNN\\\\cp-0078.ckpt'"
      ]
     },
     "execution_count": 14,
     "metadata": {},
     "output_type": "execute_result"
    }
   ],
   "source": [
    "import tensorflow\n",
    "latest = tensorflow.train.latest_checkpoint(checkpoint_dir)\n",
    "latest"
   ]
  },
  {
   "cell_type": "code",
   "execution_count": 15,
   "id": "9ee44644-dc80-4a87-82bc-0553499d1145",
   "metadata": {},
   "outputs": [
    {
     "name": "stderr",
     "output_type": "stream",
     "text": [
      "C:\\Users\\User\\anaconda3\\envs\\TF-Gpu\\lib\\site-packages\\keras\\engine\\training.py:2006: UserWarning: `Model.evaluate_generator` is deprecated and will be removed in a future version. Please use `Model.evaluate`, which supports generators.\n",
      "  warnings.warn('`Model.evaluate_generator` is deprecated and '\n"
     ]
    },
    {
     "name": "stdout",
     "output_type": "stream",
     "text": [
      "The model has a 91.33822321891785% accuracy, with a loss of 16.20948028564453.\n"
     ]
    }
   ],
   "source": [
    "# Create a basic model instance\n",
    "model = create_model()\n",
    "\n",
    "# Evaluate the model\n",
    "results = model.evaluate_generator(validation_generator, 1)\n",
    "print(\"The model has a {}% accuracy, with a loss of {}.\".format(results[5]*100, results[0])) \n"
   ]
  },
  {
   "cell_type": "code",
   "execution_count": 16,
   "id": "f1c486fd-9bc3-4c21-b35b-6751a2b57be5",
   "metadata": {},
   "outputs": [
    {
     "name": "stdout",
     "output_type": "stream",
     "text": [
      "The model has a 91.46341681480408% accuracy, with a loss of 0.006018230691552162.\n"
     ]
    }
   ],
   "source": [
    "# Create a new model instance\n",
    "model = create_model()\n",
    "\n",
    "# Load the previously saved weights\n",
    "model.load_weights(latest)\n",
    "\n",
    "results = model.evaluate_generator(validation_generator, 1)\n",
    "print(\"The model has a {}% accuracy, with a loss of {}.\".format(results[5]*100, results[0])) \n"
   ]
  },
  {
   "cell_type": "code",
   "execution_count": 17,
   "id": "4b44ef64-36b6-4488-9a83-2f6ec4f126bb",
   "metadata": {},
   "outputs": [
    {
     "data": {
      "text/plain": [
       "[0.0006076043355278671,\n",
       " 5080.0,\n",
       " 0.0,\n",
       " 3681.0,\n",
       " 3.0,\n",
       " 0.9996576905250549,\n",
       " 1.0,\n",
       " 0.9994097948074341]"
      ]
     },
     "execution_count": 17,
     "metadata": {},
     "output_type": "execute_result"
    }
   ],
   "source": [
    "model.evaluate_generator(train_generator)"
   ]
  },
  {
   "cell_type": "code",
   "execution_count": 18,
   "id": "7d4782e7-4c97-4057-bbcb-47687605e127",
   "metadata": {},
   "outputs": [
    {
     "data": {
      "text/plain": [
       "[0.8561549186706543,\n",
       " 1673.0,\n",
       " 98.0,\n",
       " 316.0,\n",
       " 63.0,\n",
       " 0.9251163005828857,\n",
       " 0.9446640610694885,\n",
       " 0.9637096524238586]"
      ]
     },
     "execution_count": 18,
     "metadata": {},
     "output_type": "execute_result"
    }
   ],
   "source": [
    "model.evaluate_generator(validation_generator)"
   ]
  },
  {
   "cell_type": "code",
   "execution_count": 19,
   "id": "c7cf5a47",
   "metadata": {},
   "outputs": [
    {
     "data": {
      "text/plain": [
       "[1.7328686714172363,\n",
       " 388.0,\n",
       " 87.0,\n",
       " 313.0,\n",
       " 12.0,\n",
       " 0.8762500286102295,\n",
       " 0.8168420791625977,\n",
       " 0.9700000286102295]"
      ]
     },
     "execution_count": 19,
     "metadata": {},
     "output_type": "execute_result"
    }
   ],
   "source": [
    "model.evaluate_generator(test_generator)"
   ]
  },
  {
   "cell_type": "code",
   "execution_count": 20,
   "id": "ee684d70-84b6-48dd-af92-7e06bfac95d7",
   "metadata": {},
   "outputs": [
    {
     "data": {
      "image/png": "[encoded data removed]",
      "text/plain": [
       "<Figure size 432x288 with 1 Axes>"
      ]
     },
     "metadata": {
      "needs_background": "light"
     },
     "output_type": "display_data"
    },
    {
     "data": {
      "text/plain": [
       "<Figure size 432x288 with 0 Axes>"
      ]
     },
     "metadata": {},
     "output_type": "display_data"
    }
   ],
   "source": [
    "# loss\n",
    "plt.plot(hist.history['loss'], label='train loss')\n",
    "plt.plot(hist.history['val_loss'], label='val loss')\n",
    "plt.legend()\n",
    "plt.show()\n",
    "plt.savefig('LossVal_loss')"
   ]
  },
  {
   "cell_type": "code",
   "execution_count": 21,
   "id": "85752666-4306-4e51-b20e-df3f648f5e5f",
   "metadata": {},
   "outputs": [
    {
     "data": {
      "image/png": "[encoded data removed]",
      "text/plain": [
       "<Figure size 432x288 with 1 Axes>"
      ]
     },
     "metadata": {
      "needs_background": "light"
     },
     "output_type": "display_data"
    },
    {
     "data": {
      "text/plain": [
       "<Figure size 432x288 with 0 Axes>"
      ]
     },
     "metadata": {},
     "output_type": "display_data"
    }
   ],
   "source": [
    "# accuracies\n",
    "plt.plot(hist.history['accuracy'], label='train acc')\n",
    "plt.plot(hist.history['val_accuracy'], label='val acc')\n",
    "plt.legend()\n",
    "plt.show()\n",
    "plt.savefig('AccVal_acc')"
   ]
  },
  {
   "cell_type": "code",
   "execution_count": 22,
   "id": "3cd12cf2-f296-46c2-8c70-717881f808a3",
   "metadata": {},
   "outputs": [],
   "source": [
    "y_actual = []\n",
    "y_test = []"
   ]
  },
  {
   "cell_type": "code",
   "execution_count": 23,
   "id": "e70e7731-712a-4a64-85da-4fa9dd5de3a8",
   "metadata": {},
   "outputs": [],
   "source": [
    "import os\n",
    "from keras.preprocessing import image\n",
    "import numpy as np\n",
    "for i in os.listdir(\"CovidDataset1/val/Negative/\"):\n",
    "   img = image.load_img(\"CovidDataset1/val/Negative/\"+i, target_size= (224, 224));\n",
    "   img = image.img_to_array(img)\n",
    "   img = np.expand_dims(img, axis = 0)\n",
    "   p = model.predict(img)\n",
    "   classes_x=np.argmax(p,axis=0)\n",
    "   y_test.append(p[0,0])\n",
    "   y_actual.append(1)\n"
   ]
  },
  {
   "cell_type": "code",
   "execution_count": 24,
   "id": "552be2a4-b460-44db-b0db-064f76dc3fa9",
   "metadata": {},
   "outputs": [],
   "source": [
    "for i in os.listdir(\"CovidDataset1/val/Covid/\"):\n",
    "   img = image.load_img(\"CovidDataset1/val/Covid/\"+i, target_size= (224, 224));\n",
    "   img = image.img_to_array(img)\n",
    "   img = np.expand_dims(img, axis = 0)\n",
    "   p = model.predict(img)\n",
    "   classes_x=np.argmax(p,axis=0)\n",
    "   y_test.append(p[0,0])\n",
    "   y_actual.append(0)\n"
   ]
  },
  {
   "cell_type": "code",
   "execution_count": 25,
   "id": "aed47341-dba0-458f-a2f4-828c35e7d0b1",
   "metadata": {},
   "outputs": [],
   "source": [
    "y_actual = np.array(y_actual)\n",
    "y_test = np.array(y_test)"
   ]
  },
  {
   "cell_type": "code",
   "execution_count": 26,
   "id": "b765132e-a842-43f5-8f5b-5e543e4ba989",
   "metadata": {},
   "outputs": [
    {
     "name": "stdout",
     "output_type": "stream",
     "text": [
      "[1 1 1 ... 0 0 0]\n"
     ]
    }
   ],
   "source": [
    "print(y_actual)\n"
   ]
  },
  {
   "cell_type": "code",
   "execution_count": 27,
   "id": "df1ff182-28df-4030-b6e2-5648351ebd88",
   "metadata": {},
   "outputs": [
    {
     "name": "stdout",
     "output_type": "stream",
     "text": [
      "[1.0000000e+00 1.0000000e+00 1.0000000e+00 ... 2.1082222e-01 1.8185638e-19\n",
      " 2.0185593e-07]\n"
     ]
    }
   ],
   "source": [
    "print(y_test)"
   ]
  },
  {
   "cell_type": "code",
   "execution_count": 28,
   "id": "5fad290d-d77b-463f-9949-945fec8ff062",
   "metadata": {
    "scrolled": true
   },
   "outputs": [
    {
     "data": {
      "text/plain": [
       "array([[ 316,   98],\n",
       "       [  63, 1673]], dtype=int64)"
      ]
     },
     "execution_count": 28,
     "metadata": {},
     "output_type": "execute_result"
    }
   ],
   "source": [
    "from sklearn.metrics import confusion_matrix\n",
    "cm = confusion_matrix(y_actual, np.round(y_test))\n",
    "cm"
   ]
  },
  {
   "cell_type": "code",
   "execution_count": 3,
   "id": "b8061e29-eb3b-4aab-8316-ab277b848688",
   "metadata": {
    "scrolled": false
   },
   "outputs": [
    {
     "data": {
      "image/png": "[encoded data removed]",
      "text/plain": [
       "<Figure size 432x288 with 2 Axes>"
      ]
     },
     "metadata": {
      "needs_background": "light"
     },
     "output_type": "display_data"
    }
   ],
   "source": [
    "cm=[[383, 7],\n",
    "     [ 17, 393]]\n",
    "\n",
    "import seaborn as sns\n",
    "\n",
    "ax = sns.heatmap(cm/np.sum(cm), cmap = \"Blues\", fmt='.2%', annot=True)\n",
    "\n",
    "ax.set_ylabel('Predicted Values\\n')\n",
    "ax.set_xlabel('\\nActual Values ');\n",
    "\n",
    "## Ticket labels - List must be in alphabetical order\n",
    "ax.yaxis.set_ticklabels(['Positive(0)','Negative(1)'])\n",
    "ax.xaxis.set_ticklabels(['Positive(0)','Negative(1)'])\n",
    "\n",
    "## Display the visualization of the Confusion Matrix.\n",
    "plt.show()"
   ]
  },
  {
   "cell_type": "code",
   "execution_count": 4,
   "id": "25208dbe",
   "metadata": {},
   "outputs": [
    {
     "data": {
      "image/png": "[encoded data removed]",
      "text/plain": [
       "<Figure size 432x288 with 2 Axes>"
      ]
     },
     "metadata": {
      "needs_background": "light"
     },
     "output_type": "display_data"
    }
   ],
   "source": [
    "cm=[[383, 7],\n",
    "     [ 17, 393]]\n",
    "\n",
    "import seaborn as sns\n",
    "\n",
    "ax = sns.heatmap(cm, cmap = \"Blues\", annot=True, fmt=\".0f\")\n",
    "\n",
    "ax.set_ylabel('Predicted Values\\n')\n",
    "ax.set_xlabel('\\nActual Values ');\n",
    "\n",
    "## Ticket labels - List must be in alphabetical order\n",
    "ax.yaxis.set_ticklabels(['Positive(0)','Negative(1)'])\n",
    "ax.xaxis.set_ticklabels(['Positive(0)','Negative(1)'])\n",
    "\n",
    "## Display the visualization of the Confusion Matrix.\n",
    "plt.show()"
   ]
  },
  {
   "cell_type": "code",
   "execution_count": 31,
   "id": "a05d5e9c-25b7-4678-b608-d4208ad0be10",
   "metadata": {
    "scrolled": true
   },
   "outputs": [
    {
     "name": "stdout",
     "output_type": "stream",
     "text": [
      "              precision    recall  f1-score   support\n",
      "\n",
      "           0       0.83      0.76      0.80       414\n",
      "           1       0.94      0.96      0.95      1736\n",
      "\n",
      "    accuracy                           0.93      2150\n",
      "   macro avg       0.89      0.86      0.88      2150\n",
      "weighted avg       0.92      0.93      0.92      2150\n",
      "\n"
     ]
    }
   ],
   "source": [
    "from sklearn.metrics import classification_report\n",
    "\n",
    "print(classification_report(y_actual, np.round(abs(y_test))))\n"
   ]
  },
  {
   "cell_type": "code",
   "execution_count": null,
   "id": "d1348c34",
   "metadata": {},
   "outputs": [],
   "source": []
  }
 ],
 "metadata": {
  "kernelspec": {
   "display_name": "Python 3 (ipykernel)",
   "language": "python",
   "name": "python3"
  },
  "language_info": {
   "codemirror_mode": {
    "name": "ipython",
    "version": 3
   },
   "file_extension": ".py",
   "mimetype": "text/x-python",
   "name": "python",
   "nbconvert_exporter": "python",
   "pygments_lexer": "ipython3",
   "version": "3.9.7"
  }
 },
 "nbformat": 4,
 "nbformat_minor": 5
}
