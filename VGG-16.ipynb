{
 "cells": [
  {
   "cell_type": "code",
   "execution_count": 2,
   "id": "Iz9B8X1WEvLy",
   "metadata": {
    "id": "Iz9B8X1WEvLy"
   },
   "outputs": [],
   "source": [
    "TRAIN_PATH = \"CovidDataset1/Train\"\n",
    "VAL_PATH = \"CovidDataset1/Val\"\n",
    "TEST_PATH = \"CovidDataset1/test\""
   ]
  },
  {
   "cell_type": "code",
   "execution_count": 3,
   "id": "511daa5f-2226-4373-b320-255134fe2264",
   "metadata": {
    "id": "511daa5f-2226-4373-b320-255134fe2264"
   },
   "outputs": [],
   "source": [
    "import numpy as np\n",
    "import matplotlib.pyplot as plt\n",
    "import keras\n",
    "from keras.applications.vgg16 import VGG16\n",
    "from keras.layers import *\n",
    "from keras.models import * \n",
    "from keras.preprocessing import image"
   ]
  },
  {
   "cell_type": "code",
   "execution_count": 4,
   "id": "be6c0914-4986-48e5-8055-3127cb474d02",
   "metadata": {
    "id": "be6c0914-4986-48e5-8055-3127cb474d02"
   },
   "outputs": [],
   "source": [
    "from keras.metrics import *\n",
    "\n",
    "METRICS = [\n",
    "      TruePositives(name='tp'),\n",
    "      FalsePositives(name='fp'),\n",
    "      TrueNegatives(name='tn'),\n",
    "      FalseNegatives(name='fn'), \n",
    "      BinaryAccuracy(name='accuracy'),\n",
    "      Precision(name='precision'),\n",
    "      Recall(name='recall'),\n",
    "]"
   ]
  },
  {
   "cell_type": "code",
   "execution_count": 5,
   "id": "c0986fb8-48ea-4cd5-a556-9def8379e5da",
   "metadata": {
    "id": "c0986fb8-48ea-4cd5-a556-9def8379e5da"
   },
   "outputs": [],
   "source": [
    "\n",
    "def create_model():\n",
    "\n",
    "    # add preprocessing layer to the front of VGG\n",
    "    vgg = VGG16(input_shape=(224,224,3), weights='imagenet', include_top=False)\n",
    "\n",
    "    # don't train existing weights\n",
    "    for layer in vgg.layers:\n",
    "      layer.trainable = False\n",
    "    \n",
    "      # useful for getting number of classes\n",
    "    #folders = glob('CovidDataset/Train/*')\n",
    "    # our layers - you can add more if you want\n",
    "    x = Flatten()(vgg.output)\n",
    "    x = Dense(220, activation='relu')(x)\n",
    "    x = Dropout(0.2)(x)\n",
    "\n",
    "\n",
    "    prediction = Dense(1, activation='sigmoid')(x)\n",
    "\n",
    "\n",
    "    # create a model object\n",
    "    model = Model(inputs=vgg.input, outputs=prediction)\n",
    "\n",
    "    model.compile(loss=keras.losses.binary_crossentropy,optimizer='adam',metrics=METRICS)\n",
    "    return model\n"
   ]
  },
  {
   "cell_type": "code",
   "execution_count": 6,
   "id": "5c4381ef-e045-4af4-b9d1-bc46e7f03bdf",
   "metadata": {
    "id": "5c4381ef-e045-4af4-b9d1-bc46e7f03bdf",
    "scrolled": false
   },
   "outputs": [
    {
     "name": "stdout",
     "output_type": "stream",
     "text": [
      "Model: \"model\"\n",
      "_________________________________________________________________\n",
      "Layer (type)                 Output Shape              Param #   \n",
      "=================================================================\n",
      "input_1 (InputLayer)         [(None, 224, 224, 3)]     0         \n",
      "_________________________________________________________________\n",
      "block1_conv1 (Conv2D)        (None, 224, 224, 64)      1792      \n",
      "_________________________________________________________________\n",
      "block1_conv2 (Conv2D)        (None, 224, 224, 64)      36928     \n",
      "_________________________________________________________________\n",
      "block1_pool (MaxPooling2D)   (None, 112, 112, 64)      0         \n",
      "_________________________________________________________________\n",
      "block2_conv1 (Conv2D)        (None, 112, 112, 128)     73856     \n",
      "_________________________________________________________________\n",
      "block2_conv2 (Conv2D)        (None, 112, 112, 128)     147584    \n",
      "_________________________________________________________________\n",
      "block2_pool (MaxPooling2D)   (None, 56, 56, 128)       0         \n",
      "_________________________________________________________________\n",
      "block3_conv1 (Conv2D)        (None, 56, 56, 256)       295168    \n",
      "_________________________________________________________________\n",
      "block3_conv2 (Conv2D)        (None, 56, 56, 256)       590080    \n",
      "_________________________________________________________________\n",
      "block3_conv3 (Conv2D)        (None, 56, 56, 256)       590080    \n",
      "_________________________________________________________________\n",
      "block3_pool (MaxPooling2D)   (None, 28, 28, 256)       0         \n",
      "_________________________________________________________________\n",
      "block4_conv1 (Conv2D)        (None, 28, 28, 512)       1180160   \n",
      "_________________________________________________________________\n",
      "block4_conv2 (Conv2D)        (None, 28, 28, 512)       2359808   \n",
      "_________________________________________________________________\n",
      "block4_conv3 (Conv2D)        (None, 28, 28, 512)       2359808   \n",
      "_________________________________________________________________\n",
      "block4_pool (MaxPooling2D)   (None, 14, 14, 512)       0         \n",
      "_________________________________________________________________\n",
      "block5_conv1 (Conv2D)        (None, 14, 14, 512)       2359808   \n",
      "_________________________________________________________________\n",
      "block5_conv2 (Conv2D)        (None, 14, 14, 512)       2359808   \n",
      "_________________________________________________________________\n",
      "block5_conv3 (Conv2D)        (None, 14, 14, 512)       2359808   \n",
      "_________________________________________________________________\n",
      "block5_pool (MaxPooling2D)   (None, 7, 7, 512)         0         \n",
      "_________________________________________________________________\n",
      "flatten (Flatten)            (None, 25088)             0         \n",
      "_________________________________________________________________\n",
      "dense (Dense)                (None, 220)               5519580   \n",
      "_________________________________________________________________\n",
      "dropout (Dropout)            (None, 220)               0         \n",
      "_________________________________________________________________\n",
      "dense_1 (Dense)              (None, 1)                 221       \n",
      "=================================================================\n",
      "Total params: 20,234,489\n",
      "Trainable params: 5,519,801\n",
      "Non-trainable params: 14,714,688\n",
      "_________________________________________________________________\n"
     ]
    }
   ],
   "source": [
    "model = create_model()\n",
    "model.summary()"
   ]
  },
  {
   "cell_type": "code",
   "execution_count": 7,
   "id": "80ae6bb5-38cf-419d-bf6f-4cf924f21c24",
   "metadata": {
    "id": "80ae6bb5-38cf-419d-bf6f-4cf924f21c24"
   },
   "outputs": [],
   "source": [
    "# Train from scratch\n",
    "train_datagen = image.ImageDataGenerator(\n",
    "    rescale = 1./255,\n",
    "    shear_range = 0.2,\n",
    "    zoom_range = 0.2,\n",
    "    horizontal_flip = True,\n",
    ")\n",
    "\n",
    "test_dataset = image.ImageDataGenerator(rescale=1./255)"
   ]
  },
  {
   "cell_type": "code",
   "execution_count": 8,
   "id": "0590866e-bddb-4f48-8b97-bf1e0ef9d735",
   "metadata": {
    "id": "0590866e-bddb-4f48-8b97-bf1e0ef9d735"
   },
   "outputs": [
    {
     "name": "stdout",
     "output_type": "stream",
     "text": [
      "Found 8764 images belonging to 2 classes.\n"
     ]
    }
   ],
   "source": [
    "train_generator = train_datagen.flow_from_directory(\n",
    "    TRAIN_PATH,\n",
    "    target_size = (224,224),\n",
    "    batch_size = 32,\n",
    "    class_mode = 'binary')"
   ]
  },
  {
   "cell_type": "code",
   "execution_count": 9,
   "id": "034890a8-858a-4e61-bb60-74886a666af7",
   "metadata": {
    "id": "034890a8-858a-4e61-bb60-74886a666af7"
   },
   "outputs": [
    {
     "name": "stdout",
     "output_type": "stream",
     "text": [
      "Found 2150 images belonging to 2 classes.\n"
     ]
    }
   ],
   "source": [
    "validation_generator = test_dataset.flow_from_directory(\n",
    "    VAL_PATH,\n",
    "    target_size = (224,224),\n",
    "    batch_size = 32,\n",
    "    class_mode = 'binary')"
   ]
  },
  {
   "cell_type": "code",
   "execution_count": 10,
   "id": "462f1cab",
   "metadata": {},
   "outputs": [
    {
     "name": "stdout",
     "output_type": "stream",
     "text": [
      "Found 800 images belonging to 2 classes.\n"
     ]
    }
   ],
   "source": [
    "test_generator = test_dataset.flow_from_directory(\n",
    "  TEST_PATH,\n",
    "    target_size = (224,224),\n",
    "    batch_size = 32,\n",
    "    class_mode = 'binary')"
   ]
  },
  {
   "cell_type": "code",
   "execution_count": 11,
   "id": "f9545627-4453-4bba-a156-b5cc5310f5a2",
   "metadata": {
    "id": "f9545627-4453-4bba-a156-b5cc5310f5a2"
   },
   "outputs": [
    {
     "data": {
      "text/plain": [
       "{'Covid': 0, 'Negative': 1}"
      ]
     },
     "execution_count": 11,
     "metadata": {},
     "output_type": "execute_result"
    }
   ],
   "source": [
    "train_generator.class_indices"
   ]
  },
  {
   "cell_type": "code",
   "execution_count": 12,
   "id": "05c9b90d-0843-4135-b72d-e6620aaf1767",
   "metadata": {
    "id": "05c9b90d-0843-4135-b72d-e6620aaf1767"
   },
   "outputs": [],
   "source": [
    "import os\n",
    "from keras.callbacks import ModelCheckpoint,EarlyStopping, CSVLogger\n",
    "checkpoint_path = \"vgg16/cp-{epoch:04d}.ckpt\"\n",
    "checkpoint_dir = os.path.dirname(checkpoint_path)\n",
    "checkpoint = ModelCheckpoint(filepath=checkpoint_path, monitor='loss', verbose=1,save_weights_only=True,save_best_only=True, mode='auto')\n",
    "early_stop = EarlyStopping(monitor='loss', patience=20, verbose=1)\n",
    "log_csv = CSVLogger('vgg16/vgg16.csv', separator=',', append=False)\n",
    "reduce_lr = keras.callbacks.ReduceLROnPlateau(monitor='loss', factor=0.5, patience=5)\n",
    "\n",
    "callbacks_list = [checkpoint, early_stop,reduce_lr, log_csv]\n"
   ]
  },
  {
   "cell_type": "code",
   "execution_count": 12,
   "id": "3db930d5-7f30-4e67-9864-febbdb7fe29d",
   "metadata": {
    "id": "3db930d5-7f30-4e67-9864-febbdb7fe29d",
    "scrolled": true
   },
   "outputs": [
    {
     "name": "stdout",
     "output_type": "stream",
     "text": [
      "Epoch 1/45\n",
      "274/274 [==============================] - 114s 389ms/step - loss: 0.4007 - tp: 4464.0000 - fp: 692.0000 - tn: 2989.0000 -  : 619.0000 - accuracy: 0.8504 - precision: 0.8658 - recall: 0.8782 - val_loss: 0.2154 - val_tp: 1732.0000 - val_fp: 166.0000 - val_tn: 248.0000 - val_ : 4.0000 - val_accuracy: 0.9209 - val_precision: 0.9125 - val_recall: 0.9977\n",
      "\n",
      "Epoch 00001: loss improved from inf to 0.40072, saving model to vgg16\\cp-0001.ckpt\n",
      "Epoch 2/45\n",
      "274/274 [==============================] - 97s 352ms/step - loss: 0.2739 - tp: 4617.0000 - fp: 511.0000 - tn: 3170.0000 -  : 466.0000 - accuracy: 0.8885 - precision: 0.9004 - recall: 0.9083 - val_loss: 0.1369 - val_tp: 1699.0000 - val_fp: 65.0000 - val_tn: 349.0000 - val_ : 37.0000 - val_accuracy: 0.9526 - val_precision: 0.9632 - val_recall: 0.9787\n",
      "\n",
      "Epoch 00002: loss improved from 0.40072 to 0.27392, saving model to vgg16\\cp-0002.ckpt\n",
      "Epoch 3/45\n",
      "274/274 [==============================] - 96s 352ms/step - loss: 0.2428 - tp: 4665.0000 - fp: 447.0000 - tn: 3234.0000 -  : 418.0000 - accuracy: 0.9013 - precision: 0.9126 - recall: 0.9178 - val_loss: 0.1402 - val_tp: 1724.0000 - val_fp: 103.0000 - val_tn: 311.0000 - val_ : 12.0000 - val_accuracy: 0.9465 - val_precision: 0.9436 - val_recall: 0.9931\n",
      "\n",
      "Epoch 00003: loss improved from 0.27392 to 0.24277, saving model to vgg16\\cp-0003.ckpt\n",
      "Epoch 4/45\n",
      "274/274 [==============================] - 97s 354ms/step - loss: 0.2132 - tp: 4737.0000 - fp: 385.0000 - tn: 3296.0000 -  : 346.0000 - accuracy: 0.9166 - precision: 0.9248 - recall: 0.9319 - val_loss: 0.1278 - val_tp: 1686.0000 - val_fp: 46.0000 - val_tn: 368.0000 - val_ : 50.0000 - val_accuracy: 0.9553 - val_precision: 0.9734 - val_recall: 0.9712\n",
      "\n",
      "Epoch 00004: loss improved from 0.24277 to 0.21320, saving model to vgg16\\cp-0004.ckpt\n",
      "Epoch 5/45\n",
      "274/274 [==============================] - 97s 355ms/step - loss: 0.1954 - tp: 4751.0000 - fp: 329.0000 - tn: 3352.0000 -  : 332.0000 - accuracy: 0.9246 - precision: 0.9352 - recall: 0.9347 - val_loss: 0.1184 - val_tp: 1720.0000 - val_fp: 80.0000 - val_tn: 334.0000 - val_ : 16.0000 - val_accuracy: 0.9553 - val_precision: 0.9556 - val_recall: 0.9908\n",
      "\n",
      "Epoch 00005: loss improved from 0.21320 to 0.19542, saving model to vgg16\\cp-0005.ckpt\n",
      "Epoch 6/45\n",
      "274/274 [==============================] - 97s 355ms/step - loss: 0.1848 - tp: 4781.0000 - fp: 330.0000 - tn: 3351.0000 -  : 302.0000 - accuracy: 0.9279 - precision: 0.9354 - recall: 0.9406 - val_loss: 0.1513 - val_tp: 1732.0000 - val_fp: 115.0000 - val_tn: 299.0000 - val_ : 4.0000 - val_accuracy: 0.9447 - val_precision: 0.9377 - val_recall: 0.9977\n",
      "\n",
      "Epoch 00006: loss improved from 0.19542 to 0.18480, saving model to vgg16\\cp-0006.ckpt\n",
      "Epoch 7/45\n",
      "274/274 [==============================] - 97s 354ms/step - loss: 0.1837 - tp: 4766.0000 - fp: 322.0000 - tn: 3359.0000 -  : 317.0000 - accuracy: 0.9271 - precision: 0.9367 - recall: 0.9376 - val_loss: 0.1328 - val_tp: 1732.0000 - val_fp: 89.0000 - val_tn: 325.0000 - val_ : 4.0000 - val_accuracy: 0.9567 - val_precision: 0.9511 - val_recall: 0.9977\n",
      "\n",
      "Epoch 00007: loss improved from 0.18480 to 0.18370, saving model to vgg16\\cp-0007.ckpt\n",
      "Epoch 8/45\n",
      "274/274 [==============================] - 97s 354ms/step - loss: 0.1700 - tp: 4812.0000 - fp: 311.0000 - tn: 3370.0000 -  : 271.0000 - accuracy: 0.9336 - precision: 0.9393 - recall: 0.9467 - val_loss: 0.1192 - val_tp: 1682.0000 - val_fp: 43.0000 - val_tn: 371.0000 - val_ : 54.0000 - val_accuracy: 0.9549 - val_precision: 0.9751 - val_recall: 0.9689\n",
      "\n",
      "Epoch 00008: loss improved from 0.18370 to 0.16997, saving model to vgg16\\cp-0008.ckpt\n",
      "Epoch 9/45\n",
      "274/274 [==============================] - 97s 355ms/step - loss: 0.1766 - tp: 4790.0000 - fp: 307.0000 - tn: 3374.0000 -  : 293.0000 - accuracy: 0.9315 - precision: 0.9398 - recall: 0.9424 - val_loss: 0.1412 - val_tp: 1733.0000 - val_fp: 105.0000 - val_tn: 309.0000 - val_ : 3.0000 - val_accuracy: 0.9498 - val_precision: 0.9429 - val_recall: 0.9983\n",
      "\n",
      "Epoch 00009: loss did not improve from 0.16997\n",
      "Epoch 10/45\n",
      "274/274 [==============================] - 97s 355ms/step - loss: 0.1583 - tp: 4809.0000 - fp: 280.0000 - tn: 3401.0000 -  : 274.0000 - accuracy: 0.9368 - precision: 0.9450 - recall: 0.9461 - val_loss: 0.1072 - val_tp: 1700.0000 - val_fp: 54.0000 - val_tn: 360.0000 - val_ : 36.0000 - val_accuracy: 0.9581 - val_precision: 0.9692 - val_recall: 0.9793\n",
      "\n",
      "Epoch 00010: loss improved from 0.16997 to 0.15833, saving model to vgg16\\cp-0010.ckpt\n",
      "Epoch 11/45\n",
      "274/274 [==============================] - 97s 354ms/step - loss: 0.1614 - tp: 4824.0000 - fp: 288.0000 - tn: 3393.0000 -  : 259.0000 - accuracy: 0.9376 - precision: 0.9437 - recall: 0.9490 - val_loss: 0.1020 - val_tp: 1710.0000 - val_fp: 61.0000 - val_tn: 353.0000 - val_ : 26.0000 - val_accuracy: 0.9595 - val_precision: 0.9656 - val_recall: 0.9850\n",
      "\n",
      "Epoch 00011: loss did not improve from 0.15833\n",
      "Epoch 12/45\n",
      "274/274 [==============================] - 98s 356ms/step - loss: 0.1526 - tp: 4835.0000 - fp: 253.0000 - tn: 3428.0000 -  : 248.0000 - accuracy: 0.9428 - precision: 0.9503 - recall: 0.9512 - val_loss: 0.1043 - val_tp: 1696.0000 - val_fp: 46.0000 - val_tn: 368.0000 - val_ : 40.0000 - val_accuracy: 0.9600 - val_precision: 0.9736 - val_recall: 0.9770\n",
      "\n",
      "Epoch 00012: loss improved from 0.15833 to 0.15258, saving model to vgg16\\cp-0012.ckpt\n",
      "Epoch 13/45\n",
      "274/274 [==============================] - 99s 359ms/step - loss: 0.1407 - tp: 4859.0000 - fp: 254.0000 - tn: 3427.0000 -  : 224.0000 - accuracy: 0.9455 - precision: 0.9503 - recall: 0.9559 - val_loss: 0.1071 - val_tp: 1714.0000 - val_fp: 60.0000 - val_tn: 354.0000 - val_ : 22.0000 - val_accuracy: 0.9619 - val_precision: 0.9662 - val_recall: 0.9873\n",
      "\n",
      "Epoch 00013: loss improved from 0.15258 to 0.14071, saving model to vgg16\\cp-0013.ckpt\n",
      "Epoch 14/45\n",
      "274/274 [==============================] - 100s 364ms/step - loss: 0.1388 - tp: 4850.0000 - fp: 230.0000 - tn: 3451.0000 -  : 233.0000 - accuracy: 0.9472 - precision: 0.9547 - recall: 0.9542 - val_loss: 0.0981 - val_tp: 1728.0000 - val_fp: 71.0000 - val_tn: 343.0000 - val_ : 8.0000 - val_accuracy: 0.9633 - val_precision: 0.9605 - val_recall: 0.9954\n",
      "\n",
      "Epoch 00014: loss improved from 0.14071 to 0.13876, saving model to vgg16\\cp-0014.ckpt\n",
      "Epoch 15/45\n",
      "274/274 [==============================] - 98s 358ms/step - loss: 0.1366 - tp: 4864.0000 - fp: 236.0000 - tn: 3445.0000 -  : 219.0000 - accuracy: 0.9481 - precision: 0.9537 - recall: 0.9569 - val_loss: 0.1000 - val_tp: 1711.0000 - val_fp: 58.0000 - val_tn: 356.0000 - val_ : 25.0000 - val_accuracy: 0.9614 - val_precision: 0.9672 - val_recall: 0.9856\n",
      "\n",
      "Epoch 00015: loss improved from 0.13876 to 0.13659, saving model to vgg16\\cp-0015.ckpt\n",
      "Epoch 16/45\n",
      "274/274 [==============================] - 98s 355ms/step - loss: 0.1594 - tp: 4817.0000 - fp: 280.0000 - tn: 3401.0000 -  : 266.0000 - accuracy: 0.9377 - precision: 0.9451 - recall: 0.9477 - val_loss: 0.0956 - val_tp: 1710.0000 - val_fp: 53.0000 - val_tn: 361.0000 - val_ : 26.0000 - val_accuracy: 0.9633 - val_precision: 0.9699 - val_recall: 0.9850\n",
      "\n",
      "Epoch 00016: loss did not improve from 0.13659\n",
      "Epoch 17/45\n",
      "274/274 [==============================] - 97s 353ms/step - loss: 0.1483 - tp: 4802.0000 - fp: 246.0000 - tn: 3435.0000 -  : 281.0000 - accuracy: 0.9399 - precision: 0.9513 - recall: 0.9447 - val_loss: 0.1000 - val_tp: 1719.0000 - val_fp: 52.0000 - val_tn: 362.0000 - val_ : 17.0000 - val_accuracy: 0.9679 - val_precision: 0.9706 - val_recall: 0.9902\n",
      "\n",
      "Epoch 00017: loss did not improve from 0.13659\n",
      "Epoch 18/45\n",
      "274/274 [==============================] - 97s 353ms/step - loss: 0.1494 - tp: 4830.0000 - fp: 228.0000 - tn: 3453.0000 -  : 253.0000 - accuracy: 0.9451 - precision: 0.9549 - recall: 0.9502 - val_loss: 0.1522 - val_tp: 1608.0000 - val_fp: 14.0000 - val_tn: 400.0000 - val_ : 128.0000 - val_accuracy: 0.9340 - val_precision: 0.9914 - val_recall: 0.9263\n",
      "\n",
      "Epoch 00018: loss did not improve from 0.13659\n",
      "Epoch 19/45\n",
      "274/274 [==============================] - 97s 354ms/step - loss: 0.1427 - tp: 4829.0000 - fp: 222.0000 - tn: 3459.0000 -  : 254.0000 - accuracy: 0.9457 - precision: 0.9560 - recall: 0.9500 - val_loss: 0.1158 - val_tp: 1727.0000 - val_fp: 71.0000 - val_tn: 343.0000 - val_ : 9.0000 - val_accuracy: 0.9628 - val_precision: 0.9605 - val_recall: 0.9948\n"
     ]
    },
    {
     "name": "stdout",
     "output_type": "stream",
     "text": [
      "\n",
      "Epoch 00019: loss did not improve from 0.13659\n",
      "Epoch 20/45\n",
      "274/274 [==============================] - 97s 353ms/step - loss: 0.1332 - tp: 4857.0000 - fp: 214.0000 - tn: 3467.0000 -  : 226.0000 - accuracy: 0.9498 - precision: 0.9578 - recall: 0.9555 - val_loss: 0.0975 - val_tp: 1719.0000 - val_fp: 62.0000 - val_tn: 352.0000 - val_ : 17.0000 - val_accuracy: 0.9633 - val_precision: 0.9652 - val_recall: 0.9902\n",
      "\n",
      "Epoch 00020: loss improved from 0.13659 to 0.13319, saving model to vgg16\\cp-0020.ckpt\n",
      "Epoch 21/45\n",
      "274/274 [==============================] - 97s 353ms/step - loss: 0.1230 - tp: 4865.0000 - fp: 189.0000 - tn: 3492.0000 -  : 218.0000 - accuracy: 0.9536 - precision: 0.9626 - recall: 0.9571 - val_loss: 0.1104 - val_tp: 1719.0000 - val_fp: 65.0000 - val_tn: 349.0000 - val_ : 17.0000 - val_accuracy: 0.9619 - val_precision: 0.9636 - val_recall: 0.9902\n",
      "\n",
      "Epoch 00021: loss improved from 0.13319 to 0.12298, saving model to vgg16\\cp-0021.ckpt\n",
      "Epoch 22/45\n",
      "274/274 [==============================] - 97s 354ms/step - loss: 0.1276 - tp: 4849.0000 - fp: 196.0000 - tn: 3485.0000 -  : 234.0000 - accuracy: 0.9509 - precision: 0.9611 - recall: 0.9540 - val_loss: 0.0987 - val_tp: 1705.0000 - val_fp: 38.0000 - val_tn: 376.0000 - val_ : 31.0000 - val_accuracy: 0.9679 - val_precision: 0.9782 - val_recall: 0.9821\n",
      "\n",
      "Epoch 00022: loss did not improve from 0.12298\n",
      "Epoch 23/45\n",
      "274/274 [==============================] - 97s 353ms/step - loss: 0.1288 - tp: 4862.0000 - fp: 202.0000 - tn: 3479.0000 -  : 221.0000 - accuracy: 0.9517 - precision: 0.9601 - recall: 0.9565 - val_loss: 0.0921 - val_tp: 1711.0000 - val_fp: 39.0000 - val_tn: 375.0000 - val_ : 25.0000 - val_accuracy: 0.9702 - val_precision: 0.9777 - val_recall: 0.9856\n",
      "\n",
      "Epoch 00023: loss did not improve from 0.12298\n",
      "Epoch 24/45\n",
      "274/274 [==============================] - 97s 354ms/step - loss: 0.1213 - tp: 4876.0000 - fp: 194.0000 - tn: 3487.0000 -  : 207.0000 - accuracy: 0.9542 - precision: 0.9617 - recall: 0.9593 - val_loss: 0.0863 - val_tp: 1714.0000 - val_fp: 35.0000 - val_tn: 379.0000 - val_ : 22.0000 - val_accuracy: 0.9735 - val_precision: 0.9800 - val_recall: 0.9873\n",
      "\n",
      "Epoch 00024: loss improved from 0.12298 to 0.12128, saving model to vgg16\\cp-0024.ckpt\n",
      "Epoch 25/45\n",
      "274/274 [==============================] - 97s 353ms/step - loss: 0.1175 - tp: 4866.0000 - fp: 168.0000 - tn: 3513.0000 -  : 217.0000 - accuracy: 0.9561 - precision: 0.9666 - recall: 0.9573 - val_loss: 0.1176 - val_tp: 1731.0000 - val_fp: 82.0000 - val_tn: 332.0000 - val_ : 5.0000 - val_accuracy: 0.9595 - val_precision: 0.9548 - val_recall: 0.9971\n",
      "\n",
      "Epoch 00025: loss improved from 0.12128 to 0.11750, saving model to vgg16\\cp-0025.ckpt\n",
      "Epoch 26/45\n",
      "274/274 [==============================] - 97s 353ms/step - loss: 0.1197 - tp: 4869.0000 - fp: 179.0000 - tn: 3502.0000 -  : 214.0000 - accuracy: 0.9552 - precision: 0.9645 - recall: 0.9579 - val_loss: 0.1458 - val_tp: 1732.0000 - val_fp: 76.0000 - val_tn: 338.0000 - val_ : 4.0000 - val_accuracy: 0.9628 - val_precision: 0.9580 - val_recall: 0.9977\n",
      "\n",
      "Epoch 00026: loss did not improve from 0.11750\n",
      "Epoch 27/45\n",
      "274/274 [==============================] - 97s 353ms/step - loss: 0.1262 - tp: 4851.0000 - fp: 194.0000 - tn: 3487.0000 -  : 232.0000 - accuracy: 0.9514 - precision: 0.9615 - recall: 0.9544 - val_loss: 0.0965 - val_tp: 1719.0000 - val_fp: 55.0000 - val_tn: 359.0000 - val_ : 17.0000 - val_accuracy: 0.9665 - val_precision: 0.9690 - val_recall: 0.9902\n",
      "\n",
      "Epoch 00027: loss did not improve from 0.11750\n",
      "Epoch 28/45\n",
      "274/274 [==============================] - 97s 353ms/step - loss: 0.1235 - tp: 4870.0000 - fp: 187.0000 - tn: 3494.0000 -  : 213.0000 - accuracy: 0.9544 - precision: 0.9630 - recall: 0.9581 - val_loss: 0.0911 - val_tp: 1702.0000 - val_fp: 30.0000 - val_tn: 384.0000 - val_ : 34.0000 - val_accuracy: 0.9702 - val_precision: 0.9827 - val_recall: 0.9804\n",
      "\n",
      "Epoch 00028: loss did not improve from 0.11750\n",
      "Epoch 29/45\n",
      "274/274 [==============================] - 97s 354ms/step - loss: 0.1213 - tp: 4855.0000 - fp: 188.0000 - tn: 3493.0000 -  : 228.0000 - accuracy: 0.9525 - precision: 0.9627 - recall: 0.9551 - val_loss: 0.0910 - val_tp: 1723.0000 - val_fp: 53.0000 - val_tn: 361.0000 - val_ : 13.0000 - val_accuracy: 0.9693 - val_precision: 0.9702 - val_recall: 0.9925\n",
      "\n",
      "Epoch 00029: loss did not improve from 0.11750\n",
      "Epoch 30/45\n",
      "274/274 [==============================] - 97s 353ms/step - loss: 0.1130 - tp: 4886.0000 - fp: 173.0000 - tn: 3508.0000 -  : 197.0000 - accuracy: 0.9578 - precision: 0.9658 - recall: 0.9612 - val_loss: 0.1069 - val_tp: 1679.0000 - val_fp: 26.0000 - val_tn: 388.0000 - val_ : 57.0000 - val_accuracy: 0.9614 - val_precision: 0.9848 - val_recall: 0.9672\n",
      "\n",
      "Epoch 00030: loss improved from 0.11750 to 0.11295, saving model to vgg16\\cp-0030.ckpt\n",
      "Epoch 31/45\n",
      "274/274 [==============================] - 97s 354ms/step - loss: 0.1106 - tp: 4882.0000 - fp: 156.0000 - tn: 3525.0000 -  : 201.0000 - accuracy: 0.9593 - precision: 0.9690 - recall: 0.9605 - val_loss: 0.0950 - val_tp: 1724.0000 - val_fp: 49.0000 - val_tn: 365.0000 - val_ : 12.0000 - val_accuracy: 0.9716 - val_precision: 0.9724 - val_recall: 0.9931\n",
      "\n",
      "Epoch 00031: loss improved from 0.11295 to 0.11064, saving model to vgg16\\cp-0031.ckpt\n",
      "Epoch 32/45\n",
      "274/274 [==============================] - 97s 353ms/step - loss: 0.1041 - tp: 4887.0000 - fp: 157.0000 - tn: 3524.0000 -  : 196.0000 - accuracy: 0.9597 - precision: 0.9689 - recall: 0.9614 - val_loss: 0.0920 - val_tp: 1726.0000 - val_fp: 65.0000 - val_tn: 349.0000 - val_ : 10.0000 - val_accuracy: 0.9651 - val_precision: 0.9637 - val_recall: 0.9942\n",
      "\n",
      "Epoch 00032: loss improved from 0.11064 to 0.10408, saving model to vgg16\\cp-0032.ckpt\n",
      "Epoch 33/45\n",
      "274/274 [==============================] - 97s 354ms/step - loss: 0.1011 - tp: 4879.0000 - fp: 156.0000 - tn: 3525.0000 -  : 204.0000 - accuracy: 0.9589 - precision: 0.9690 - recall: 0.9599 - val_loss: 0.1018 - val_tp: 1726.0000 - val_fp: 59.0000 - val_tn: 355.0000 - val_ : 10.0000 - val_accuracy: 0.9679 - val_precision: 0.9669 - val_recall: 0.9942\n",
      "\n",
      "Epoch 00033: loss improved from 0.10408 to 0.10111, saving model to vgg16\\cp-0033.ckpt\n",
      "Epoch 34/45\n",
      "274/274 [==============================] - 97s 352ms/step - loss: 0.1148 - tp: 4853.0000 - fp: 159.0000 - tn: 3522.0000 -  : 230.0000 - accuracy: 0.9556 - precision: 0.9683 - recall: 0.9548 - val_loss: 0.0836 - val_tp: 1711.0000 - val_fp: 36.0000 - val_tn: 378.0000 - val_ : 25.0000 - val_accuracy: 0.9716 - val_precision: 0.9794 - val_recall: 0.9856\n",
      "\n",
      "Epoch 00034: loss did not improve from 0.10111\n",
      "Epoch 35/45\n",
      "274/274 [==============================] - 97s 353ms/step - loss: 0.1023 - tp: 4884.0000 - fp: 148.0000 - tn: 3533.0000 -  : 199.0000 - accuracy: 0.9604 - precision: 0.9706 - recall: 0.9608 - val_loss: 0.0870 - val_tp: 1723.0000 - val_fp: 51.0000 - val_tn: 363.0000 - val_ : 13.0000 - val_accuracy: 0.9702 - val_precision: 0.9713 - val_recall: 0.9925\n",
      "\n",
      "Epoch 00035: loss did not improve from 0.10111\n",
      "Epoch 36/45\n",
      "274/274 [==============================] - 97s 353ms/step - loss: 0.0986 - tp: 4896.0000 - fp: 138.0000 - tn: 3543.0000 -  : 187.0000 - accuracy: 0.9629 - precision: 0.9726 - recall: 0.9632 - val_loss: 0.0857 - val_tp: 1715.0000 - val_fp: 37.0000 - val_tn: 377.0000 - val_ : 21.0000 - val_accuracy: 0.9730 - val_precision: 0.9789 - val_recall: 0.9879\n",
      "\n",
      "Epoch 00036: loss improved from 0.10111 to 0.09864, saving model to vgg16\\cp-0036.ckpt\n",
      "Epoch 37/45\n",
      "274/274 [==============================] - 97s 355ms/step - loss: 0.1068 - tp: 4884.0000 - fp: 151.0000 - tn: 3530.0000 -  : 199.0000 - accuracy: 0.9601 - precision: 0.9700 - recall: 0.9608 - val_loss: 0.0964 - val_tp: 1728.0000 - val_fp: 57.0000 - val_tn: 357.0000 - val_ : 8.0000 - val_accuracy: 0.9698 - val_precision: 0.9681 - val_recall: 0.9954\n",
      "\n",
      "Epoch 00037: loss did not improve from 0.09864\n",
      "Epoch 38/45\n",
      "274/274 [==============================] - 97s 355ms/step - loss: 0.0988 - tp: 4908.0000 - fp: 165.0000 - tn: 3516.0000 -  : 175.0000 - accuracy: 0.9612 - precision: 0.9675 - recall: 0.9656 - val_loss: 0.0874 - val_tp: 1701.0000 - val_fp: 27.0000 - val_tn: 387.0000 - val_ : 35.0000 - val_accuracy: 0.9712 - val_precision: 0.9844 - val_recall: 0.9798\n",
      "\n",
      "Epoch 00038: loss did not improve from 0.09864\n",
      "Epoch 39/45\n"
     ]
    },
    {
     "name": "stdout",
     "output_type": "stream",
     "text": [
      "274/274 [==============================] - 97s 354ms/step - loss: 0.1124 - tp: 4888.0000 - fp: 165.0000 - tn: 3516.0000 -  : 195.0000 - accuracy: 0.9589 - precision: 0.9673 - recall: 0.9616 - val_loss: 0.0907 - val_tp: 1726.0000 - val_fp: 45.0000 - val_tn: 369.0000 - val_ : 10.0000 - val_accuracy: 0.9744 - val_precision: 0.9746 - val_recall: 0.9942\n",
      "\n",
      "Epoch 00039: loss did not improve from 0.09864\n",
      "Epoch 40/45\n",
      "274/274 [==============================] - 97s 354ms/step - loss: 0.0970 - tp: 4894.0000 - fp: 147.0000 - tn: 3534.0000 -  : 189.0000 - accuracy: 0.9617 - precision: 0.9708 - recall: 0.9628 - val_loss: 0.0808 - val_tp: 1719.0000 - val_fp: 34.0000 - val_tn: 380.0000 - val_ : 17.0000 - val_accuracy: 0.9763 - val_precision: 0.9806 - val_recall: 0.9902\n",
      "\n",
      "Epoch 00040: loss improved from 0.09864 to 0.09703, saving model to vgg16\\cp-0040.ckpt\n",
      "Epoch 41/45\n",
      "274/274 [==============================] - 97s 354ms/step - loss: 0.1077 - tp: 4887.0000 - fp: 153.0000 - tn: 3528.0000 -  : 196.0000 - accuracy: 0.9602 - precision: 0.9696 - recall: 0.9614 - val_loss: 0.0840 - val_tp: 1693.0000 - val_fp: 25.0000 - val_tn: 389.0000 - val_ : 43.0000 - val_accuracy: 0.9684 - val_precision: 0.9854 - val_recall: 0.9752\n",
      "\n",
      "Epoch 00041: loss did not improve from 0.09703\n",
      "Epoch 42/45\n",
      "274/274 [==============================] - 97s 354ms/step - loss: 0.0928 - tp: 4919.0000 - fp: 128.0000 - tn: 3553.0000 -  : 164.0000 - accuracy: 0.9667 - precision: 0.9746 - recall: 0.9677 - val_loss: 0.0913 - val_tp: 1725.0000 - val_fp: 48.0000 - val_tn: 366.0000 - val_ : 11.0000 - val_accuracy: 0.9726 - val_precision: 0.9729 - val_recall: 0.9937\n",
      "\n",
      "Epoch 00042: loss improved from 0.09703 to 0.09276, saving model to vgg16\\cp-0042.ckpt\n",
      "Epoch 43/45\n",
      "274/274 [==============================] - 97s 354ms/step - loss: 0.0952 - tp: 4905.0000 - fp: 130.0000 - tn: 3551.0000 -  : 178.0000 - accuracy: 0.9649 - precision: 0.9742 - recall: 0.9650 - val_loss: 0.0880 - val_tp: 1718.0000 - val_fp: 39.0000 - val_tn: 375.0000 - val_ : 18.0000 - val_accuracy: 0.9735 - val_precision: 0.9778 - val_recall: 0.9896\n",
      "\n",
      "Epoch 00043: loss did not improve from 0.09276\n",
      "Epoch 44/45\n",
      "274/274 [==============================] - 97s 353ms/step - loss: 0.0996 - tp: 4881.0000 - fp: 151.0000 - tn: 3530.0000 -  : 202.0000 - accuracy: 0.9597 - precision: 0.9700 - recall: 0.9603 - val_loss: 0.0892 - val_tp: 1694.0000 - val_fp: 17.0000 - val_tn: 397.0000 - val_ : 42.0000 - val_accuracy: 0.9726 - val_precision: 0.9901 - val_recall: 0.9758\n",
      "\n",
      "Epoch 00044: loss did not improve from 0.09276\n",
      "Epoch 45/45\n",
      "274/274 [==============================] - 97s 354ms/step - loss: 0.0885 - tp: 4896.0000 - fp: 121.0000 - tn: 3560.0000 -  : 187.0000 - accuracy: 0.9649 - precision: 0.9759 - recall: 0.9632 - val_loss: 0.1489 - val_tp: 1734.0000 - val_fp: 82.0000 - val_tn: 332.0000 - val_ : 2.0000 - val_accuracy: 0.9609 - val_precision: 0.9548 - val_recall: 0.9988\n",
      "\n",
      "Epoch 00045: loss improved from 0.09276 to 0.08847, saving model to vgg16\\cp-0045.ckpt\n"
     ]
    }
   ],
   "source": [
    "from keras.callbacks import ModelCheckpoint\n",
    "\n",
    "hist = model.fit(\n",
    "    train_generator,\n",
    "   steps_per_epoch=len(train_generator),\n",
    "    epochs = 45,\n",
    "    validation_data = validation_generator,\n",
    "    validation_steps=len(validation_generator),\n",
    "    callbacks=callbacks_list\n",
    ")"
   ]
  },
  {
   "cell_type": "code",
   "execution_count": 13,
   "id": "9d7eeb2e-cdd7-4981-a126-7a68856bbe4e",
   "metadata": {
    "id": "9d7eeb2e-cdd7-4981-a126-7a68856bbe4e"
   },
   "outputs": [
    {
     "data": {
      "text/plain": [
       "['checkpoint',\n",
       " 'cp-0001.ckpt.data-00000-of-00001',\n",
       " 'cp-0001.ckpt.index',\n",
       " 'cp-0002.ckpt.data-00000-of-00001',\n",
       " 'cp-0002.ckpt.index',\n",
       " 'cp-0003.ckpt.data-00000-of-00001',\n",
       " 'cp-0003.ckpt.index',\n",
       " 'cp-0004.ckpt.data-00000-of-00001',\n",
       " 'cp-0004.ckpt.index',\n",
       " 'cp-0005.ckpt.data-00000-of-00001',\n",
       " 'cp-0005.ckpt.index',\n",
       " 'cp-0006.ckpt.data-00000-of-00001',\n",
       " 'cp-0006.ckpt.index',\n",
       " 'cp-0007.ckpt.data-00000-of-00001',\n",
       " 'cp-0007.ckpt.index',\n",
       " 'cp-0008.ckpt.data-00000-of-00001',\n",
       " 'cp-0008.ckpt.index',\n",
       " 'cp-0010.ckpt.data-00000-of-00001',\n",
       " 'cp-0010.ckpt.index',\n",
       " 'cp-0012.ckpt.data-00000-of-00001',\n",
       " 'cp-0012.ckpt.index',\n",
       " 'cp-0013.ckpt.data-00000-of-00001',\n",
       " 'cp-0013.ckpt.index',\n",
       " 'cp-0014.ckpt.data-00000-of-00001',\n",
       " 'cp-0014.ckpt.index',\n",
       " 'cp-0015.ckpt.data-00000-of-00001',\n",
       " 'cp-0015.ckpt.index',\n",
       " 'cp-0020.ckpt.data-00000-of-00001',\n",
       " 'cp-0020.ckpt.index',\n",
       " 'cp-0021.ckpt.data-00000-of-00001',\n",
       " 'cp-0021.ckpt.index',\n",
       " 'cp-0024.ckpt.data-00000-of-00001',\n",
       " 'cp-0024.ckpt.index',\n",
       " 'cp-0025.ckpt.data-00000-of-00001',\n",
       " 'cp-0025.ckpt.index',\n",
       " 'cp-0029.ckpt.data-00000-of-00001',\n",
       " 'cp-0029.ckpt.index',\n",
       " 'cp-0030.ckpt.data-00000-of-00001',\n",
       " 'cp-0030.ckpt.index',\n",
       " 'cp-0031.ckpt.data-00000-of-00001',\n",
       " 'cp-0031.ckpt.index',\n",
       " 'cp-0032.ckpt.data-00000-of-00001',\n",
       " 'cp-0032.ckpt.index',\n",
       " 'cp-0033.ckpt.data-00000-of-00001',\n",
       " 'cp-0033.ckpt.index',\n",
       " 'cp-0034.ckpt.data-00000-of-00001',\n",
       " 'cp-0034.ckpt.index',\n",
       " 'cp-0035.ckpt.data-00000-of-00001',\n",
       " 'cp-0035.ckpt.index',\n",
       " 'cp-0036.ckpt.data-00000-of-00001',\n",
       " 'cp-0036.ckpt.index',\n",
       " 'cp-0039.ckpt.data-00000-of-00001',\n",
       " 'cp-0039.ckpt.index',\n",
       " 'cp-0040.ckpt.data-00000-of-00001',\n",
       " 'cp-0040.ckpt.index',\n",
       " 'cp-0042.ckpt.data-00000-of-00001',\n",
       " 'cp-0042.ckpt.index',\n",
       " 'cp-0045.ckpt.data-00000-of-00001',\n",
       " 'cp-0045.ckpt.index',\n",
       " 'vgg16.csv']"
      ]
     },
     "execution_count": 13,
     "metadata": {},
     "output_type": "execute_result"
    }
   ],
   "source": [
    "os.listdir(checkpoint_dir)"
   ]
  },
  {
   "cell_type": "code",
   "execution_count": 14,
   "id": "fc7fbd63-3356-4077-85f9-3b5408afbc5a",
   "metadata": {
    "id": "fc7fbd63-3356-4077-85f9-3b5408afbc5a"
   },
   "outputs": [
    {
     "data": {
      "text/plain": [
       "'vgg16\\\\cp-0045.ckpt'"
      ]
     },
     "execution_count": 14,
     "metadata": {},
     "output_type": "execute_result"
    }
   ],
   "source": [
    "import tensorflow as tf\n",
    "latest = tf.train.latest_checkpoint(checkpoint_dir)\n",
    "latest"
   ]
  },
  {
   "cell_type": "code",
   "execution_count": 15,
   "id": "9ee44644-dc80-4a87-82bc-0553499d1145",
   "metadata": {
    "id": "9ee44644-dc80-4a87-82bc-0553499d1145"
   },
   "outputs": [
    {
     "name": "stderr",
     "output_type": "stream",
     "text": [
      "C:\\Users\\User\\anaconda3\\envs\\TF-Gpu\\lib\\site-packages\\keras\\engine\\training.py:2006: UserWarning: `Model.evaluate_generator` is deprecated and will be removed in a future version. Please use `Model.evaluate`, which supports generators.\n",
      "  warnings.warn('`Model.evaluate_generator` is deprecated and '\n"
     ]
    },
    {
     "name": "stdout",
     "output_type": "stream",
     "text": [
      "The model has a 28.125% accuracy, with a loss of 0.9737836122512817.\n"
     ]
    }
   ],
   "source": [
    "# Create a basic model instance\n",
    "model = create_model()\n",
    "\n",
    "# Evaluate the model\n",
    "results = model.evaluate_generator(validation_generator, 1)\n",
    "print(\"The model has a {}% accuracy, with a loss of {}.\".format(results[5]*100, results[0])) \n"
   ]
  },
  {
   "cell_type": "code",
   "execution_count": 16,
   "id": "f1c486fd-9bc3-4c21-b35b-6751a2b57be5",
   "metadata": {
    "id": "f1c486fd-9bc3-4c21-b35b-6751a2b57be5"
   },
   "outputs": [
    {
     "name": "stdout",
     "output_type": "stream",
     "text": [
      "The model has a 64.0625% accuracy, with a loss of 0.02494862675666809.\n"
     ]
    }
   ],
   "source": [
    "# Create a new model instance\n",
    "model = create_model()\n",
    "\n",
    "# Load the previously saved weights\n",
    "model.load_weights(latest)\n",
    "\n",
    "results = model.evaluate_generator(validation_generator, 1)\n",
    "print(\"The model has a {}% accuracy, with a loss of {}.\".format(results[5]*100, results[0])) \n"
   ]
  },
  {
   "cell_type": "code",
   "execution_count": 17,
   "id": "4b44ef64-36b6-4488-9a83-2f6ec4f126bb",
   "metadata": {
    "id": "4b44ef64-36b6-4488-9a83-2f6ec4f126bb"
   },
   "outputs": [
    {
     "data": {
      "text/plain": [
       "[0.08536786586046219,\n",
       " 5040.0,\n",
       " 247.0,\n",
       " 3434.0,\n",
       " 43.0,\n",
       " 0.9669100642204285,\n",
       " 0.9532816410064697,\n",
       " 0.9915404319763184]"
      ]
     },
     "execution_count": 17,
     "metadata": {},
     "output_type": "execute_result"
    }
   ],
   "source": [
    "model.evaluate_generator(train_generator)"
   ]
  },
  {
   "cell_type": "code",
   "execution_count": 19,
   "id": "7d4782e7-4c97-4057-bbcb-47687605e127",
   "metadata": {
    "id": "7d4782e7-4c97-4057-bbcb-47687605e127"
   },
   "outputs": [
    {
     "data": {
      "text/plain": [
       "[0.14889313280582428,\n",
       " 1734.0,\n",
       " 82.0,\n",
       " 332.0,\n",
       " 2.0,\n",
       " 0.9609302282333374,\n",
       " 0.9548457860946655,\n",
       " 0.9988479018211365]"
      ]
     },
     "execution_count": 19,
     "metadata": {},
     "output_type": "execute_result"
    }
   ],
   "source": [
    "model.evaluate_generator(validation_generator)"
   ]
  },
  {
   "cell_type": "code",
   "execution_count": 20,
   "id": "d8daa2e9",
   "metadata": {},
   "outputs": [
    {
     "data": {
      "text/plain": [
       "[0.3773021996021271,\n",
       " 400.0,\n",
       " 80.0,\n",
       " 320.0,\n",
       " 0.0,\n",
       " 0.8999999761581421,\n",
       " 0.8333333134651184,\n",
       " 1.0]"
      ]
     },
     "execution_count": 20,
     "metadata": {},
     "output_type": "execute_result"
    }
   ],
   "source": [
    "model.evaluate_generator(test_generator)"
   ]
  },
  {
   "cell_type": "code",
   "execution_count": 20,
   "id": "ee684d70-84b6-48dd-af92-7e06bfac95d7",
   "metadata": {
    "id": "ee684d70-84b6-48dd-af92-7e06bfac95d7"
   },
   "outputs": [
    {
     "data": {
      "image/png": "[encoded data removed]",
      "text/plain": [
       "<Figure size 432x288 with 1 Axes>"
      ]
     },
     "metadata": {
      "needs_background": "light"
     },
     "output_type": "display_data"
    },
    {
     "data": {
      "text/plain": [
       "<Figure size 432x288 with 0 Axes>"
      ]
     },
     "metadata": {},
     "output_type": "display_data"
    }
   ],
   "source": [
    "# loss\n",
    "plt.plot(hist.history['loss'], label='train loss')\n",
    "plt.plot(hist.history['val_loss'], label='val loss')\n",
    "plt.legend()\n",
    "plt.show()\n",
    "plt.savefig('LossVal_loss')"
   ]
  },
  {
   "cell_type": "code",
   "execution_count": 21,
   "id": "85752666-4306-4e51-b20e-df3f648f5e5f",
   "metadata": {
    "id": "85752666-4306-4e51-b20e-df3f648f5e5f"
   },
   "outputs": [
    {
     "data": {
      "image/png": "[encoded data removed]",
      "text/plain": [
       "<Figure size 432x288 with 1 Axes>"
      ]
     },
     "metadata": {
      "needs_background": "light"
     },
     "output_type": "display_data"
    },
    {
     "data": {
      "text/plain": [
       "<Figure size 432x288 with 0 Axes>"
      ]
     },
     "metadata": {},
     "output_type": "display_data"
    }
   ],
   "source": [
    "# accuracies\n",
    "plt.plot(hist.history['accuracy'], label='train acc')\n",
    "plt.plot(hist.history['val_accuracy'], label='val acc')\n",
    "plt.legend()\n",
    "plt.show()\n",
    "plt.savefig('AccVal_acc')"
   ]
  },
  {
   "cell_type": "code",
   "execution_count": 22,
   "id": "b8061e29-eb3b-4aab-8316-ab277b848688",
   "metadata": {
    "id": "b8061e29-eb3b-4aab-8316-ab277b848688"
   },
   "outputs": [
    {
     "data": {
      "image/png": "[encoded data removed]",
      "text/plain": [
       "<Figure size 432x288 with 2 Axes>"
      ]
     },
     "metadata": {
      "needs_background": "light"
     },
     "output_type": "display_data"
    }
   ],
   "source": [
    "cm=[[398, 55],\n",
    "     [ 2, 344]]\n",
    "\n",
    "import seaborn as sns\n",
    "\n",
    "ax = sns.heatmap(cm/np.sum(cm), cmap = \"Blues\", fmt='.2%', annot=True)\n",
    "\n",
    "ax.set_ylabel('Predicted Values\\n')\n",
    "ax.set_xlabel('\\nActual Values ');\n",
    "\n",
    "## Ticket labels - List must be in alphabetical order\n",
    "ax.yaxis.set_ticklabels(['Positive(0)','Negative(1)'])\n",
    "ax.xaxis.set_ticklabels(['Positive(0)','Negative(1)'])\n",
    "\n",
    "## Display the visualization of the Confusion Matrix.\n",
    "plt.show()"
   ]
  },
  {
   "cell_type": "code",
   "execution_count": 23,
   "id": "a067bfbc",
   "metadata": {
    "scrolled": true
   },
   "outputs": [
    {
     "data": {
      "image/png": "[encoded data removed]",
      "text/plain": [
       "<Figure size 432x288 with 2 Axes>"
      ]
     },
     "metadata": {
      "needs_background": "light"
     },
     "output_type": "display_data"
    }
   ],
   "source": [
    "cm=[[398, 55],\n",
    "     [ 2, 344]]\n",
    "\n",
    "import seaborn as sns\n",
    "\n",
    "ax = sns.heatmap(cm, cmap = \"Blues\", annot=True, fmt=\".0f\")\n",
    "\n",
    "ax.set_ylabel('Predicted Values\\n')\n",
    "ax.set_xlabel('\\nActual Values ');\n",
    "\n",
    "## Ticket labels - List must be in alphabetical order\n",
    "ax.yaxis.set_ticklabels(['Positive(0)','Negative(1)'])\n",
    "ax.xaxis.set_ticklabels(['Positive(0)','Negative(1)'])\n",
    "\n",
    "## Display the visualization of the Confusion Matrix.\n",
    "plt.show()"
   ]
  },
  {
   "cell_type": "code",
   "execution_count": null,
   "id": "ae3710c2",
   "metadata": {},
   "outputs": [],
   "source": []
  }
 ],
 "metadata": {
  "accelerator": "GPU",
  "colab": {
   "collapsed_sections": [],
   "machine_shape": "hm",
   "name": "vgg-16new.ipynb",
   "private_outputs": true,
   "provenance": []
  },
  "kernelspec": {
   "display_name": "Python 3 (ipykernel)",
   "language": "python",
   "name": "python3"
  },
  "language_info": {
   "codemirror_mode": {
    "name": "ipython",
    "version": 3
   },
   "file_extension": ".py",
   "mimetype": "text/x-python",
   "name": "python",
   "nbconvert_exporter": "python",
   "pygments_lexer": "ipython3",
   "version": "3.9.7"
  }
 },
 "nbformat": 4,
 "nbformat_minor": 5
}
