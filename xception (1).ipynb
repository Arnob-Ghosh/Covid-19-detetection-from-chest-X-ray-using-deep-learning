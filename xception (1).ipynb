{
 "cells": [
  {
   "cell_type": "code",
   "execution_count": 1,
   "id": "40478303-188b-4c10-965d-8814d745c555",
   "metadata": {},
   "outputs": [],
   "source": [
    "import numpy as np \n",
    "import pandas as pd \n",
    "import matplotlib.pyplot as plt\n",
    "\n",
    "import tensorflow\n",
    "from tensorflow.keras import layers, models\n",
    "from tensorflow.keras.preprocessing.image import ImageDataGenerator\n",
    "from tensorflow.keras.optimizers import Adam\n",
    "\n",
    "from sklearn.metrics import roc_auc_score, f1_score, classification_report, confusion_matrix\n",
    "\n",
    "import os\n",
    "import matplotlib.pyplot as plt\n",
    "import keras\n",
    "from keras.models import Sequential\n",
    "\n",
    "from keras.layers import *\n",
    "from keras.models import * \n",
    "from keras.preprocessing import image"
   ]
  },
  {
   "cell_type": "code",
   "execution_count": 2,
   "id": "fa7f37bb-43da-4e98-87be-2456b8f62177",
   "metadata": {},
   "outputs": [],
   "source": [
    "TRAIN_PATH = \"CovidDataset1/Train\"\n",
    "VAL_PATH = \"CovidDataset1/Val\"\n",
    "TEST_PATH = \"CovidDataset1/test\""
   ]
  },
  {
   "cell_type": "code",
   "execution_count": 3,
   "id": "b1f294e6-6554-42c7-9f24-3158e29a2c56",
   "metadata": {},
   "outputs": [],
   "source": [
    "from keras.metrics import *\n",
    "\n",
    "METRICS = [\n",
    "      TruePositives(name='tp'),\n",
    "      FalsePositives(name='fp'),\n",
    "      TrueNegatives(name='tn'),\n",
    "      FalseNegatives(name='fn'), \n",
    "      BinaryAccuracy(name='accuracy'),\n",
    "      Precision(name='precision'),\n",
    "      Recall(name='recall'),\n",
    "]"
   ]
  },
  {
   "cell_type": "code",
   "execution_count": 4,
   "id": "e9445944-32ac-4c43-8109-4eaee1b8067b",
   "metadata": {},
   "outputs": [],
   "source": [
    "# Train from scratch\n",
    "train_datagen = image.ImageDataGenerator(\n",
    "    rescale = 1./255,\n",
    "    shear_range = 0.2,\n",
    "    zoom_range = 0.2,\n",
    "    horizontal_flip = True,\n",
    ")\n",
    "\n",
    "test_dataset = image.ImageDataGenerator(rescale = 1./255)\n"
   ]
  },
  {
   "cell_type": "code",
   "execution_count": 5,
   "id": "a714d78b-f7f6-4138-bd48-0a5433d9c198",
   "metadata": {},
   "outputs": [
    {
     "name": "stdout",
     "output_type": "stream",
     "text": [
      "Found 8764 images belonging to 2 classes.\n"
     ]
    }
   ],
   "source": [
    "train_generator = train_datagen.flow_from_directory(\n",
    "    TRAIN_PATH,\n",
    "    target_size = (224,224),\n",
    "    batch_size = 32,\n",
    "    class_mode = 'binary')\n",
    "test_dataset = image.ImageDataGenerator(rescale=1./255)"
   ]
  },
  {
   "cell_type": "code",
   "execution_count": 6,
   "id": "7e25c274-5333-4821-96a4-d367d5baa23d",
   "metadata": {},
   "outputs": [
    {
     "name": "stdout",
     "output_type": "stream",
     "text": [
      "Found 2150 images belonging to 2 classes.\n"
     ]
    }
   ],
   "source": [
    "validation_generator = test_dataset.flow_from_directory(\n",
    "    VAL_PATH,\n",
    "    target_size = (224,224),\n",
    "    batch_size = 32,\n",
    "    class_mode = 'binary')"
   ]
  },
  {
   "cell_type": "code",
   "execution_count": 7,
   "id": "3ee00676",
   "metadata": {},
   "outputs": [
    {
     "name": "stdout",
     "output_type": "stream",
     "text": [
      "Found 800 images belonging to 2 classes.\n"
     ]
    }
   ],
   "source": [
    "test_generator = test_dataset.flow_from_directory(\n",
    "    TEST_PATH,\n",
    "    target_size = (224,224),\n",
    "    batch_size = 32,\n",
    "    class_mode = 'binary')"
   ]
  },
  {
   "cell_type": "code",
   "execution_count": 8,
   "id": "2715e4ad-63d5-447b-8f3a-58e7900ee88b",
   "metadata": {},
   "outputs": [],
   "source": [
    "import os\n",
    "from keras.callbacks import ModelCheckpoint,EarlyStopping, CSVLogger\n",
    "checkpoint_path = \"Xception/cp-{epoch:04d}.ckpt\"\n",
    "checkpoint_dir = os.path.dirname(checkpoint_path)\n",
    "checkpoint = ModelCheckpoint(filepath=checkpoint_path, monitor='val_loss', verbose=1,save_weights_only=True,save_best_only=True, mode='auto')\n",
    "early_stop = EarlyStopping(monitor='val_loss', patience=20, verbose=1)\n",
    "log_csv = CSVLogger('Xception/Xception.csv', separator=',', append=False)\n",
    "reduce_lr = keras.callbacks.ReduceLROnPlateau(monitor='val_loss', factor=0.5,\n",
    "                              patience=5)\n",
    "\n",
    "callbacks_list = [checkpoint, reduce_lr, log_csv]"
   ]
  },
  {
   "cell_type": "code",
   "execution_count": 9,
   "id": "9ac6351c-d93f-4ec2-a2c6-772be36a2d45",
   "metadata": {},
   "outputs": [],
   "source": [
    "def create_model():\n",
    "    base_model = tf.keras.applications.xception.Xception(include_top=False, \n",
    "                                                       weights=\"imagenet\",\n",
    "                                                       input_shape=(224,224,3), \n",
    "                                                       pooling='avg') \n",
    "    for layer in base_model.layers:\n",
    "      layer.trainable = False\n",
    "    \n",
    "    model = Sequential()\n",
    "    model.add(base_model)\n",
    "    model.add(BatchNormalization())\n",
    "    model.add(Activation('relu'))\n",
    "    model.add(Dense(55, activation='relu'))\n",
    "    model.add(Dropout(0.1))\n",
    "    model.add(Dense(1, activation='sigmoid'))\n",
    "    \n",
    "\n",
    "    model.compile(Adam(), loss='binary_crossentropy',metrics=METRICS)\n",
    "    return model"
   ]
  },
  {
   "cell_type": "code",
   "execution_count": 10,
   "id": "1f5c5908-7e7c-47bb-9479-cf12ef327fc3",
   "metadata": {},
   "outputs": [
    {
     "name": "stdout",
     "output_type": "stream",
     "text": [
      "Model: \"sequential\"\n",
      "_________________________________________________________________\n",
      "Layer (type)                 Output Shape              Param #   \n",
      "=================================================================\n",
      "xception (Functional)        (None, 2048)              20861480  \n",
      "_________________________________________________________________\n",
      "batch_normalization_4 (Batch (None, 2048)              8192      \n",
      "_________________________________________________________________\n",
      "activation (Activation)      (None, 2048)              0         \n",
      "_________________________________________________________________\n",
      "dense (Dense)                (None, 55)                112695    \n",
      "_________________________________________________________________\n",
      "dropout (Dropout)            (None, 55)                0         \n",
      "_________________________________________________________________\n",
      "dense_1 (Dense)              (None, 32)                1792      \n",
      "_________________________________________________________________\n",
      "dense_2 (Dense)              (None, 1)                 33        \n",
      "=================================================================\n",
      "Total params: 20,984,192\n",
      "Trainable params: 118,616\n",
      "Non-trainable params: 20,865,576\n",
      "_________________________________________________________________\n"
     ]
    }
   ],
   "source": [
    "model = create_model()\n",
    "model.summary()"
   ]
  },
  {
   "cell_type": "code",
   "execution_count": 11,
   "id": "88ffbbd7-41f0-42f1-87c2-ec1bade44c35",
   "metadata": {
    "scrolled": true
   },
   "outputs": [
    {
     "name": "stdout",
     "output_type": "stream",
     "text": [
      "Epoch 1/100\n",
      "274/274 [==============================] - 139s 472ms/step - loss: 0.4094 - tp: 4381.0000 - fp: 928.0000 - tn: 2753.0000 - fn: 702.0000 - accuracy: 0.8140 - precision: 0.8252 - recall: 0.8619 - val_loss: 0.2247 - val_tp: 1698.0000 - val_fp: 105.0000 - val_tn: 309.0000 - val_fn: 38.0000 - val_accuracy: 0.9335 - val_precision: 0.9418 - val_recall: 0.9781\n",
      "\n",
      "Epoch 00001: val_loss improved from inf to 0.22467, saving model to Xception\\cp-0001.ckpt\n",
      "Epoch 2/100\n",
      "274/274 [==============================] - 98s 357ms/step - loss: 0.3387 - tp: 4575.0000 - fp: 734.0000 - tn: 2947.0000 - fn: 508.0000 - accuracy: 0.8583 - precision: 0.8617 - recall: 0.9001 - val_loss: 0.1755 - val_tp: 1709.0000 - val_fp: 106.0000 - val_tn: 308.0000 - val_fn: 27.0000 - val_accuracy: 0.9381 - val_precision: 0.9416 - val_recall: 0.9844\n",
      "\n",
      "Epoch 00002: val_loss improved from 0.22467 to 0.17545, saving model to Xception\\cp-0002.ckpt\n",
      "Epoch 3/100\n",
      "274/274 [==============================] - 98s 357ms/step - loss: 0.3085 - tp: 4635.0000 - fp: 675.0000 - tn: 3006.0000 - fn: 448.0000 - accuracy: 0.8719 - precision: 0.8729 - recall: 0.9119 - val_loss: 0.1629 - val_tp: 1683.0000 - val_fp: 70.0000 - val_tn: 344.0000 - val_fn: 53.0000 - val_accuracy: 0.9428 - val_precision: 0.9601 - val_recall: 0.9695\n",
      "\n",
      "Epoch 00003: val_loss improved from 0.17545 to 0.16287, saving model to Xception\\cp-0003.ckpt\n",
      "Epoch 4/100\n",
      "274/274 [==============================] - 99s 361ms/step - loss: 0.2955 - tp: 4647.0000 - fp: 636.0000 - tn: 3045.0000 - fn: 436.0000 - accuracy: 0.8777 - precision: 0.8796 - recall: 0.9142 - val_loss: 0.1665 - val_tp: 1683.0000 - val_fp: 85.0000 - val_tn: 329.0000 - val_fn: 53.0000 - val_accuracy: 0.9358 - val_precision: 0.9519 - val_recall: 0.9695\n",
      "\n",
      "Epoch 00004: val_loss did not improve from 0.16287\n",
      "Epoch 5/100\n",
      "274/274 [==============================] - 98s 357ms/step - loss: 0.2801 - tp: 4659.0000 - fp: 593.0000 - tn: 3088.0000 - fn: 424.0000 - accuracy: 0.8840 - precision: 0.8871 - recall: 0.9166 - val_loss: 0.1591 - val_tp: 1703.0000 - val_fp: 99.0000 - val_tn: 315.0000 - val_fn: 33.0000 - val_accuracy: 0.9386 - val_precision: 0.9451 - val_recall: 0.9810\n",
      "\n",
      "Epoch 00005: val_loss improved from 0.16287 to 0.15914, saving model to Xception\\cp-0005.ckpt\n",
      "Epoch 6/100\n",
      "274/274 [==============================] - 98s 358ms/step - loss: 0.2704 - tp: 4668.0000 - fp: 556.0000 - tn: 3125.0000 - fn: 415.0000 - accuracy: 0.8892 - precision: 0.8936 - recall: 0.9184 - val_loss: 0.1655 - val_tp: 1680.0000 - val_fp: 79.0000 - val_tn: 335.0000 - val_fn: 56.0000 - val_accuracy: 0.9372 - val_precision: 0.9551 - val_recall: 0.9677\n",
      "\n",
      "Epoch 00006: val_loss did not improve from 0.15914\n",
      "Epoch 7/100\n",
      "274/274 [==============================] - 99s 360ms/step - loss: 0.2614 - tp: 4682.0000 - fp: 540.0000 - tn: 3141.0000 - fn: 401.0000 - accuracy: 0.8926 - precision: 0.8966 - recall: 0.9211 - val_loss: 0.1566 - val_tp: 1713.0000 - val_fp: 98.0000 - val_tn: 316.0000 - val_fn: 23.0000 - val_accuracy: 0.9437 - val_precision: 0.9459 - val_recall: 0.9868\n",
      "\n",
      "Epoch 00007: val_loss improved from 0.15914 to 0.15656, saving model to Xception\\cp-0007.ckpt\n",
      "Epoch 8/100\n",
      "274/274 [==============================] - 98s 357ms/step - loss: 0.2518 - tp: 4699.0000 - fp: 532.0000 - tn: 3149.0000 - fn: 384.0000 - accuracy: 0.8955 - precision: 0.8983 - recall: 0.9245 - val_loss: 0.1701 - val_tp: 1661.0000 - val_fp: 65.0000 - val_tn: 349.0000 - val_fn: 75.0000 - val_accuracy: 0.9349 - val_precision: 0.9623 - val_recall: 0.9568\n",
      "\n",
      "Epoch 00008: val_loss did not improve from 0.15656\n",
      "Epoch 9/100\n",
      "274/274 [==============================] - 98s 358ms/step - loss: 0.2511 - tp: 4683.0000 - fp: 524.0000 - tn: 3157.0000 - fn: 400.0000 - accuracy: 0.8946 - precision: 0.8994 - recall: 0.9213 - val_loss: 0.1639 - val_tp: 1663.0000 - val_fp: 62.0000 - val_tn: 352.0000 - val_fn: 73.0000 - val_accuracy: 0.9372 - val_precision: 0.9641 - val_recall: 0.9579\n",
      "\n",
      "Epoch 00009: val_loss did not improve from 0.15656\n",
      "Epoch 10/100\n",
      "274/274 [==============================] - 98s 357ms/step - loss: 0.2441 - tp: 4703.0000 - fp: 510.0000 - tn: 3171.0000 - fn: 380.0000 - accuracy: 0.8984 - precision: 0.9022 - recall: 0.9252 - val_loss: 0.1567 - val_tp: 1692.0000 - val_fp: 80.0000 - val_tn: 334.0000 - val_fn: 44.0000 - val_accuracy: 0.9423 - val_precision: 0.9549 - val_recall: 0.9747\n",
      "\n",
      "Epoch 00010: val_loss did not improve from 0.15656\n",
      "Epoch 11/100\n",
      "274/274 [==============================] - 98s 357ms/step - loss: 0.2372 - tp: 4723.0000 - fp: 485.0000 - tn: 3196.0000 - fn: 360.0000 - accuracy: 0.9036 - precision: 0.9069 - recall: 0.9292 - val_loss: 0.1768 - val_tp: 1686.0000 - val_fp: 85.0000 - val_tn: 329.0000 - val_fn: 50.0000 - val_accuracy: 0.9372 - val_precision: 0.9520 - val_recall: 0.9712\n",
      "\n",
      "Epoch 00011: val_loss did not improve from 0.15656\n",
      "Epoch 12/100\n",
      "274/274 [==============================] - 99s 359ms/step - loss: 0.2278 - tp: 4745.0000 - fp: 448.0000 - tn: 3233.0000 - fn: 338.0000 - accuracy: 0.9103 - precision: 0.9137 - recall: 0.9335 - val_loss: 0.1856 - val_tp: 1693.0000 - val_fp: 84.0000 - val_tn: 330.0000 - val_fn: 43.0000 - val_accuracy: 0.9409 - val_precision: 0.9527 - val_recall: 0.9752\n",
      "\n",
      "Epoch 00012: val_loss did not improve from 0.15656\n",
      "Epoch 13/100\n",
      "274/274 [==============================] - 99s 362ms/step - loss: 0.2163 - tp: 4743.0000 - fp: 421.0000 - tn: 3260.0000 - fn: 340.0000 - accuracy: 0.9132 - precision: 0.9185 - recall: 0.9331 - val_loss: 0.1571 - val_tp: 1693.0000 - val_fp: 74.0000 - val_tn: 340.0000 - val_fn: 43.0000 - val_accuracy: 0.9456 - val_precision: 0.9581 - val_recall: 0.9752\n",
      "\n",
      "Epoch 00013: val_loss did not improve from 0.15656\n",
      "Epoch 14/100\n",
      "274/274 [==============================] - 98s 357ms/step - loss: 0.2131 - tp: 4749.0000 - fp: 418.0000 - tn: 3263.0000 - fn: 334.0000 - accuracy: 0.9142 - precision: 0.9191 - recall: 0.9343 - val_loss: 0.1694 - val_tp: 1707.0000 - val_fp: 92.0000 - val_tn: 322.0000 - val_fn: 29.0000 - val_accuracy: 0.9437 - val_precision: 0.9489 - val_recall: 0.9833\n",
      "\n",
      "Epoch 00014: val_loss did not improve from 0.15656\n",
      "Epoch 15/100\n",
      "274/274 [==============================] - 100s 365ms/step - loss: 0.1975 - tp: 4773.0000 - fp: 394.0000 - tn: 3287.0000 - fn: 310.0000 - accuracy: 0.9197 - precision: 0.9237 - recall: 0.9390 - val_loss: 0.1781 - val_tp: 1684.0000 - val_fp: 71.0000 - val_tn: 343.0000 - val_fn: 52.0000 - val_accuracy: 0.9428 - val_precision: 0.9595 - val_recall: 0.9700\n",
      "\n",
      "Epoch 00015: val_loss did not improve from 0.15656\n",
      "Epoch 16/100\n",
      "274/274 [==============================] - 97s 355ms/step - loss: 0.2036 - tp: 4780.0000 - fp: 417.0000 - tn: 3264.0000 - fn: 303.0000 - accuracy: 0.9178 - precision: 0.9198 - recall: 0.9404 - val_loss: 0.1707 - val_tp: 1701.0000 - val_fp: 79.0000 - val_tn: 335.0000 - val_fn: 35.0000 - val_accuracy: 0.9470 - val_precision: 0.9556 - val_recall: 0.9798\n",
      "\n",
      "Epoch 00016: val_loss did not improve from 0.15656\n",
      "Epoch 17/100\n",
      "274/274 [==============================] - 97s 354ms/step - loss: 0.1914 - tp: 4766.0000 - fp: 388.0000 - tn: 3293.0000 - fn: 317.0000 - accuracy: 0.9196 - precision: 0.9247 - recall: 0.9376 - val_loss: 0.1719 - val_tp: 1683.0000 - val_fp: 78.0000 - val_tn: 336.0000 - val_fn: 53.0000 - val_accuracy: 0.9391 - val_precision: 0.9557 - val_recall: 0.9695\n",
      "\n",
      "Epoch 00017: val_loss did not improve from 0.15656\n",
      "Epoch 18/100\n",
      "274/274 [==============================] - 104s 378ms/step - loss: 0.1834 - tp: 4798.0000 - fp: 357.0000 - tn: 3324.0000 - fn: 285.0000 - accuracy: 0.9267 - precision: 0.9307 - recall: 0.9439 - val_loss: 0.1655 - val_tp: 1706.0000 - val_fp: 85.0000 - val_tn: 329.0000 - val_fn: 30.0000 - val_accuracy: 0.9465 - val_precision: 0.9525 - val_recall: 0.9827\n",
      "\n",
      "Epoch 00018: val_loss did not improve from 0.15656\n",
      "Epoch 19/100\n",
      "274/274 [==============================] - 100s 363ms/step - loss: 0.1862 - tp: 4788.0000 - fp: 381.0000 - tn: 3300.0000 - fn: 295.0000 - accuracy: 0.9229 - precision: 0.9263 - recall: 0.9420 - val_loss: 0.1706 - val_tp: 1679.0000 - val_fp: 81.0000 - val_tn: 333.0000 - val_fn: 57.0000 - val_accuracy: 0.9358 - val_precision: 0.9540 - val_recall: 0.9672\n",
      "\n",
      "Epoch 00019: val_loss did not improve from 0.15656\n",
      "Epoch 20/100\n",
      "274/274 [==============================] - 97s 352ms/step - loss: 0.1806 - tp: 4801.0000 - fp: 359.0000 - tn: 3322.0000 - fn: 282.0000 - accuracy: 0.9269 - precision: 0.9304 - recall: 0.9445 - val_loss: 0.1723 - val_tp: 1695.0000 - val_fp: 85.0000 - val_tn: 329.0000 - val_fn: 41.0000 - val_accuracy: 0.9414 - val_precision: 0.9522 - val_recall: 0.9764\n",
      "\n",
      "Epoch 00020: val_loss did not improve from 0.15656\n",
      "Epoch 21/100\n",
      "274/274 [==============================] - 98s 357ms/step - loss: 0.1827 - tp: 4815.0000 - fp: 356.0000 - tn: 3325.0000 - fn: 268.0000 - accuracy: 0.9288 - precision: 0.9312 - recall: 0.9473 - val_loss: 0.1678 - val_tp: 1690.0000 - val_fp: 75.0000 - val_tn: 339.0000 - val_fn: 46.0000 - val_accuracy: 0.9437 - val_precision: 0.9575 - val_recall: 0.9735\n",
      "\n",
      "Epoch 00021: val_loss did not improve from 0.15656\n",
      "Epoch 22/100\n",
      "274/274 [==============================] - 97s 356ms/step - loss: 0.1798 - tp: 4793.0000 - fp: 343.0000 - tn: 3338.0000 - fn: 290.0000 - accuracy: 0.9278 - precision: 0.9332 - recall: 0.9429 - val_loss: 0.1575 - val_tp: 1688.0000 - val_fp: 71.0000 - val_tn: 343.0000 - val_fn: 48.0000 - val_accuracy: 0.9447 - val_precision: 0.9596 - val_recall: 0.9724\n",
      "\n",
      "Epoch 00022: val_loss did not improve from 0.15656\n",
      "Epoch 23/100\n",
      "274/274 [==============================] - 97s 353ms/step - loss: 0.1714 - tp: 4818.0000 - fp: 330.0000 - tn: 3351.0000 - fn: 265.0000 - accuracy: 0.9321 - precision: 0.9359 - recall: 0.9479 - val_loss: 0.1632 - val_tp: 1689.0000 - val_fp: 73.0000 - val_tn: 341.0000 - val_fn: 47.0000 - val_accuracy: 0.9442 - val_precision: 0.9586 - val_recall: 0.9729\n",
      "\n",
      "Epoch 00023: val_loss did not improve from 0.15656\n",
      "Epoch 24/100\n",
      "274/274 [==============================] - 97s 352ms/step - loss: 0.1729 - tp: 4806.0000 - fp: 336.0000 - tn: 3345.0000 - fn: 277.0000 - accuracy: 0.9301 - precision: 0.9347 - recall: 0.9455 - val_loss: 0.1642 - val_tp: 1691.0000 - val_fp: 77.0000 - val_tn: 337.0000 - val_fn: 45.0000 - val_accuracy: 0.9433 - val_precision: 0.9564 - val_recall: 0.9741\n",
      "\n",
      "Epoch 00024: val_loss did not improve from 0.15656\n",
      "Epoch 25/100\n",
      "274/274 [==============================] - 97s 352ms/step - loss: 0.1721 - tp: 4813.0000 - fp: 336.0000 - tn: 3345.0000 - fn: 270.0000 - accuracy: 0.9309 - precision: 0.9347 - recall: 0.9469 - val_loss: 0.1608 - val_tp: 1696.0000 - val_fp: 75.0000 - val_tn: 339.0000 - val_fn: 40.0000 - val_accuracy: 0.9465 - val_precision: 0.9577 - val_recall: 0.9770\n",
      "\n",
      "Epoch 00025: val_loss did not improve from 0.15656\n",
      "Epoch 26/100\n",
      "274/274 [==============================] - 97s 352ms/step - loss: 0.1736 - tp: 4815.0000 - fp: 328.0000 - tn: 3353.0000 - fn: 268.0000 - accuracy: 0.9320 - precision: 0.9362 - recall: 0.9473 - val_loss: 0.1649 - val_tp: 1696.0000 - val_fp: 79.0000 - val_tn: 335.0000 - val_fn: 40.0000 - val_accuracy: 0.9447 - val_precision: 0.9555 - val_recall: 0.9770\n",
      "\n",
      "Epoch 00026: val_loss did not improve from 0.15656\n",
      "Epoch 27/100\n",
      "274/274 [==============================] - 97s 352ms/step - loss: 0.1642 - tp: 4836.0000 - fp: 327.0000 - tn: 3354.0000 - fn: 247.0000 - accuracy: 0.9345 - precision: 0.9367 - recall: 0.9514 - val_loss: 0.1619 - val_tp: 1698.0000 - val_fp: 77.0000 - val_tn: 337.0000 - val_fn: 38.0000 - val_accuracy: 0.9465 - val_precision: 0.9566 - val_recall: 0.9781\n",
      "\n",
      "Epoch 00027: val_loss did not improve from 0.15656\n",
      "Epoch 28/100\n",
      "274/274 [==============================] - 96s 351ms/step - loss: 0.1663 - tp: 4811.0000 - fp: 323.0000 - tn: 3358.0000 - fn: 272.0000 - accuracy: 0.9321 - precision: 0.9371 - recall: 0.9465 - val_loss: 0.1613 - val_tp: 1693.0000 - val_fp: 74.0000 - val_tn: 340.0000 - val_fn: 43.0000 - val_accuracy: 0.9456 - val_precision: 0.9581 - val_recall: 0.9752\n",
      "\n",
      "Epoch 00028: val_loss did not improve from 0.15656\n",
      "Epoch 29/100\n",
      "274/274 [==============================] - 96s 350ms/step - loss: 0.1663 - tp: 4825.0000 - fp: 303.0000 - tn: 3378.0000 - fn: 258.0000 - accuracy: 0.9360 - precision: 0.9409 - recall: 0.9492 - val_loss: 0.1645 - val_tp: 1697.0000 - val_fp: 77.0000 - val_tn: 337.0000 - val_fn: 39.0000 - val_accuracy: 0.9460 - val_precision: 0.9566 - val_recall: 0.9775\n",
      "\n",
      "Epoch 00029: val_loss did not improve from 0.15656\n",
      "Epoch 30/100\n",
      "274/274 [==============================] - 97s 353ms/step - loss: 0.1588 - tp: 4828.0000 - fp: 318.0000 - tn: 3363.0000 - fn: 255.0000 - accuracy: 0.9346 - precision: 0.9382 - recall: 0.9498 - val_loss: 0.1593 - val_tp: 1699.0000 - val_fp: 77.0000 - val_tn: 337.0000 - val_fn: 37.0000 - val_accuracy: 0.9470 - val_precision: 0.9566 - val_recall: 0.9787\n",
      "\n",
      "Epoch 00030: val_loss did not improve from 0.15656\n",
      "Epoch 31/100\n",
      "274/274 [==============================] - 96s 352ms/step - loss: 0.1576 - tp: 4825.0000 - fp: 318.0000 - tn: 3363.0000 - fn: 258.0000 - accuracy: 0.9343 - precision: 0.9382 - recall: 0.9492 - val_loss: 0.1628 - val_tp: 1694.0000 - val_fp: 71.0000 - val_tn: 343.0000 - val_fn: 42.0000 - val_accuracy: 0.9474 - val_precision: 0.9598 - val_recall: 0.9758\n",
      "\n",
      "Epoch 00031: val_loss did not improve from 0.15656\n",
      "Epoch 32/100\n",
      "274/274 [==============================] - 97s 353ms/step - loss: 0.1629 - tp: 4834.0000 - fp: 310.0000 - tn: 3371.0000 - fn: 249.0000 - accuracy: 0.9362 - precision: 0.9397 - recall: 0.9510 - val_loss: 0.1630 - val_tp: 1696.0000 - val_fp: 77.0000 - val_tn: 337.0000 - val_fn: 40.0000 - val_accuracy: 0.9456 - val_precision: 0.9566 - val_recall: 0.9770\n",
      "\n",
      "Epoch 00032: val_loss did not improve from 0.15656\n",
      "Epoch 33/100\n",
      "274/274 [==============================] - 96s 351ms/step - loss: 0.1641 - tp: 4821.0000 - fp: 318.0000 - tn: 3363.0000 - fn: 262.0000 - accuracy: 0.9338 - precision: 0.9381 - recall: 0.9485 - val_loss: 0.1612 - val_tp: 1696.0000 - val_fp: 77.0000 - val_tn: 337.0000 - val_fn: 40.0000 - val_accuracy: 0.9456 - val_precision: 0.9566 - val_recall: 0.9770\n",
      "\n",
      "Epoch 00033: val_loss did not improve from 0.15656\n",
      "Epoch 34/100\n",
      "274/274 [==============================] - 97s 352ms/step - loss: 0.1630 - tp: 4814.0000 - fp: 306.0000 - tn: 3375.0000 - fn: 269.0000 - accuracy: 0.9344 - precision: 0.9402 - recall: 0.9471 - val_loss: 0.1645 - val_tp: 1691.0000 - val_fp: 74.0000 - val_tn: 340.0000 - val_fn: 45.0000 - val_accuracy: 0.9447 - val_precision: 0.9581 - val_recall: 0.9741\n",
      "\n",
      "Epoch 00034: val_loss did not improve from 0.15656\n",
      "Epoch 35/100\n",
      "274/274 [==============================] - 96s 352ms/step - loss: 0.1592 - tp: 4840.0000 - fp: 323.0000 - tn: 3358.0000 - fn: 243.0000 - accuracy: 0.9354 - precision: 0.9374 - recall: 0.9522 - val_loss: 0.1632 - val_tp: 1695.0000 - val_fp: 74.0000 - val_tn: 340.0000 - val_fn: 41.0000 - val_accuracy: 0.9465 - val_precision: 0.9582 - val_recall: 0.9764\n",
      "\n",
      "Epoch 00035: val_loss did not improve from 0.15656\n",
      "Epoch 36/100\n",
      "274/274 [==============================] - 96s 352ms/step - loss: 0.1532 - tp: 4836.0000 - fp: 305.0000 - tn: 3376.0000 - fn: 247.0000 - accuracy: 0.9370 - precision: 0.9407 - recall: 0.9514 - val_loss: 0.1627 - val_tp: 1695.0000 - val_fp: 77.0000 - val_tn: 337.0000 - val_fn: 41.0000 - val_accuracy: 0.9451 - val_precision: 0.9565 - val_recall: 0.9764\n",
      "\n",
      "Epoch 00036: val_loss did not improve from 0.15656\n",
      "Epoch 37/100\n",
      "274/274 [==============================] - 97s 353ms/step - loss: 0.1655 - tp: 4826.0000 - fp: 302.0000 - tn: 3379.0000 - fn: 257.0000 - accuracy: 0.9362 - precision: 0.9411 - recall: 0.9494 - val_loss: 0.1638 - val_tp: 1695.0000 - val_fp: 77.0000 - val_tn: 337.0000 - val_fn: 41.0000 - val_accuracy: 0.9451 - val_precision: 0.9565 - val_recall: 0.9764\n",
      "\n",
      "Epoch 00037: val_loss did not improve from 0.15656\n",
      "Epoch 38/100\n",
      "274/274 [==============================] - 97s 354ms/step - loss: 0.1509 - tp: 4838.0000 - fp: 276.0000 - tn: 3405.0000 - fn: 245.0000 - accuracy: 0.9406 - precision: 0.9460 - recall: 0.9518 - val_loss: 0.1634 - val_tp: 1699.0000 - val_fp: 79.0000 - val_tn: 335.0000 - val_fn: 37.0000 - val_accuracy: 0.9460 - val_precision: 0.9556 - val_recall: 0.9787\n",
      "\n",
      "Epoch 00038: val_loss did not improve from 0.15656\n",
      "Epoch 39/100\n",
      "274/274 [==============================] - 97s 355ms/step - loss: 0.1561 - tp: 4848.0000 - fp: 304.0000 - tn: 3377.0000 - fn: 235.0000 - accuracy: 0.9385 - precision: 0.9410 - recall: 0.9538 - val_loss: 0.1636 - val_tp: 1697.0000 - val_fp: 77.0000 - val_tn: 337.0000 - val_fn: 39.0000 - val_accuracy: 0.9460 - val_precision: 0.9566 - val_recall: 0.9775\n"
     ]
    },
    {
     "name": "stdout",
     "output_type": "stream",
     "text": [
      "\n",
      "Epoch 00039: val_loss did not improve from 0.15656\n",
      "Epoch 40/100\n",
      "274/274 [==============================] - 97s 353ms/step - loss: 0.1580 - tp: 4868.0000 - fp: 312.0000 - tn: 3369.0000 - fn: 215.0000 - accuracy: 0.9399 - precision: 0.9398 - recall: 0.9577 - val_loss: 0.1633 - val_tp: 1695.0000 - val_fp: 75.0000 - val_tn: 339.0000 - val_fn: 41.0000 - val_accuracy: 0.9460 - val_precision: 0.9576 - val_recall: 0.9764\n",
      "\n",
      "Epoch 00040: val_loss did not improve from 0.15656\n",
      "Epoch 41/100\n",
      "274/274 [==============================] - 97s 352ms/step - loss: 0.1501 - tp: 4858.0000 - fp: 262.0000 - tn: 3419.0000 - fn: 225.0000 - accuracy: 0.9444 - precision: 0.9488 - recall: 0.9557 - val_loss: 0.1658 - val_tp: 1696.0000 - val_fp: 76.0000 - val_tn: 338.0000 - val_fn: 40.0000 - val_accuracy: 0.9460 - val_precision: 0.9571 - val_recall: 0.9770\n",
      "\n",
      "Epoch 00041: val_loss did not improve from 0.15656\n",
      "Epoch 42/100\n",
      "274/274 [==============================] - 100s 364ms/step - loss: 0.1572 - tp: 4865.0000 - fp: 315.0000 - tn: 3366.0000 - fn: 218.0000 - accuracy: 0.9392 - precision: 0.9392 - recall: 0.9571 - val_loss: 0.1625 - val_tp: 1694.0000 - val_fp: 72.0000 - val_tn: 342.0000 - val_fn: 42.0000 - val_accuracy: 0.9470 - val_precision: 0.9592 - val_recall: 0.9758\n",
      "\n",
      "Epoch 00042: val_loss did not improve from 0.15656\n",
      "Epoch 43/100\n",
      "274/274 [==============================] - 100s 365ms/step - loss: 0.1655 - tp: 4811.0000 - fp: 302.0000 - tn: 3379.0000 - fn: 272.0000 - accuracy: 0.9345 - precision: 0.9409 - recall: 0.9465 - val_loss: 0.1624 - val_tp: 1694.0000 - val_fp: 72.0000 - val_tn: 342.0000 - val_fn: 42.0000 - val_accuracy: 0.9470 - val_precision: 0.9592 - val_recall: 0.9758\n",
      "\n",
      "Epoch 00043: val_loss did not improve from 0.15656\n",
      "Epoch 44/100\n",
      "274/274 [==============================] - 98s 358ms/step - loss: 0.1590 - tp: 4834.0000 - fp: 289.0000 - tn: 3392.0000 - fn: 249.0000 - accuracy: 0.9386 - precision: 0.9436 - recall: 0.9510 - val_loss: 0.1618 - val_tp: 1696.0000 - val_fp: 72.0000 - val_tn: 342.0000 - val_fn: 40.0000 - val_accuracy: 0.9479 - val_precision: 0.9593 - val_recall: 0.9770\n",
      "\n",
      "Epoch 00044: val_loss did not improve from 0.15656\n",
      "Epoch 45/100\n",
      "274/274 [==============================] - 97s 355ms/step - loss: 0.1558 - tp: 4843.0000 - fp: 305.0000 - tn: 3376.0000 - fn: 240.0000 - accuracy: 0.9378 - precision: 0.9408 - recall: 0.9528 - val_loss: 0.1639 - val_tp: 1696.0000 - val_fp: 73.0000 - val_tn: 341.0000 - val_fn: 40.0000 - val_accuracy: 0.9474 - val_precision: 0.9587 - val_recall: 0.9770\n",
      "\n",
      "Epoch 00045: val_loss did not improve from 0.15656\n",
      "Epoch 46/100\n",
      "274/274 [==============================] - 97s 353ms/step - loss: 0.1589 - tp: 4825.0000 - fp: 294.0000 - tn: 3387.0000 - fn: 258.0000 - accuracy: 0.9370 - precision: 0.9426 - recall: 0.9492 - val_loss: 0.1637 - val_tp: 1697.0000 - val_fp: 74.0000 - val_tn: 340.0000 - val_fn: 39.0000 - val_accuracy: 0.9474 - val_precision: 0.9582 - val_recall: 0.9775\n",
      "\n",
      "Epoch 00046: val_loss did not improve from 0.15656\n",
      "Epoch 47/100\n",
      "274/274 [==============================] - 97s 353ms/step - loss: 0.1526 - tp: 4832.0000 - fp: 273.0000 - tn: 3408.0000 - fn: 251.0000 - accuracy: 0.9402 - precision: 0.9465 - recall: 0.9506 - val_loss: 0.1630 - val_tp: 1697.0000 - val_fp: 72.0000 - val_tn: 342.0000 - val_fn: 39.0000 - val_accuracy: 0.9484 - val_precision: 0.9593 - val_recall: 0.9775\n",
      "\n",
      "Epoch 00047: val_loss did not improve from 0.15656\n",
      "Epoch 48/100\n",
      "274/274 [==============================] - 98s 357ms/step - loss: 0.1538 - tp: 4843.0000 - fp: 289.0000 - tn: 3392.0000 - fn: 240.0000 - accuracy: 0.9396 - precision: 0.9437 - recall: 0.9528 - val_loss: 0.1635 - val_tp: 1695.0000 - val_fp: 71.0000 - val_tn: 343.0000 - val_fn: 41.0000 - val_accuracy: 0.9479 - val_precision: 0.9598 - val_recall: 0.9764\n",
      "\n",
      "Epoch 00048: val_loss did not improve from 0.15656\n",
      "Epoch 49/100\n",
      "274/274 [==============================] - 98s 357ms/step - loss: 0.1586 - tp: 4835.0000 - fp: 298.0000 - tn: 3383.0000 - fn: 248.0000 - accuracy: 0.9377 - precision: 0.9419 - recall: 0.9512 - val_loss: 0.1649 - val_tp: 1697.0000 - val_fp: 72.0000 - val_tn: 342.0000 - val_fn: 39.0000 - val_accuracy: 0.9484 - val_precision: 0.9593 - val_recall: 0.9775\n",
      "\n",
      "Epoch 00049: val_loss did not improve from 0.15656\n",
      "Epoch 50/100\n",
      "274/274 [==============================] - 98s 358ms/step - loss: 0.1552 - tp: 4844.0000 - fp: 304.0000 - tn: 3377.0000 - fn: 239.0000 - accuracy: 0.9380 - precision: 0.9409 - recall: 0.9530 - val_loss: 0.1642 - val_tp: 1697.0000 - val_fp: 73.0000 - val_tn: 341.0000 - val_fn: 39.0000 - val_accuracy: 0.9479 - val_precision: 0.9588 - val_recall: 0.9775\n",
      "\n",
      "Epoch 00050: val_loss did not improve from 0.15656\n",
      "Epoch 51/100\n",
      "274/274 [==============================] - 98s 358ms/step - loss: 0.1581 - tp: 4824.0000 - fp: 305.0000 - tn: 3376.0000 - fn: 259.0000 - accuracy: 0.9356 - precision: 0.9405 - recall: 0.9490 - val_loss: 0.1636 - val_tp: 1696.0000 - val_fp: 71.0000 - val_tn: 343.0000 - val_fn: 40.0000 - val_accuracy: 0.9484 - val_precision: 0.9598 - val_recall: 0.9770\n",
      "\n",
      "Epoch 00051: val_loss did not improve from 0.15656\n",
      "Epoch 52/100\n",
      "274/274 [==============================] - 99s 362ms/step - loss: 0.1574 - tp: 4848.0000 - fp: 315.0000 - tn: 3366.0000 - fn: 235.0000 - accuracy: 0.9372 - precision: 0.9390 - recall: 0.9538 - val_loss: 0.1641 - val_tp: 1696.0000 - val_fp: 71.0000 - val_tn: 343.0000 - val_fn: 40.0000 - val_accuracy: 0.9484 - val_precision: 0.9598 - val_recall: 0.9770\n",
      "\n",
      "Epoch 00052: val_loss did not improve from 0.15656\n",
      "Epoch 53/100\n",
      "274/274 [==============================] - 97s 355ms/step - loss: 0.1585 - tp: 4841.0000 - fp: 294.0000 - tn: 3387.0000 - fn: 242.0000 - accuracy: 0.9388 - precision: 0.9427 - recall: 0.9524 - val_loss: 0.1654 - val_tp: 1696.0000 - val_fp: 72.0000 - val_tn: 342.0000 - val_fn: 40.0000 - val_accuracy: 0.9479 - val_precision: 0.9593 - val_recall: 0.9770\n",
      "\n",
      "Epoch 00053: val_loss did not improve from 0.15656\n",
      "Epoch 54/100\n",
      "274/274 [==============================] - 98s 356ms/step - loss: 0.1586 - tp: 4845.0000 - fp: 313.0000 - tn: 3368.0000 - fn: 238.0000 - accuracy: 0.9371 - precision: 0.9393 - recall: 0.9532 - val_loss: 0.1647 - val_tp: 1698.0000 - val_fp: 71.0000 - val_tn: 343.0000 - val_fn: 38.0000 - val_accuracy: 0.9493 - val_precision: 0.9599 - val_recall: 0.9781\n",
      "\n",
      "Epoch 00054: val_loss did not improve from 0.15656\n",
      "Epoch 55/100\n",
      "274/274 [==============================] - 98s 356ms/step - loss: 0.1571 - tp: 4842.0000 - fp: 305.0000 - tn: 3376.0000 - fn: 241.0000 - accuracy: 0.9377 - precision: 0.9407 - recall: 0.9526 - val_loss: 0.1645 - val_tp: 1696.0000 - val_fp: 71.0000 - val_tn: 343.0000 - val_fn: 40.0000 - val_accuracy: 0.9484 - val_precision: 0.9598 - val_recall: 0.9770\n",
      "\n",
      "Epoch 00055: val_loss did not improve from 0.15656\n",
      "Epoch 56/100\n",
      "274/274 [==============================] - 97s 353ms/step - loss: 0.1597 - tp: 4830.0000 - fp: 282.0000 - tn: 3399.0000 - fn: 253.0000 - accuracy: 0.9390 - precision: 0.9448 - recall: 0.9502 - val_loss: 0.1637 - val_tp: 1695.0000 - val_fp: 71.0000 - val_tn: 343.0000 - val_fn: 41.0000 - val_accuracy: 0.9479 - val_precision: 0.9598 - val_recall: 0.9764\n",
      "\n",
      "Epoch 00056: val_loss did not improve from 0.15656\n",
      "Epoch 57/100\n",
      "274/274 [==============================] - 97s 355ms/step - loss: 0.1620 - tp: 4830.0000 - fp: 297.0000 - tn: 3384.0000 - fn: 253.0000 - accuracy: 0.9372 - precision: 0.9421 - recall: 0.9502 - val_loss: 0.1640 - val_tp: 1696.0000 - val_fp: 73.0000 - val_tn: 341.0000 - val_fn: 40.0000 - val_accuracy: 0.9474 - val_precision: 0.9587 - val_recall: 0.9770\n",
      "\n",
      "Epoch 00057: val_loss did not improve from 0.15656\n",
      "Epoch 58/100\n",
      "274/274 [==============================] - 97s 354ms/step - loss: 0.1623 - tp: 4812.0000 - fp: 299.0000 - tn: 3382.0000 - fn: 271.0000 - accuracy: 0.9350 - precision: 0.9415 - recall: 0.9467 - val_loss: 0.1644 - val_tp: 1697.0000 - val_fp: 72.0000 - val_tn: 342.0000 - val_fn: 39.0000 - val_accuracy: 0.9484 - val_precision: 0.9593 - val_recall: 0.9775\n",
      "\n",
      "Epoch 00058: val_loss did not improve from 0.15656\n",
      "Epoch 59/100\n",
      "274/274 [==============================] - 97s 354ms/step - loss: 0.1558 - tp: 4845.0000 - fp: 303.0000 - tn: 3378.0000 - fn: 238.0000 - accuracy: 0.9383 - precision: 0.9411 - recall: 0.9532 - val_loss: 0.1648 - val_tp: 1697.0000 - val_fp: 73.0000 - val_tn: 341.0000 - val_fn: 39.0000 - val_accuracy: 0.9479 - val_precision: 0.9588 - val_recall: 0.9775\n",
      "\n",
      "Epoch 00059: val_loss did not improve from 0.15656\n",
      "Epoch 60/100\n",
      "274/274 [==============================] - 97s 353ms/step - loss: 0.1490 - tp: 4864.0000 - fp: 295.0000 - tn: 3386.0000 - fn: 219.0000 - accuracy: 0.9414 - precision: 0.9428 - recall: 0.9569 - val_loss: 0.1647 - val_tp: 1696.0000 - val_fp: 72.0000 - val_tn: 342.0000 - val_fn: 40.0000 - val_accuracy: 0.9479 - val_precision: 0.9593 - val_recall: 0.9770\n",
      "\n",
      "Epoch 00060: val_loss did not improve from 0.15656\n",
      "Epoch 61/100\n",
      "274/274 [==============================] - 97s 355ms/step - loss: 0.1563 - tp: 4842.0000 - fp: 321.0000 - tn: 3360.0000 - fn: 241.0000 - accuracy: 0.9359 - precision: 0.9378 - recall: 0.9526 - val_loss: 0.1636 - val_tp: 1698.0000 - val_fp: 71.0000 - val_tn: 343.0000 - val_fn: 38.0000 - val_accuracy: 0.9493 - val_precision: 0.9599 - val_recall: 0.9781\n",
      "\n",
      "Epoch 00061: val_loss did not improve from 0.15656\n",
      "Epoch 62/100\n",
      "274/274 [==============================] - 98s 356ms/step - loss: 0.1620 - tp: 4837.0000 - fp: 327.0000 - tn: 3354.0000 - fn: 246.0000 - accuracy: 0.9346 - precision: 0.9367 - recall: 0.9516 - val_loss: 0.1644 - val_tp: 1696.0000 - val_fp: 71.0000 - val_tn: 343.0000 - val_fn: 40.0000 - val_accuracy: 0.9484 - val_precision: 0.9598 - val_recall: 0.9770\n",
      "\n",
      "Epoch 00062: val_loss did not improve from 0.15656\n",
      "Epoch 63/100\n",
      "274/274 [==============================] - 97s 353ms/step - loss: 0.1612 - tp: 4836.0000 - fp: 304.0000 - tn: 3377.0000 - fn: 247.0000 - accuracy: 0.9371 - precision: 0.9409 - recall: 0.9514 - val_loss: 0.1645 - val_tp: 1697.0000 - val_fp: 72.0000 - val_tn: 342.0000 - val_fn: 39.0000 - val_accuracy: 0.9484 - val_precision: 0.9593 - val_recall: 0.9775\n",
      "\n",
      "Epoch 00063: val_loss did not improve from 0.15656\n",
      "Epoch 64/100\n",
      "274/274 [==============================] - 97s 352ms/step - loss: 0.1613 - tp: 4836.0000 - fp: 308.0000 - tn: 3373.0000 - fn: 247.0000 - accuracy: 0.9367 - precision: 0.9401 - recall: 0.9514 - val_loss: 0.1656 - val_tp: 1695.0000 - val_fp: 71.0000 - val_tn: 343.0000 - val_fn: 41.0000 - val_accuracy: 0.9479 - val_precision: 0.9598 - val_recall: 0.9764\n",
      "\n",
      "Epoch 00064: val_loss did not improve from 0.15656\n",
      "Epoch 65/100\n",
      "274/274 [==============================] - 97s 352ms/step - loss: 0.1536 - tp: 4853.0000 - fp: 300.0000 - tn: 3381.0000 - fn: 230.0000 - accuracy: 0.9395 - precision: 0.9418 - recall: 0.9548 - val_loss: 0.1635 - val_tp: 1696.0000 - val_fp: 71.0000 - val_tn: 343.0000 - val_fn: 40.0000 - val_accuracy: 0.9484 - val_precision: 0.9598 - val_recall: 0.9770\n",
      "\n",
      "Epoch 00065: val_loss did not improve from 0.15656\n",
      "Epoch 66/100\n",
      "274/274 [==============================] - 97s 353ms/step - loss: 0.1590 - tp: 4835.0000 - fp: 304.0000 - tn: 3377.0000 - fn: 248.0000 - accuracy: 0.9370 - precision: 0.9408 - recall: 0.9512 - val_loss: 0.1645 - val_tp: 1693.0000 - val_fp: 71.0000 - val_tn: 343.0000 - val_fn: 43.0000 - val_accuracy: 0.9470 - val_precision: 0.9598 - val_recall: 0.9752\n",
      "\n",
      "Epoch 00066: val_loss did not improve from 0.15656\n",
      "Epoch 67/100\n",
      "274/274 [==============================] - 97s 354ms/step - loss: 0.1567 - tp: 4858.0000 - fp: 310.0000 - tn: 3371.0000 - fn: 225.0000 - accuracy: 0.9390 - precision: 0.9400 - recall: 0.9557 - val_loss: 0.1646 - val_tp: 1695.0000 - val_fp: 71.0000 - val_tn: 343.0000 - val_fn: 41.0000 - val_accuracy: 0.9479 - val_precision: 0.9598 - val_recall: 0.9764\n",
      "\n",
      "Epoch 00067: val_loss did not improve from 0.15656\n",
      "Epoch 68/100\n",
      "274/274 [==============================] - 97s 352ms/step - loss: 0.1558 - tp: 4859.0000 - fp: 297.0000 - tn: 3384.0000 - fn: 224.0000 - accuracy: 0.9406 - precision: 0.9424 - recall: 0.9559 - val_loss: 0.1653 - val_tp: 1697.0000 - val_fp: 73.0000 - val_tn: 341.0000 - val_fn: 39.0000 - val_accuracy: 0.9479 - val_precision: 0.9588 - val_recall: 0.9775\n",
      "\n",
      "Epoch 00068: val_loss did not improve from 0.15656\n",
      "Epoch 69/100\n",
      "274/274 [==============================] - 97s 353ms/step - loss: 0.1539 - tp: 4826.0000 - fp: 280.0000 - tn: 3401.0000 - fn: 257.0000 - accuracy: 0.9387 - precision: 0.9452 - recall: 0.9494 - val_loss: 0.1635 - val_tp: 1695.0000 - val_fp: 70.0000 - val_tn: 344.0000 - val_fn: 41.0000 - val_accuracy: 0.9484 - val_precision: 0.9603 - val_recall: 0.9764\n",
      "\n",
      "Epoch 00069: val_loss did not improve from 0.15656\n",
      "Epoch 70/100\n",
      "274/274 [==============================] - 97s 353ms/step - loss: 0.1570 - tp: 4839.0000 - fp: 295.0000 - tn: 3386.0000 - fn: 244.0000 - accuracy: 0.9385 - precision: 0.9425 - recall: 0.9520 - val_loss: 0.1653 - val_tp: 1695.0000 - val_fp: 71.0000 - val_tn: 343.0000 - val_fn: 41.0000 - val_accuracy: 0.9479 - val_precision: 0.9598 - val_recall: 0.9764\n",
      "\n",
      "Epoch 00070: val_loss did not improve from 0.15656\n",
      "Epoch 71/100\n",
      "274/274 [==============================] - 97s 352ms/step - loss: 0.1575 - tp: 4847.0000 - fp: 301.0000 - tn: 3380.0000 - fn: 236.0000 - accuracy: 0.9387 - precision: 0.9415 - recall: 0.9536 - val_loss: 0.1640 - val_tp: 1697.0000 - val_fp: 72.0000 - val_tn: 342.0000 - val_fn: 39.0000 - val_accuracy: 0.9484 - val_precision: 0.9593 - val_recall: 0.9775\n",
      "\n",
      "Epoch 00071: val_loss did not improve from 0.15656\n",
      "Epoch 72/100\n",
      "274/274 [==============================] - 97s 354ms/step - loss: 0.1535 - tp: 4824.0000 - fp: 283.0000 - tn: 3398.0000 - fn: 259.0000 - accuracy: 0.9382 - precision: 0.9446 - recall: 0.9490 - val_loss: 0.1650 - val_tp: 1696.0000 - val_fp: 71.0000 - val_tn: 343.0000 - val_fn: 40.0000 - val_accuracy: 0.9484 - val_precision: 0.9598 - val_recall: 0.9770\n",
      "\n",
      "Epoch 00072: val_loss did not improve from 0.15656\n",
      "Epoch 73/100\n",
      "274/274 [==============================] - 97s 353ms/step - loss: 0.1591 - tp: 4846.0000 - fp: 298.0000 - tn: 3383.0000 - fn: 237.0000 - accuracy: 0.9390 - precision: 0.9421 - recall: 0.9534 - val_loss: 0.1651 - val_tp: 1696.0000 - val_fp: 72.0000 - val_tn: 342.0000 - val_fn: 40.0000 - val_accuracy: 0.9479 - val_precision: 0.9593 - val_recall: 0.9770\n",
      "\n",
      "Epoch 00073: val_loss did not improve from 0.15656\n",
      "Epoch 74/100\n",
      "274/274 [==============================] - 98s 358ms/step - loss: 0.1539 - tp: 4831.0000 - fp: 286.0000 - tn: 3395.0000 - fn: 252.0000 - accuracy: 0.9386 - precision: 0.9441 - recall: 0.9504 - val_loss: 0.1642 - val_tp: 1697.0000 - val_fp: 71.0000 - val_tn: 343.0000 - val_fn: 39.0000 - val_accuracy: 0.9488 - val_precision: 0.9598 - val_recall: 0.9775\n",
      "\n",
      "Epoch 00074: val_loss did not improve from 0.15656\n",
      "Epoch 75/100\n",
      "274/274 [==============================] - 97s 355ms/step - loss: 0.1527 - tp: 4853.0000 - fp: 296.0000 - tn: 3385.0000 - fn: 230.0000 - accuracy: 0.9400 - precision: 0.9425 - recall: 0.9548 - val_loss: 0.1646 - val_tp: 1697.0000 - val_fp: 72.0000 - val_tn: 342.0000 - val_fn: 39.0000 - val_accuracy: 0.9484 - val_precision: 0.9593 - val_recall: 0.9775\n",
      "\n",
      "Epoch 00075: val_loss did not improve from 0.15656\n",
      "Epoch 76/100\n",
      "274/274 [==============================] - 97s 354ms/step - loss: 0.1593 - tp: 4840.0000 - fp: 306.0000 - tn: 3375.0000 - fn: 243.0000 - accuracy: 0.9374 - precision: 0.9405 - recall: 0.9522 - val_loss: 0.1637 - val_tp: 1695.0000 - val_fp: 71.0000 - val_tn: 343.0000 - val_fn: 41.0000 - val_accuracy: 0.9479 - val_precision: 0.9598 - val_recall: 0.9764\n",
      "\n",
      "Epoch 00076: val_loss did not improve from 0.15656\n",
      "Epoch 77/100\n",
      "274/274 [==============================] - 96s 352ms/step - loss: 0.1502 - tp: 4848.0000 - fp: 301.0000 - tn: 3380.0000 - fn: 235.0000 - accuracy: 0.9388 - precision: 0.9415 - recall: 0.9538 - val_loss: 0.1641 - val_tp: 1697.0000 - val_fp: 70.0000 - val_tn: 344.0000 - val_fn: 39.0000 - val_accuracy: 0.9493 - val_precision: 0.9604 - val_recall: 0.9775\n",
      "\n",
      "Epoch 00077: val_loss did not improve from 0.15656\n",
      "Epoch 78/100\n",
      "274/274 [==============================] - 97s 353ms/step - loss: 0.1620 - tp: 4835.0000 - fp: 306.0000 - tn: 3375.0000 - fn: 248.0000 - accuracy: 0.9368 - precision: 0.9405 - recall: 0.9512 - val_loss: 0.1643 - val_tp: 1697.0000 - val_fp: 71.0000 - val_tn: 343.0000 - val_fn: 39.0000 - val_accuracy: 0.9488 - val_precision: 0.9598 - val_recall: 0.9775\n"
     ]
    },
    {
     "name": "stdout",
     "output_type": "stream",
     "text": [
      "\n",
      "Epoch 00078: val_loss did not improve from 0.15656\n",
      "Epoch 79/100\n",
      "274/274 [==============================] - 97s 353ms/step - loss: 0.1641 - tp: 4828.0000 - fp: 330.0000 - tn: 3351.0000 - fn: 255.0000 - accuracy: 0.9332 - precision: 0.9360 - recall: 0.9498 - val_loss: 0.1646 - val_tp: 1695.0000 - val_fp: 71.0000 - val_tn: 343.0000 - val_fn: 41.0000 - val_accuracy: 0.9479 - val_precision: 0.9598 - val_recall: 0.9764\n",
      "\n",
      "Epoch 00079: val_loss did not improve from 0.15656\n",
      "Epoch 80/100\n",
      "274/274 [==============================] - 97s 353ms/step - loss: 0.1506 - tp: 4850.0000 - fp: 298.0000 - tn: 3383.0000 - fn: 233.0000 - accuracy: 0.9394 - precision: 0.9421 - recall: 0.9542 - val_loss: 0.1652 - val_tp: 1696.0000 - val_fp: 71.0000 - val_tn: 343.0000 - val_fn: 40.0000 - val_accuracy: 0.9484 - val_precision: 0.9598 - val_recall: 0.9770\n",
      "\n",
      "Epoch 00080: val_loss did not improve from 0.15656\n",
      "Epoch 81/100\n",
      "274/274 [==============================] - 97s 353ms/step - loss: 0.1594 - tp: 4859.0000 - fp: 303.0000 - tn: 3378.0000 - fn: 224.0000 - accuracy: 0.9399 - precision: 0.9413 - recall: 0.9559 - val_loss: 0.1658 - val_tp: 1693.0000 - val_fp: 71.0000 - val_tn: 343.0000 - val_fn: 43.0000 - val_accuracy: 0.9470 - val_precision: 0.9598 - val_recall: 0.9752\n",
      "\n",
      "Epoch 00081: val_loss did not improve from 0.15656\n",
      "Epoch 82/100\n",
      "274/274 [==============================] - 97s 353ms/step - loss: 0.1541 - tp: 4839.0000 - fp: 296.0000 - tn: 3385.0000 - fn: 244.0000 - accuracy: 0.9384 - precision: 0.9424 - recall: 0.9520 - val_loss: 0.1637 - val_tp: 1696.0000 - val_fp: 71.0000 - val_tn: 343.0000 - val_fn: 40.0000 - val_accuracy: 0.9484 - val_precision: 0.9598 - val_recall: 0.9770\n",
      "\n",
      "Epoch 00082: val_loss did not improve from 0.15656\n",
      "Epoch 83/100\n",
      "274/274 [==============================] - 97s 355ms/step - loss: 0.1534 - tp: 4840.0000 - fp: 293.0000 - tn: 3388.0000 - fn: 243.0000 - accuracy: 0.9388 - precision: 0.9429 - recall: 0.9522 - val_loss: 0.1639 - val_tp: 1697.0000 - val_fp: 71.0000 - val_tn: 343.0000 - val_fn: 39.0000 - val_accuracy: 0.9488 - val_precision: 0.9598 - val_recall: 0.9775\n",
      "\n",
      "Epoch 00083: val_loss did not improve from 0.15656\n",
      "Epoch 84/100\n",
      "274/274 [==============================] - 97s 353ms/step - loss: 0.1510 - tp: 4853.0000 - fp: 290.0000 - tn: 3391.0000 - fn: 230.0000 - accuracy: 0.9407 - precision: 0.9436 - recall: 0.9548 - val_loss: 0.1656 - val_tp: 1698.0000 - val_fp: 72.0000 - val_tn: 342.0000 - val_fn: 38.0000 - val_accuracy: 0.9488 - val_precision: 0.9593 - val_recall: 0.9781\n",
      "\n",
      "Epoch 00084: val_loss did not improve from 0.15656\n",
      "Epoch 85/100\n",
      "274/274 [==============================] - 97s 354ms/step - loss: 0.1619 - tp: 4797.0000 - fp: 294.0000 - tn: 3387.0000 - fn: 286.0000 - accuracy: 0.9338 - precision: 0.9423 - recall: 0.9437 - val_loss: 0.1658 - val_tp: 1696.0000 - val_fp: 72.0000 - val_tn: 342.0000 - val_fn: 40.0000 - val_accuracy: 0.9479 - val_precision: 0.9593 - val_recall: 0.9770\n",
      "\n",
      "Epoch 00085: val_loss did not improve from 0.15656\n",
      "Epoch 86/100\n",
      "274/274 [==============================] - 97s 353ms/step - loss: 0.1597 - tp: 4819.0000 - fp: 306.0000 - tn: 3375.0000 - fn: 264.0000 - accuracy: 0.9350 - precision: 0.9403 - recall: 0.9481 - val_loss: 0.1642 - val_tp: 1697.0000 - val_fp: 72.0000 - val_tn: 342.0000 - val_fn: 39.0000 - val_accuracy: 0.9484 - val_precision: 0.9593 - val_recall: 0.9775\n",
      "\n",
      "Epoch 00086: val_loss did not improve from 0.15656\n",
      "Epoch 87/100\n",
      "274/274 [==============================] - 99s 361ms/step - loss: 0.1584 - tp: 4846.0000 - fp: 313.0000 - tn: 3368.0000 - fn: 237.0000 - accuracy: 0.9372 - precision: 0.9393 - recall: 0.9534 - val_loss: 0.1634 - val_tp: 1696.0000 - val_fp: 71.0000 - val_tn: 343.0000 - val_fn: 40.0000 - val_accuracy: 0.9484 - val_precision: 0.9598 - val_recall: 0.9770\n",
      "\n",
      "Epoch 00087: val_loss did not improve from 0.15656\n",
      "Epoch 88/100\n",
      "274/274 [==============================] - 98s 357ms/step - loss: 0.1600 - tp: 4849.0000 - fp: 311.0000 - tn: 3370.0000 - fn: 234.0000 - accuracy: 0.9378 - precision: 0.9397 - recall: 0.9540 - val_loss: 0.1649 - val_tp: 1696.0000 - val_fp: 71.0000 - val_tn: 343.0000 - val_fn: 40.0000 - val_accuracy: 0.9484 - val_precision: 0.9598 - val_recall: 0.9770\n",
      "\n",
      "Epoch 00088: val_loss did not improve from 0.15656\n",
      "Epoch 89/100\n",
      "274/274 [==============================] - 97s 353ms/step - loss: 0.1564 - tp: 4833.0000 - fp: 294.0000 - tn: 3387.0000 - fn: 250.0000 - accuracy: 0.9379 - precision: 0.9427 - recall: 0.9508 - val_loss: 0.1639 - val_tp: 1696.0000 - val_fp: 70.0000 - val_tn: 344.0000 - val_fn: 40.0000 - val_accuracy: 0.9488 - val_precision: 0.9604 - val_recall: 0.9770\n",
      "\n",
      "Epoch 00089: val_loss did not improve from 0.15656\n",
      "Epoch 90/100\n",
      "274/274 [==============================] - 97s 354ms/step - loss: 0.1589 - tp: 4835.0000 - fp: 297.0000 - tn: 3384.0000 - fn: 248.0000 - accuracy: 0.9378 - precision: 0.9421 - recall: 0.9512 - val_loss: 0.1646 - val_tp: 1697.0000 - val_fp: 73.0000 - val_tn: 341.0000 - val_fn: 39.0000 - val_accuracy: 0.9479 - val_precision: 0.9588 - val_recall: 0.9775\n",
      "\n",
      "Epoch 00090: val_loss did not improve from 0.15656\n",
      "Epoch 91/100\n",
      "274/274 [==============================] - 96s 352ms/step - loss: 0.1579 - tp: 4836.0000 - fp: 306.0000 - tn: 3375.0000 - fn: 247.0000 - accuracy: 0.9369 - precision: 0.9405 - recall: 0.9514 - val_loss: 0.1652 - val_tp: 1697.0000 - val_fp: 71.0000 - val_tn: 343.0000 - val_fn: 39.0000 - val_accuracy: 0.9488 - val_precision: 0.9598 - val_recall: 0.9775\n",
      "\n",
      "Epoch 00091: val_loss did not improve from 0.15656\n",
      "Epoch 92/100\n",
      "274/274 [==============================] - 96s 351ms/step - loss: 0.1564 - tp: 4833.0000 - fp: 320.0000 - tn: 3361.0000 - fn: 250.0000 - accuracy: 0.9350 - precision: 0.9379 - recall: 0.9508 - val_loss: 0.1647 - val_tp: 1696.0000 - val_fp: 74.0000 - val_tn: 340.0000 - val_fn: 40.0000 - val_accuracy: 0.9470 - val_precision: 0.9582 - val_recall: 0.9770\n",
      "\n",
      "Epoch 00092: val_loss did not improve from 0.15656\n",
      "Epoch 93/100\n",
      "274/274 [==============================] - 96s 351ms/step - loss: 0.1621 - tp: 4839.0000 - fp: 307.0000 - tn: 3374.0000 - fn: 244.0000 - accuracy: 0.9371 - precision: 0.9403 - recall: 0.9520 - val_loss: 0.1642 - val_tp: 1697.0000 - val_fp: 71.0000 - val_tn: 343.0000 - val_fn: 39.0000 - val_accuracy: 0.9488 - val_precision: 0.9598 - val_recall: 0.9775\n",
      "\n",
      "Epoch 00093: val_loss did not improve from 0.15656\n",
      "Epoch 94/100\n",
      "274/274 [==============================] - 96s 350ms/step - loss: 0.1597 - tp: 4832.0000 - fp: 302.0000 - tn: 3379.0000 - fn: 251.0000 - accuracy: 0.9369 - precision: 0.9412 - recall: 0.9506 - val_loss: 0.1656 - val_tp: 1697.0000 - val_fp: 72.0000 - val_tn: 342.0000 - val_fn: 39.0000 - val_accuracy: 0.9484 - val_precision: 0.9593 - val_recall: 0.9775\n",
      "\n",
      "Epoch 00094: val_loss did not improve from 0.15656\n",
      "Epoch 95/100\n",
      "274/274 [==============================] - 96s 351ms/step - loss: 0.1566 - tp: 4835.0000 - fp: 288.0000 - tn: 3393.0000 - fn: 248.0000 - accuracy: 0.9388 - precision: 0.9438 - recall: 0.9512 - val_loss: 0.1636 - val_tp: 1697.0000 - val_fp: 72.0000 - val_tn: 342.0000 - val_fn: 39.0000 - val_accuracy: 0.9484 - val_precision: 0.9593 - val_recall: 0.9775\n",
      "\n",
      "Epoch 00095: val_loss did not improve from 0.15656\n",
      "Epoch 96/100\n",
      "274/274 [==============================] - 96s 350ms/step - loss: 0.1572 - tp: 4824.0000 - fp: 303.0000 - tn: 3378.0000 - fn: 259.0000 - accuracy: 0.9359 - precision: 0.9409 - recall: 0.9490 - val_loss: 0.1654 - val_tp: 1696.0000 - val_fp: 72.0000 - val_tn: 342.0000 - val_fn: 40.0000 - val_accuracy: 0.9479 - val_precision: 0.9593 - val_recall: 0.9770\n",
      "\n",
      "Epoch 00096: val_loss did not improve from 0.15656\n",
      "Epoch 97/100\n",
      "274/274 [==============================] - 96s 351ms/step - loss: 0.1589 - tp: 4840.0000 - fp: 301.0000 - tn: 3380.0000 - fn: 243.0000 - accuracy: 0.9379 - precision: 0.9415 - recall: 0.9522 - val_loss: 0.1645 - val_tp: 1697.0000 - val_fp: 72.0000 - val_tn: 342.0000 - val_fn: 39.0000 - val_accuracy: 0.9484 - val_precision: 0.9593 - val_recall: 0.9775\n",
      "\n",
      "Epoch 00097: val_loss did not improve from 0.15656\n",
      "Epoch 98/100\n",
      "274/274 [==============================] - 96s 351ms/step - loss: 0.1576 - tp: 4840.0000 - fp: 306.0000 - tn: 3375.0000 - fn: 243.0000 - accuracy: 0.9374 - precision: 0.9405 - recall: 0.9522 - val_loss: 0.1647 - val_tp: 1697.0000 - val_fp: 71.0000 - val_tn: 343.0000 - val_fn: 39.0000 - val_accuracy: 0.9488 - val_precision: 0.9598 - val_recall: 0.9775\n"
     ]
    },
    {
     "name": "stdout",
     "output_type": "stream",
     "text": [
      "\n",
      "Epoch 00098: val_loss did not improve from 0.15656\n",
      "Epoch 99/100\n",
      "274/274 [==============================] - 108s 393ms/step - loss: 0.1606 - tp: 4841.0000 - fp: 315.0000 - tn: 3366.0000 - fn: 242.0000 - accuracy: 0.9364 - precision: 0.9389 - recall: 0.9524 - val_loss: 0.1641 - val_tp: 1697.0000 - val_fp: 72.0000 - val_tn: 342.0000 - val_fn: 39.0000 - val_accuracy: 0.9484 - val_precision: 0.9593 - val_recall: 0.9775\n",
      "\n",
      "Epoch 00099: val_loss did not improve from 0.15656\n",
      "Epoch 100/100\n",
      "274/274 [==============================] - 104s 380ms/step - loss: 0.1535 - tp: 4868.0000 - fp: 311.0000 - tn: 3370.0000 - fn: 215.0000 - accuracy: 0.9400 - precision: 0.9399 - recall: 0.9577 - val_loss: 0.1654 - val_tp: 1696.0000 - val_fp: 71.0000 - val_tn: 343.0000 - val_fn: 40.0000 - val_accuracy: 0.9484 - val_precision: 0.9598 - val_recall: 0.9770\n",
      "\n",
      "Epoch 00100: val_loss did not improve from 0.15656\n"
     ]
    }
   ],
   "source": [
    "\n",
    "hist = model.fit(\n",
    "    train_generator,\n",
    "   steps_per_epoch=len(train_generator),\n",
    "    epochs = 100,\n",
    "    validation_data = validation_generator,\n",
    "    validation_steps=len(validation_generator),\n",
    "    callbacks=callbacks_list\n",
    "    \n",
    ")"
   ]
  },
  {
   "cell_type": "code",
   "execution_count": 12,
   "id": "e85ed6b5-0433-4606-b743-98bfed24a35f",
   "metadata": {
    "scrolled": true
   },
   "outputs": [
    {
     "data": {
      "text/plain": [
       "['checkpoint',\n",
       " 'cp-0001.ckpt.data-00000-of-00001',\n",
       " 'cp-0001.ckpt.index',\n",
       " 'cp-0002.ckpt.data-00000-of-00001',\n",
       " 'cp-0002.ckpt.index',\n",
       " 'cp-0003.ckpt.data-00000-of-00001',\n",
       " 'cp-0003.ckpt.index',\n",
       " 'cp-0004.ckpt.data-00000-of-00001',\n",
       " 'cp-0004.ckpt.index',\n",
       " 'cp-0005.ckpt.data-00000-of-00001',\n",
       " 'cp-0005.ckpt.index',\n",
       " 'cp-0006.ckpt.data-00000-of-00001',\n",
       " 'cp-0006.ckpt.index',\n",
       " 'cp-0007.ckpt.data-00000-of-00001',\n",
       " 'cp-0007.ckpt.index',\n",
       " 'cp-0008.ckpt.data-00000-of-00001',\n",
       " 'cp-0008.ckpt.index',\n",
       " 'cp-0010.ckpt.data-00000-of-00001',\n",
       " 'cp-0010.ckpt.index',\n",
       " 'cp-0011.ckpt.data-00000-of-00001',\n",
       " 'cp-0011.ckpt.index',\n",
       " 'cp-0012.ckpt.data-00000-of-00001',\n",
       " 'cp-0012.ckpt.index',\n",
       " 'cp-0014.ckpt.data-00000-of-00001',\n",
       " 'cp-0014.ckpt.index',\n",
       " 'cp-0016.ckpt.data-00000-of-00001',\n",
       " 'cp-0016.ckpt.index',\n",
       " 'cp-0017.ckpt.data-00000-of-00001',\n",
       " 'cp-0017.ckpt.index',\n",
       " 'cp-0018.ckpt.data-00000-of-00001',\n",
       " 'cp-0018.ckpt.index',\n",
       " 'cp-0019.ckpt.data-00000-of-00001',\n",
       " 'cp-0019.ckpt.index',\n",
       " 'cp-0020.ckpt.data-00000-of-00001',\n",
       " 'cp-0020.ckpt.index',\n",
       " 'cp-0021.ckpt.data-00000-of-00001',\n",
       " 'cp-0021.ckpt.index',\n",
       " 'cp-0022.ckpt.data-00000-of-00001',\n",
       " 'cp-0022.ckpt.index',\n",
       " 'cp-0023.ckpt.data-00000-of-00001',\n",
       " 'cp-0023.ckpt.index',\n",
       " 'cp-0024.ckpt.data-00000-of-00001',\n",
       " 'cp-0024.ckpt.index',\n",
       " 'cp-0025.ckpt.data-00000-of-00001',\n",
       " 'cp-0025.ckpt.index',\n",
       " 'cp-0026.ckpt.data-00000-of-00001',\n",
       " 'cp-0026.ckpt.index',\n",
       " 'cp-0027.ckpt.data-00000-of-00001',\n",
       " 'cp-0027.ckpt.index',\n",
       " 'cp-0028.ckpt.data-00000-of-00001',\n",
       " 'cp-0028.ckpt.index',\n",
       " 'cp-0029.ckpt.data-00000-of-00001',\n",
       " 'cp-0029.ckpt.index',\n",
       " 'cp-0030.ckpt.data-00000-of-00001',\n",
       " 'cp-0030.ckpt.index',\n",
       " 'cp-0031.ckpt.data-00000-of-00001',\n",
       " 'cp-0031.ckpt.index',\n",
       " 'cp-0032.ckpt.data-00000-of-00001',\n",
       " 'cp-0032.ckpt.index',\n",
       " 'cp-0033.ckpt.data-00000-of-00001',\n",
       " 'cp-0033.ckpt.index',\n",
       " 'cp-0036.ckpt.data-00000-of-00001',\n",
       " 'cp-0036.ckpt.index',\n",
       " 'cp-0037.ckpt.data-00000-of-00001',\n",
       " 'cp-0037.ckpt.index',\n",
       " 'cp-0038.ckpt.data-00000-of-00001',\n",
       " 'cp-0038.ckpt.index',\n",
       " 'cp-0041.ckpt.data-00000-of-00001',\n",
       " 'cp-0041.ckpt.index',\n",
       " 'cp-0043.ckpt.data-00000-of-00001',\n",
       " 'cp-0043.ckpt.index',\n",
       " 'cp-0044.ckpt.data-00000-of-00001',\n",
       " 'cp-0044.ckpt.index',\n",
       " 'cp-0045.ckpt.data-00000-of-00001',\n",
       " 'cp-0045.ckpt.index',\n",
       " 'cp-0047.ckpt.data-00000-of-00001',\n",
       " 'cp-0047.ckpt.index',\n",
       " 'cp-0048.ckpt.data-00000-of-00001',\n",
       " 'cp-0048.ckpt.index',\n",
       " 'cp-0050.ckpt.data-00000-of-00001',\n",
       " 'cp-0050.ckpt.index',\n",
       " 'cp-0051.ckpt.data-00000-of-00001',\n",
       " 'cp-0051.ckpt.index',\n",
       " 'cp-0052.ckpt.data-00000-of-00001',\n",
       " 'cp-0052.ckpt.index',\n",
       " 'cp-0054.ckpt.data-00000-of-00001',\n",
       " 'cp-0054.ckpt.index',\n",
       " 'cp-0056.ckpt.data-00000-of-00001',\n",
       " 'cp-0056.ckpt.index',\n",
       " 'cp-0057.ckpt.data-00000-of-00001',\n",
       " 'cp-0057.ckpt.index',\n",
       " 'cp-0058.ckpt.data-00000-of-00001',\n",
       " 'cp-0058.ckpt.index',\n",
       " 'cp-0060.ckpt.data-00000-of-00001',\n",
       " 'cp-0060.ckpt.index',\n",
       " 'cp-0063.ckpt.data-00000-of-00001',\n",
       " 'cp-0063.ckpt.index',\n",
       " 'cp-0064.ckpt.data-00000-of-00001',\n",
       " 'cp-0064.ckpt.index',\n",
       " 'cp-0066.ckpt.data-00000-of-00001',\n",
       " 'cp-0066.ckpt.index',\n",
       " 'cp-0067.ckpt.data-00000-of-00001',\n",
       " 'cp-0067.ckpt.index',\n",
       " 'cp-0068.ckpt.data-00000-of-00001',\n",
       " 'cp-0068.ckpt.index',\n",
       " 'cp-0069.ckpt.data-00000-of-00001',\n",
       " 'cp-0069.ckpt.index',\n",
       " 'cp-0070.ckpt.data-00000-of-00001',\n",
       " 'cp-0070.ckpt.index',\n",
       " 'cp-0072.ckpt.data-00000-of-00001',\n",
       " 'cp-0072.ckpt.index',\n",
       " 'cp-0075.ckpt.data-00000-of-00001',\n",
       " 'cp-0075.ckpt.index',\n",
       " 'cp-0077.ckpt.data-00000-of-00001',\n",
       " 'cp-0077.ckpt.index',\n",
       " 'cp-0078.ckpt.data-00000-of-00001',\n",
       " 'cp-0078.ckpt.index',\n",
       " 'cp-0085.ckpt.data-00000-of-00001',\n",
       " 'cp-0085.ckpt.index',\n",
       " 'cp-0086.ckpt.data-00000-of-00001',\n",
       " 'cp-0086.ckpt.index',\n",
       " 'cp-0087.ckpt.data-00000-of-00001',\n",
       " 'cp-0087.ckpt.index',\n",
       " 'cp-0089.ckpt.data-00000-of-00001',\n",
       " 'cp-0089.ckpt.index',\n",
       " 'cp-0090.ckpt.data-00000-of-00001',\n",
       " 'cp-0090.ckpt.index',\n",
       " 'cp-0094.ckpt.data-00000-of-00001',\n",
       " 'cp-0094.ckpt.index',\n",
       " 'cp-0096.ckpt.data-00000-of-00001',\n",
       " 'cp-0096.ckpt.index',\n",
       " 'cp-0098.ckpt.data-00000-of-00001',\n",
       " 'cp-0098.ckpt.index',\n",
       " 'cp-0099.ckpt.data-00000-of-00001',\n",
       " 'cp-0099.ckpt.index',\n",
       " 'cp-0100.ckpt.data-00000-of-00001',\n",
       " 'cp-0100.ckpt.index',\n",
       " 'Xception.csv']"
      ]
     },
     "execution_count": 12,
     "metadata": {},
     "output_type": "execute_result"
    }
   ],
   "source": [
    "os.listdir(checkpoint_dir)"
   ]
  },
  {
   "cell_type": "code",
   "execution_count": 13,
   "id": "c3cf8e62-d0f8-4457-a1ee-249248c934f6",
   "metadata": {},
   "outputs": [
    {
     "data": {
      "text/plain": [
       "'Xception\\\\cp-0007.ckpt'"
      ]
     },
     "execution_count": 13,
     "metadata": {},
     "output_type": "execute_result"
    }
   ],
   "source": [
    "import tensorflow\n",
    "latest = tensorflow.train.latest_checkpoint(checkpoint_dir)\n",
    "latest\n"
   ]
  },
  {
   "cell_type": "code",
   "execution_count": 19,
   "id": "56a2ac23-758d-4e78-9bb5-95939a63c9da",
   "metadata": {},
   "outputs": [
    {
     "data": {
      "image/png": "[encoded data removed]",
      "text/plain": [
       "<Figure size 432x288 with 1 Axes>"
      ]
     },
     "metadata": {
      "needs_background": "light"
     },
     "output_type": "display_data"
    },
    {
     "data": {
      "text/plain": [
       "<Figure size 432x288 with 0 Axes>"
      ]
     },
     "metadata": {},
     "output_type": "display_data"
    }
   ],
   "source": [
    "plt.plot(hist.history['accuracy'], label='acc')\n",
    "plt.plot(hist.history['val_accuracy'], label='val_acc')\n",
    "plt.legend()\n",
    "plt.show()\n",
    "plt.savefig('val')"
   ]
  },
  {
   "cell_type": "code",
   "execution_count": 18,
   "id": "7c97ad41-f4ee-42c5-9eae-02ed6e6b1489",
   "metadata": {},
   "outputs": [
    {
     "data": {
      "image/png": "[encoded data removed]",
      "text/plain": [
       "<Figure size 432x288 with 1 Axes>"
      ]
     },
     "metadata": {
      "needs_background": "light"
     },
     "output_type": "display_data"
    },
    {
     "data": {
      "text/plain": [
       "<Figure size 432x288 with 0 Axes>"
      ]
     },
     "metadata": {},
     "output_type": "display_data"
    }
   ],
   "source": [
    "plt.plot(hist.history['loss'], label='loss')\n",
    "plt.plot(hist.history['val_loss'], label='val_loss')\n",
    "plt.legend()\n",
    "plt.show()\n",
    "plt.savefig('val')"
   ]
  },
  {
   "cell_type": "code",
   "execution_count": 20,
   "id": "0e8f97f9-ca86-426b-ac2a-f8ed9abfa446",
   "metadata": {},
   "outputs": [
    {
     "name": "stderr",
     "output_type": "stream",
     "text": [
      "C:\\Users\\User\\anaconda3\\envs\\TF-Gpu\\lib\\site-packages\\keras\\engine\\training.py:2006: UserWarning: `Model.evaluate_generator` is deprecated and will be removed in a future version. Please use `Model.evaluate`, which supports generators.\n",
      "  warnings.warn('`Model.evaluate_generator` is deprecated and '\n"
     ]
    },
    {
     "name": "stdout",
     "output_type": "stream",
     "text": [
      "The model has a 94.77543830871582% accuracy, with a loss of 0.5879948139190674.\n"
     ]
    }
   ],
   "source": [
    "# Create a basic model instance\n",
    "model = create_model()\n",
    "\n",
    "# Evaluate the model\n",
    "results = model.evaluate_generator(validation_generator, 1)\n",
    "print(\"The model has a {}% accuracy, with a loss of {}.\".format(results[5]*100, results[0])) \n"
   ]
  },
  {
   "cell_type": "code",
   "execution_count": 21,
   "id": "6187e767-1458-473c-b5df-8eaa668130f8",
   "metadata": {},
   "outputs": [
    {
     "name": "stdout",
     "output_type": "stream",
     "text": [
      "The model has a 94.76061463356018% accuracy, with a loss of 0.2238464504480362.\n",
      "tp 1749.0 , fp 76.0.\n",
      "tn 349.0 , fn 40.0.\n",
      "precission 0.9583561420440674 , recall 0.9776411652565002.\n"
     ]
    }
   ],
   "source": [
    "# Create a new model instance\n",
    "model = create_model()\n",
    "\n",
    "# Load the previously saved weights\n",
    "model.load_weights(latest)\n",
    "results=[]\n",
    "\n",
    "results = model.evaluate_generator(validation_generator,1)\n",
    "print(\"The model has a {}% accuracy, with a loss of {}.\".format(results[5]*100, results[0])) \n",
    "print(\"tp {} , fp {}.\".format(results[1], results[2])) \n",
    "print(\"tn {} , fn {}.\".format(results[3], results[4]))\n",
    "print(\"precission {} , recall {}.\".format(results[6], results[7])) \n"
   ]
  },
  {
   "cell_type": "code",
   "execution_count": 22,
   "id": "66fd2477-9184-462c-9185-c33fa15c9b49",
   "metadata": {},
   "outputs": [
    {
     "data": {
      "text/plain": [
       "[0.22409400343894958,\n",
       " 4862.0,\n",
       " 578.0,\n",
       " 3103.0,\n",
       " 221.0,\n",
       " 0.9088315963745117,\n",
       " 0.893750011920929,\n",
       " 0.95652174949646]"
      ]
     },
     "execution_count": 22,
     "metadata": {},
     "output_type": "execute_result"
    }
   ],
   "source": [
    "model.evaluate_generator(train_generator)"
   ]
  },
  {
   "cell_type": "code",
   "execution_count": 23,
   "id": "ee199b12-50a0-4ad0-b519-3f69756e624f",
   "metadata": {},
   "outputs": [
    {
     "data": {
      "text/plain": [
       "[0.15655572712421417,\n",
       " 1713.0,\n",
       " 98.0,\n",
       " 316.0,\n",
       " 23.0,\n",
       " 0.9437209367752075,\n",
       " 0.9458862543106079,\n",
       " 0.986751139163971]"
      ]
     },
     "execution_count": 23,
     "metadata": {},
     "output_type": "execute_result"
    }
   ],
   "source": [
    "model.evaluate_generator(validation_generator)"
   ]
  },
  {
   "cell_type": "code",
   "execution_count": 24,
   "id": "1c4e3a37",
   "metadata": {},
   "outputs": [
    {
     "data": {
      "text/plain": [
       "[0.2994662821292877,\n",
       " 387.0,\n",
       " 89.0,\n",
       " 311.0,\n",
       " 13.0,\n",
       " 0.8725000023841858,\n",
       " 0.8130252361297607,\n",
       " 0.9674999713897705]"
      ]
     },
     "execution_count": 24,
     "metadata": {},
     "output_type": "execute_result"
    }
   ],
   "source": [
    "model.evaluate_generator(test_generator)"
   ]
  },
  {
   "cell_type": "code",
   "execution_count": 25,
   "id": "c89f1dde-d0f5-408d-943a-4821e7b8e095",
   "metadata": {},
   "outputs": [
    {
     "data": {
      "text/plain": [
       "{'Covid': 0, 'Negative': 1}"
      ]
     },
     "execution_count": 25,
     "metadata": {},
     "output_type": "execute_result"
    }
   ],
   "source": [
    "import os\n",
    "train_generator.class_indices"
   ]
  },
  {
   "cell_type": "code",
   "execution_count": 26,
   "id": "0fd0e018-8d5d-4620-9db5-3ab1c1528545",
   "metadata": {},
   "outputs": [],
   "source": [
    "y_actual = []\n",
    "y_test = []"
   ]
  },
  {
   "cell_type": "code",
   "execution_count": 27,
   "id": "d5d80e0f-864e-4295-aa0d-2acd71bdffad",
   "metadata": {},
   "outputs": [],
   "source": [
    "for i in os.listdir(\"CovidDataset/Val/Negative/\"):\n",
    "   img = image.load_img(\"CovidDataset/Val/Negative/\"+i, target_size= (224, 224));\n",
    "   img = image.img_to_array(img)\n",
    "   img = np.expand_dims(img, axis = 0)\n",
    "   p = model.predict(img)\n",
    "   classes_x=np.argmax(p,axis=0)\n",
    "   a=np.round(p[0,0])\n",
    "   y_test.append(a)\n",
    "   y_actual.append(1)"
   ]
  },
  {
   "cell_type": "code",
   "execution_count": null,
   "id": "2f814b99-f4e7-4775-abea-245b94f2c094",
   "metadata": {},
   "outputs": [],
   "source": [
    "for i in os.listdir(\"CovidDataset/Val/Covid/\"):\n",
    "   img = image.load_img(\"CovidDataset/Val/Covid/\"+i, target_size= (224, 224));\n",
    "   img = image.img_to_array(img)\n",
    "   img = np.expand_dims(img, axis = 0)\n",
    "   p = model.predict(img)\n",
    "   classes_x=np.argmax(p,axis=0)\n",
    "   a=np.round(p[0,0])\n",
    "   y_test.append(a)\n",
    "   y_actual.append(0)"
   ]
  },
  {
   "cell_type": "code",
   "execution_count": null,
   "id": "d2093d5b-97d3-4724-a258-e1bc42f732c7",
   "metadata": {},
   "outputs": [],
   "source": [
    "y_actual = np.array(y_actual)\n",
    "y_test = np.array(y_test)"
   ]
  },
  {
   "cell_type": "code",
   "execution_count": null,
   "id": "12098abb-a6c8-4ad9-8323-9e3c935eeead",
   "metadata": {},
   "outputs": [],
   "source": [
    "predicted=model.predict(validation_generator,batch_size=10)\n",
    "reonded_predicted= np.round(predicted)\n",
    "reonded_predicted"
   ]
  },
  {
   "cell_type": "code",
   "execution_count": null,
   "id": "0dec4c62-123b-41ca-9748-cd565441eaaa",
   "metadata": {},
   "outputs": [],
   "source": [
    "print(y_actual)"
   ]
  },
  {
   "cell_type": "code",
   "execution_count": null,
   "id": "2e869234-f32d-43bc-b8ba-d6d1e341d83e",
   "metadata": {},
   "outputs": [],
   "source": [
    "print(y_test)"
   ]
  },
  {
   "cell_type": "code",
   "execution_count": null,
   "id": "bd358078-f04b-4c9a-85e8-64e1142c0b93",
   "metadata": {},
   "outputs": [],
   "source": [
    "from sklearn.metrics import confusion_matrix\n",
    "cm = confusion_matrix(y_actual,(np.round(y_test)))\n",
    "cm"
   ]
  },
  {
   "cell_type": "code",
   "execution_count": null,
   "id": "2cabccd9-709f-443e-abe7-27f8f669f1d2",
   "metadata": {},
   "outputs": [],
   "source": [
    "cm=[[318, 97],\n",
    "     [ 23, 1713]]\n",
    "\n",
    "import seaborn as sns\n",
    "\n",
    "ax = sns.heatmap(cm/np.sum(cm), cmap = \"Blues\", fmt='.2%', annot=True)\n",
    "\n",
    "ax.set_ylabel('\\nPredicted Values')\n",
    "ax.set_xlabel('Actual Values ');\n",
    "## Ticket labels - List must be in alphabetical order\n",
    "ax.yaxis.set_ticklabels(['Positive(0)','Negative(1)'])\n",
    "ax.xaxis.set_ticklabels(['Positive(0)','Negative(1)'])\n",
    "\n",
    "## Display the visualization of the Confusion Matrix.\n",
    "plt.show()"
   ]
  },
  {
   "cell_type": "code",
   "execution_count": null,
   "id": "87c98221",
   "metadata": {},
   "outputs": [],
   "source": [
    "cm=[[318, 97],\n",
    "     [ 23, 1713]]\n",
    "\n",
    "import seaborn as sns\n",
    "\n",
    "ax = sns.heatmap(cm, cmap = \"Blues\", annot=True, fmt=\".0f\")\n",
    "\n",
    "ax.set_ylabel('\\nPredicted Values')\n",
    "ax.set_xlabel('Actual Values ');\n",
    "\n",
    "## Ticket labels - List must be in alphabetical order\n",
    "ax.yaxis.set_ticklabels(['Positive(0)','Negative(1)'])\n",
    "ax.xaxis.set_ticklabels(['Positive(0)','Negative(1)'])\n",
    "\n",
    "## Display the visualization of the Confusion Matrix.\n",
    "plt.show()"
   ]
  },
  {
   "cell_type": "code",
   "execution_count": null,
   "id": "edb17174",
   "metadata": {},
   "outputs": [],
   "source": []
  }
 ],
 "metadata": {
  "kernelspec": {
   "display_name": "Python 3 (ipykernel)",
   "language": "python",
   "name": "python3"
  },
  "language_info": {
   "codemirror_mode": {
    "name": "ipython",
    "version": 3
   },
   "file_extension": ".py",
   "mimetype": "text/x-python",
   "name": "python",
   "nbconvert_exporter": "python",
   "pygments_lexer": "ipython3",
   "version": "3.9.7"
  }
 },
 "nbformat": 4,
 "nbformat_minor": 5
}
