{
 "cells": [
  {
   "cell_type": "code",
   "execution_count": 1,
   "id": "84f37612-c6c8-4287-97ed-c5b0070a59b9",
   "metadata": {},
   "outputs": [],
   "source": [
    "TRAIN_PATH = \"CovidDataset1/Train\"\n",
    "VAL_PATH = \"CovidDataset1/Val\"\n",
    "TEST_PATH = \"CovidDataset1/test\""
   ]
  },
  {
   "cell_type": "code",
   "execution_count": 2,
   "id": "511daa5f-2226-4373-b320-255134fe2264",
   "metadata": {},
   "outputs": [],
   "source": [
    "import numpy as np\n",
    "import matplotlib.pyplot as plt\n",
    "import tensorflow as tf\n",
    "from keras.applications.vgg19 import VGG19\n",
    "from keras.layers import *\n",
    "from keras.models import * \n",
    "from keras.preprocessing import image"
   ]
  },
  {
   "cell_type": "code",
   "execution_count": 3,
   "id": "9a5044d0-d78b-4dde-8574-76ad15cc5f0e",
   "metadata": {},
   "outputs": [],
   "source": [
    "from keras.metrics import *\n",
    "\n",
    "METRICS = [\n",
    "      TruePositives(name='tp'),\n",
    "      FalsePositives(name='fp'),\n",
    "      TrueNegatives(name='tn'),\n",
    "      FalseNegatives(name='fn'), \n",
    "      BinaryAccuracy(name='accuracy'),\n",
    "      Precision(name='precision'),\n",
    "      Recall(name='recall'),\n",
    "]"
   ]
  },
  {
   "cell_type": "code",
   "execution_count": 4,
   "id": "c0986fb8-48ea-4cd5-a556-9def8379e5da",
   "metadata": {},
   "outputs": [],
   "source": [
    "import keras\n",
    "def create_model():\n",
    "\n",
    "    # add preprocessing layer to the front of VGG\n",
    "    vgg = VGG19(input_shape=(224,224,3), weights='imagenet', include_top=False)\n",
    "\n",
    "    # don't train existing weights\n",
    "    for layer in vgg.layers:\n",
    "      layer.trainable = False\n",
    "    \n",
    "    # our layers - you can add more if you want\n",
    "    x = Flatten()(vgg.output)\n",
    "    x = Dense(220, activation='relu')(x)\n",
    "    x = Dropout(0.1)(x)\n",
    "    prediction = Dense(1, activation='sigmoid')(x)\n",
    "\n",
    "    # create a model object\n",
    "    model = Model(inputs=vgg.input, outputs=prediction)\n",
    "    model.compile(loss=keras.losses.binary_crossentropy,optimizer='adam',metrics=METRICS)\n",
    "    return model\n"
   ]
  },
  {
   "cell_type": "code",
   "execution_count": 5,
   "id": "5c4381ef-e045-4af4-b9d1-bc46e7f03bdf",
   "metadata": {},
   "outputs": [
    {
     "name": "stdout",
     "output_type": "stream",
     "text": [
      "Model: \"model\"\n",
      "_________________________________________________________________\n",
      "Layer (type)                 Output Shape              Param #   \n",
      "=================================================================\n",
      "input_1 (InputLayer)         [(None, 224, 224, 3)]     0         \n",
      "_________________________________________________________________\n",
      "block1_conv1 (Conv2D)        (None, 224, 224, 64)      1792      \n",
      "_________________________________________________________________\n",
      "block1_conv2 (Conv2D)        (None, 224, 224, 64)      36928     \n",
      "_________________________________________________________________\n",
      "block1_pool (MaxPooling2D)   (None, 112, 112, 64)      0         \n",
      "_________________________________________________________________\n",
      "block2_conv1 (Conv2D)        (None, 112, 112, 128)     73856     \n",
      "_________________________________________________________________\n",
      "block2_conv2 (Conv2D)        (None, 112, 112, 128)     147584    \n",
      "_________________________________________________________________\n",
      "block2_pool (MaxPooling2D)   (None, 56, 56, 128)       0         \n",
      "_________________________________________________________________\n",
      "block3_conv1 (Conv2D)        (None, 56, 56, 256)       295168    \n",
      "_________________________________________________________________\n",
      "block3_conv2 (Conv2D)        (None, 56, 56, 256)       590080    \n",
      "_________________________________________________________________\n",
      "block3_conv3 (Conv2D)        (None, 56, 56, 256)       590080    \n",
      "_________________________________________________________________\n",
      "block3_conv4 (Conv2D)        (None, 56, 56, 256)       590080    \n",
      "_________________________________________________________________\n",
      "block3_pool (MaxPooling2D)   (None, 28, 28, 256)       0         \n",
      "_________________________________________________________________\n",
      "block4_conv1 (Conv2D)        (None, 28, 28, 512)       1180160   \n",
      "_________________________________________________________________\n",
      "block4_conv2 (Conv2D)        (None, 28, 28, 512)       2359808   \n",
      "_________________________________________________________________\n",
      "block4_conv3 (Conv2D)        (None, 28, 28, 512)       2359808   \n",
      "_________________________________________________________________\n",
      "block4_conv4 (Conv2D)        (None, 28, 28, 512)       2359808   \n",
      "_________________________________________________________________\n",
      "block4_pool (MaxPooling2D)   (None, 14, 14, 512)       0         \n",
      "_________________________________________________________________\n",
      "block5_conv1 (Conv2D)        (None, 14, 14, 512)       2359808   \n",
      "_________________________________________________________________\n",
      "block5_conv2 (Conv2D)        (None, 14, 14, 512)       2359808   \n",
      "_________________________________________________________________\n",
      "block5_conv3 (Conv2D)        (None, 14, 14, 512)       2359808   \n",
      "_________________________________________________________________\n",
      "block5_conv4 (Conv2D)        (None, 14, 14, 512)       2359808   \n",
      "_________________________________________________________________\n",
      "block5_pool (MaxPooling2D)   (None, 7, 7, 512)         0         \n",
      "_________________________________________________________________\n",
      "flatten (Flatten)            (None, 25088)             0         \n",
      "_________________________________________________________________\n",
      "dense (Dense)                (None, 220)               5519580   \n",
      "_________________________________________________________________\n",
      "dropout (Dropout)            (None, 220)               0         \n",
      "_________________________________________________________________\n",
      "dense_1 (Dense)              (None, 1)                 221       \n",
      "=================================================================\n",
      "Total params: 25,544,185\n",
      "Trainable params: 5,519,801\n",
      "Non-trainable params: 20,024,384\n",
      "_________________________________________________________________\n"
     ]
    }
   ],
   "source": [
    "model = create_model()\n",
    "model.summary()"
   ]
  },
  {
   "cell_type": "code",
   "execution_count": 6,
   "id": "80ae6bb5-38cf-419d-bf6f-4cf924f21c24",
   "metadata": {},
   "outputs": [],
   "source": [
    "# Train from scratch\n",
    "train_datagen = image.ImageDataGenerator(\n",
    "#     rescale = 1./255,\n",
    "#     shear_range = 0.2,\n",
    "#     zoom_range = 0.2,\n",
    "#     horizontal_flip = True,\n",
    ")\n",
    "\n",
    "test_dataset = image.ImageDataGenerator()"
   ]
  },
  {
   "cell_type": "code",
   "execution_count": 7,
   "id": "0590866e-bddb-4f48-8b97-bf1e0ef9d735",
   "metadata": {},
   "outputs": [
    {
     "name": "stdout",
     "output_type": "stream",
     "text": [
      "Found 8764 images belonging to 2 classes.\n"
     ]
    }
   ],
   "source": [
    "train_generator = train_datagen.flow_from_directory(\n",
    "    TRAIN_PATH,\n",
    "    target_size = (224,224),\n",
    "    batch_size = 32,\n",
    "    class_mode = 'binary')"
   ]
  },
  {
   "cell_type": "code",
   "execution_count": 8,
   "id": "034890a8-858a-4e61-bb60-74886a666af7",
   "metadata": {},
   "outputs": [
    {
     "name": "stdout",
     "output_type": "stream",
     "text": [
      "Found 2150 images belonging to 2 classes.\n"
     ]
    }
   ],
   "source": [
    "validation_generator = test_dataset.flow_from_directory(\n",
    "    VAL_PATH,\n",
    "    target_size = (224,224),\n",
    "    batch_size = 32,\n",
    "    class_mode = 'binary')"
   ]
  },
  {
   "cell_type": "code",
   "execution_count": 9,
   "id": "91dbb03f",
   "metadata": {},
   "outputs": [
    {
     "name": "stdout",
     "output_type": "stream",
     "text": [
      "Found 800 images belonging to 2 classes.\n"
     ]
    }
   ],
   "source": [
    "test_generator = test_dataset.flow_from_directory(\n",
    "    TEST_PATH,\n",
    "    target_size = (224,224),\n",
    "    batch_size = 32,\n",
    "    class_mode = 'binary')"
   ]
  },
  {
   "cell_type": "code",
   "execution_count": 10,
   "id": "f9545627-4453-4bba-a156-b5cc5310f5a2",
   "metadata": {},
   "outputs": [
    {
     "data": {
      "text/plain": [
       "{'Covid': 0, 'Negative': 1}"
      ]
     },
     "execution_count": 10,
     "metadata": {},
     "output_type": "execute_result"
    }
   ],
   "source": [
    "train_generator.class_indices"
   ]
  },
  {
   "cell_type": "code",
   "execution_count": 11,
   "id": "05c9b90d-0843-4135-b72d-e6620aaf1767",
   "metadata": {},
   "outputs": [],
   "source": [
    "import os\n",
    "from keras.callbacks import ModelCheckpoint,EarlyStopping, CSVLogger\n",
    "checkpoint_path = \"vgg19/cp-{epoch:04d}.ckpt\"\n",
    "checkpoint_dir = os.path.dirname(checkpoint_path)\n",
    "checkpoint = ModelCheckpoint(filepath=checkpoint_path, monitor='val_loss', verbose=1,save_weights_only=True,save_best_only=True, mode='auto')\n",
    "early_stop = EarlyStopping(monitor='val_loss', patience=20, verbose=1)\n",
    "log_csv = CSVLogger('vgg19/vgg19.csv', separator=',', append=False)\n",
    "reduce_lr = keras.callbacks.ReduceLROnPlateau(monitor='val_loss', factor=0.5,\n",
    "                              patience=5)\n",
    "\n",
    "callbacks_list = [checkpoint,reduce_lr, log_csv]\n"
   ]
  },
  {
   "cell_type": "code",
   "execution_count": 12,
   "id": "3db930d5-7f30-4e67-9864-febbdb7fe29d",
   "metadata": {
    "scrolled": true
   },
   "outputs": [
    {
     "name": "stdout",
     "output_type": "stream",
     "text": [
      "Epoch 1/100\n",
      "274/274 [==============================] - 72s 237ms/step - loss: 1.3945 - tp: 4629.0000 - fp: 416.0000 - tn: 3265.0000 - fn: 454.0000 - accuracy: 0.9007 - precision: 0.9175 - recall: 0.9107 - val_loss: 0.0890 - val_tp: 1684.0000 - val_fp: 23.0000 - val_tn: 391.0000 - val_fn: 52.0000 - val_accuracy: 0.9651 - val_precision: 0.9865 - val_recall: 0.9700\n",
      "\n",
      "Epoch 00001: val_loss improved from inf to 0.08902, saving model to vgg19\\cp-0001.ckpt\n",
      "Epoch 2/100\n",
      "274/274 [==============================] - 59s 214ms/step - loss: 0.0912 - tp: 4923.0000 - fp: 148.0000 - tn: 3533.0000 - fn: 160.0000 - accuracy: 0.9649 - precision: 0.9708 - recall: 0.9685 - val_loss: 0.1143 - val_tp: 1700.0000 - val_fp: 49.0000 - val_tn: 365.0000 - val_fn: 36.0000 - val_accuracy: 0.9605 - val_precision: 0.9720 - val_recall: 0.9793\n",
      "\n",
      "Epoch 00002: val_loss did not improve from 0.08902\n",
      "Epoch 3/100\n",
      "274/274 [==============================] - 58s 213ms/step - loss: 0.0598 - tp: 4951.0000 - fp: 91.0000 - tn: 3590.0000 - fn: 132.0000 - accuracy: 0.9746 - precision: 0.9820 - recall: 0.9740 - val_loss: 0.1464 - val_tp: 1656.0000 - val_fp: 52.0000 - val_tn: 362.0000 - val_fn: 80.0000 - val_accuracy: 0.9386 - val_precision: 0.9696 - val_recall: 0.9539\n",
      "\n",
      "Epoch 00003: val_loss did not improve from 0.08902\n",
      "Epoch 4/100\n",
      "274/274 [==============================] - 58s 213ms/step - loss: 0.0447 - tp: 5006.0000 - fp: 75.0000 - tn: 3606.0000 - fn: 77.0000 - accuracy: 0.9827 - precision: 0.9852 - recall: 0.9849 - val_loss: 0.0806 - val_tp: 1713.0000 - val_fp: 54.0000 - val_tn: 360.0000 - val_fn: 23.0000 - val_accuracy: 0.9642 - val_precision: 0.9694 - val_recall: 0.9868\n",
      "\n",
      "Epoch 00004: val_loss improved from 0.08902 to 0.08059, saving model to vgg19\\cp-0004.ckpt\n",
      "Epoch 5/100\n",
      "274/274 [==============================] - 58s 213ms/step - loss: 0.0290 - tp: 5031.0000 - fp: 54.0000 - tn: 3627.0000 - fn: 52.0000 - accuracy: 0.9879 - precision: 0.9894 - recall: 0.9898 - val_loss: 0.1086 - val_tp: 1702.0000 - val_fp: 40.0000 - val_tn: 374.0000 - val_fn: 34.0000 - val_accuracy: 0.9656 - val_precision: 0.9770 - val_recall: 0.9804\n",
      "\n",
      "Epoch 00005: val_loss did not improve from 0.08059\n",
      "Epoch 6/100\n",
      "274/274 [==============================] - 58s 213ms/step - loss: 0.0467 - tp: 5018.0000 - fp: 77.0000 - tn: 3604.0000 - fn: 65.0000 - accuracy: 0.9838 - precision: 0.9849 - recall: 0.9872 - val_loss: 0.1157 - val_tp: 1731.0000 - val_fp: 76.0000 - val_tn: 338.0000 - val_fn: 5.0000 - val_accuracy: 0.9623 - val_precision: 0.9579 - val_recall: 0.9971\n",
      "\n",
      "Epoch 00006: val_loss did not improve from 0.08059\n",
      "Epoch 7/100\n",
      "274/274 [==============================] - 58s 213ms/step - loss: 0.0408 - tp: 5020.0000 - fp: 71.0000 - tn: 3610.0000 - fn: 63.0000 - accuracy: 0.9847 - precision: 0.9861 - recall: 0.9876 - val_loss: 0.2532 - val_tp: 1727.0000 - val_fp: 87.0000 - val_tn: 327.0000 - val_fn: 9.0000 - val_accuracy: 0.9553 - val_precision: 0.9520 - val_recall: 0.9948\n",
      "\n",
      "Epoch 00007: val_loss did not improve from 0.08059\n",
      "Epoch 8/100\n",
      "274/274 [==============================] - 58s 213ms/step - loss: 0.0271 - tp: 5050.0000 - fp: 54.0000 - tn: 3627.0000 - fn: 33.0000 - accuracy: 0.9901 - precision: 0.9894 - recall: 0.9935 - val_loss: 0.1988 - val_tp: 1670.0000 - val_fp: 35.0000 - val_tn: 379.0000 - val_fn: 66.0000 - val_accuracy: 0.9530 - val_precision: 0.9795 - val_recall: 0.9620\n",
      "\n",
      "Epoch 00008: val_loss did not improve from 0.08059\n",
      "Epoch 9/100\n",
      "274/274 [==============================] - 58s 213ms/step - loss: 0.0240 - tp: 5050.0000 - fp: 60.0000 - tn: 3621.0000 - fn: 33.0000 - accuracy: 0.9894 - precision: 0.9883 - recall: 0.9935 - val_loss: 0.2549 - val_tp: 1691.0000 - val_fp: 61.0000 - val_tn: 353.0000 - val_fn: 45.0000 - val_accuracy: 0.9507 - val_precision: 0.9652 - val_recall: 0.9741\n",
      "\n",
      "Epoch 00009: val_loss did not improve from 0.08059\n",
      "Epoch 10/100\n",
      "274/274 [==============================] - 58s 213ms/step - loss: 0.0194 - tp: 5058.0000 - fp: 53.0000 - tn: 3628.0000 - fn: 25.0000 - accuracy: 0.9911 - precision: 0.9896 - recall: 0.9951 - val_loss: 0.1286 - val_tp: 1722.0000 - val_fp: 70.0000 - val_tn: 344.0000 - val_fn: 14.0000 - val_accuracy: 0.9609 - val_precision: 0.9609 - val_recall: 0.9919\n",
      "\n",
      "Epoch 00010: val_loss did not improve from 0.08059\n",
      "Epoch 11/100\n",
      "274/274 [==============================] - 58s 213ms/step - loss: 0.0137 - tp: 5069.0000 - fp: 40.0000 - tn: 3641.0000 - fn: 14.0000 - accuracy: 0.9938 - precision: 0.9922 - recall: 0.9972 - val_loss: 0.1529 - val_tp: 1714.0000 - val_fp: 67.0000 - val_tn: 347.0000 - val_fn: 22.0000 - val_accuracy: 0.9586 - val_precision: 0.9624 - val_recall: 0.9873\n",
      "\n",
      "Epoch 00011: val_loss did not improve from 0.08059\n",
      "Epoch 12/100\n",
      "274/274 [==============================] - 58s 213ms/step - loss: 0.0117 - tp: 5070.0000 - fp: 31.0000 - tn: 3650.0000 - fn: 13.0000 - accuracy: 0.9950 - precision: 0.9939 - recall: 0.9974 - val_loss: 0.1593 - val_tp: 1704.0000 - val_fp: 50.0000 - val_tn: 364.0000 - val_fn: 32.0000 - val_accuracy: 0.9619 - val_precision: 0.9715 - val_recall: 0.9816\n",
      "\n",
      "Epoch 00012: val_loss did not improve from 0.08059\n",
      "Epoch 13/100\n",
      "274/274 [==============================] - 59s 214ms/step - loss: 0.0094 - tp: 5074.0000 - fp: 23.0000 - tn: 3658.0000 - fn: 9.0000 - accuracy: 0.9963 - precision: 0.9955 - recall: 0.9982 - val_loss: 0.1933 - val_tp: 1714.0000 - val_fp: 59.0000 - val_tn: 355.0000 - val_fn: 22.0000 - val_accuracy: 0.9623 - val_precision: 0.9667 - val_recall: 0.9873\n",
      "\n",
      "Epoch 00013: val_loss did not improve from 0.08059\n",
      "Epoch 14/100\n",
      "274/274 [==============================] - 59s 215ms/step - loss: 0.0108 - tp: 5066.0000 - fp: 20.0000 - tn: 3661.0000 - fn: 17.0000 - accuracy: 0.9958 - precision: 0.9961 - recall: 0.9967 - val_loss: 0.1928 - val_tp: 1717.0000 - val_fp: 71.0000 - val_tn: 343.0000 - val_fn: 19.0000 - val_accuracy: 0.9581 - val_precision: 0.9603 - val_recall: 0.9891\n",
      "\n",
      "Epoch 00014: val_loss did not improve from 0.08059\n",
      "Epoch 15/100\n",
      "274/274 [==============================] - 58s 213ms/step - loss: 0.0101 - tp: 5073.0000 - fp: 30.0000 - tn: 3651.0000 - fn: 10.0000 - accuracy: 0.9954 - precision: 0.9941 - recall: 0.9980 - val_loss: 0.1759 - val_tp: 1713.0000 - val_fp: 66.0000 - val_tn: 348.0000 - val_fn: 23.0000 - val_accuracy: 0.9586 - val_precision: 0.9629 - val_recall: 0.9868\n",
      "\n",
      "Epoch 00015: val_loss did not improve from 0.08059\n",
      "Epoch 16/100\n",
      "274/274 [==============================] - 59s 214ms/step - loss: 0.0081 - tp: 5075.0000 - fp: 29.0000 - tn: 3652.0000 - fn: 8.0000 - accuracy: 0.9958 - precision: 0.9943 - recall: 0.9984 - val_loss: 0.1874 - val_tp: 1715.0000 - val_fp: 58.0000 - val_tn: 356.0000 - val_fn: 21.0000 - val_accuracy: 0.9633 - val_precision: 0.9673 - val_recall: 0.9879\n",
      "\n",
      "Epoch 00016: val_loss did not improve from 0.08059\n",
      "Epoch 17/100\n",
      "274/274 [==============================] - 59s 213ms/step - loss: 0.0081 - tp: 5073.0000 - fp: 24.0000 - tn: 3657.0000 - fn: 10.0000 - accuracy: 0.9961 - precision: 0.9953 - recall: 0.9980 - val_loss: 0.2099 - val_tp: 1724.0000 - val_fp: 79.0000 - val_tn: 335.0000 - val_fn: 12.0000 - val_accuracy: 0.9577 - val_precision: 0.9562 - val_recall: 0.9931\n",
      "\n",
      "Epoch 00017: val_loss did not improve from 0.08059\n",
      "Epoch 18/100\n",
      "274/274 [==============================] - 58s 213ms/step - loss: 0.0092 - tp: 5075.0000 - fp: 25.0000 - tn: 3656.0000 - fn: 8.0000 - accuracy: 0.9962 - precision: 0.9951 - recall: 0.9984 - val_loss: 0.1951 - val_tp: 1701.0000 - val_fp: 54.0000 - val_tn: 360.0000 - val_fn: 35.0000 - val_accuracy: 0.9586 - val_precision: 0.9692 - val_recall: 0.9798\n",
      "\n",
      "Epoch 00018: val_loss did not improve from 0.08059\n",
      "Epoch 19/100\n",
      "274/274 [==============================] - 59s 214ms/step - loss: 0.0070 - tp: 5074.0000 - fp: 21.0000 - tn: 3660.0000 - fn: 9.0000 - accuracy: 0.9966 - precision: 0.9959 - recall: 0.9982 - val_loss: 0.1619 - val_tp: 1715.0000 - val_fp: 65.0000 - val_tn: 349.0000 - val_fn: 21.0000 - val_accuracy: 0.9600 - val_precision: 0.9635 - val_recall: 0.9879\n",
      "\n",
      "Epoch 00019: val_loss did not improve from 0.08059\n",
      "Epoch 20/100\n",
      "274/274 [==============================] - 59s 214ms/step - loss: 0.0069 - tp: 5079.0000 - fp: 22.0000 - tn: 3659.0000 - fn: 4.0000 - accuracy: 0.9970 - precision: 0.9957 - recall: 0.9992 - val_loss: 0.1804 - val_tp: 1711.0000 - val_fp: 63.0000 - val_tn: 351.0000 - val_fn: 25.0000 - val_accuracy: 0.9591 - val_precision: 0.9645 - val_recall: 0.9856\n"
     ]
    },
    {
     "name": "stdout",
     "output_type": "stream",
     "text": [
      "\n",
      "Epoch 00020: val_loss did not improve from 0.08059\n",
      "Epoch 21/100\n",
      "274/274 [==============================] - 58s 213ms/step - loss: 0.0056 - tp: 5081.0000 - fp: 21.0000 - tn: 3660.0000 - fn: 2.0000 - accuracy: 0.9974 - precision: 0.9959 - recall: 0.9996 - val_loss: 0.2004 - val_tp: 1718.0000 - val_fp: 65.0000 - val_tn: 349.0000 - val_fn: 18.0000 - val_accuracy: 0.9614 - val_precision: 0.9635 - val_recall: 0.9896\n",
      "\n",
      "Epoch 00021: val_loss did not improve from 0.08059\n",
      "Epoch 22/100\n",
      "274/274 [==============================] - 58s 213ms/step - loss: 0.0055 - tp: 5076.0000 - fp: 15.0000 - tn: 3666.0000 - fn: 7.0000 - accuracy: 0.9975 - precision: 0.9971 - recall: 0.9986 - val_loss: 0.1953 - val_tp: 1720.0000 - val_fp: 72.0000 - val_tn: 342.0000 - val_fn: 16.0000 - val_accuracy: 0.9591 - val_precision: 0.9598 - val_recall: 0.9908\n",
      "\n",
      "Epoch 00022: val_loss did not improve from 0.08059\n",
      "Epoch 23/100\n",
      "274/274 [==============================] - 59s 214ms/step - loss: 0.0049 - tp: 5082.0000 - fp: 17.0000 - tn: 3664.0000 - fn: 1.0000 - accuracy: 0.9979 - precision: 0.9967 - recall: 0.9998 - val_loss: 0.1977 - val_tp: 1716.0000 - val_fp: 67.0000 - val_tn: 347.0000 - val_fn: 20.0000 - val_accuracy: 0.9595 - val_precision: 0.9624 - val_recall: 0.9885\n",
      "\n",
      "Epoch 00023: val_loss did not improve from 0.08059\n",
      "Epoch 24/100\n",
      "274/274 [==============================] - 59s 214ms/step - loss: 0.0058 - tp: 5081.0000 - fp: 19.0000 - tn: 3662.0000 - fn: 2.0000 - accuracy: 0.9976 - precision: 0.9963 - recall: 0.9996 - val_loss: 0.2041 - val_tp: 1717.0000 - val_fp: 64.0000 - val_tn: 350.0000 - val_fn: 19.0000 - val_accuracy: 0.9614 - val_precision: 0.9641 - val_recall: 0.9891\n",
      "\n",
      "Epoch 00024: val_loss did not improve from 0.08059\n",
      "Epoch 25/100\n",
      "274/274 [==============================] - 58s 213ms/step - loss: 0.0068 - tp: 5078.0000 - fp: 23.0000 - tn: 3658.0000 - fn: 5.0000 - accuracy: 0.9968 - precision: 0.9955 - recall: 0.9990 - val_loss: 0.1958 - val_tp: 1722.0000 - val_fp: 68.0000 - val_tn: 346.0000 - val_fn: 14.0000 - val_accuracy: 0.9619 - val_precision: 0.9620 - val_recall: 0.9919\n",
      "\n",
      "Epoch 00025: val_loss did not improve from 0.08059\n",
      "Epoch 26/100\n",
      "274/274 [==============================] - 60s 217ms/step - loss: 0.0049 - tp: 5082.0000 - fp: 19.0000 - tn: 3662.0000 - fn: 1.0000 - accuracy: 0.9977 - precision: 0.9963 - recall: 0.9998 - val_loss: 0.1954 - val_tp: 1719.0000 - val_fp: 65.0000 - val_tn: 349.0000 - val_fn: 17.0000 - val_accuracy: 0.9619 - val_precision: 0.9636 - val_recall: 0.9902\n",
      "\n",
      "Epoch 00026: val_loss did not improve from 0.08059\n",
      "Epoch 27/100\n",
      "274/274 [==============================] - 59s 215ms/step - loss: 0.0056 - tp: 5078.0000 - fp: 15.0000 - tn: 3666.0000 - fn: 5.0000 - accuracy: 0.9977 - precision: 0.9971 - recall: 0.9990 - val_loss: 0.2039 - val_tp: 1718.0000 - val_fp: 67.0000 - val_tn: 347.0000 - val_fn: 18.0000 - val_accuracy: 0.9605 - val_precision: 0.9625 - val_recall: 0.9896\n",
      "\n",
      "Epoch 00027: val_loss did not improve from 0.08059\n",
      "Epoch 28/100\n",
      "274/274 [==============================] - 58s 213ms/step - loss: 0.0049 - tp: 5081.0000 - fp: 22.0000 - tn: 3659.0000 - fn: 2.0000 - accuracy: 0.9973 - precision: 0.9957 - recall: 0.9996 - val_loss: 0.2215 - val_tp: 1720.0000 - val_fp: 73.0000 - val_tn: 341.0000 - val_fn: 16.0000 - val_accuracy: 0.9586 - val_precision: 0.9593 - val_recall: 0.9908\n",
      "\n",
      "Epoch 00028: val_loss did not improve from 0.08059\n",
      "Epoch 29/100\n",
      "274/274 [==============================] - 58s 213ms/step - loss: 0.0054 - tp: 5076.0000 - fp: 16.0000 - tn: 3665.0000 - fn: 7.0000 - accuracy: 0.9974 - precision: 0.9969 - recall: 0.9986 - val_loss: 0.2155 - val_tp: 1717.0000 - val_fp: 67.0000 - val_tn: 347.0000 - val_fn: 19.0000 - val_accuracy: 0.9600 - val_precision: 0.9624 - val_recall: 0.9891\n",
      "\n",
      "Epoch 00029: val_loss did not improve from 0.08059\n",
      "Epoch 30/100\n",
      "274/274 [==============================] - 58s 213ms/step - loss: 0.0060 - tp: 5080.0000 - fp: 19.0000 - tn: 3662.0000 - fn: 3.0000 - accuracy: 0.9975 - precision: 0.9963 - recall: 0.9994 - val_loss: 0.2060 - val_tp: 1716.0000 - val_fp: 68.0000 - val_tn: 346.0000 - val_fn: 20.0000 - val_accuracy: 0.9591 - val_precision: 0.9619 - val_recall: 0.9885\n",
      "\n",
      "Epoch 00030: val_loss did not improve from 0.08059\n",
      "Epoch 31/100\n",
      "274/274 [==============================] - 58s 213ms/step - loss: 0.0045 - tp: 5082.0000 - fp: 16.0000 - tn: 3665.0000 - fn: 1.0000 - accuracy: 0.9981 - precision: 0.9969 - recall: 0.9998 - val_loss: 0.2137 - val_tp: 1716.0000 - val_fp: 66.0000 - val_tn: 348.0000 - val_fn: 20.0000 - val_accuracy: 0.9600 - val_precision: 0.9630 - val_recall: 0.9885\n",
      "\n",
      "Epoch 00031: val_loss did not improve from 0.08059\n",
      "Epoch 32/100\n",
      "274/274 [==============================] - 58s 213ms/step - loss: 0.0048 - tp: 5079.0000 - fp: 16.0000 - tn: 3665.0000 - fn: 4.0000 - accuracy: 0.9977 - precision: 0.9969 - recall: 0.9992 - val_loss: 0.2188 - val_tp: 1716.0000 - val_fp: 66.0000 - val_tn: 348.0000 - val_fn: 20.0000 - val_accuracy: 0.9600 - val_precision: 0.9630 - val_recall: 0.9885\n",
      "\n",
      "Epoch 00032: val_loss did not improve from 0.08059\n",
      "Epoch 33/100\n",
      "274/274 [==============================] - 59s 214ms/step - loss: 0.0041 - tp: 5081.0000 - fp: 13.0000 - tn: 3668.0000 - fn: 2.0000 - accuracy: 0.9983 - precision: 0.9974 - recall: 0.9996 - val_loss: 0.2189 - val_tp: 1716.0000 - val_fp: 64.0000 - val_tn: 350.0000 - val_fn: 20.0000 - val_accuracy: 0.9609 - val_precision: 0.9640 - val_recall: 0.9885\n",
      "\n",
      "Epoch 00033: val_loss did not improve from 0.08059\n",
      "Epoch 34/100\n",
      "274/274 [==============================] - 58s 213ms/step - loss: 0.0041 - tp: 5083.0000 - fp: 13.0000 - tn: 3668.0000 - fn: 0.0000e+00 - accuracy: 0.9985 - precision: 0.9974 - recall: 1.0000 - val_loss: 0.2463 - val_tp: 1720.0000 - val_fp: 75.0000 - val_tn: 339.0000 - val_fn: 16.0000 - val_accuracy: 0.9577 - val_precision: 0.9582 - val_recall: 0.9908\n",
      "\n",
      "Epoch 00034: val_loss did not improve from 0.08059\n",
      "Epoch 35/100\n",
      "274/274 [==============================] - 58s 213ms/step - loss: 0.0059 - tp: 5079.0000 - fp: 20.0000 - tn: 3661.0000 - fn: 4.0000 - accuracy: 0.9973 - precision: 0.9961 - recall: 0.9992 - val_loss: 0.2278 - val_tp: 1717.0000 - val_fp: 66.0000 - val_tn: 348.0000 - val_fn: 19.0000 - val_accuracy: 0.9605 - val_precision: 0.9630 - val_recall: 0.9891\n",
      "\n",
      "Epoch 00035: val_loss did not improve from 0.08059\n",
      "Epoch 36/100\n",
      "274/274 [==============================] - 59s 213ms/step - loss: 0.0043 - tp: 5082.0000 - fp: 19.0000 - tn: 3662.0000 - fn: 1.0000 - accuracy: 0.9977 - precision: 0.9963 - recall: 0.9998 - val_loss: 0.2308 - val_tp: 1717.0000 - val_fp: 67.0000 - val_tn: 347.0000 - val_fn: 19.0000 - val_accuracy: 0.9600 - val_precision: 0.9624 - val_recall: 0.9891\n",
      "\n",
      "Epoch 00036: val_loss did not improve from 0.08059\n",
      "Epoch 37/100\n",
      "274/274 [==============================] - 58s 213ms/step - loss: 0.0053 - tp: 5081.0000 - fp: 19.0000 - tn: 3662.0000 - fn: 2.0000 - accuracy: 0.9976 - precision: 0.9963 - recall: 0.9996 - val_loss: 0.2388 - val_tp: 1718.0000 - val_fp: 70.0000 - val_tn: 344.0000 - val_fn: 18.0000 - val_accuracy: 0.9591 - val_precision: 0.9609 - val_recall: 0.9896\n",
      "\n",
      "Epoch 00037: val_loss did not improve from 0.08059\n",
      "Epoch 38/100\n",
      "274/274 [==============================] - 58s 213ms/step - loss: 0.0048 - tp: 5081.0000 - fp: 18.0000 - tn: 3663.0000 - fn: 2.0000 - accuracy: 0.9977 - precision: 0.9965 - recall: 0.9996 - val_loss: 0.2285 - val_tp: 1716.0000 - val_fp: 66.0000 - val_tn: 348.0000 - val_fn: 20.0000 - val_accuracy: 0.9600 - val_precision: 0.9630 - val_recall: 0.9885\n",
      "\n",
      "Epoch 00038: val_loss did not improve from 0.08059\n",
      "Epoch 39/100\n",
      "274/274 [==============================] - 59s 214ms/step - loss: 0.0051 - tp: 5079.0000 - fp: 16.0000 - tn: 3665.0000 - fn: 4.0000 - accuracy: 0.9977 - precision: 0.9969 - recall: 0.9992 - val_loss: 0.2284 - val_tp: 1715.0000 - val_fp: 64.0000 - val_tn: 350.0000 - val_fn: 21.0000 - val_accuracy: 0.9605 - val_precision: 0.9640 - val_recall: 0.9879\n",
      "\n",
      "Epoch 00039: val_loss did not improve from 0.08059\n",
      "Epoch 40/100\n",
      "274/274 [==============================] - 58s 213ms/step - loss: 0.0045 - tp: 5081.0000 - fp: 16.0000 - tn: 3665.0000 - fn: 2.0000 - accuracy: 0.9979 - precision: 0.9969 - recall: 0.9996 - val_loss: 0.2281 - val_tp: 1715.0000 - val_fp: 64.0000 - val_tn: 350.0000 - val_fn: 21.0000 - val_accuracy: 0.9605 - val_precision: 0.9640 - val_recall: 0.9879\n"
     ]
    },
    {
     "name": "stdout",
     "output_type": "stream",
     "text": [
      "\n",
      "Epoch 00040: val_loss did not improve from 0.08059\n",
      "Epoch 41/100\n",
      "274/274 [==============================] - 59s 213ms/step - loss: 0.0049 - tp: 5081.0000 - fp: 17.0000 - tn: 3664.0000 - fn: 2.0000 - accuracy: 0.9978 - precision: 0.9967 - recall: 0.9996 - val_loss: 0.2268 - val_tp: 1715.0000 - val_fp: 65.0000 - val_tn: 349.0000 - val_fn: 21.0000 - val_accuracy: 0.9600 - val_precision: 0.9635 - val_recall: 0.9879\n",
      "\n",
      "Epoch 00041: val_loss did not improve from 0.08059\n",
      "Epoch 42/100\n",
      "274/274 [==============================] - 58s 213ms/step - loss: 0.0041 - tp: 5082.0000 - fp: 16.0000 - tn: 3665.0000 - fn: 1.0000 - accuracy: 0.9981 - precision: 0.9969 - recall: 0.9998 - val_loss: 0.2299 - val_tp: 1715.0000 - val_fp: 65.0000 - val_tn: 349.0000 - val_fn: 21.0000 - val_accuracy: 0.9600 - val_precision: 0.9635 - val_recall: 0.9879\n",
      "\n",
      "Epoch 00042: val_loss did not improve from 0.08059\n",
      "Epoch 43/100\n",
      "274/274 [==============================] - 59s 214ms/step - loss: 0.0037 - tp: 5082.0000 - fp: 13.0000 - tn: 3668.0000 - fn: 1.0000 - accuracy: 0.9984 - precision: 0.9974 - recall: 0.9998 - val_loss: 0.2298 - val_tp: 1715.0000 - val_fp: 65.0000 - val_tn: 349.0000 - val_fn: 21.0000 - val_accuracy: 0.9600 - val_precision: 0.9635 - val_recall: 0.9879\n",
      "\n",
      "Epoch 00043: val_loss did not improve from 0.08059\n",
      "Epoch 44/100\n",
      "274/274 [==============================] - 58s 213ms/step - loss: 0.0044 - tp: 5080.0000 - fp: 15.0000 - tn: 3666.0000 - fn: 3.0000 - accuracy: 0.9979 - precision: 0.9971 - recall: 0.9994 - val_loss: 0.2316 - val_tp: 1716.0000 - val_fp: 66.0000 - val_tn: 348.0000 - val_fn: 20.0000 - val_accuracy: 0.9600 - val_precision: 0.9630 - val_recall: 0.9885\n",
      "\n",
      "Epoch 00044: val_loss did not improve from 0.08059\n",
      "Epoch 45/100\n",
      "274/274 [==============================] - 59s 213ms/step - loss: 0.0040 - tp: 5081.0000 - fp: 12.0000 - tn: 3669.0000 - fn: 2.0000 - accuracy: 0.9984 - precision: 0.9976 - recall: 0.9996 - val_loss: 0.2335 - val_tp: 1716.0000 - val_fp: 67.0000 - val_tn: 347.0000 - val_fn: 20.0000 - val_accuracy: 0.9595 - val_precision: 0.9624 - val_recall: 0.9885\n",
      "\n",
      "Epoch 00045: val_loss did not improve from 0.08059\n",
      "Epoch 46/100\n",
      "274/274 [==============================] - 58s 213ms/step - loss: 0.0047 - tp: 5082.0000 - fp: 16.0000 - tn: 3665.0000 - fn: 1.0000 - accuracy: 0.9981 - precision: 0.9969 - recall: 0.9998 - val_loss: 0.2318 - val_tp: 1716.0000 - val_fp: 66.0000 - val_tn: 348.0000 - val_fn: 20.0000 - val_accuracy: 0.9600 - val_precision: 0.9630 - val_recall: 0.9885\n",
      "\n",
      "Epoch 00046: val_loss did not improve from 0.08059\n",
      "Epoch 47/100\n",
      "274/274 [==============================] - 58s 213ms/step - loss: 0.0040 - tp: 5082.0000 - fp: 15.0000 - tn: 3666.0000 - fn: 1.0000 - accuracy: 0.9982 - precision: 0.9971 - recall: 0.9998 - val_loss: 0.2337 - val_tp: 1716.0000 - val_fp: 66.0000 - val_tn: 348.0000 - val_fn: 20.0000 - val_accuracy: 0.9600 - val_precision: 0.9630 - val_recall: 0.9885\n",
      "\n",
      "Epoch 00047: val_loss did not improve from 0.08059\n",
      "Epoch 48/100\n",
      "274/274 [==============================] - 58s 213ms/step - loss: 0.0052 - tp: 5080.0000 - fp: 19.0000 - tn: 3662.0000 - fn: 3.0000 - accuracy: 0.9975 - precision: 0.9963 - recall: 0.9994 - val_loss: 0.2359 - val_tp: 1716.0000 - val_fp: 66.0000 - val_tn: 348.0000 - val_fn: 20.0000 - val_accuracy: 0.9600 - val_precision: 0.9630 - val_recall: 0.9885\n",
      "\n",
      "Epoch 00048: val_loss did not improve from 0.08059\n",
      "Epoch 49/100\n",
      "274/274 [==============================] - 59s 215ms/step - loss: 0.0042 - tp: 5080.0000 - fp: 11.0000 - tn: 3670.0000 - fn: 3.0000 - accuracy: 0.9984 - precision: 0.9978 - recall: 0.9994 - val_loss: 0.2372 - val_tp: 1716.0000 - val_fp: 66.0000 - val_tn: 348.0000 - val_fn: 20.0000 - val_accuracy: 0.9600 - val_precision: 0.9630 - val_recall: 0.9885\n",
      "\n",
      "Epoch 00049: val_loss did not improve from 0.08059\n",
      "Epoch 50/100\n",
      "274/274 [==============================] - 59s 214ms/step - loss: 0.0045 - tp: 5080.0000 - fp: 14.0000 - tn: 3667.0000 - fn: 3.0000 - accuracy: 0.9981 - precision: 0.9973 - recall: 0.9994 - val_loss: 0.2371 - val_tp: 1716.0000 - val_fp: 67.0000 - val_tn: 347.0000 - val_fn: 20.0000 - val_accuracy: 0.9595 - val_precision: 0.9624 - val_recall: 0.9885\n",
      "\n",
      "Epoch 00050: val_loss did not improve from 0.08059\n",
      "Epoch 51/100\n",
      "274/274 [==============================] - 59s 214ms/step - loss: 0.0038 - tp: 5081.0000 - fp: 13.0000 - tn: 3668.0000 - fn: 2.0000 - accuracy: 0.9983 - precision: 0.9974 - recall: 0.9996 - val_loss: 0.2384 - val_tp: 1717.0000 - val_fp: 67.0000 - val_tn: 347.0000 - val_fn: 19.0000 - val_accuracy: 0.9600 - val_precision: 0.9624 - val_recall: 0.9891\n",
      "\n",
      "Epoch 00051: val_loss did not improve from 0.08059\n",
      "Epoch 52/100\n",
      "274/274 [==============================] - 58s 213ms/step - loss: 0.0050 - tp: 5081.0000 - fp: 17.0000 - tn: 3664.0000 - fn: 2.0000 - accuracy: 0.9978 - precision: 0.9967 - recall: 0.9996 - val_loss: 0.2395 - val_tp: 1718.0000 - val_fp: 67.0000 - val_tn: 347.0000 - val_fn: 18.0000 - val_accuracy: 0.9605 - val_precision: 0.9625 - val_recall: 0.9896\n",
      "\n",
      "Epoch 00052: val_loss did not improve from 0.08059\n",
      "Epoch 53/100\n",
      "274/274 [==============================] - 58s 213ms/step - loss: 0.0056 - tp: 5079.0000 - fp: 18.0000 - tn: 3663.0000 - fn: 4.0000 - accuracy: 0.9975 - precision: 0.9965 - recall: 0.9992 - val_loss: 0.2409 - val_tp: 1719.0000 - val_fp: 68.0000 - val_tn: 346.0000 - val_fn: 17.0000 - val_accuracy: 0.9605 - val_precision: 0.9619 - val_recall: 0.9902\n",
      "\n",
      "Epoch 00053: val_loss did not improve from 0.08059\n",
      "Epoch 54/100\n",
      "274/274 [==============================] - 58s 213ms/step - loss: 0.0041 - tp: 5082.0000 - fp: 15.0000 - tn: 3666.0000 - fn: 1.0000 - accuracy: 0.9982 - precision: 0.9971 - recall: 0.9998 - val_loss: 0.2411 - val_tp: 1719.0000 - val_fp: 68.0000 - val_tn: 346.0000 - val_fn: 17.0000 - val_accuracy: 0.9605 - val_precision: 0.9619 - val_recall: 0.9902\n",
      "\n",
      "Epoch 00054: val_loss did not improve from 0.08059\n",
      "Epoch 55/100\n",
      "274/274 [==============================] - 59s 214ms/step - loss: 0.0043 - tp: 5082.0000 - fp: 16.0000 - tn: 3665.0000 - fn: 1.0000 - accuracy: 0.9981 - precision: 0.9969 - recall: 0.9998 - val_loss: 0.2402 - val_tp: 1719.0000 - val_fp: 67.0000 - val_tn: 347.0000 - val_fn: 17.0000 - val_accuracy: 0.9609 - val_precision: 0.9625 - val_recall: 0.9902\n",
      "\n",
      "Epoch 00055: val_loss did not improve from 0.08059\n",
      "Epoch 56/100\n",
      "274/274 [==============================] - 58s 213ms/step - loss: 0.0040 - tp: 5081.0000 - fp: 13.0000 - tn: 3668.0000 - fn: 2.0000 - accuracy: 0.9983 - precision: 0.9974 - recall: 0.9996 - val_loss: 0.2413 - val_tp: 1719.0000 - val_fp: 68.0000 - val_tn: 346.0000 - val_fn: 17.0000 - val_accuracy: 0.9605 - val_precision: 0.9619 - val_recall: 0.9902\n",
      "\n",
      "Epoch 00056: val_loss did not improve from 0.08059\n",
      "Epoch 57/100\n",
      "274/274 [==============================] - 59s 214ms/step - loss: 0.0043 - tp: 5079.0000 - fp: 12.0000 - tn: 3669.0000 - fn: 4.0000 - accuracy: 0.9982 - precision: 0.9976 - recall: 0.9992 - val_loss: 0.2418 - val_tp: 1719.0000 - val_fp: 68.0000 - val_tn: 346.0000 - val_fn: 17.0000 - val_accuracy: 0.9605 - val_precision: 0.9619 - val_recall: 0.9902\n",
      "\n",
      "Epoch 00057: val_loss did not improve from 0.08059\n",
      "Epoch 58/100\n",
      "274/274 [==============================] - 58s 213ms/step - loss: 0.0045 - tp: 5081.0000 - fp: 20.0000 - tn: 3661.0000 - fn: 2.0000 - accuracy: 0.9975 - precision: 0.9961 - recall: 0.9996 - val_loss: 0.2409 - val_tp: 1719.0000 - val_fp: 67.0000 - val_tn: 347.0000 - val_fn: 17.0000 - val_accuracy: 0.9609 - val_precision: 0.9625 - val_recall: 0.9902\n",
      "\n",
      "Epoch 00058: val_loss did not improve from 0.08059\n",
      "Epoch 59/100\n",
      "274/274 [==============================] - 58s 213ms/step - loss: 0.0043 - tp: 5082.0000 - fp: 14.0000 - tn: 3667.0000 - fn: 1.0000 - accuracy: 0.9983 - precision: 0.9973 - recall: 0.9998 - val_loss: 0.2410 - val_tp: 1719.0000 - val_fp: 67.0000 - val_tn: 347.0000 - val_fn: 17.0000 - val_accuracy: 0.9609 - val_precision: 0.9625 - val_recall: 0.9902\n",
      "\n",
      "Epoch 00059: val_loss did not improve from 0.08059\n",
      "Epoch 60/100\n",
      "274/274 [==============================] - 59s 214ms/step - loss: 0.0037 - tp: 5082.0000 - fp: 15.0000 - tn: 3666.0000 - fn: 1.0000 - accuracy: 0.9982 - precision: 0.9971 - recall: 0.9998 - val_loss: 0.2411 - val_tp: 1719.0000 - val_fp: 67.0000 - val_tn: 347.0000 - val_fn: 17.0000 - val_accuracy: 0.9609 - val_precision: 0.9625 - val_recall: 0.9902\n"
     ]
    },
    {
     "name": "stdout",
     "output_type": "stream",
     "text": [
      "\n",
      "Epoch 00060: val_loss did not improve from 0.08059\n",
      "Epoch 61/100\n",
      "274/274 [==============================] - 58s 213ms/step - loss: 0.0054 - tp: 5076.0000 - fp: 18.0000 - tn: 3663.0000 - fn: 7.0000 - accuracy: 0.9971 - precision: 0.9965 - recall: 0.9986 - val_loss: 0.2413 - val_tp: 1719.0000 - val_fp: 68.0000 - val_tn: 346.0000 - val_fn: 17.0000 - val_accuracy: 0.9605 - val_precision: 0.9619 - val_recall: 0.9902\n",
      "\n",
      "Epoch 00061: val_loss did not improve from 0.08059\n",
      "Epoch 62/100\n",
      "274/274 [==============================] - 58s 213ms/step - loss: 0.0046 - tp: 5081.0000 - fp: 17.0000 - tn: 3664.0000 - fn: 2.0000 - accuracy: 0.9978 - precision: 0.9967 - recall: 0.9996 - val_loss: 0.2411 - val_tp: 1719.0000 - val_fp: 68.0000 - val_tn: 346.0000 - val_fn: 17.0000 - val_accuracy: 0.9605 - val_precision: 0.9619 - val_recall: 0.9902\n",
      "\n",
      "Epoch 00062: val_loss did not improve from 0.08059\n",
      "Epoch 63/100\n",
      "274/274 [==============================] - 58s 212ms/step - loss: 0.0036 - tp: 5080.0000 - fp: 13.0000 - tn: 3668.0000 - fn: 3.0000 - accuracy: 0.9982 - precision: 0.9974 - recall: 0.9994 - val_loss: 0.2408 - val_tp: 1719.0000 - val_fp: 68.0000 - val_tn: 346.0000 - val_fn: 17.0000 - val_accuracy: 0.9605 - val_precision: 0.9619 - val_recall: 0.9902\n",
      "\n",
      "Epoch 00063: val_loss did not improve from 0.08059\n",
      "Epoch 64/100\n",
      "274/274 [==============================] - 61s 221ms/step - loss: 0.0056 - tp: 5077.0000 - fp: 18.0000 - tn: 3663.0000 - fn: 6.0000 - accuracy: 0.9973 - precision: 0.9965 - recall: 0.9988 - val_loss: 0.2409 - val_tp: 1719.0000 - val_fp: 68.0000 - val_tn: 346.0000 - val_fn: 17.0000 - val_accuracy: 0.9605 - val_precision: 0.9619 - val_recall: 0.9902\n",
      "\n",
      "Epoch 00064: val_loss did not improve from 0.08059\n",
      "Epoch 65/100\n",
      "274/274 [==============================] - 59s 216ms/step - loss: 0.0038 - tp: 5081.0000 - fp: 13.0000 - tn: 3668.0000 - fn: 2.0000 - accuracy: 0.9983 - precision: 0.9974 - recall: 0.9996 - val_loss: 0.2410 - val_tp: 1719.0000 - val_fp: 68.0000 - val_tn: 346.0000 - val_fn: 17.0000 - val_accuracy: 0.9605 - val_precision: 0.9619 - val_recall: 0.9902\n",
      "\n",
      "Epoch 00065: val_loss did not improve from 0.08059\n",
      "Epoch 66/100\n",
      "274/274 [==============================] - 60s 217ms/step - loss: 0.0041 - tp: 5080.0000 - fp: 17.0000 - tn: 3664.0000 - fn: 3.0000 - accuracy: 0.9977 - precision: 0.9967 - recall: 0.9994 - val_loss: 0.2411 - val_tp: 1719.0000 - val_fp: 68.0000 - val_tn: 346.0000 - val_fn: 17.0000 - val_accuracy: 0.9605 - val_precision: 0.9619 - val_recall: 0.9902\n",
      "\n",
      "Epoch 00066: val_loss did not improve from 0.08059\n",
      "Epoch 67/100\n",
      "274/274 [==============================] - 59s 215ms/step - loss: 0.0041 - tp: 5082.0000 - fp: 15.0000 - tn: 3666.0000 - fn: 1.0000 - accuracy: 0.9982 - precision: 0.9971 - recall: 0.9998 - val_loss: 0.2412 - val_tp: 1719.0000 - val_fp: 68.0000 - val_tn: 346.0000 - val_fn: 17.0000 - val_accuracy: 0.9605 - val_precision: 0.9619 - val_recall: 0.9902\n",
      "\n",
      "Epoch 00067: val_loss did not improve from 0.08059\n",
      "Epoch 68/100\n",
      "274/274 [==============================] - 59s 213ms/step - loss: 0.0039 - tp: 5081.0000 - fp: 13.0000 - tn: 3668.0000 - fn: 2.0000 - accuracy: 0.9983 - precision: 0.9974 - recall: 0.9996 - val_loss: 0.2413 - val_tp: 1719.0000 - val_fp: 68.0000 - val_tn: 346.0000 - val_fn: 17.0000 - val_accuracy: 0.9605 - val_precision: 0.9619 - val_recall: 0.9902\n",
      "\n",
      "Epoch 00068: val_loss did not improve from 0.08059\n",
      "Epoch 69/100\n",
      "274/274 [==============================] - 58s 213ms/step - loss: 0.0049 - tp: 5080.0000 - fp: 20.0000 - tn: 3661.0000 - fn: 3.0000 - accuracy: 0.9974 - precision: 0.9961 - recall: 0.9994 - val_loss: 0.2413 - val_tp: 1719.0000 - val_fp: 68.0000 - val_tn: 346.0000 - val_fn: 17.0000 - val_accuracy: 0.9605 - val_precision: 0.9619 - val_recall: 0.9902\n",
      "\n",
      "Epoch 00069: val_loss did not improve from 0.08059\n",
      "Epoch 70/100\n",
      "274/274 [==============================] - 59s 214ms/step - loss: 0.0035 - tp: 5082.0000 - fp: 11.0000 - tn: 3670.0000 - fn: 1.0000 - accuracy: 0.9986 - precision: 0.9978 - recall: 0.9998 - val_loss: 0.2413 - val_tp: 1719.0000 - val_fp: 68.0000 - val_tn: 346.0000 - val_fn: 17.0000 - val_accuracy: 0.9605 - val_precision: 0.9619 - val_recall: 0.9902\n",
      "\n",
      "Epoch 00070: val_loss did not improve from 0.08059\n",
      "Epoch 71/100\n",
      "274/274 [==============================] - 58s 213ms/step - loss: 0.0045 - tp: 5081.0000 - fp: 15.0000 - tn: 3666.0000 - fn: 2.0000 - accuracy: 0.9981 - precision: 0.9971 - recall: 0.9996 - val_loss: 0.2413 - val_tp: 1719.0000 - val_fp: 68.0000 - val_tn: 346.0000 - val_fn: 17.0000 - val_accuracy: 0.9605 - val_precision: 0.9619 - val_recall: 0.9902\n",
      "\n",
      "Epoch 00071: val_loss did not improve from 0.08059\n",
      "Epoch 72/100\n",
      "274/274 [==============================] - 59s 214ms/step - loss: 0.0041 - tp: 5081.0000 - fp: 19.0000 - tn: 3662.0000 - fn: 2.0000 - accuracy: 0.9976 - precision: 0.9963 - recall: 0.9996 - val_loss: 0.2415 - val_tp: 1719.0000 - val_fp: 68.0000 - val_tn: 346.0000 - val_fn: 17.0000 - val_accuracy: 0.9605 - val_precision: 0.9619 - val_recall: 0.9902\n",
      "\n",
      "Epoch 00072: val_loss did not improve from 0.08059\n",
      "Epoch 73/100\n",
      "274/274 [==============================] - 58s 213ms/step - loss: 0.0045 - tp: 5081.0000 - fp: 16.0000 - tn: 3665.0000 - fn: 2.0000 - accuracy: 0.9979 - precision: 0.9969 - recall: 0.9996 - val_loss: 0.2415 - val_tp: 1719.0000 - val_fp: 68.0000 - val_tn: 346.0000 - val_fn: 17.0000 - val_accuracy: 0.9605 - val_precision: 0.9619 - val_recall: 0.9902\n",
      "\n",
      "Epoch 00073: val_loss did not improve from 0.08059\n",
      "Epoch 74/100\n",
      "274/274 [==============================] - 59s 215ms/step - loss: 0.0039 - tp: 5080.0000 - fp: 13.0000 - tn: 3668.0000 - fn: 3.0000 - accuracy: 0.9982 - precision: 0.9974 - recall: 0.9994 - val_loss: 0.2417 - val_tp: 1719.0000 - val_fp: 68.0000 - val_tn: 346.0000 - val_fn: 17.0000 - val_accuracy: 0.9605 - val_precision: 0.9619 - val_recall: 0.9902\n",
      "\n",
      "Epoch 00074: val_loss did not improve from 0.08059\n",
      "Epoch 75/100\n",
      "274/274 [==============================] - 59s 215ms/step - loss: 0.0051 - tp: 5076.0000 - fp: 15.0000 - tn: 3666.0000 - fn: 7.0000 - accuracy: 0.9975 - precision: 0.9971 - recall: 0.9986 - val_loss: 0.2417 - val_tp: 1719.0000 - val_fp: 68.0000 - val_tn: 346.0000 - val_fn: 17.0000 - val_accuracy: 0.9605 - val_precision: 0.9619 - val_recall: 0.9902\n",
      "\n",
      "Epoch 00075: val_loss did not improve from 0.08059\n",
      "Epoch 76/100\n",
      "274/274 [==============================] - 59s 214ms/step - loss: 0.0049 - tp: 5078.0000 - fp: 18.0000 - tn: 3663.0000 - fn: 5.0000 - accuracy: 0.9974 - precision: 0.9965 - recall: 0.9990 - val_loss: 0.2418 - val_tp: 1719.0000 - val_fp: 68.0000 - val_tn: 346.0000 - val_fn: 17.0000 - val_accuracy: 0.9605 - val_precision: 0.9619 - val_recall: 0.9902\n",
      "\n",
      "Epoch 00076: val_loss did not improve from 0.08059\n",
      "Epoch 77/100\n",
      "274/274 [==============================] - 59s 214ms/step - loss: 0.0044 - tp: 5081.0000 - fp: 16.0000 - tn: 3665.0000 - fn: 2.0000 - accuracy: 0.9979 - precision: 0.9969 - recall: 0.9996 - val_loss: 0.2418 - val_tp: 1719.0000 - val_fp: 68.0000 - val_tn: 346.0000 - val_fn: 17.0000 - val_accuracy: 0.9605 - val_precision: 0.9619 - val_recall: 0.9902\n",
      "\n",
      "Epoch 00077: val_loss did not improve from 0.08059\n",
      "Epoch 78/100\n",
      "274/274 [==============================] - 59s 217ms/step - loss: 0.0041 - tp: 5081.0000 - fp: 11.0000 - tn: 3670.0000 - fn: 2.0000 - accuracy: 0.9985 - precision: 0.9978 - recall: 0.9996 - val_loss: 0.2418 - val_tp: 1719.0000 - val_fp: 68.0000 - val_tn: 346.0000 - val_fn: 17.0000 - val_accuracy: 0.9605 - val_precision: 0.9619 - val_recall: 0.9902\n",
      "\n",
      "Epoch 00078: val_loss did not improve from 0.08059\n",
      "Epoch 79/100\n",
      "274/274 [==============================] - 60s 218ms/step - loss: 0.0034 - tp: 5082.0000 - fp: 10.0000 - tn: 3671.0000 - fn: 1.0000 - accuracy: 0.9987 - precision: 0.9980 - recall: 0.9998 - val_loss: 0.2419 - val_tp: 1719.0000 - val_fp: 68.0000 - val_tn: 346.0000 - val_fn: 17.0000 - val_accuracy: 0.9605 - val_precision: 0.9619 - val_recall: 0.9902\n",
      "\n",
      "Epoch 00079: val_loss did not improve from 0.08059\n",
      "Epoch 80/100\n",
      "274/274 [==============================] - 59s 216ms/step - loss: 0.0039 - tp: 5082.0000 - fp: 16.0000 - tn: 3665.0000 - fn: 1.0000 - accuracy: 0.9981 - precision: 0.9969 - recall: 0.9998 - val_loss: 0.2419 - val_tp: 1719.0000 - val_fp: 68.0000 - val_tn: 346.0000 - val_fn: 17.0000 - val_accuracy: 0.9605 - val_precision: 0.9619 - val_recall: 0.9902\n"
     ]
    },
    {
     "name": "stdout",
     "output_type": "stream",
     "text": [
      "\n",
      "Epoch 00080: val_loss did not improve from 0.08059\n",
      "Epoch 81/100\n",
      "274/274 [==============================] - 59s 214ms/step - loss: 0.0042 - tp: 5078.0000 - fp: 11.0000 - tn: 3670.0000 - fn: 5.0000 - accuracy: 0.9982 - precision: 0.9978 - recall: 0.9990 - val_loss: 0.2419 - val_tp: 1719.0000 - val_fp: 68.0000 - val_tn: 346.0000 - val_fn: 17.0000 - val_accuracy: 0.9605 - val_precision: 0.9619 - val_recall: 0.9902\n",
      "\n",
      "Epoch 00081: val_loss did not improve from 0.08059\n",
      "Epoch 82/100\n",
      "274/274 [==============================] - 58s 213ms/step - loss: 0.0034 - tp: 5082.0000 - fp: 11.0000 - tn: 3670.0000 - fn: 1.0000 - accuracy: 0.9986 - precision: 0.9978 - recall: 0.9998 - val_loss: 0.2419 - val_tp: 1719.0000 - val_fp: 68.0000 - val_tn: 346.0000 - val_fn: 17.0000 - val_accuracy: 0.9605 - val_precision: 0.9619 - val_recall: 0.9902\n",
      "\n",
      "Epoch 00082: val_loss did not improve from 0.08059\n",
      "Epoch 83/100\n",
      "274/274 [==============================] - 59s 214ms/step - loss: 0.0043 - tp: 5081.0000 - fp: 17.0000 - tn: 3664.0000 - fn: 2.0000 - accuracy: 0.9978 - precision: 0.9967 - recall: 0.9996 - val_loss: 0.2419 - val_tp: 1719.0000 - val_fp: 68.0000 - val_tn: 346.0000 - val_fn: 17.0000 - val_accuracy: 0.9605 - val_precision: 0.9619 - val_recall: 0.9902\n",
      "\n",
      "Epoch 00083: val_loss did not improve from 0.08059\n",
      "Epoch 84/100\n",
      "274/274 [==============================] - 59s 213ms/step - loss: 0.0043 - tp: 5082.0000 - fp: 13.0000 - tn: 3668.0000 - fn: 1.0000 - accuracy: 0.9984 - precision: 0.9974 - recall: 0.9998 - val_loss: 0.2419 - val_tp: 1719.0000 - val_fp: 68.0000 - val_tn: 346.0000 - val_fn: 17.0000 - val_accuracy: 0.9605 - val_precision: 0.9619 - val_recall: 0.9902\n",
      "\n",
      "Epoch 00084: val_loss did not improve from 0.08059\n",
      "Epoch 85/100\n",
      "274/274 [==============================] - 59s 214ms/step - loss: 0.0056 - tp: 5080.0000 - fp: 20.0000 - tn: 3661.0000 - fn: 3.0000 - accuracy: 0.9974 - precision: 0.9961 - recall: 0.9994 - val_loss: 0.2419 - val_tp: 1719.0000 - val_fp: 68.0000 - val_tn: 346.0000 - val_fn: 17.0000 - val_accuracy: 0.9605 - val_precision: 0.9619 - val_recall: 0.9902\n",
      "\n",
      "Epoch 00085: val_loss did not improve from 0.08059\n",
      "Epoch 86/100\n",
      "274/274 [==============================] - 59s 214ms/step - loss: 0.0035 - tp: 5081.0000 - fp: 13.0000 - tn: 3668.0000 - fn: 2.0000 - accuracy: 0.9983 - precision: 0.9974 - recall: 0.9996 - val_loss: 0.2419 - val_tp: 1719.0000 - val_fp: 68.0000 - val_tn: 346.0000 - val_fn: 17.0000 - val_accuracy: 0.9605 - val_precision: 0.9619 - val_recall: 0.9902\n",
      "\n",
      "Epoch 00086: val_loss did not improve from 0.08059\n",
      "Epoch 87/100\n",
      "274/274 [==============================] - 58s 213ms/step - loss: 0.0038 - tp: 5081.0000 - fp: 15.0000 - tn: 3666.0000 - fn: 2.0000 - accuracy: 0.9981 - precision: 0.9971 - recall: 0.9996 - val_loss: 0.2419 - val_tp: 1719.0000 - val_fp: 68.0000 - val_tn: 346.0000 - val_fn: 17.0000 - val_accuracy: 0.9605 - val_precision: 0.9619 - val_recall: 0.9902\n",
      "\n",
      "Epoch 00087: val_loss did not improve from 0.08059\n",
      "Epoch 88/100\n",
      "274/274 [==============================] - 58s 213ms/step - loss: 0.0044 - tp: 5079.0000 - fp: 15.0000 - tn: 3666.0000 - fn: 4.0000 - accuracy: 0.9978 - precision: 0.9971 - recall: 0.9992 - val_loss: 0.2419 - val_tp: 1719.0000 - val_fp: 68.0000 - val_tn: 346.0000 - val_fn: 17.0000 - val_accuracy: 0.9605 - val_precision: 0.9619 - val_recall: 0.9902\n",
      "\n",
      "Epoch 00088: val_loss did not improve from 0.08059\n",
      "Epoch 89/100\n",
      "274/274 [==============================] - 58s 213ms/step - loss: 0.0035 - tp: 5083.0000 - fp: 15.0000 - tn: 3666.0000 - fn: 0.0000e+00 - accuracy: 0.9983 - precision: 0.9971 - recall: 1.0000 - val_loss: 0.2419 - val_tp: 1719.0000 - val_fp: 68.0000 - val_tn: 346.0000 - val_fn: 17.0000 - val_accuracy: 0.9605 - val_precision: 0.9619 - val_recall: 0.9902\n",
      "\n",
      "Epoch 00089: val_loss did not improve from 0.08059\n",
      "Epoch 90/100\n",
      "274/274 [==============================] - 59s 214ms/step - loss: 0.0043 - tp: 5081.0000 - fp: 18.0000 - tn: 3663.0000 - fn: 2.0000 - accuracy: 0.9977 - precision: 0.9965 - recall: 0.9996 - val_loss: 0.2419 - val_tp: 1719.0000 - val_fp: 68.0000 - val_tn: 346.0000 - val_fn: 17.0000 - val_accuracy: 0.9605 - val_precision: 0.9619 - val_recall: 0.9902\n",
      "\n",
      "Epoch 00090: val_loss did not improve from 0.08059\n",
      "Epoch 91/100\n",
      "274/274 [==============================] - 58s 213ms/step - loss: 0.0045 - tp: 5080.0000 - fp: 14.0000 - tn: 3667.0000 - fn: 3.0000 - accuracy: 0.9981 - precision: 0.9973 - recall: 0.9994 - val_loss: 0.2419 - val_tp: 1719.0000 - val_fp: 68.0000 - val_tn: 346.0000 - val_fn: 17.0000 - val_accuracy: 0.9605 - val_precision: 0.9619 - val_recall: 0.9902\n",
      "\n",
      "Epoch 00091: val_loss did not improve from 0.08059\n",
      "Epoch 92/100\n",
      "274/274 [==============================] - 58s 213ms/step - loss: 0.0050 - tp: 5079.0000 - fp: 18.0000 - tn: 3663.0000 - fn: 4.0000 - accuracy: 0.9975 - precision: 0.9965 - recall: 0.9992 - val_loss: 0.2419 - val_tp: 1719.0000 - val_fp: 68.0000 - val_tn: 346.0000 - val_fn: 17.0000 - val_accuracy: 0.9605 - val_precision: 0.9619 - val_recall: 0.9902\n",
      "\n",
      "Epoch 00092: val_loss did not improve from 0.08059\n",
      "Epoch 93/100\n",
      "274/274 [==============================] - 58s 212ms/step - loss: 0.0046 - tp: 5079.0000 - fp: 15.0000 - tn: 3666.0000 - fn: 4.0000 - accuracy: 0.9978 - precision: 0.9971 - recall: 0.9992 - val_loss: 0.2419 - val_tp: 1719.0000 - val_fp: 68.0000 - val_tn: 346.0000 - val_fn: 17.0000 - val_accuracy: 0.9605 - val_precision: 0.9619 - val_recall: 0.9902\n",
      "\n",
      "Epoch 00093: val_loss did not improve from 0.08059\n",
      "Epoch 94/100\n",
      "274/274 [==============================] - 59s 215ms/step - loss: 0.0052 - tp: 5077.0000 - fp: 15.0000 - tn: 3666.0000 - fn: 6.0000 - accuracy: 0.9976 - precision: 0.9971 - recall: 0.9988 - val_loss: 0.2419 - val_tp: 1719.0000 - val_fp: 68.0000 - val_tn: 346.0000 - val_fn: 17.0000 - val_accuracy: 0.9605 - val_precision: 0.9619 - val_recall: 0.9902\n",
      "\n",
      "Epoch 00094: val_loss did not improve from 0.08059\n",
      "Epoch 95/100\n",
      "274/274 [==============================] - 58s 213ms/step - loss: 0.0042 - tp: 5082.0000 - fp: 15.0000 - tn: 3666.0000 - fn: 1.0000 - accuracy: 0.9982 - precision: 0.9971 - recall: 0.9998 - val_loss: 0.2419 - val_tp: 1719.0000 - val_fp: 68.0000 - val_tn: 346.0000 - val_fn: 17.0000 - val_accuracy: 0.9605 - val_precision: 0.9619 - val_recall: 0.9902\n",
      "\n",
      "Epoch 00095: val_loss did not improve from 0.08059\n",
      "Epoch 96/100\n",
      "274/274 [==============================] - 58s 213ms/step - loss: 0.0046 - tp: 5080.0000 - fp: 14.0000 - tn: 3667.0000 - fn: 3.0000 - accuracy: 0.9981 - precision: 0.9973 - recall: 0.9994 - val_loss: 0.2419 - val_tp: 1719.0000 - val_fp: 68.0000 - val_tn: 346.0000 - val_fn: 17.0000 - val_accuracy: 0.9605 - val_precision: 0.9619 - val_recall: 0.9902\n",
      "\n",
      "Epoch 00096: val_loss did not improve from 0.08059\n",
      "Epoch 97/100\n",
      "274/274 [==============================] - 59s 214ms/step - loss: 0.0052 - tp: 5077.0000 - fp: 14.0000 - tn: 3667.0000 - fn: 6.0000 - accuracy: 0.9977 - precision: 0.9973 - recall: 0.9988 - val_loss: 0.2419 - val_tp: 1719.0000 - val_fp: 68.0000 - val_tn: 346.0000 - val_fn: 17.0000 - val_accuracy: 0.9605 - val_precision: 0.9619 - val_recall: 0.9902\n",
      "\n",
      "Epoch 00097: val_loss did not improve from 0.08059\n",
      "Epoch 98/100\n",
      "274/274 [==============================] - 58s 213ms/step - loss: 0.0046 - tp: 5079.0000 - fp: 19.0000 - tn: 3662.0000 - fn: 4.0000 - accuracy: 0.9974 - precision: 0.9963 - recall: 0.9992 - val_loss: 0.2419 - val_tp: 1719.0000 - val_fp: 68.0000 - val_tn: 346.0000 - val_fn: 17.0000 - val_accuracy: 0.9605 - val_precision: 0.9619 - val_recall: 0.9902\n",
      "\n",
      "Epoch 00098: val_loss did not improve from 0.08059\n",
      "Epoch 99/100\n",
      "274/274 [==============================] - 58s 213ms/step - loss: 0.0043 - tp: 5083.0000 - fp: 16.0000 - tn: 3665.0000 - fn: 0.0000e+00 - accuracy: 0.9982 - precision: 0.9969 - recall: 1.0000 - val_loss: 0.2419 - val_tp: 1719.0000 - val_fp: 68.0000 - val_tn: 346.0000 - val_fn: 17.0000 - val_accuracy: 0.9605 - val_precision: 0.9619 - val_recall: 0.9902\n",
      "\n",
      "Epoch 00099: val_loss did not improve from 0.08059\n",
      "Epoch 100/100\n",
      "274/274 [==============================] - 59s 214ms/step - loss: 0.0037 - tp: 5082.0000 - fp: 15.0000 - tn: 3666.0000 - fn: 1.0000 - accuracy: 0.9982 - precision: 0.9971 - recall: 0.9998 - val_loss: 0.2419 - val_tp: 1719.0000 - val_fp: 68.0000 - val_tn: 346.0000 - val_fn: 17.0000 - val_accuracy: 0.9605 - val_precision: 0.9619 - val_recall: 0.9902\n"
     ]
    },
    {
     "name": "stdout",
     "output_type": "stream",
     "text": [
      "\n",
      "Epoch 00100: val_loss did not improve from 0.08059\n"
     ]
    }
   ],
   "source": [
    "from keras.callbacks import ModelCheckpoint\n",
    "\n",
    "hist = model.fit(\n",
    "    train_generator,\n",
    "   steps_per_epoch=len(train_generator),\n",
    "    epochs = 100,\n",
    "    validation_data = validation_generator,\n",
    "    validation_steps=len(validation_generator),\n",
    "    callbacks=callbacks_list    \n",
    ")"
   ]
  },
  {
   "cell_type": "code",
   "execution_count": 13,
   "id": "9d7eeb2e-cdd7-4981-a126-7a68856bbe4e",
   "metadata": {
    "scrolled": true
   },
   "outputs": [
    {
     "data": {
      "text/plain": [
       "['checkpoint',\n",
       " 'cp-0001.ckpt.data-00000-of-00001',\n",
       " 'cp-0001.ckpt.index',\n",
       " 'cp-0002.ckpt.data-00000-of-00001',\n",
       " 'cp-0002.ckpt.index',\n",
       " 'cp-0003.ckpt.data-00000-of-00001',\n",
       " 'cp-0003.ckpt.index',\n",
       " 'cp-0004.ckpt.data-00000-of-00001',\n",
       " 'cp-0004.ckpt.index',\n",
       " 'cp-0005.ckpt.data-00000-of-00001',\n",
       " 'cp-0005.ckpt.index',\n",
       " 'cp-0006.ckpt.data-00000-of-00001',\n",
       " 'cp-0006.ckpt.index',\n",
       " 'cp-0007.ckpt.data-00000-of-00001',\n",
       " 'cp-0007.ckpt.index',\n",
       " 'cp-0008.ckpt.data-00000-of-00001',\n",
       " 'cp-0008.ckpt.index',\n",
       " 'cp-0009.ckpt.data-00000-of-00001',\n",
       " 'cp-0009.ckpt.index',\n",
       " 'cp-0010.ckpt.data-00000-of-00001',\n",
       " 'cp-0010.ckpt.index',\n",
       " 'cp-0011.ckpt.data-00000-of-00001',\n",
       " 'cp-0011.ckpt.index',\n",
       " 'cp-0013.ckpt.data-00000-of-00001',\n",
       " 'cp-0013.ckpt.index',\n",
       " 'cp-0014.ckpt.data-00000-of-00001',\n",
       " 'cp-0014.ckpt.index',\n",
       " 'cp-0016.ckpt.data-00000-of-00001',\n",
       " 'cp-0016.ckpt.index',\n",
       " 'cp-0017.ckpt.data-00000-of-00001',\n",
       " 'cp-0017.ckpt.index',\n",
       " 'cp-0019.ckpt.data-00000-of-00001',\n",
       " 'cp-0019.ckpt.index',\n",
       " 'cp-0022.ckpt.data-00000-of-00001',\n",
       " 'cp-0022.ckpt.index',\n",
       " 'cp-0024.ckpt.data-00000-of-00001',\n",
       " 'cp-0024.ckpt.index',\n",
       " 'cp-0025.ckpt.data-00000-of-00001',\n",
       " 'cp-0025.ckpt.index',\n",
       " 'cp-0029.ckpt.data-00000-of-00001',\n",
       " 'cp-0029.ckpt.index',\n",
       " 'cp-0031.ckpt.data-00000-of-00001',\n",
       " 'cp-0031.ckpt.index',\n",
       " 'cp-0038.ckpt.data-00000-of-00001',\n",
       " 'cp-0038.ckpt.index',\n",
       " 'vgg19.csv']"
      ]
     },
     "execution_count": 13,
     "metadata": {},
     "output_type": "execute_result"
    }
   ],
   "source": [
    "os.listdir(checkpoint_dir)"
   ]
  },
  {
   "cell_type": "code",
   "execution_count": 34,
   "id": "fc7fbd63-3356-4077-85f9-3b5408afbc5a",
   "metadata": {},
   "outputs": [
    {
     "data": {
      "text/plain": [
       "'vgg19\\\\cp-0004.ckpt'"
      ]
     },
     "execution_count": 34,
     "metadata": {},
     "output_type": "execute_result"
    }
   ],
   "source": [
    "import tensorflow\n",
    "latest = tensorflow.train.latest_checkpoint(checkpoint_dir)\n",
    "latest"
   ]
  },
  {
   "cell_type": "code",
   "execution_count": 15,
   "id": "9ee44644-dc80-4a87-82bc-0553499d1145",
   "metadata": {},
   "outputs": [
    {
     "name": "stderr",
     "output_type": "stream",
     "text": [
      "C:\\Users\\User\\anaconda3\\envs\\TF-Gpu\\lib\\site-packages\\keras\\engine\\training.py:2006: UserWarning: `Model.evaluate_generator` is deprecated and will be removed in a future version. Please use `Model.evaluate`, which supports generators.\n",
      "  warnings.warn('`Model.evaluate_generator` is deprecated and '\n"
     ]
    },
    {
     "name": "stdout",
     "output_type": "stream",
     "text": [
      "The model has a 95.09624242782593% accuracy, with a loss of 6.019331455230713.\n"
     ]
    }
   ],
   "source": [
    "# Create a basic model instance\n",
    "model = create_model()\n",
    "\n",
    "# Evaluate the model\n",
    "results = model.evaluate_generator(validation_generator, 1)\n",
    "print(\"The model has a {}% accuracy, with a loss of {}.\".format(results[5]*100, results[0])) \n"
   ]
  },
  {
   "cell_type": "code",
   "execution_count": 16,
   "id": "f1c486fd-9bc3-4c21-b35b-6751a2b57be5",
   "metadata": {},
   "outputs": [
    {
     "name": "stdout",
     "output_type": "stream",
     "text": [
      "The model has a 95.16711831092834% accuracy, with a loss of 0.006337345112115145.\n"
     ]
    }
   ],
   "source": [
    "# Create a new model instance\n",
    "model = create_model()\n",
    "\n",
    "# Load the previously saved weights\n",
    "model.load_weights(latest)\n",
    "\n",
    "results = model.evaluate_generator(validation_generator, 1)\n",
    "print(\"The model has a {}% accuracy, with a loss of {}.\".format(results[5]*100, results[0])) \n"
   ]
  },
  {
   "cell_type": "code",
   "execution_count": 17,
   "id": "4b44ef64-36b6-4488-9a83-2f6ec4f126bb",
   "metadata": {},
   "outputs": [
    {
     "data": {
      "text/plain": [
       "[0.013268825598061085,\n",
       " 5059.0,\n",
       " 16.0,\n",
       " 3665.0,\n",
       " 24.0,\n",
       " 0.995435893535614,\n",
       " 0.9968472719192505,\n",
       " 0.9952783584594727]"
      ]
     },
     "execution_count": 17,
     "metadata": {},
     "output_type": "execute_result"
    }
   ],
   "source": [
    "model.evaluate_generator(train_generator)"
   ]
  },
  {
   "cell_type": "code",
   "execution_count": 18,
   "id": "7d4782e7-4c97-4057-bbcb-47687605e127",
   "metadata": {},
   "outputs": [
    {
     "data": {
      "text/plain": [
       "[0.08058653026819229,\n",
       " 1713.0,\n",
       " 54.0,\n",
       " 360.0,\n",
       " 23.0,\n",
       " 0.9641860723495483,\n",
       " 0.9694397449493408,\n",
       " 0.986751139163971]"
      ]
     },
     "execution_count": 18,
     "metadata": {},
     "output_type": "execute_result"
    }
   ],
   "source": [
    "model.evaluate_generator(validation_generator)"
   ]
  },
  {
   "cell_type": "code",
   "execution_count": 36,
   "id": "d24effa4",
   "metadata": {},
   "outputs": [
    {
     "data": {
      "text/plain": [
       "[0.15409362316131592,\n",
       " 394.0,\n",
       " 49.0,\n",
       " 351.0,\n",
       " 6.0,\n",
       " 0.9312499761581421,\n",
       " 0.8893905282020569,\n",
       " 0.9850000143051147]"
      ]
     },
     "execution_count": 36,
     "metadata": {},
     "output_type": "execute_result"
    }
   ],
   "source": [
    "model.evaluate_generator(test_generator)"
   ]
  },
  {
   "cell_type": "code",
   "execution_count": 20,
   "id": "ee684d70-84b6-48dd-af92-7e06bfac95d7",
   "metadata": {},
   "outputs": [
    {
     "data": {
      "image/png": "[encoded data removed]",
      "text/plain": [
       "<Figure size 432x288 with 1 Axes>"
      ]
     },
     "metadata": {
      "needs_background": "light"
     },
     "output_type": "display_data"
    },
    {
     "data": {
      "text/plain": [
       "<Figure size 432x288 with 0 Axes>"
      ]
     },
     "metadata": {},
     "output_type": "display_data"
    }
   ],
   "source": [
    "# loss\n",
    "plt.plot(hist.history['loss'], label='train loss')\n",
    "plt.plot(hist.history['val_loss'], label='val loss')\n",
    "plt.legend()\n",
    "plt.show()\n",
    "plt.savefig('LossVal_loss')"
   ]
  },
  {
   "cell_type": "code",
   "execution_count": 21,
   "id": "85752666-4306-4e51-b20e-df3f648f5e5f",
   "metadata": {},
   "outputs": [
    {
     "data": {
      "image/png": "[encoded data removed]",
      "text/plain": [
       "<Figure size 432x288 with 1 Axes>"
      ]
     },
     "metadata": {
      "needs_background": "light"
     },
     "output_type": "display_data"
    },
    {
     "data": {
      "text/plain": [
       "<Figure size 432x288 with 0 Axes>"
      ]
     },
     "metadata": {},
     "output_type": "display_data"
    }
   ],
   "source": [
    "# accuracies\n",
    "plt.plot(hist.history['accuracy'], label='train acc')\n",
    "plt.plot(hist.history['val_accuracy'], label='val acc')\n",
    "plt.legend()\n",
    "plt.show()\n",
    "plt.savefig('AccVal_acc')"
   ]
  },
  {
   "cell_type": "code",
   "execution_count": 22,
   "id": "3cd12cf2-f296-46c2-8c70-717881f808a3",
   "metadata": {},
   "outputs": [],
   "source": [
    "y_actual = []\n",
    "y_test = []"
   ]
  },
  {
   "cell_type": "code",
   "execution_count": 23,
   "id": "e70e7731-712a-4a64-85da-4fa9dd5de3a8",
   "metadata": {},
   "outputs": [],
   "source": [
    "import os\n",
    "from keras.preprocessing import image\n",
    "import numpy as np\n",
    "for i in os.listdir(\"CovidDataset1/test/Negative/\"):\n",
    "   img = image.load_img(\"CovidDataset1/test/Negative/\"+i, target_size= (224, 224));\n",
    "   img = image.img_to_array(img)\n",
    "   img = np.expand_dims(img, axis = 0)\n",
    "   p = model.predict(img)\n",
    "   classes_x=np.argmax(p,axis=0)\n",
    "   y_test.append(p[0,0])\n",
    "   y_actual.append(1)"
   ]
  },
  {
   "cell_type": "code",
   "execution_count": 24,
   "id": "552be2a4-b460-44db-b0db-064f76dc3fa9",
   "metadata": {},
   "outputs": [],
   "source": [
    "for i in os.listdir(\"CovidDataset1/test/Covid/\"):\n",
    "   img = image.load_img(\"CovidDataset1/test/Covid/\"+i, target_size= (224, 224));\n",
    "   img = image.img_to_array(img)\n",
    "   img = np.expand_dims(img, axis = 0)\n",
    "   p = model.predict(img)\n",
    "   classes_x=np.argmax(p,axis=0)\n",
    "   y_test.append(p[0,0])\n",
    "   y_actual.append(0)"
   ]
  },
  {
   "cell_type": "code",
   "execution_count": 25,
   "id": "aed47341-dba0-458f-a2f4-828c35e7d0b1",
   "metadata": {},
   "outputs": [],
   "source": [
    "y_actual = np.array(y_actual)\n",
    "y_test = np.array(y_test)"
   ]
  },
  {
   "cell_type": "code",
   "execution_count": 26,
   "id": "b765132e-a842-43f5-8f5b-5e543e4ba989",
   "metadata": {},
   "outputs": [
    {
     "name": "stdout",
     "output_type": "stream",
     "text": [
      "[1 1 1 1 1 1 1 1 1 1 1 1 1 1 1 1 1 1 1 1 1 1 1 1 1 1 1 1 1 1 1 1 1 1 1 1 1\n",
      " 1 1 1 1 1 1 1 1 1 1 1 1 1 1 1 1 1 1 1 1 1 1 1 1 1 1 1 1 1 1 1 1 1 1 1 1 1\n",
      " 1 1 1 1 1 1 1 1 1 1 1 1 1 1 1 1 1 1 1 1 1 1 1 1 1 1 1 1 1 1 1 1 1 1 1 1 1\n",
      " 1 1 1 1 1 1 1 1 1 1 1 1 1 1 1 1 1 1 1 1 1 1 1 1 1 1 1 1 1 1 1 1 1 1 1 1 1\n",
      " 1 1 1 1 1 1 1 1 1 1 1 1 1 1 1 1 1 1 1 1 1 1 1 1 1 1 1 1 1 1 1 1 1 1 1 1 1\n",
      " 1 1 1 1 1 1 1 1 1 1 1 1 1 1 1 1 1 1 1 1 1 1 1 1 1 1 1 1 1 1 1 1 1 1 1 1 1\n",
      " 1 1 1 1 1 1 1 1 1 1 1 1 1 1 1 1 1 1 1 1 1 1 1 1 1 1 1 1 1 1 1 1 1 1 1 1 1\n",
      " 1 1 1 1 1 1 1 1 1 1 1 1 1 1 1 1 1 1 1 1 1 1 1 1 1 1 1 1 1 1 1 1 1 1 1 1 1\n",
      " 1 1 1 1 1 1 1 1 1 1 1 1 1 1 1 1 1 1 1 1 1 1 1 1 1 1 1 1 1 1 1 1 1 1 1 1 1\n",
      " 1 1 1 1 1 1 1 1 1 1 1 1 1 1 1 1 1 1 1 1 1 1 1 1 1 1 1 1 1 1 1 1 1 1 1 1 1\n",
      " 1 1 1 1 1 1 1 1 1 1 1 1 1 1 1 1 1 1 1 1 1 1 1 1 1 1 1 1 1 1 0 0 0 0 0 0 0\n",
      " 0 0 0 0 0 0 0 0 0 0 0 0 0 0 0 0 0 0 0 0 0 0 0 0 0 0 0 0 0 0 0 0 0 0 0 0 0\n",
      " 0 0 0 0 0 0 0 0 0 0 0 0 0 0 0 0 0 0 0 0 0 0 0 0 0 0 0 0 0 0 0 0 0 0 0 0 0\n",
      " 0 0 0 0 0 0 0 0 0 0 0 0 0 0 0 0 0 0 0 0 0 0 0 0 0 0 0 0 0 0 0 0 0 0 0 0 0\n",
      " 0 0 0 0 0 0 0 0 0 0 0 0 0 0 0 0 0 0 0 0 0 0 0 0 0 0 0 0 0 0 0 0 0 0 0 0 0\n",
      " 0 0 0 0 0 0 0 0 0 0 0 0 0 0 0 0 0 0 0 0 0 0 0 0 0 0 0 0 0 0 0 0 0 0 0 0 0\n",
      " 0 0 0 0 0 0 0 0 0 0 0 0 0 0 0 0 0 0 0 0 0 0 0 0 0 0 0 0 0 0 0 0 0 0 0 0 0\n",
      " 0 0 0 0 0 0 0 0 0 0 0 0 0 0 0 0 0 0 0 0 0 0 0 0 0 0 0 0 0 0 0 0 0 0 0 0 0\n",
      " 0 0 0 0 0 0 0 0 0 0 0 0 0 0 0 0 0 0 0 0 0 0 0 0 0 0 0 0 0 0 0 0 0 0 0 0 0\n",
      " 0 0 0 0 0 0 0 0 0 0 0 0 0 0 0 0 0 0 0 0 0 0 0 0 0 0 0 0 0 0 0 0 0 0 0 0 0\n",
      " 0 0 0 0 0 0 0 0 0 0 0 0 0 0 0 0 0 0 0 0 0 0 0 0 0 0 0 0 0 0 0 0 0 0 0 0 0\n",
      " 0 0 0 0 0 0 0 0 0 0 0 0 0 0 0 0 0 0 0 0 0 0 0]\n"
     ]
    }
   ],
   "source": [
    "print(y_actual)\n"
   ]
  },
  {
   "cell_type": "code",
   "execution_count": 27,
   "id": "df1ff182-28df-4030-b6e2-5648351ebd88",
   "metadata": {},
   "outputs": [
    {
     "name": "stdout",
     "output_type": "stream",
     "text": [
      "[3.97273719e-01 9.99717653e-01 9.99999285e-01 9.99784291e-01\n",
      " 9.60415483e-01 9.96465445e-01 1.00000000e+00 9.99999404e-01\n",
      " 9.99999881e-01 1.00000000e+00 9.99984264e-01 9.99999762e-01\n",
      " 9.99985933e-01 9.99999642e-01 9.99999523e-01 9.99729693e-01\n",
      " 9.99985695e-01 9.98562515e-01 9.99968529e-01 1.00000000e+00\n",
      " 9.99958158e-01 9.99911904e-01 9.99992132e-01 9.91168141e-01\n",
      " 9.98026788e-01 9.99914885e-01 9.99996305e-01 1.00000000e+00\n",
      " 9.99981999e-01 9.99983072e-01 9.99999642e-01 9.99892354e-01\n",
      " 9.95441794e-01 9.99999881e-01 9.99999762e-01 9.99996305e-01\n",
      " 9.99655724e-01 9.99338329e-01 9.99904037e-01 8.67428958e-01\n",
      " 9.99997616e-01 9.98400152e-01 9.99999762e-01 1.00000000e+00\n",
      " 1.00000000e+00 9.99715388e-01 9.99996543e-01 1.00000000e+00\n",
      " 9.99999642e-01 9.99999881e-01 9.99994278e-01 9.99984264e-01\n",
      " 9.99999523e-01 1.00000000e+00 9.99493480e-01 9.99911785e-01\n",
      " 9.93617773e-01 9.99997854e-01 1.00000000e+00 1.00000000e+00\n",
      " 9.99997258e-01 9.99933362e-01 9.99999285e-01 9.99988914e-01\n",
      " 1.00000000e+00 1.00000000e+00 9.99998569e-01 9.99967933e-01\n",
      " 9.99994278e-01 9.93512928e-01 9.99875307e-01 1.00000000e+00\n",
      " 9.99839664e-01 9.99999881e-01 1.00000000e+00 9.99933243e-01\n",
      " 9.99998331e-01 2.58808464e-01 1.00000000e+00 9.99976635e-01\n",
      " 9.99519587e-01 9.99966979e-01 9.99953151e-01 9.99999881e-01\n",
      " 9.99998569e-01 1.00000000e+00 1.00000000e+00 1.00000000e+00\n",
      " 9.93535042e-01 9.99999642e-01 1.00000000e+00 1.00000000e+00\n",
      " 1.00000000e+00 1.00000000e+00 9.99988675e-01 9.99850035e-01\n",
      " 9.99997020e-01 9.99979138e-01 9.99991179e-01 9.54474926e-01\n",
      " 9.99975204e-01 1.00000000e+00 9.99997735e-01 9.99997377e-01\n",
      " 9.98701453e-01 9.94029522e-01 1.00000000e+00 9.99999881e-01\n",
      " 1.00000000e+00 9.91642952e-01 9.97179389e-01 1.00000000e+00\n",
      " 9.99987364e-01 9.99918461e-01 9.99999523e-01 9.99999642e-01\n",
      " 1.00000000e+00 1.00000000e+00 9.99996543e-01 9.95509505e-01\n",
      " 9.98861790e-01 1.00000000e+00 9.99991655e-01 9.23800349e-01\n",
      " 9.99471009e-01 9.99994993e-01 9.99990702e-01 9.55966592e-01\n",
      " 9.99997735e-01 9.82135534e-01 1.00000000e+00 9.99999762e-01\n",
      " 1.00000000e+00 1.00000000e+00 1.00000000e+00 9.99999881e-01\n",
      " 9.89463568e-01 1.00000000e+00 9.99998927e-01 1.00000000e+00\n",
      " 9.99910712e-01 1.00000000e+00 9.73536670e-01 1.00000000e+00\n",
      " 9.99999285e-01 1.00000000e+00 9.99991655e-01 9.99948978e-01\n",
      " 9.99886990e-01 9.90985632e-01 9.99711096e-01 9.99977589e-01\n",
      " 9.99999642e-01 1.00000000e+00 9.99902129e-01 9.99996424e-01\n",
      " 1.00000000e+00 9.99999762e-01 9.99999523e-01 9.99999762e-01\n",
      " 9.99933004e-01 9.99999881e-01 9.99995112e-01 9.99675155e-01\n",
      " 9.99999881e-01 9.99999881e-01 9.99999881e-01 1.00000000e+00\n",
      " 9.99992013e-01 9.99993920e-01 9.99995947e-01 1.00000000e+00\n",
      " 9.82524931e-01 9.98776734e-01 9.99915719e-01 9.99999762e-01\n",
      " 9.99999046e-01 1.00000000e+00 9.54631984e-01 9.99998927e-01\n",
      " 3.21417570e-01 9.99927163e-01 1.00000000e+00 1.00000000e+00\n",
      " 9.99188602e-01 9.99934077e-01 9.97499406e-01 1.00000000e+00\n",
      " 1.00000000e+00 9.99945164e-01 1.00000000e+00 1.00000000e+00\n",
      " 1.00000000e+00 9.99998450e-01 9.28882122e-01 9.95996594e-01\n",
      " 1.00000000e+00 9.99934435e-01 9.99999881e-01 9.99981523e-01\n",
      " 9.96487617e-01 9.99770582e-01 1.00000000e+00 9.99999404e-01\n",
      " 9.99999881e-01 9.99985814e-01 9.99980450e-01 9.99981642e-01\n",
      " 1.00000000e+00 1.00000000e+00 9.99991298e-01 9.24998999e-01\n",
      " 9.99920845e-01 9.99997973e-01 9.99999881e-01 9.99320388e-01\n",
      " 9.95348990e-01 1.00000000e+00 9.99989152e-01 9.99997973e-01\n",
      " 9.99972820e-01 9.99999642e-01 9.99999881e-01 1.00000000e+00\n",
      " 9.99995470e-01 9.99957323e-01 1.00000000e+00 1.00000000e+00\n",
      " 9.99964356e-01 1.00000000e+00 9.99717653e-01 9.87437427e-01\n",
      " 9.99960780e-01 1.00000000e+00 9.99999285e-01 9.99991536e-01\n",
      " 9.93095219e-01 1.00000000e+00 1.00000000e+00 9.99999881e-01\n",
      " 1.00000000e+00 9.99998450e-01 9.99999881e-01 9.91228938e-01\n",
      " 9.89428103e-01 9.91017342e-01 9.63304222e-01 1.00000000e+00\n",
      " 9.99996185e-01 1.00000000e+00 9.99318957e-01 1.00000000e+00\n",
      " 9.87090528e-01 8.87546718e-01 1.00000000e+00 9.98855829e-01\n",
      " 9.99999285e-01 9.99999762e-01 9.99999881e-01 1.00000000e+00\n",
      " 9.99979258e-01 9.99842882e-01 9.99996781e-01 1.00000000e+00\n",
      " 9.99688625e-01 1.00000000e+00 1.00000000e+00 9.93901253e-01\n",
      " 9.99999166e-01 9.99987841e-01 1.00000000e+00 1.00000000e+00\n",
      " 9.99687672e-01 9.99999762e-01 9.99999523e-01 1.00000000e+00\n",
      " 1.00000000e+00 9.99999642e-01 9.99717176e-01 9.99996901e-01\n",
      " 9.92039561e-01 1.00000000e+00 9.99720395e-01 5.97297728e-01\n",
      " 9.99864459e-01 9.97797012e-01 9.99998569e-01 9.99405384e-01\n",
      " 1.00000000e+00 9.99668002e-01 9.99999881e-01 9.99999404e-01\n",
      " 9.99999762e-01 9.99999881e-01 9.99992251e-01 9.99999881e-01\n",
      " 9.99667287e-01 9.96717393e-01 9.99924660e-01 9.99999881e-01\n",
      " 9.99997616e-01 9.99961019e-01 1.00000000e+00 9.99981999e-01\n",
      " 9.99458730e-01 9.99174893e-01 9.99086976e-01 3.86715859e-01\n",
      " 9.99971151e-01 1.00000000e+00 9.86309290e-01 1.00000000e+00\n",
      " 9.99999166e-01 9.99735415e-01 9.99870420e-01 9.99999523e-01\n",
      " 1.00000000e+00 1.00000000e+00 9.99999762e-01 1.00000000e+00\n",
      " 1.00000000e+00 9.99594986e-01 9.99999523e-01 9.96057868e-01\n",
      " 1.00000000e+00 9.99987364e-01 9.99995828e-01 9.99935389e-01\n",
      " 2.44732618e-01 1.00000000e+00 1.00000000e+00 8.27622652e-01\n",
      " 9.99999881e-01 1.00000000e+00 9.99999404e-01 9.99999881e-01\n",
      " 9.99996662e-01 9.99998093e-01 9.99997854e-01 9.99994278e-01\n",
      " 1.00000000e+00 9.99999881e-01 9.96537685e-01 9.98170137e-01\n",
      " 9.99735177e-01 9.99998927e-01 9.99875784e-01 2.01616623e-02\n",
      " 1.00000000e+00 1.00000000e+00 9.99918938e-01 9.95581925e-01\n",
      " 9.99631763e-01 1.00000000e+00 9.95538533e-01 9.99997139e-01\n",
      " 9.90948617e-01 9.99988675e-01 1.00000000e+00 9.94699001e-01\n",
      " 9.99905586e-01 1.00000000e+00 1.00000000e+00 1.00000000e+00\n",
      " 9.91569996e-01 9.99996781e-01 1.00000000e+00 1.00000000e+00\n",
      " 8.36231112e-01 1.00000000e+00 9.99969482e-01 1.00000000e+00\n",
      " 9.99956846e-01 9.99995708e-01 9.64418352e-01 9.99793231e-01\n",
      " 9.97573078e-01 9.99999881e-01 1.00000000e+00 9.99994397e-01\n",
      " 1.00000000e+00 1.00000000e+00 9.99933600e-01 1.00000000e+00\n",
      " 1.00000000e+00 1.00000000e+00 1.00000000e+00 1.00000000e+00\n",
      " 9.95323718e-01 1.00000000e+00 1.00000000e+00 1.00000000e+00\n",
      " 1.00000000e+00 9.99999881e-01 9.99998927e-01 1.00000000e+00\n",
      " 1.00000000e+00 1.00000000e+00 1.00000000e+00 1.00000000e+00\n",
      " 2.57200071e-07 4.40951986e-09 3.67103814e-04 1.92195398e-03\n",
      " 2.68347049e-03 7.36125571e-07 1.82280480e-03 2.57978361e-04\n",
      " 1.39914391e-06 9.21077060e-07 6.83847793e-06 2.63226640e-09\n",
      " 1.41096709e-04 8.94968677e-03 2.81911348e-08 1.75721958e-04\n",
      " 6.40694386e-10 7.59962234e-07 1.95424146e-11 5.89308411e-06\n",
      " 3.98530065e-05 9.33883309e-01 9.69535589e-01 3.15735140e-03\n",
      " 1.20976046e-02 4.10543635e-06 5.19984541e-03 1.27296240e-04\n",
      " 3.13531091e-05 3.69987683e-05 5.07561803e-01 6.30867258e-02\n",
      " 1.40642157e-06 1.88823610e-11 9.78658676e-01 1.70873915e-04\n",
      " 2.35007741e-02 1.70081714e-03 4.22618240e-01 2.71797068e-02\n",
      " 3.69923987e-06 8.19992870e-02 1.46225720e-09 9.99953747e-01\n",
      " 6.43115709e-05 3.98775665e-05 1.40434485e-02 1.88022237e-02\n",
      " 7.90274062e-05 3.07904631e-01 5.89721203e-01 7.29342818e-01\n",
      " 4.27660123e-02 7.73203647e-05 1.10096198e-06 7.97798508e-04\n",
      " 1.96871161e-01 2.32547318e-04 6.41908646e-01 2.19916981e-02\n",
      " 1.08533131e-05 1.34569433e-04 4.63864504e-04 2.40148991e-01\n",
      " 2.23187404e-03 2.16676649e-02 1.53714158e-02 3.07805813e-03\n",
      " 5.25178213e-04 5.02168715e-01 8.04481562e-03 1.86391063e-02\n",
      " 4.85294402e-01 3.41371629e-06 3.94271301e-05 4.84479308e-01\n",
      " 2.32422499e-05 9.46505547e-01 6.31324351e-01 5.04002392e-01\n",
      " 4.83880639e-01 3.48304927e-01 3.74583930e-01 5.04002392e-01\n",
      " 4.49155271e-01 4.71325606e-01 6.90642536e-01 3.86313796e-01\n",
      " 5.04002392e-01 2.30631948e-01 9.98699307e-01 5.04002392e-01\n",
      " 5.04002392e-01 4.90456671e-01 9.99201000e-01 9.39327955e-01\n",
      " 3.17761064e-01 2.62203336e-01 5.04002392e-01 3.00446171e-02\n",
      " 5.04002392e-01 3.32379568e-05 5.34087711e-04 3.15213441e-07\n",
      " 1.51175050e-06 4.09579252e-06 1.95607930e-01 1.15575975e-04\n",
      " 5.92264719e-02 8.84028245e-03 1.33415386e-02 5.10483711e-10\n",
      " 4.77898195e-02 3.97962838e-01 2.49923370e-03 2.95331255e-02\n",
      " 1.79331226e-04 4.77952010e-04 1.69824040e-03 5.09551202e-04\n",
      " 1.82567294e-06 7.54241569e-07 1.68891938e-06 9.29492856e-08\n",
      " 7.24892877e-03 9.44319554e-03 3.02769877e-02 1.03157526e-03\n",
      " 2.63604462e-01 1.03865087e-03 1.83204301e-02 1.96317537e-03\n",
      " 2.65073261e-08 4.35799802e-06 1.98698565e-02 4.25175726e-01\n",
      " 9.68274474e-01 6.03623266e-05 8.98794326e-07 1.10697141e-03\n",
      " 6.42480158e-09 2.22236633e-01 2.11400211e-01 8.38912274e-06\n",
      " 9.09861003e-04 1.51230140e-09 1.24312052e-07 1.08984299e-01\n",
      " 3.30116064e-03 2.74581183e-03 7.95875549e-01 1.69539393e-03\n",
      " 4.23853278e-01 5.76938910e-05 5.82561479e-04 5.04002392e-01\n",
      " 5.04002392e-01 1.82978645e-01 5.04002392e-01 1.08576924e-01\n",
      " 1.16964511e-03 1.67034741e-04 9.43935364e-02 5.26322008e-09\n",
      " 3.42879415e-01 6.73683144e-06 1.45105424e-03 4.47255313e-01\n",
      " 5.04002392e-01 2.12986106e-05 3.90685707e-01 5.36448658e-02\n",
      " 5.04002392e-01 1.24815395e-02 6.36926416e-07 4.26400214e-01\n",
      " 5.85279008e-03 1.60546420e-04 9.50897019e-03 1.77355837e-02\n",
      " 2.59865046e-01 8.90390724e-02 2.77725374e-03 6.95642026e-04\n",
      " 8.05454736e-04 3.26367587e-01 4.90070988e-07 2.33304620e-09\n",
      " 7.95268534e-07 7.54130185e-01 1.20766498e-02 1.15927964e-01\n",
      " 7.53623590e-06 1.07630931e-05 3.61559302e-01 3.43813479e-01\n",
      " 6.26585782e-01 3.09752580e-03 3.43816588e-03 1.46332411e-02\n",
      " 2.40441132e-02 1.68898652e-04 9.77757037e-01 2.61897035e-02\n",
      " 1.45654576e-02 1.45319551e-01 3.97714600e-02 5.86025380e-02\n",
      " 5.40977810e-04 1.10105425e-02 5.04002392e-01 4.59412821e-02\n",
      " 3.18144113e-01 1.03387074e-03 2.99441263e-06 1.66919223e-09\n",
      " 1.46698534e-01 6.74879968e-01 8.52295816e-01 6.38654381e-02\n",
      " 1.54474080e-02 1.55197773e-02 9.57010034e-03 7.94090424e-03\n",
      " 2.15655356e-03 3.28978895e-05 3.04060499e-03 3.56526710e-02\n",
      " 2.75375159e-03 6.11715586e-05 1.28963531e-03 2.01173152e-05\n",
      " 2.90985859e-04 6.69176638e-01 7.96829239e-02 1.78965837e-01\n",
      " 7.41663855e-03 2.12837875e-01 1.10148832e-08 1.39769394e-11\n",
      " 3.93034902e-08 5.60007700e-11 2.47475244e-02 8.48087657e-04\n",
      " 1.52309090e-01 4.81446553e-03 1.09670218e-02 3.55919270e-04\n",
      " 4.42754358e-01 2.52204150e-01 1.80209099e-05 6.06486481e-03\n",
      " 8.76026079e-02 3.04423226e-03 4.89468155e-09 1.02261975e-02\n",
      " 5.87109089e-01 7.55928317e-03 1.80892507e-03 3.12622227e-02\n",
      " 2.65073261e-08 4.05047962e-04 9.14423261e-04 8.10588151e-02\n",
      " 1.01209819e-01 5.04002392e-01 3.03676575e-02 2.90737376e-07\n",
      " 9.70163674e-05 3.27923216e-10 1.27097667e-06 9.22952473e-01\n",
      " 4.37830371e-04 6.62670300e-06 7.38821253e-02 1.21835107e-03\n",
      " 2.18055970e-06 1.64039880e-02 2.92742206e-03 8.20780993e-01\n",
      " 6.63287342e-01 3.00023792e-08 1.74263143e-04 3.44492192e-03\n",
      " 4.49573435e-02 1.21013202e-01 1.33647979e-03 7.18640447e-01\n",
      " 1.28958913e-04 9.39234555e-01 5.34915686e-01 5.52709520e-01\n",
      " 4.54075671e-05 6.00586496e-02 2.13145336e-06 1.35429582e-04\n",
      " 2.88859464e-05 2.36035485e-05 3.29421163e-02 4.21811454e-03\n",
      " 1.68714192e-04 1.84417397e-04 2.72641802e-04 2.49444980e-07\n",
      " 7.16197319e-05 5.48026152e-03 1.68334009e-04 2.19189059e-02\n",
      " 1.05359413e-05 2.83085257e-01 4.45414335e-04 7.07578263e-04\n",
      " 1.79820904e-03 3.03229570e-01 3.66019398e-01 8.41118336e-01\n",
      " 3.17416445e-04 1.58194685e-04 2.47792883e-07 1.60219447e-08\n",
      " 1.24764905e-04 2.06654202e-02 5.46646042e-05 2.16499529e-09\n",
      " 1.87542930e-03 1.72184721e-01 3.92222172e-03 3.75791918e-03\n",
      " 1.00378931e-01 1.03334904e-04 1.17440477e-01 1.69531381e-12\n",
      " 5.69267315e-04 1.96524407e-03 4.26613769e-05 1.34112407e-02\n",
      " 2.14477852e-02 5.15435124e-04 3.13139781e-02 3.03529594e-02\n",
      " 1.00221572e-04 6.29315502e-04 9.56601652e-05 1.32584106e-03\n",
      " 3.10459494e-04 3.89152095e-02 1.32827153e-02 4.00203884e-01\n",
      " 3.75907261e-09 1.15874580e-04 2.18055970e-06 7.28670239e-01\n",
      " 2.21441078e-04 3.30032817e-05 7.25416243e-01 1.29088629e-02\n",
      " 1.06389411e-02 1.58889946e-02 7.41899537e-04 9.36486970e-07\n",
      " 2.21522146e-06 3.09120223e-05 1.07838303e-01 4.40476323e-03\n",
      " 5.41145351e-09 3.67746174e-01 1.47670080e-05 1.04557231e-01\n",
      " 6.25547000e-06 7.10282385e-01 1.69208534e-02 6.79565637e-05\n",
      " 3.20070139e-05 8.56938248e-04 1.14741862e-10 7.12060937e-05\n",
      " 9.72905923e-07 2.31578809e-08 2.78634671e-03 2.96580871e-09\n",
      " 3.19898936e-05 2.45831834e-05 7.87061304e-02 1.30363798e-04\n",
      " 7.51099869e-05 2.17569619e-01 3.49075935e-06 1.72418118e-01\n",
      " 1.12624769e-03 3.87245365e-07 7.32585113e-06 2.75862476e-06\n",
      " 2.78360862e-02 2.90037824e-05 5.31883981e-11 3.36818666e-05\n",
      " 3.12222960e-06 1.72195811e-04 1.19499761e-08 1.04319071e-03]\n"
     ]
    }
   ],
   "source": [
    "print(y_test)"
   ]
  },
  {
   "cell_type": "code",
   "execution_count": 28,
   "id": "5fad290d-d77b-463f-9949-945fec8ff062",
   "metadata": {},
   "outputs": [
    {
     "data": {
      "text/plain": [
       "array([[351,  49],\n",
       "       [  6, 394]], dtype=int64)"
      ]
     },
     "execution_count": 28,
     "metadata": {},
     "output_type": "execute_result"
    }
   ],
   "source": [
    "from sklearn.metrics import confusion_matrix\n",
    "cm = confusion_matrix(y_actual, np.round(abs(y_test)))\n",
    "cm"
   ]
  },
  {
   "cell_type": "code",
   "execution_count": 29,
   "id": "d25f2fb2",
   "metadata": {},
   "outputs": [
    {
     "data": {
      "image/png": "[encoded data removed]",
      "text/plain": [
       "<Figure size 432x288 with 2 Axes>"
      ]
     },
     "metadata": {
      "needs_background": "light"
     },
     "output_type": "display_data"
    }
   ],
   "source": [
    "cm=[[373, 35],\n",
    "     [ 41, 1701 ]]\n",
    "\n",
    "import seaborn as sns\n",
    "\n",
    "ax = sns.heatmap(cm/np.sum(cm), cmap = \"Blues\", fmt='.2%', annot=True)\n",
    "\n",
    "ax.set_ylabel('\\nPredicted Values')\n",
    "ax.set_xlabel('Actual Values ');\n",
    "\n",
    "## Ticket labels - List must be in alphabetical order\n",
    "ax.yaxis.set_ticklabels(['Positive(0)','Negative(1)'])\n",
    "ax.xaxis.set_ticklabels(['Positive(0)','Negative(1)'])\n",
    "\n",
    "## Display the visualization of the Confusion Matrix.\n",
    "plt.show()"
   ]
  },
  {
   "cell_type": "code",
   "execution_count": 30,
   "id": "b8061e29-eb3b-4aab-8316-ab277b848688",
   "metadata": {},
   "outputs": [
    {
     "data": {
      "image/png": "[encoded data removed]",
      "text/plain": [
       "<Figure size 432x288 with 2 Axes>"
      ]
     },
     "metadata": {
      "needs_background": "light"
     },
     "output_type": "display_data"
    }
   ],
   "source": [
    "cm=[[373, 35],\n",
    "     [ 41, 1701 ]]\n",
    "\n",
    "import seaborn as sns\n",
    "\n",
    "ax = sns.heatmap(cm, cmap = \"Blues\", annot=True, fmt=\".0f\")\n",
    "\n",
    "ax.set_ylabel('\\nPredicted Values')\n",
    "ax.set_xlabel('Actual Values ');\n",
    "\n",
    "## Ticket labels - List must be in alphabetical order\n",
    "ax.yaxis.set_ticklabels(['Positive(0)','Negative(1)'])\n",
    "ax.xaxis.set_ticklabels(['Positive(0)','Negative(1)'])\n",
    "\n",
    "## Display the visualization of the Confusion Matrix.\n",
    "plt.show()"
   ]
  },
  {
   "cell_type": "code",
   "execution_count": 31,
   "id": "a05d5e9c-25b7-4678-b608-d4208ad0be10",
   "metadata": {
    "scrolled": true
   },
   "outputs": [
    {
     "name": "stdout",
     "output_type": "stream",
     "text": [
      "              precision    recall  f1-score   support\n",
      "\n",
      "           0       0.98      0.88      0.93       400\n",
      "           1       0.89      0.98      0.93       400\n",
      "\n",
      "    accuracy                           0.93       800\n",
      "   macro avg       0.94      0.93      0.93       800\n",
      "weighted avg       0.94      0.93      0.93       800\n",
      "\n"
     ]
    }
   ],
   "source": [
    "from sklearn.metrics import classification_report\n",
    "\n",
    "print(classification_report(y_actual, np.round(abs(y_test))))\n"
   ]
  },
  {
   "cell_type": "code",
   "execution_count": null,
   "id": "02ec1b0a-da44-47dc-9f23-aaac61f9eddd",
   "metadata": {},
   "outputs": [],
   "source": []
  },
  {
   "cell_type": "code",
   "execution_count": null,
   "id": "0e5c37d4-365a-4c5f-b313-3102bf15c42a",
   "metadata": {},
   "outputs": [],
   "source": []
  }
 ],
 "metadata": {
  "kernelspec": {
   "display_name": "Python 3 (ipykernel)",
   "language": "python",
   "name": "python3"
  },
  "language_info": {
   "codemirror_mode": {
    "name": "ipython",
    "version": 3
   },
   "file_extension": ".py",
   "mimetype": "text/x-python",
   "name": "python",
   "nbconvert_exporter": "python",
   "pygments_lexer": "ipython3",
   "version": "3.9.7"
  }
 },
 "nbformat": 4,
 "nbformat_minor": 5
}
